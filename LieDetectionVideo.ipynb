{
  "nbformat": 4,
  "nbformat_minor": 0,
  "metadata": {
    "colab": {
      "name": "LieDetectionVideo.ipynb",
      "provenance": [],
      "collapsed_sections": [],
      "include_colab_link": true
    },
    "kernelspec": {
      "name": "python3",
      "display_name": "Python 3"
    }
  },
  "cells": [
    {
      "cell_type": "markdown",
      "metadata": {
        "id": "view-in-github",
        "colab_type": "text"
      },
      "source": [
        "<a href=\"https://colab.research.google.com/github/Nusserle/LieDetection/blob/master/LieDetectionVideo.ipynb\" target=\"_parent\"><img src=\"https://colab.research.google.com/assets/colab-badge.svg\" alt=\"Open In Colab\"/></a>"
      ]
    },
    {
      "cell_type": "code",
      "metadata": {
        "id": "1NqfPXIaXmeL",
        "colab_type": "code",
        "outputId": "063def55-485a-4cfa-b2d8-e1b263f30c76",
        "colab": {
          "base_uri": "https://localhost:8080/",
          "height": 935
        }
      },
      "source": [
        "!pip install opencv-python\n",
        "!pip install fer\n",
        "!pip install moviepy"
      ],
      "execution_count": 1,
      "outputs": [
        {
          "output_type": "stream",
          "text": [
            "Requirement already satisfied: opencv-python in /usr/local/lib/python3.6/dist-packages (4.1.2.30)\n",
            "Requirement already satisfied: numpy>=1.11.3 in /usr/local/lib/python3.6/dist-packages (from opencv-python) (1.17.5)\n",
            "Collecting fer\n",
            "\u001b[?25l  Downloading https://files.pythonhosted.org/packages/91/16/b1c5740df24fd6f1c684576c59ed8ff82d413ac4885f24e1bc36a8a769a6/fer-19.0.6-py3-none-any.whl (810kB)\n",
            "\u001b[K     |████████████████████████████████| 819kB 8.7MB/s \n",
            "\u001b[?25hRequirement already satisfied: matplotlib in /usr/local/lib/python3.6/dist-packages (from fer) (3.1.2)\n",
            "Collecting mtcnn\n",
            "\u001b[?25l  Downloading https://files.pythonhosted.org/packages/67/43/abee91792797c609c1bf30f1112117f7a87a713ebaa6ec5201d5555a73ef/mtcnn-0.1.0-py3-none-any.whl (2.3MB)\n",
            "\u001b[K     |████████████████████████████████| 2.3MB 28.1MB/s \n",
            "\u001b[?25hRequirement already satisfied: keras in /usr/local/lib/python3.6/dist-packages (from fer) (2.2.5)\n",
            "Requirement already satisfied: requests in /usr/local/lib/python3.6/dist-packages (from fer) (2.21.0)\n",
            "Requirement already satisfied: opencv-contrib-python in /usr/local/lib/python3.6/dist-packages (from fer) (4.1.2.30)\n",
            "Requirement already satisfied: tensorflow>=1.14 in /usr/local/lib/python3.6/dist-packages (from fer) (1.15.0)\n",
            "Requirement already satisfied: pandas in /usr/local/lib/python3.6/dist-packages (from fer) (0.25.3)\n",
            "Requirement already satisfied: cycler>=0.10 in /usr/local/lib/python3.6/dist-packages (from matplotlib->fer) (0.10.0)\n",
            "Requirement already satisfied: python-dateutil>=2.1 in /usr/local/lib/python3.6/dist-packages (from matplotlib->fer) (2.6.1)\n",
            "Requirement already satisfied: kiwisolver>=1.0.1 in /usr/local/lib/python3.6/dist-packages (from matplotlib->fer) (1.1.0)\n",
            "Requirement already satisfied: numpy>=1.11 in /usr/local/lib/python3.6/dist-packages (from matplotlib->fer) (1.17.5)\n",
            "Requirement already satisfied: pyparsing!=2.0.4,!=2.1.2,!=2.1.6,>=2.0.1 in /usr/local/lib/python3.6/dist-packages (from matplotlib->fer) (2.4.6)\n",
            "Requirement already satisfied: opencv-python>=4.1.0 in /usr/local/lib/python3.6/dist-packages (from mtcnn->fer) (4.1.2.30)\n",
            "Requirement already satisfied: keras-preprocessing>=1.1.0 in /usr/local/lib/python3.6/dist-packages (from keras->fer) (1.1.0)\n",
            "Requirement already satisfied: pyyaml in /usr/local/lib/python3.6/dist-packages (from keras->fer) (3.13)\n",
            "Requirement already satisfied: keras-applications>=1.0.8 in /usr/local/lib/python3.6/dist-packages (from keras->fer) (1.0.8)\n",
            "Requirement already satisfied: scipy>=0.14 in /usr/local/lib/python3.6/dist-packages (from keras->fer) (1.4.1)\n",
            "Requirement already satisfied: h5py in /usr/local/lib/python3.6/dist-packages (from keras->fer) (2.8.0)\n",
            "Requirement already satisfied: six>=1.9.0 in /usr/local/lib/python3.6/dist-packages (from keras->fer) (1.12.0)\n",
            "Requirement already satisfied: idna<2.9,>=2.5 in /usr/local/lib/python3.6/dist-packages (from requests->fer) (2.8)\n",
            "Requirement already satisfied: chardet<3.1.0,>=3.0.2 in /usr/local/lib/python3.6/dist-packages (from requests->fer) (3.0.4)\n",
            "Requirement already satisfied: urllib3<1.25,>=1.21.1 in /usr/local/lib/python3.6/dist-packages (from requests->fer) (1.24.3)\n",
            "Requirement already satisfied: certifi>=2017.4.17 in /usr/local/lib/python3.6/dist-packages (from requests->fer) (2019.11.28)\n",
            "Requirement already satisfied: protobuf>=3.6.1 in /usr/local/lib/python3.6/dist-packages (from tensorflow>=1.14->fer) (3.10.0)\n",
            "Requirement already satisfied: tensorboard<1.16.0,>=1.15.0 in /usr/local/lib/python3.6/dist-packages (from tensorflow>=1.14->fer) (1.15.0)\n",
            "Requirement already satisfied: tensorflow-estimator==1.15.1 in /usr/local/lib/python3.6/dist-packages (from tensorflow>=1.14->fer) (1.15.1)\n",
            "Requirement already satisfied: wrapt>=1.11.1 in /usr/local/lib/python3.6/dist-packages (from tensorflow>=1.14->fer) (1.11.2)\n",
            "Requirement already satisfied: google-pasta>=0.1.6 in /usr/local/lib/python3.6/dist-packages (from tensorflow>=1.14->fer) (0.1.8)\n",
            "Requirement already satisfied: absl-py>=0.7.0 in /usr/local/lib/python3.6/dist-packages (from tensorflow>=1.14->fer) (0.9.0)\n",
            "Requirement already satisfied: opt-einsum>=2.3.2 in /usr/local/lib/python3.6/dist-packages (from tensorflow>=1.14->fer) (3.1.0)\n",
            "Requirement already satisfied: wheel>=0.26 in /usr/local/lib/python3.6/dist-packages (from tensorflow>=1.14->fer) (0.33.6)\n",
            "Requirement already satisfied: termcolor>=1.1.0 in /usr/local/lib/python3.6/dist-packages (from tensorflow>=1.14->fer) (1.1.0)\n",
            "Requirement already satisfied: grpcio>=1.8.6 in /usr/local/lib/python3.6/dist-packages (from tensorflow>=1.14->fer) (1.15.0)\n",
            "Requirement already satisfied: gast==0.2.2 in /usr/local/lib/python3.6/dist-packages (from tensorflow>=1.14->fer) (0.2.2)\n",
            "Requirement already satisfied: astor>=0.6.0 in /usr/local/lib/python3.6/dist-packages (from tensorflow>=1.14->fer) (0.8.1)\n",
            "Requirement already satisfied: pytz>=2017.2 in /usr/local/lib/python3.6/dist-packages (from pandas->fer) (2018.9)\n",
            "Requirement already satisfied: setuptools in /usr/local/lib/python3.6/dist-packages (from kiwisolver>=1.0.1->matplotlib->fer) (42.0.2)\n",
            "Requirement already satisfied: werkzeug>=0.11.15 in /usr/local/lib/python3.6/dist-packages (from tensorboard<1.16.0,>=1.15.0->tensorflow>=1.14->fer) (0.16.0)\n",
            "Requirement already satisfied: markdown>=2.6.8 in /usr/local/lib/python3.6/dist-packages (from tensorboard<1.16.0,>=1.15.0->tensorflow>=1.14->fer) (3.1.1)\n",
            "Installing collected packages: mtcnn, fer\n",
            "Successfully installed fer-19.0.6 mtcnn-0.1.0\n",
            "Requirement already satisfied: moviepy in /usr/local/lib/python3.6/dist-packages (0.2.3.5)\n",
            "Requirement already satisfied: imageio<3.0,>=2.1.2 in /usr/local/lib/python3.6/dist-packages (from moviepy) (2.4.1)\n",
            "Requirement already satisfied: tqdm<5.0,>=4.11.2 in /usr/local/lib/python3.6/dist-packages (from moviepy) (4.28.1)\n",
            "Requirement already satisfied: numpy in /usr/local/lib/python3.6/dist-packages (from moviepy) (1.17.5)\n",
            "Requirement already satisfied: decorator<5.0,>=4.0.2 in /usr/local/lib/python3.6/dist-packages (from moviepy) (4.4.1)\n",
            "Requirement already satisfied: pillow in /usr/local/lib/python3.6/dist-packages (from imageio<3.0,>=2.1.2->moviepy) (6.2.2)\n"
          ],
          "name": "stdout"
        }
      ]
    },
    {
      "cell_type": "code",
      "metadata": {
        "id": "EJm3MCVsUqxL",
        "colab_type": "code",
        "colab": {}
      },
      "source": [
        "import numpy as np\n",
        "import pandas as pd\n",
        "import cv2\n",
        "from fer import Video\n",
        "from fer import FER\n",
        "from moviepy.video.io.VideoFileClip import VideoFileClip\n",
        "import tensorflow as tf\n",
        "from tensorflow import keras\n",
        "from sklearn.model_selection import train_test_split"
      ],
      "execution_count": 0,
      "outputs": []
    },
    {
      "cell_type": "code",
      "metadata": {
        "id": "oNTzU8TvUJiE",
        "colab_type": "code",
        "outputId": "d2aa59c4-cc38-4d1c-f475-d20aa716b7a7",
        "colab": {
          "base_uri": "https://localhost:8080/",
          "height": 122
        }
      },
      "source": [
        "from google.colab import drive\n",
        "drive.mount('/content/drive')"
      ],
      "execution_count": 3,
      "outputs": [
        {
          "output_type": "stream",
          "text": [
            "Go to this URL in a browser: https://accounts.google.com/o/oauth2/auth?client_id=947318989803-6bn6qk8qdgf4n4g3pfee6491hc0brc4i.apps.googleusercontent.com&redirect_uri=urn%3aietf%3awg%3aoauth%3a2.0%3aoob&response_type=code&scope=email%20https%3a%2f%2fwww.googleapis.com%2fauth%2fdocs.test%20https%3a%2f%2fwww.googleapis.com%2fauth%2fdrive%20https%3a%2f%2fwww.googleapis.com%2fauth%2fdrive.photos.readonly%20https%3a%2f%2fwww.googleapis.com%2fauth%2fpeopleapi.readonly\n",
            "\n",
            "Enter your authorization code:\n",
            "··········\n",
            "Mounted at /content/drive\n"
          ],
          "name": "stdout"
        }
      ]
    },
    {
      "cell_type": "code",
      "metadata": {
        "id": "wMUViNSwUQ6U",
        "colab_type": "code",
        "outputId": "96b86ee7-b185-4c74-bf10-f2dbaf31e6de",
        "colab": {
          "base_uri": "https://localhost:8080/",
          "height": 221
        }
      },
      "source": [
        "%cd drive/My Drive/Shared/BagOfLies/\n",
        "df = pd.read_csv(\"Annotations.csv\")\n",
        "df.head()"
      ],
      "execution_count": 4,
      "outputs": [
        {
          "output_type": "stream",
          "text": [
            "/content/drive/My Drive/Shared/BagOfLies\n"
          ],
          "name": "stdout"
        },
        {
          "output_type": "execute_result",
          "data": {
            "text/html": [
              "<div>\n",
              "<style scoped>\n",
              "    .dataframe tbody tr th:only-of-type {\n",
              "        vertical-align: middle;\n",
              "    }\n",
              "\n",
              "    .dataframe tbody tr th {\n",
              "        vertical-align: top;\n",
              "    }\n",
              "\n",
              "    .dataframe thead th {\n",
              "        text-align: right;\n",
              "    }\n",
              "</style>\n",
              "<table border=\"1\" class=\"dataframe\">\n",
              "  <thead>\n",
              "    <tr style=\"text-align: right;\">\n",
              "      <th></th>\n",
              "      <th>eeg</th>\n",
              "      <th>gaze</th>\n",
              "      <th>image</th>\n",
              "      <th>run</th>\n",
              "      <th>truth</th>\n",
              "      <th>usernum</th>\n",
              "      <th>video</th>\n",
              "    </tr>\n",
              "  </thead>\n",
              "  <tbody>\n",
              "    <tr>\n",
              "      <th>0</th>\n",
              "      <td>./Finalised/User_0/run_0/EEG.csv</td>\n",
              "      <td>./Finalised/User_0/run_0/Gaze.csv</td>\n",
              "      <td>./Finalised/User_0/run_0/image.csv</td>\n",
              "      <td>0</td>\n",
              "      <td>1</td>\n",
              "      <td>0</td>\n",
              "      <td>./Finalised/User_0/run_0/video.mp4</td>\n",
              "    </tr>\n",
              "    <tr>\n",
              "      <th>1</th>\n",
              "      <td>./Finalised/User_0/run_1/EEG.csv</td>\n",
              "      <td>./Finalised/User_0/run_1/Gaze.csv</td>\n",
              "      <td>./Finalised/User_0/run_1/image.csv</td>\n",
              "      <td>1</td>\n",
              "      <td>0</td>\n",
              "      <td>0</td>\n",
              "      <td>./Finalised/User_0/run_1/video.mp4</td>\n",
              "    </tr>\n",
              "    <tr>\n",
              "      <th>2</th>\n",
              "      <td>./Finalised/User_0/run_2/EEG.csv</td>\n",
              "      <td>./Finalised/User_0/run_2/Gaze.csv</td>\n",
              "      <td>./Finalised/User_0/run_2/image.csv</td>\n",
              "      <td>2</td>\n",
              "      <td>0</td>\n",
              "      <td>0</td>\n",
              "      <td>./Finalised/User_0/run_2/video.mp4</td>\n",
              "    </tr>\n",
              "    <tr>\n",
              "      <th>3</th>\n",
              "      <td>./Finalised/User_0/run_3/EEG.csv</td>\n",
              "      <td>./Finalised/User_0/run_3/Gaze.csv</td>\n",
              "      <td>./Finalised/User_0/run_3/image.csv</td>\n",
              "      <td>3</td>\n",
              "      <td>0</td>\n",
              "      <td>0</td>\n",
              "      <td>./Finalised/User_0/run_3/video.mp4</td>\n",
              "    </tr>\n",
              "    <tr>\n",
              "      <th>4</th>\n",
              "      <td>./Finalised/User_0/run_4/EEG.csv</td>\n",
              "      <td>./Finalised/User_0/run_4/Gaze.csv</td>\n",
              "      <td>./Finalised/User_0/run_4/image.csv</td>\n",
              "      <td>4</td>\n",
              "      <td>0</td>\n",
              "      <td>0</td>\n",
              "      <td>./Finalised/User_0/run_4/video.mp4</td>\n",
              "    </tr>\n",
              "  </tbody>\n",
              "</table>\n",
              "</div>"
            ],
            "text/plain": [
              "                                eeg  ...                               video\n",
              "0  ./Finalised/User_0/run_0/EEG.csv  ...  ./Finalised/User_0/run_0/video.mp4\n",
              "1  ./Finalised/User_0/run_1/EEG.csv  ...  ./Finalised/User_0/run_1/video.mp4\n",
              "2  ./Finalised/User_0/run_2/EEG.csv  ...  ./Finalised/User_0/run_2/video.mp4\n",
              "3  ./Finalised/User_0/run_3/EEG.csv  ...  ./Finalised/User_0/run_3/video.mp4\n",
              "4  ./Finalised/User_0/run_4/EEG.csv  ...  ./Finalised/User_0/run_4/video.mp4\n",
              "\n",
              "[5 rows x 7 columns]"
            ]
          },
          "metadata": {
            "tags": []
          },
          "execution_count": 4
        }
      ]
    },
    {
      "cell_type": "code",
      "metadata": {
        "id": "6QbdLM3chqrx",
        "colab_type": "code",
        "outputId": "e9631740-590f-4cb6-83e6-9a8e7a60e90e",
        "colab": {
          "base_uri": "https://localhost:8080/",
          "height": 1000
        }
      },
      "source": [
        "emo_df = pd.DataFrame(columns=['angry', 'disgust', 'fear', 'happy', 'sad', 'surprise', 'neutral'])\n",
        "faulty_videos = []\n",
        "\n",
        "for i in range(len(df['video'])):\n",
        "  try:\n",
        "    print(df['video'][i])\n",
        "    input_video_path = df['video'][i]\n",
        "    output_video_path = 'video.mp4'\n",
        "\n",
        "    with VideoFileClip(input_video_path) as video:\n",
        "        new = video.subclip(3, 4)\n",
        "        new.write_videofile(output_video_path, audio_codec='aac')\n",
        "\n",
        "    video_filename = 'video.mp4'\n",
        "    video = Video(video_filename)\n",
        "\n",
        "    # Analyze video, displaying the output\n",
        "    detector = FER()\n",
        "    raw_data = video.analyze(detector, display=False)\n",
        "    df_v = video.to_pandas(raw_data)\n",
        "\n",
        "    emo_dict = {'angry': df_v['angry'].mean(), 'disgust': df_v['disgust'].mean(), 'fear': df_v['fear'].mean(), 'happy': df_v['happy'].mean(), 'sad': df_v['sad'].mean(), 'surprise': df_v['surprise'].mean(), 'neutral': df_v['neutral'].mean()}\n",
        "    emo_df = emo_df.append(emo_dict, ignore_index=True)\n",
        "  except:\n",
        "    faulty_videos.append(df['video'][i])\n",
        "    continue\n",
        "\n",
        "emo_df\n",
        "print(faulty_videos)\n",
        "\n",
        "\n"
      ],
      "execution_count": 5,
      "outputs": [
        {
          "output_type": "display_data",
          "data": {
            "text/html": [
              "<p style=\"color: red;\">\n",
              "The default version of TensorFlow in Colab will soon switch to TensorFlow 2.x.<br>\n",
              "We recommend you <a href=\"https://www.tensorflow.org/guide/migrate\" target=\"_blank\">upgrade</a> now \n",
              "or ensure your notebook will continue to use TensorFlow 1.x via the <code>%tensorflow_version 1.x</code> magic:\n",
              "<a href=\"https://colab.research.google.com/notebooks/tensorflow_version.ipynb\" target=\"_blank\">more info</a>.</p>\n"
            ],
            "text/plain": [
              "<IPython.core.display.HTML object>"
            ]
          },
          "metadata": {
            "tags": []
          }
        },
        {
          "output_type": "stream",
          "text": [
            "./Finalised/User_0/run_0/video.mp4\n",
            "[MoviePy] >>>> Building video video.mp4\n",
            "[MoviePy] Writing audio in videoTEMP_MPY_wvf_snd.mp4\n"
          ],
          "name": "stdout"
        },
        {
          "output_type": "stream",
          "text": [
            "100%|██████████| 23/23 [00:00<00:00, 381.54it/s]\n"
          ],
          "name": "stderr"
        },
        {
          "output_type": "stream",
          "text": [
            "[MoviePy] Done.\n",
            "[MoviePy] Writing video video.mp4\n"
          ],
          "name": "stdout"
        },
        {
          "output_type": "stream",
          "text": [
            "100%|██████████| 31/31 [00:00<00:00, 61.47it/s]\n"
          ],
          "name": "stderr"
        },
        {
          "output_type": "stream",
          "text": [
            "[MoviePy] Done.\n",
            "[MoviePy] >>>> Video ready: video.mp4 \n",
            "\n",
            "WARNING:tensorflow:From /usr/local/lib/python3.6/dist-packages/fer/fer.py:112: The name tf.ConfigProto is deprecated. Please use tf.compat.v1.ConfigProto instead.\n",
            "\n"
          ],
          "name": "stdout"
        },
        {
          "output_type": "stream",
          "text": [
            "18-01-2020:02:09:23,473 WARNING  [module_wrapper.py:139] From /usr/local/lib/python3.6/dist-packages/fer/fer.py:112: The name tf.ConfigProto is deprecated. Please use tf.compat.v1.ConfigProto instead.\n",
            "\n"
          ],
          "name": "stderr"
        },
        {
          "output_type": "stream",
          "text": [
            "WARNING:tensorflow:From /usr/local/lib/python3.6/dist-packages/fer/fer.py:117: The name tf.Session is deprecated. Please use tf.compat.v1.Session instead.\n",
            "\n"
          ],
          "name": "stdout"
        },
        {
          "output_type": "stream",
          "text": [
            "18-01-2020:02:09:23,482 WARNING  [module_wrapper.py:139] From /usr/local/lib/python3.6/dist-packages/fer/fer.py:117: The name tf.Session is deprecated. Please use tf.compat.v1.Session instead.\n",
            "\n"
          ],
          "name": "stderr"
        },
        {
          "output_type": "stream",
          "text": [
            "WARNING:tensorflow:From /usr/local/lib/python3.6/dist-packages/tensorflow_core/python/ops/resource_variable_ops.py:1630: calling BaseResourceVariable.__init__ (from tensorflow.python.ops.resource_variable_ops) with constraint is deprecated and will be removed in a future version.\n",
            "Instructions for updating:\n",
            "If using Keras pass *_constraint arguments to layers.\n"
          ],
          "name": "stdout"
        },
        {
          "output_type": "stream",
          "text": [
            "18-01-2020:02:09:23,665 WARNING  [deprecation.py:506] From /usr/local/lib/python3.6/dist-packages/tensorflow_core/python/ops/resource_variable_ops.py:1630: calling BaseResourceVariable.__init__ (from tensorflow.python.ops.resource_variable_ops) with constraint is deprecated and will be removed in a future version.\n",
            "Instructions for updating:\n",
            "If using Keras pass *_constraint arguments to layers.\n",
            "18-01-2020:02:09:25,358 INFO     [classes.py:207] 30.04 fps, 31 frames, 1.03 seconds\n",
            "18-01-2020:02:09:25,361 INFO     [classes.py:323] Deleted pre-existing output/video_output.mp4\n",
            "18-01-2020:02:09:45,947 INFO     [classes.py:307] Completed analysis: saved to output/video_output.mp4\n"
          ],
          "name": "stderr"
        },
        {
          "output_type": "stream",
          "text": [
            "./Finalised/User_0/run_1/video.mp4\n",
            "[MoviePy] >>>> Building video video.mp4\n",
            "[MoviePy] Writing audio in videoTEMP_MPY_wvf_snd.mp4\n"
          ],
          "name": "stdout"
        },
        {
          "output_type": "stream",
          "text": [
            "100%|██████████| 23/23 [00:00<00:00, 349.55it/s]"
          ],
          "name": "stderr"
        },
        {
          "output_type": "stream",
          "text": [
            "[MoviePy] Done.\n",
            "[MoviePy] Writing video video.mp4\n"
          ],
          "name": "stdout"
        },
        {
          "output_type": "stream",
          "text": [
            "\n",
            "100%|██████████| 31/31 [00:00<00:00, 54.62it/s]\n"
          ],
          "name": "stderr"
        },
        {
          "output_type": "stream",
          "text": [
            "[MoviePy] Done.\n",
            "[MoviePy] >>>> Video ready: video.mp4 \n",
            "\n"
          ],
          "name": "stdout"
        },
        {
          "output_type": "stream",
          "text": [
            "18-01-2020:02:09:52,180 INFO     [classes.py:207] 30.04 fps, 31 frames, 1.03 seconds\n",
            "18-01-2020:02:09:52,188 INFO     [classes.py:323] Deleted pre-existing output/video_output.mp4\n",
            "18-01-2020:02:10:01,720 INFO     [classes.py:307] Completed analysis: saved to output/video_output.mp4\n"
          ],
          "name": "stderr"
        },
        {
          "output_type": "stream",
          "text": [
            "./Finalised/User_0/run_2/video.mp4\n",
            "[MoviePy] >>>> Building video video.mp4\n",
            "[MoviePy] Writing audio in videoTEMP_MPY_wvf_snd.mp4\n"
          ],
          "name": "stdout"
        },
        {
          "output_type": "stream",
          "text": [
            "100%|██████████| 23/23 [00:00<00:00, 370.56it/s]"
          ],
          "name": "stderr"
        },
        {
          "output_type": "stream",
          "text": [
            "[MoviePy] Done.\n",
            "[MoviePy] Writing video video.mp4\n"
          ],
          "name": "stdout"
        },
        {
          "output_type": "stream",
          "text": [
            "\n",
            " 97%|█████████▋| 30/31 [00:00<00:00, 65.77it/s]\n"
          ],
          "name": "stderr"
        },
        {
          "output_type": "stream",
          "text": [
            "[MoviePy] Done.\n",
            "[MoviePy] >>>> Video ready: video.mp4 \n",
            "\n"
          ],
          "name": "stdout"
        },
        {
          "output_type": "stream",
          "text": [
            "18-01-2020:02:10:07,427 INFO     [classes.py:207] 30.00 fps, 30 frames, 1.00 seconds\n",
            "18-01-2020:02:10:07,431 INFO     [classes.py:323] Deleted pre-existing output/video_output.mp4\n",
            "18-01-2020:02:10:16,990 INFO     [classes.py:307] Completed analysis: saved to output/video_output.mp4\n"
          ],
          "name": "stderr"
        },
        {
          "output_type": "stream",
          "text": [
            "./Finalised/User_0/run_3/video.mp4\n",
            "[MoviePy] >>>> Building video video.mp4\n",
            "[MoviePy] Writing audio in videoTEMP_MPY_wvf_snd.mp4\n"
          ],
          "name": "stdout"
        },
        {
          "output_type": "stream",
          "text": [
            "100%|██████████| 23/23 [00:00<00:00, 386.50it/s]"
          ],
          "name": "stderr"
        },
        {
          "output_type": "stream",
          "text": [
            "[MoviePy] Done.\n",
            "[MoviePy] Writing video video.mp4\n"
          ],
          "name": "stdout"
        },
        {
          "output_type": "stream",
          "text": [
            "\n",
            " 97%|█████████▋| 30/31 [00:00<00:00, 61.08it/s]\n"
          ],
          "name": "stderr"
        },
        {
          "output_type": "stream",
          "text": [
            "[MoviePy] Done.\n",
            "[MoviePy] >>>> Video ready: video.mp4 \n",
            "\n"
          ],
          "name": "stdout"
        },
        {
          "output_type": "stream",
          "text": [
            "18-01-2020:02:10:22,898 INFO     [classes.py:207] 30.00 fps, 30 frames, 1.00 seconds\n",
            "18-01-2020:02:10:22,901 INFO     [classes.py:323] Deleted pre-existing output/video_output.mp4\n",
            "18-01-2020:02:10:32,350 INFO     [classes.py:307] Completed analysis: saved to output/video_output.mp4\n"
          ],
          "name": "stderr"
        },
        {
          "output_type": "stream",
          "text": [
            "./Finalised/User_0/run_4/video.mp4\n",
            "[MoviePy] >>>> Building video video.mp4\n",
            "[MoviePy] Writing audio in videoTEMP_MPY_wvf_snd.mp4\n"
          ],
          "name": "stdout"
        },
        {
          "output_type": "stream",
          "text": [
            "100%|██████████| 23/23 [00:00<00:00, 414.29it/s]"
          ],
          "name": "stderr"
        },
        {
          "output_type": "stream",
          "text": [
            "[MoviePy] Done.\n",
            "[MoviePy] Writing video video.mp4\n"
          ],
          "name": "stdout"
        },
        {
          "output_type": "stream",
          "text": [
            "\n",
            " 97%|█████████▋| 30/31 [00:00<00:00, 62.07it/s]\n"
          ],
          "name": "stderr"
        },
        {
          "output_type": "stream",
          "text": [
            "[MoviePy] Done.\n",
            "[MoviePy] >>>> Video ready: video.mp4 \n",
            "\n"
          ],
          "name": "stdout"
        },
        {
          "output_type": "stream",
          "text": [
            "18-01-2020:02:10:38,670 INFO     [classes.py:207] 30.00 fps, 30 frames, 1.00 seconds\n",
            "18-01-2020:02:10:38,676 INFO     [classes.py:323] Deleted pre-existing output/video_output.mp4\n",
            "18-01-2020:02:10:48,719 INFO     [classes.py:307] Completed analysis: saved to output/video_output.mp4\n"
          ],
          "name": "stderr"
        },
        {
          "output_type": "stream",
          "text": [
            "./Finalised/User_0/run_5/video.mp4\n",
            "[MoviePy] >>>> Building video video.mp4\n",
            "[MoviePy] Writing audio in videoTEMP_MPY_wvf_snd.mp4\n"
          ],
          "name": "stdout"
        },
        {
          "output_type": "stream",
          "text": [
            "100%|██████████| 23/23 [00:00<00:00, 382.75it/s]"
          ],
          "name": "stderr"
        },
        {
          "output_type": "stream",
          "text": [
            "[MoviePy] Done.\n",
            "[MoviePy] Writing video video.mp4\n"
          ],
          "name": "stdout"
        },
        {
          "output_type": "stream",
          "text": [
            "\n",
            " 97%|█████████▋| 30/31 [00:00<00:00, 64.09it/s]\n"
          ],
          "name": "stderr"
        },
        {
          "output_type": "stream",
          "text": [
            "[MoviePy] Done.\n",
            "[MoviePy] >>>> Video ready: video.mp4 \n",
            "\n"
          ],
          "name": "stdout"
        },
        {
          "output_type": "stream",
          "text": [
            "18-01-2020:02:10:55,2 INFO     [classes.py:207] 30.00 fps, 30 frames, 1.00 seconds\n",
            "18-01-2020:02:10:55,6 INFO     [classes.py:323] Deleted pre-existing output/video_output.mp4\n",
            "18-01-2020:02:11:06,243 INFO     [classes.py:307] Completed analysis: saved to output/video_output.mp4\n"
          ],
          "name": "stderr"
        },
        {
          "output_type": "stream",
          "text": [
            "./Finalised/User_1/run_0/video.mp4\n",
            "[MoviePy] >>>> Building video video.mp4\n",
            "[MoviePy] Writing audio in videoTEMP_MPY_wvf_snd.mp4\n"
          ],
          "name": "stdout"
        },
        {
          "output_type": "stream",
          "text": [
            "100%|██████████| 23/23 [00:00<00:00, 369.31it/s]"
          ],
          "name": "stderr"
        },
        {
          "output_type": "stream",
          "text": [
            "[MoviePy] Done.\n",
            "[MoviePy] Writing video video.mp4\n"
          ],
          "name": "stdout"
        },
        {
          "output_type": "stream",
          "text": [
            "\n",
            " 97%|█████████▋| 30/31 [00:00<00:00, 61.68it/s]\n"
          ],
          "name": "stderr"
        },
        {
          "output_type": "stream",
          "text": [
            "[MoviePy] Done.\n",
            "[MoviePy] >>>> Video ready: video.mp4 \n",
            "\n"
          ],
          "name": "stdout"
        },
        {
          "output_type": "stream",
          "text": [
            "18-01-2020:02:11:14,654 INFO     [classes.py:207] 30.00 fps, 30 frames, 1.00 seconds\n",
            "18-01-2020:02:11:14,658 INFO     [classes.py:323] Deleted pre-existing output/video_output.mp4\n",
            "18-01-2020:02:11:24,863 INFO     [classes.py:307] Completed analysis: saved to output/video_output.mp4\n"
          ],
          "name": "stderr"
        },
        {
          "output_type": "stream",
          "text": [
            "./Finalised/User_1/run_1/video.mp4\n",
            "[MoviePy] >>>> Building video video.mp4\n",
            "[MoviePy] Writing audio in videoTEMP_MPY_wvf_snd.mp4\n"
          ],
          "name": "stdout"
        },
        {
          "output_type": "stream",
          "text": [
            "100%|██████████| 23/23 [00:00<00:00, 406.66it/s]"
          ],
          "name": "stderr"
        },
        {
          "output_type": "stream",
          "text": [
            "[MoviePy] Done.\n",
            "[MoviePy] Writing video video.mp4\n"
          ],
          "name": "stdout"
        },
        {
          "output_type": "stream",
          "text": [
            "\n",
            "100%|██████████| 31/31 [00:00<00:00, 65.77it/s]\n"
          ],
          "name": "stderr"
        },
        {
          "output_type": "stream",
          "text": [
            "[MoviePy] Done.\n",
            "[MoviePy] >>>> Video ready: video.mp4 \n",
            "\n"
          ],
          "name": "stdout"
        },
        {
          "output_type": "stream",
          "text": [
            "18-01-2020:02:11:31,492 INFO     [classes.py:207] 30.04 fps, 31 frames, 1.03 seconds\n",
            "18-01-2020:02:11:31,498 INFO     [classes.py:323] Deleted pre-existing output/video_output.mp4\n",
            "18-01-2020:02:11:43,330 INFO     [classes.py:307] Completed analysis: saved to output/video_output.mp4\n"
          ],
          "name": "stderr"
        },
        {
          "output_type": "stream",
          "text": [
            "./Finalised/User_1/run_2/video.mp4\n",
            "[MoviePy] >>>> Building video video.mp4\n",
            "[MoviePy] Writing audio in videoTEMP_MPY_wvf_snd.mp4\n"
          ],
          "name": "stdout"
        },
        {
          "output_type": "stream",
          "text": [
            "100%|██████████| 23/23 [00:00<00:00, 405.56it/s]"
          ],
          "name": "stderr"
        },
        {
          "output_type": "stream",
          "text": [
            "[MoviePy] Done.\n",
            "[MoviePy] Writing video video.mp4\n"
          ],
          "name": "stdout"
        },
        {
          "output_type": "stream",
          "text": [
            "\n",
            " 97%|█████████▋| 30/31 [00:00<00:00, 63.23it/s]\n"
          ],
          "name": "stderr"
        },
        {
          "output_type": "stream",
          "text": [
            "[MoviePy] Done.\n",
            "[MoviePy] >>>> Video ready: video.mp4 \n",
            "\n"
          ],
          "name": "stdout"
        },
        {
          "output_type": "stream",
          "text": [
            "18-01-2020:02:11:50,319 INFO     [classes.py:207] 30.00 fps, 30 frames, 1.00 seconds\n",
            "18-01-2020:02:11:50,328 INFO     [classes.py:323] Deleted pre-existing output/video_output.mp4\n",
            "18-01-2020:02:12:02,21 INFO     [classes.py:307] Completed analysis: saved to output/video_output.mp4\n"
          ],
          "name": "stderr"
        },
        {
          "output_type": "stream",
          "text": [
            "./Finalised/User_1/run_3/video.mp4\n",
            "[MoviePy] >>>> Building video video.mp4\n",
            "[MoviePy] Writing audio in videoTEMP_MPY_wvf_snd.mp4\n"
          ],
          "name": "stdout"
        },
        {
          "output_type": "stream",
          "text": [
            "100%|██████████| 23/23 [00:00<00:00, 369.84it/s]"
          ],
          "name": "stderr"
        },
        {
          "output_type": "stream",
          "text": [
            "[MoviePy] Done.\n",
            "[MoviePy] Writing video video.mp4\n"
          ],
          "name": "stdout"
        },
        {
          "output_type": "stream",
          "text": [
            "\n",
            "100%|██████████| 31/31 [00:00<00:00, 63.15it/s]\n"
          ],
          "name": "stderr"
        },
        {
          "output_type": "stream",
          "text": [
            "[MoviePy] Done.\n",
            "[MoviePy] >>>> Video ready: video.mp4 \n",
            "\n"
          ],
          "name": "stdout"
        },
        {
          "output_type": "stream",
          "text": [
            "18-01-2020:02:12:09,153 INFO     [classes.py:207] 30.04 fps, 31 frames, 1.03 seconds\n",
            "18-01-2020:02:12:09,156 INFO     [classes.py:323] Deleted pre-existing output/video_output.mp4\n",
            "18-01-2020:02:12:20,933 INFO     [classes.py:307] Completed analysis: saved to output/video_output.mp4\n"
          ],
          "name": "stderr"
        },
        {
          "output_type": "stream",
          "text": [
            "./Finalised/User_1/run_4/video.mp4\n",
            "[MoviePy] >>>> Building video video.mp4\n",
            "[MoviePy] Writing audio in videoTEMP_MPY_wvf_snd.mp4\n"
          ],
          "name": "stdout"
        },
        {
          "output_type": "stream",
          "text": [
            "100%|██████████| 23/23 [00:00<00:00, 422.31it/s]"
          ],
          "name": "stderr"
        },
        {
          "output_type": "stream",
          "text": [
            "[MoviePy] Done.\n",
            "[MoviePy] Writing video video.mp4\n"
          ],
          "name": "stdout"
        },
        {
          "output_type": "stream",
          "text": [
            "\n",
            "100%|██████████| 31/31 [00:00<00:00, 57.13it/s]\n"
          ],
          "name": "stderr"
        },
        {
          "output_type": "stream",
          "text": [
            "[MoviePy] Done.\n",
            "[MoviePy] >>>> Video ready: video.mp4 \n",
            "\n"
          ],
          "name": "stdout"
        },
        {
          "output_type": "stream",
          "text": [
            "18-01-2020:02:12:28,241 INFO     [classes.py:207] 30.04 fps, 31 frames, 1.03 seconds\n",
            "18-01-2020:02:12:28,248 INFO     [classes.py:323] Deleted pre-existing output/video_output.mp4\n",
            "18-01-2020:02:12:40,282 INFO     [classes.py:307] Completed analysis: saved to output/video_output.mp4\n"
          ],
          "name": "stderr"
        },
        {
          "output_type": "stream",
          "text": [
            "./Finalised/User_1/run_5/video.mp4\n",
            "[MoviePy] >>>> Building video video.mp4\n",
            "[MoviePy] Writing audio in videoTEMP_MPY_wvf_snd.mp4\n"
          ],
          "name": "stdout"
        },
        {
          "output_type": "stream",
          "text": [
            "100%|██████████| 23/23 [00:00<00:00, 393.16it/s]"
          ],
          "name": "stderr"
        },
        {
          "output_type": "stream",
          "text": [
            "[MoviePy] Done.\n",
            "[MoviePy] Writing video video.mp4\n"
          ],
          "name": "stdout"
        },
        {
          "output_type": "stream",
          "text": [
            "\n",
            "100%|██████████| 31/31 [00:00<00:00, 66.56it/s]\n"
          ],
          "name": "stderr"
        },
        {
          "output_type": "stream",
          "text": [
            "[MoviePy] Done.\n",
            "[MoviePy] >>>> Video ready: video.mp4 \n",
            "\n"
          ],
          "name": "stdout"
        },
        {
          "output_type": "stream",
          "text": [
            "18-01-2020:02:12:47,762 INFO     [classes.py:207] 30.04 fps, 31 frames, 1.03 seconds\n",
            "18-01-2020:02:12:47,769 INFO     [classes.py:323] Deleted pre-existing output/video_output.mp4\n",
            "18-01-2020:02:13:00,157 INFO     [classes.py:307] Completed analysis: saved to output/video_output.mp4\n"
          ],
          "name": "stderr"
        },
        {
          "output_type": "stream",
          "text": [
            "./Finalised/User_2/run_0/video.mp4\n",
            "[MoviePy] >>>> Building video video.mp4\n",
            "[MoviePy] Writing audio in videoTEMP_MPY_wvf_snd.mp4\n"
          ],
          "name": "stdout"
        },
        {
          "output_type": "stream",
          "text": [
            "100%|██████████| 23/23 [00:00<00:00, 359.76it/s]"
          ],
          "name": "stderr"
        },
        {
          "output_type": "stream",
          "text": [
            "[MoviePy] Done.\n",
            "[MoviePy] Writing video video.mp4\n"
          ],
          "name": "stdout"
        },
        {
          "output_type": "stream",
          "text": [
            "\n",
            "100%|██████████| 31/31 [00:00<00:00, 62.73it/s]\n"
          ],
          "name": "stderr"
        },
        {
          "output_type": "stream",
          "text": [
            "[MoviePy] Done.\n",
            "[MoviePy] >>>> Video ready: video.mp4 \n",
            "\n"
          ],
          "name": "stdout"
        },
        {
          "output_type": "stream",
          "text": [
            "18-01-2020:02:13:08,279 INFO     [classes.py:207] 30.04 fps, 31 frames, 1.03 seconds\n",
            "18-01-2020:02:13:08,284 INFO     [classes.py:323] Deleted pre-existing output/video_output.mp4\n",
            "18-01-2020:02:13:16,264 INFO     [classes.py:307] Completed analysis: saved to output/video_output.mp4\n"
          ],
          "name": "stderr"
        },
        {
          "output_type": "stream",
          "text": [
            "./Finalised/User_2/run_1/video.mp4\n",
            "[MoviePy] >>>> Building video video.mp4\n",
            "[MoviePy] Writing audio in videoTEMP_MPY_wvf_snd.mp4\n"
          ],
          "name": "stdout"
        },
        {
          "output_type": "stream",
          "text": [
            "100%|██████████| 23/23 [00:00<00:00, 425.09it/s]"
          ],
          "name": "stderr"
        },
        {
          "output_type": "stream",
          "text": [
            "[MoviePy] Done.\n",
            "[MoviePy] Writing video video.mp4\n"
          ],
          "name": "stdout"
        },
        {
          "output_type": "stream",
          "text": [
            "\n",
            "100%|██████████| 31/31 [00:00<00:00, 63.91it/s]\n"
          ],
          "name": "stderr"
        },
        {
          "output_type": "stream",
          "text": [
            "[MoviePy] Done.\n",
            "[MoviePy] >>>> Video ready: video.mp4 \n",
            "\n"
          ],
          "name": "stdout"
        },
        {
          "output_type": "stream",
          "text": [
            "18-01-2020:02:13:23,995 INFO     [classes.py:207] 30.04 fps, 31 frames, 1.03 seconds\n",
            "18-01-2020:02:13:24,0 INFO     [classes.py:323] Deleted pre-existing output/video_output.mp4\n",
            "18-01-2020:02:13:32,55 INFO     [classes.py:307] Completed analysis: saved to output/video_output.mp4\n"
          ],
          "name": "stderr"
        },
        {
          "output_type": "stream",
          "text": [
            "./Finalised/User_2/run_2/video.mp4\n",
            "[MoviePy] >>>> Building video video.mp4\n",
            "[MoviePy] Writing audio in videoTEMP_MPY_wvf_snd.mp4\n"
          ],
          "name": "stdout"
        },
        {
          "output_type": "stream",
          "text": [
            "100%|██████████| 23/23 [00:00<00:00, 411.84it/s]"
          ],
          "name": "stderr"
        },
        {
          "output_type": "stream",
          "text": [
            "[MoviePy] Done.\n",
            "[MoviePy] Writing video video.mp4\n"
          ],
          "name": "stdout"
        },
        {
          "output_type": "stream",
          "text": [
            "\n",
            "100%|██████████| 31/31 [00:00<00:00, 64.41it/s]\n"
          ],
          "name": "stderr"
        },
        {
          "output_type": "stream",
          "text": [
            "[MoviePy] Done.\n",
            "[MoviePy] >>>> Video ready: video.mp4 \n",
            "\n"
          ],
          "name": "stdout"
        },
        {
          "output_type": "stream",
          "text": [
            "18-01-2020:02:13:40,352 INFO     [classes.py:207] 30.04 fps, 31 frames, 1.03 seconds\n",
            "18-01-2020:02:13:40,358 INFO     [classes.py:323] Deleted pre-existing output/video_output.mp4\n",
            "18-01-2020:02:13:49,484 INFO     [classes.py:307] Completed analysis: saved to output/video_output.mp4\n"
          ],
          "name": "stderr"
        },
        {
          "output_type": "stream",
          "text": [
            "./Finalised/User_3/run_0/video.mp4\n",
            "[MoviePy] >>>> Building video video.mp4\n",
            "[MoviePy] Writing audio in videoTEMP_MPY_wvf_snd.mp4\n"
          ],
          "name": "stdout"
        },
        {
          "output_type": "stream",
          "text": [
            "100%|██████████| 23/23 [00:00<00:00, 372.08it/s]"
          ],
          "name": "stderr"
        },
        {
          "output_type": "stream",
          "text": [
            "[MoviePy] Done.\n",
            "[MoviePy] Writing video video.mp4\n"
          ],
          "name": "stdout"
        },
        {
          "output_type": "stream",
          "text": [
            "\n",
            "100%|██████████| 31/31 [00:00<00:00, 66.57it/s]\n"
          ],
          "name": "stderr"
        },
        {
          "output_type": "stream",
          "text": [
            "[MoviePy] Done.\n",
            "[MoviePy] >>>> Video ready: video.mp4 \n",
            "\n"
          ],
          "name": "stdout"
        },
        {
          "output_type": "stream",
          "text": [
            "18-01-2020:02:13:58,271 INFO     [classes.py:207] 30.04 fps, 31 frames, 1.03 seconds\n",
            "18-01-2020:02:13:58,277 INFO     [classes.py:323] Deleted pre-existing output/video_output.mp4\n",
            "18-01-2020:02:14:13,44 INFO     [classes.py:307] Completed analysis: saved to output/video_output.mp4\n"
          ],
          "name": "stderr"
        },
        {
          "output_type": "stream",
          "text": [
            "./Finalised/User_3/run_1/video.mp4\n",
            "[MoviePy] >>>> Building video video.mp4\n",
            "[MoviePy] Writing audio in videoTEMP_MPY_wvf_snd.mp4\n"
          ],
          "name": "stdout"
        },
        {
          "output_type": "stream",
          "text": [
            "100%|██████████| 23/23 [00:00<00:00, 353.87it/s]"
          ],
          "name": "stderr"
        },
        {
          "output_type": "stream",
          "text": [
            "[MoviePy] Done.\n",
            "[MoviePy] Writing video video.mp4\n"
          ],
          "name": "stdout"
        },
        {
          "output_type": "stream",
          "text": [
            "\n",
            "100%|██████████| 31/31 [00:00<00:00, 53.07it/s]\n"
          ],
          "name": "stderr"
        },
        {
          "output_type": "stream",
          "text": [
            "[MoviePy] Done.\n",
            "[MoviePy] >>>> Video ready: video.mp4 \n",
            "\n"
          ],
          "name": "stdout"
        },
        {
          "output_type": "stream",
          "text": [
            "18-01-2020:02:14:21,259 INFO     [classes.py:207] 30.04 fps, 31 frames, 1.03 seconds\n",
            "18-01-2020:02:14:21,266 INFO     [classes.py:323] Deleted pre-existing output/video_output.mp4\n",
            "18-01-2020:02:14:36,115 INFO     [classes.py:307] Completed analysis: saved to output/video_output.mp4\n"
          ],
          "name": "stderr"
        },
        {
          "output_type": "stream",
          "text": [
            "./Finalised/User_3/run_2/video.mp4\n",
            "[MoviePy] >>>> Building video video.mp4\n",
            "[MoviePy] Writing audio in videoTEMP_MPY_wvf_snd.mp4\n"
          ],
          "name": "stdout"
        },
        {
          "output_type": "stream",
          "text": [
            "100%|██████████| 23/23 [00:00<00:00, 379.42it/s]"
          ],
          "name": "stderr"
        },
        {
          "output_type": "stream",
          "text": [
            "[MoviePy] Done.\n",
            "[MoviePy] Writing video video.mp4\n"
          ],
          "name": "stdout"
        },
        {
          "output_type": "stream",
          "text": [
            "\n",
            "100%|██████████| 31/31 [00:00<00:00, 66.44it/s]\n"
          ],
          "name": "stderr"
        },
        {
          "output_type": "stream",
          "text": [
            "[MoviePy] Done.\n",
            "[MoviePy] >>>> Video ready: video.mp4 \n",
            "\n"
          ],
          "name": "stdout"
        },
        {
          "output_type": "stream",
          "text": [
            "18-01-2020:02:14:44,660 INFO     [classes.py:207] 30.04 fps, 31 frames, 1.03 seconds\n",
            "18-01-2020:02:14:44,669 INFO     [classes.py:323] Deleted pre-existing output/video_output.mp4\n",
            "18-01-2020:02:14:59,837 INFO     [classes.py:307] Completed analysis: saved to output/video_output.mp4\n"
          ],
          "name": "stderr"
        },
        {
          "output_type": "stream",
          "text": [
            "./Finalised/User_3/run_3/video.mp4\n",
            "[MoviePy] >>>> Building video video.mp4\n",
            "[MoviePy] Writing audio in videoTEMP_MPY_wvf_snd.mp4\n"
          ],
          "name": "stdout"
        },
        {
          "output_type": "stream",
          "text": [
            "100%|██████████| 23/23 [00:00<00:00, 368.00it/s]"
          ],
          "name": "stderr"
        },
        {
          "output_type": "stream",
          "text": [
            "[MoviePy] Done.\n",
            "[MoviePy] Writing video video.mp4\n"
          ],
          "name": "stdout"
        },
        {
          "output_type": "stream",
          "text": [
            "\n",
            "100%|██████████| 31/31 [00:00<00:00, 61.53it/s]\n"
          ],
          "name": "stderr"
        },
        {
          "output_type": "stream",
          "text": [
            "[MoviePy] Done.\n",
            "[MoviePy] >>>> Video ready: video.mp4 \n",
            "\n"
          ],
          "name": "stdout"
        },
        {
          "output_type": "stream",
          "text": [
            "18-01-2020:02:15:08,567 INFO     [classes.py:207] 30.04 fps, 31 frames, 1.03 seconds\n",
            "18-01-2020:02:15:08,570 INFO     [classes.py:323] Deleted pre-existing output/video_output.mp4\n",
            "18-01-2020:02:15:23,872 INFO     [classes.py:307] Completed analysis: saved to output/video_output.mp4\n"
          ],
          "name": "stderr"
        },
        {
          "output_type": "stream",
          "text": [
            "./Finalised/User_3/run_4/video.mp4\n",
            "[MoviePy] >>>> Building video video.mp4\n",
            "[MoviePy] Writing audio in videoTEMP_MPY_wvf_snd.mp4\n"
          ],
          "name": "stdout"
        },
        {
          "output_type": "stream",
          "text": [
            "100%|██████████| 23/23 [00:00<00:00, 391.25it/s]"
          ],
          "name": "stderr"
        },
        {
          "output_type": "stream",
          "text": [
            "[MoviePy] Done.\n",
            "[MoviePy] Writing video video.mp4\n"
          ],
          "name": "stdout"
        },
        {
          "output_type": "stream",
          "text": [
            "\n",
            "100%|██████████| 31/31 [00:00<00:00, 60.39it/s]\n"
          ],
          "name": "stderr"
        },
        {
          "output_type": "stream",
          "text": [
            "[MoviePy] Done.\n",
            "[MoviePy] >>>> Video ready: video.mp4 \n",
            "\n"
          ],
          "name": "stdout"
        },
        {
          "output_type": "stream",
          "text": [
            "18-01-2020:02:15:32,781 INFO     [classes.py:207] 30.04 fps, 31 frames, 1.03 seconds\n",
            "18-01-2020:02:15:32,788 INFO     [classes.py:323] Deleted pre-existing output/video_output.mp4\n",
            "18-01-2020:02:15:47,654 INFO     [classes.py:307] Completed analysis: saved to output/video_output.mp4\n"
          ],
          "name": "stderr"
        },
        {
          "output_type": "stream",
          "text": [
            "./Finalised/User_3/run_5/video.mp4\n",
            "[MoviePy] >>>> Building video video.mp4\n",
            "[MoviePy] Writing audio in videoTEMP_MPY_wvf_snd.mp4\n"
          ],
          "name": "stdout"
        },
        {
          "output_type": "stream",
          "text": [
            "100%|██████████| 23/23 [00:00<00:00, 367.14it/s]"
          ],
          "name": "stderr"
        },
        {
          "output_type": "stream",
          "text": [
            "[MoviePy] Done.\n",
            "[MoviePy] Writing video video.mp4\n"
          ],
          "name": "stdout"
        },
        {
          "output_type": "stream",
          "text": [
            "\n",
            "100%|██████████| 31/31 [00:00<00:00, 65.44it/s]\n"
          ],
          "name": "stderr"
        },
        {
          "output_type": "stream",
          "text": [
            "[MoviePy] Done.\n",
            "[MoviePy] >>>> Video ready: video.mp4 \n",
            "\n"
          ],
          "name": "stdout"
        },
        {
          "output_type": "stream",
          "text": [
            "18-01-2020:02:15:57,16 INFO     [classes.py:207] 30.04 fps, 31 frames, 1.03 seconds\n",
            "18-01-2020:02:15:57,20 INFO     [classes.py:323] Deleted pre-existing output/video_output.mp4\n",
            "18-01-2020:02:16:12,225 INFO     [classes.py:307] Completed analysis: saved to output/video_output.mp4\n"
          ],
          "name": "stderr"
        },
        {
          "output_type": "stream",
          "text": [
            "./Finalised/User_3/run_6/video.mp4\n",
            "[MoviePy] >>>> Building video video.mp4\n",
            "[MoviePy] Writing audio in videoTEMP_MPY_wvf_snd.mp4\n"
          ],
          "name": "stdout"
        },
        {
          "output_type": "stream",
          "text": [
            "100%|██████████| 23/23 [00:00<00:00, 380.65it/s]"
          ],
          "name": "stderr"
        },
        {
          "output_type": "stream",
          "text": [
            "[MoviePy] Done.\n",
            "[MoviePy] Writing video video.mp4\n"
          ],
          "name": "stdout"
        },
        {
          "output_type": "stream",
          "text": [
            "\n",
            "100%|██████████| 31/31 [00:00<00:00, 60.31it/s]\n"
          ],
          "name": "stderr"
        },
        {
          "output_type": "stream",
          "text": [
            "[MoviePy] Done.\n",
            "[MoviePy] >>>> Video ready: video.mp4 \n",
            "\n"
          ],
          "name": "stdout"
        },
        {
          "output_type": "stream",
          "text": [
            "18-01-2020:02:16:21,608 INFO     [classes.py:207] 30.04 fps, 31 frames, 1.03 seconds\n",
            "18-01-2020:02:16:21,611 INFO     [classes.py:323] Deleted pre-existing output/video_output.mp4\n",
            "18-01-2020:02:16:37,226 INFO     [classes.py:307] Completed analysis: saved to output/video_output.mp4\n"
          ],
          "name": "stderr"
        },
        {
          "output_type": "stream",
          "text": [
            "./Finalised/User_3/run_7/video.mp4\n",
            "[MoviePy] >>>> Building video video.mp4\n",
            "[MoviePy] Writing audio in videoTEMP_MPY_wvf_snd.mp4\n"
          ],
          "name": "stdout"
        },
        {
          "output_type": "stream",
          "text": [
            "100%|██████████| 23/23 [00:00<00:00, 381.76it/s]"
          ],
          "name": "stderr"
        },
        {
          "output_type": "stream",
          "text": [
            "[MoviePy] Done.\n",
            "[MoviePy] Writing video video.mp4\n"
          ],
          "name": "stdout"
        },
        {
          "output_type": "stream",
          "text": [
            "\n",
            " 97%|█████████▋| 30/31 [00:00<00:00, 64.94it/s]\n"
          ],
          "name": "stderr"
        },
        {
          "output_type": "stream",
          "text": [
            "[MoviePy] Done.\n",
            "[MoviePy] >>>> Video ready: video.mp4 \n",
            "\n"
          ],
          "name": "stdout"
        },
        {
          "output_type": "stream",
          "text": [
            "18-01-2020:02:16:46,621 INFO     [classes.py:207] 30.00 fps, 30 frames, 1.00 seconds\n",
            "18-01-2020:02:16:46,624 INFO     [classes.py:323] Deleted pre-existing output/video_output.mp4\n",
            "18-01-2020:02:17:01,935 INFO     [classes.py:307] Completed analysis: saved to output/video_output.mp4\n"
          ],
          "name": "stderr"
        },
        {
          "output_type": "stream",
          "text": [
            "./Finalised/User_4/run_0/video.mp4\n",
            "[MoviePy] >>>> Building video video.mp4\n",
            "[MoviePy] Writing audio in videoTEMP_MPY_wvf_snd.mp4\n"
          ],
          "name": "stdout"
        },
        {
          "output_type": "stream",
          "text": [
            "100%|██████████| 23/23 [00:00<00:00, 349.13it/s]"
          ],
          "name": "stderr"
        },
        {
          "output_type": "stream",
          "text": [
            "[MoviePy] Done.\n",
            "[MoviePy] Writing video video.mp4\n"
          ],
          "name": "stdout"
        },
        {
          "output_type": "stream",
          "text": [
            "\n",
            " 97%|█████████▋| 30/31 [00:03<00:00,  8.49it/s]\n"
          ],
          "name": "stderr"
        },
        {
          "output_type": "stream",
          "text": [
            "[MoviePy] Done.\n",
            "[MoviePy] >>>> Video ready: video.mp4 \n",
            "\n"
          ],
          "name": "stdout"
        },
        {
          "output_type": "stream",
          "text": [
            "18-01-2020:02:17:34,51 INFO     [classes.py:207] 30.00 fps, 30 frames, 1.00 seconds\n",
            "18-01-2020:02:17:34,54 INFO     [classes.py:323] Deleted pre-existing output/video_output.mp4\n",
            "18-01-2020:02:18:34,213 INFO     [classes.py:307] Completed analysis: saved to output/video_output.mp4\n"
          ],
          "name": "stderr"
        },
        {
          "output_type": "stream",
          "text": [
            "./Finalised/User_4/run_1/video.mp4\n",
            "[MoviePy] >>>> Building video video.mp4\n",
            "[MoviePy] Writing audio in videoTEMP_MPY_wvf_snd.mp4\n"
          ],
          "name": "stdout"
        },
        {
          "output_type": "stream",
          "text": [
            "100%|██████████| 23/23 [00:00<00:00, 429.14it/s]"
          ],
          "name": "stderr"
        },
        {
          "output_type": "stream",
          "text": [
            "[MoviePy] Done.\n",
            "[MoviePy] Writing video video.mp4\n"
          ],
          "name": "stdout"
        },
        {
          "output_type": "stream",
          "text": [
            "\n",
            " 97%|█████████▋| 30/31 [00:03<00:00,  8.79it/s]\n"
          ],
          "name": "stderr"
        },
        {
          "output_type": "stream",
          "text": [
            "[MoviePy] Done.\n",
            "[MoviePy] >>>> Video ready: video.mp4 \n",
            "\n"
          ],
          "name": "stdout"
        },
        {
          "output_type": "stream",
          "text": [
            "18-01-2020:02:19:03,808 INFO     [classes.py:207] 30.00 fps, 30 frames, 1.00 seconds\n",
            "18-01-2020:02:19:03,816 INFO     [classes.py:323] Deleted pre-existing output/video_output.mp4\n",
            "18-01-2020:02:19:57,517 INFO     [classes.py:307] Completed analysis: saved to output/video_output.mp4\n"
          ],
          "name": "stderr"
        },
        {
          "output_type": "stream",
          "text": [
            "./Finalised/User_4/run_2/video.mp4\n",
            "[MoviePy] >>>> Building video video.mp4\n",
            "[MoviePy] Writing audio in videoTEMP_MPY_wvf_snd.mp4\n"
          ],
          "name": "stdout"
        },
        {
          "output_type": "stream",
          "text": [
            "100%|██████████| 23/23 [00:00<00:00, 250.75it/s]"
          ],
          "name": "stderr"
        },
        {
          "output_type": "stream",
          "text": [
            "[MoviePy] Done.\n",
            "[MoviePy] Writing video video.mp4\n"
          ],
          "name": "stdout"
        },
        {
          "output_type": "stream",
          "text": [
            "\n",
            " 97%|█████████▋| 30/31 [00:03<00:00,  8.00it/s]\n"
          ],
          "name": "stderr"
        },
        {
          "output_type": "stream",
          "text": [
            "[MoviePy] Done.\n",
            "[MoviePy] >>>> Video ready: video.mp4 \n",
            "\n"
          ],
          "name": "stdout"
        },
        {
          "output_type": "stream",
          "text": [
            "18-01-2020:02:20:30,387 INFO     [classes.py:207] 30.00 fps, 30 frames, 1.00 seconds\n",
            "18-01-2020:02:20:30,396 INFO     [classes.py:323] Deleted pre-existing output/video_output.mp4\n",
            "18-01-2020:02:21:22,336 INFO     [classes.py:307] Completed analysis: saved to output/video_output.mp4\n"
          ],
          "name": "stderr"
        },
        {
          "output_type": "stream",
          "text": [
            "./Finalised/User_4/run_3/video.mp4\n",
            "[MoviePy] >>>> Building video video.mp4\n",
            "[MoviePy] Writing audio in videoTEMP_MPY_wvf_snd.mp4\n"
          ],
          "name": "stdout"
        },
        {
          "output_type": "stream",
          "text": [
            "100%|██████████| 23/23 [00:00<00:00, 342.05it/s]"
          ],
          "name": "stderr"
        },
        {
          "output_type": "stream",
          "text": [
            "[MoviePy] Done.\n",
            "[MoviePy] Writing video video.mp4\n"
          ],
          "name": "stdout"
        },
        {
          "output_type": "stream",
          "text": [
            "\n",
            " 97%|█████████▋| 30/31 [00:03<00:00,  7.78it/s]\n"
          ],
          "name": "stderr"
        },
        {
          "output_type": "stream",
          "text": [
            "[MoviePy] Done.\n",
            "[MoviePy] >>>> Video ready: video.mp4 \n",
            "\n"
          ],
          "name": "stdout"
        },
        {
          "output_type": "stream",
          "text": [
            "18-01-2020:02:21:52,644 INFO     [classes.py:207] 30.00 fps, 30 frames, 1.00 seconds\n",
            "18-01-2020:02:21:52,651 INFO     [classes.py:323] Deleted pre-existing output/video_output.mp4\n",
            "18-01-2020:02:22:46,23 INFO     [classes.py:307] Completed analysis: saved to output/video_output.mp4\n"
          ],
          "name": "stderr"
        },
        {
          "output_type": "stream",
          "text": [
            "./Finalised/User_4/run_4/video.mp4\n",
            "[MoviePy] >>>> Building video video.mp4\n",
            "[MoviePy] Writing audio in videoTEMP_MPY_wvf_snd.mp4\n"
          ],
          "name": "stdout"
        },
        {
          "output_type": "stream",
          "text": [
            "100%|██████████| 23/23 [00:00<00:00, 395.57it/s]"
          ],
          "name": "stderr"
        },
        {
          "output_type": "stream",
          "text": [
            "[MoviePy] Done.\n",
            "[MoviePy] Writing video video.mp4\n"
          ],
          "name": "stdout"
        },
        {
          "output_type": "stream",
          "text": [
            "\n",
            " 97%|█████████▋| 30/31 [00:03<00:00,  8.41it/s]\n"
          ],
          "name": "stderr"
        },
        {
          "output_type": "stream",
          "text": [
            "[MoviePy] Done.\n",
            "[MoviePy] >>>> Video ready: video.mp4 \n",
            "\n"
          ],
          "name": "stdout"
        },
        {
          "output_type": "stream",
          "text": [
            "18-01-2020:02:23:20,322 INFO     [classes.py:207] 30.00 fps, 30 frames, 1.00 seconds\n",
            "18-01-2020:02:23:20,329 INFO     [classes.py:323] Deleted pre-existing output/video_output.mp4\n",
            "18-01-2020:02:24:11,802 INFO     [classes.py:307] Completed analysis: saved to output/video_output.mp4\n"
          ],
          "name": "stderr"
        },
        {
          "output_type": "stream",
          "text": [
            "./Finalised/User_4/run_5/video.mp4\n",
            "[MoviePy] >>>> Building video video.mp4\n",
            "[MoviePy] Writing audio in videoTEMP_MPY_wvf_snd.mp4\n"
          ],
          "name": "stdout"
        },
        {
          "output_type": "stream",
          "text": [
            "100%|██████████| 23/23 [00:00<00:00, 401.46it/s]"
          ],
          "name": "stderr"
        },
        {
          "output_type": "stream",
          "text": [
            "[MoviePy] Done.\n",
            "[MoviePy] Writing video video.mp4\n"
          ],
          "name": "stdout"
        },
        {
          "output_type": "stream",
          "text": [
            "\n",
            " 97%|█████████▋| 30/31 [00:03<00:00,  8.34it/s]\n"
          ],
          "name": "stderr"
        },
        {
          "output_type": "stream",
          "text": [
            "[MoviePy] Done.\n",
            "[MoviePy] >>>> Video ready: video.mp4 \n",
            "\n"
          ],
          "name": "stdout"
        },
        {
          "output_type": "stream",
          "text": [
            "18-01-2020:02:24:44,934 INFO     [classes.py:207] 30.00 fps, 30 frames, 1.00 seconds\n",
            "18-01-2020:02:24:44,938 INFO     [classes.py:323] Deleted pre-existing output/video_output.mp4\n",
            "18-01-2020:02:25:41,690 INFO     [classes.py:307] Completed analysis: saved to output/video_output.mp4\n"
          ],
          "name": "stderr"
        },
        {
          "output_type": "stream",
          "text": [
            "./Finalised/User_4/run_6/video.mp4\n",
            "[MoviePy] >>>> Building video video.mp4\n",
            "[MoviePy] Writing audio in videoTEMP_MPY_wvf_snd.mp4\n"
          ],
          "name": "stdout"
        },
        {
          "output_type": "stream",
          "text": [
            "100%|██████████| 23/23 [00:00<00:00, 364.39it/s]"
          ],
          "name": "stderr"
        },
        {
          "output_type": "stream",
          "text": [
            "[MoviePy] Done.\n",
            "[MoviePy] Writing video video.mp4\n"
          ],
          "name": "stdout"
        },
        {
          "output_type": "stream",
          "text": [
            "\n",
            " 97%|█████████▋| 30/31 [00:03<00:00,  8.66it/s]\n"
          ],
          "name": "stderr"
        },
        {
          "output_type": "stream",
          "text": [
            "[MoviePy] Done.\n",
            "[MoviePy] >>>> Video ready: video.mp4 \n",
            "\n"
          ],
          "name": "stdout"
        },
        {
          "output_type": "stream",
          "text": [
            "18-01-2020:02:26:15,780 INFO     [classes.py:207] 30.00 fps, 30 frames, 1.00 seconds\n",
            "18-01-2020:02:26:15,785 INFO     [classes.py:323] Deleted pre-existing output/video_output.mp4\n",
            "18-01-2020:02:27:09,666 INFO     [classes.py:307] Completed analysis: saved to output/video_output.mp4\n"
          ],
          "name": "stderr"
        },
        {
          "output_type": "stream",
          "text": [
            "./Finalised/User_4/run_7/video.mp4\n",
            "[MoviePy] >>>> Building video video.mp4\n",
            "[MoviePy] Writing audio in videoTEMP_MPY_wvf_snd.mp4\n"
          ],
          "name": "stdout"
        },
        {
          "output_type": "stream",
          "text": [
            "100%|██████████| 23/23 [00:00<00:00, 275.41it/s]"
          ],
          "name": "stderr"
        },
        {
          "output_type": "stream",
          "text": [
            "[MoviePy] Done.\n",
            "[MoviePy] Writing video video.mp4\n"
          ],
          "name": "stdout"
        },
        {
          "output_type": "stream",
          "text": [
            "\n",
            " 97%|█████████▋| 30/31 [00:03<00:00,  8.46it/s]\n"
          ],
          "name": "stderr"
        },
        {
          "output_type": "stream",
          "text": [
            "[MoviePy] Done.\n",
            "[MoviePy] >>>> Video ready: video.mp4 \n",
            "\n"
          ],
          "name": "stdout"
        },
        {
          "output_type": "stream",
          "text": [
            "18-01-2020:02:27:44,386 INFO     [classes.py:207] 30.00 fps, 30 frames, 1.00 seconds\n",
            "18-01-2020:02:27:44,395 INFO     [classes.py:323] Deleted pre-existing output/video_output.mp4\n",
            "18-01-2020:02:28:37,288 INFO     [classes.py:307] Completed analysis: saved to output/video_output.mp4\n"
          ],
          "name": "stderr"
        },
        {
          "output_type": "stream",
          "text": [
            "./Finalised/User_4/run_8/video.mp4\n",
            "[MoviePy] >>>> Building video video.mp4\n",
            "[MoviePy] Writing audio in videoTEMP_MPY_wvf_snd.mp4\n"
          ],
          "name": "stdout"
        },
        {
          "output_type": "stream",
          "text": [
            "100%|██████████| 23/23 [00:00<00:00, 408.07it/s]"
          ],
          "name": "stderr"
        },
        {
          "output_type": "stream",
          "text": [
            "[MoviePy] Done.\n",
            "[MoviePy] Writing video video.mp4\n"
          ],
          "name": "stdout"
        },
        {
          "output_type": "stream",
          "text": [
            "\n",
            " 97%|█████████▋| 30/31 [00:03<00:00,  8.27it/s]\n"
          ],
          "name": "stderr"
        },
        {
          "output_type": "stream",
          "text": [
            "[MoviePy] Done.\n",
            "[MoviePy] >>>> Video ready: video.mp4 \n",
            "\n"
          ],
          "name": "stdout"
        },
        {
          "output_type": "stream",
          "text": [
            "18-01-2020:02:29:10,98 INFO     [classes.py:207] 30.00 fps, 30 frames, 1.00 seconds\n",
            "18-01-2020:02:29:10,106 INFO     [classes.py:323] Deleted pre-existing output/video_output.mp4\n",
            "18-01-2020:02:29:59,213 INFO     [classes.py:307] Completed analysis: saved to output/video_output.mp4\n"
          ],
          "name": "stderr"
        },
        {
          "output_type": "stream",
          "text": [
            "./Finalised/User_4/run_9/video.mp4\n",
            "[MoviePy] >>>> Building video video.mp4\n",
            "[MoviePy] Writing audio in videoTEMP_MPY_wvf_snd.mp4\n"
          ],
          "name": "stdout"
        },
        {
          "output_type": "stream",
          "text": [
            "100%|██████████| 23/23 [00:00<00:00, 362.56it/s]"
          ],
          "name": "stderr"
        },
        {
          "output_type": "stream",
          "text": [
            "[MoviePy] Done.\n",
            "[MoviePy] Writing video video.mp4\n"
          ],
          "name": "stdout"
        },
        {
          "output_type": "stream",
          "text": [
            "\n",
            " 97%|█████████▋| 30/31 [00:03<00:00,  7.89it/s]\n"
          ],
          "name": "stderr"
        },
        {
          "output_type": "stream",
          "text": [
            "[MoviePy] Done.\n",
            "[MoviePy] >>>> Video ready: video.mp4 \n",
            "\n"
          ],
          "name": "stdout"
        },
        {
          "output_type": "stream",
          "text": [
            "18-01-2020:02:30:32,614 INFO     [classes.py:207] 30.00 fps, 30 frames, 1.00 seconds\n",
            "18-01-2020:02:30:32,617 INFO     [classes.py:323] Deleted pre-existing output/video_output.mp4\n",
            "18-01-2020:02:31:23,739 INFO     [classes.py:307] Completed analysis: saved to output/video_output.mp4\n"
          ],
          "name": "stderr"
        },
        {
          "output_type": "stream",
          "text": [
            "./Finalised/User_5/run_0/video.mp4\n",
            "[MoviePy] >>>> Building video video.mp4\n",
            "[MoviePy] Writing audio in videoTEMP_MPY_wvf_snd.mp4\n"
          ],
          "name": "stdout"
        },
        {
          "output_type": "stream",
          "text": [
            "100%|██████████| 23/23 [00:00<00:00, 414.62it/s]"
          ],
          "name": "stderr"
        },
        {
          "output_type": "stream",
          "text": [
            "[MoviePy] Done.\n",
            "[MoviePy] Writing video video.mp4\n"
          ],
          "name": "stdout"
        },
        {
          "output_type": "stream",
          "text": [
            "\n",
            " 97%|█████████▋| 30/31 [00:03<00:00,  9.14it/s]\n"
          ],
          "name": "stderr"
        },
        {
          "output_type": "stream",
          "text": [
            "[MoviePy] Done.\n",
            "[MoviePy] >>>> Video ready: video.mp4 \n",
            "\n"
          ],
          "name": "stdout"
        },
        {
          "output_type": "stream",
          "text": [
            "18-01-2020:02:31:57,265 INFO     [classes.py:207] 30.00 fps, 30 frames, 1.00 seconds\n",
            "18-01-2020:02:31:57,270 INFO     [classes.py:323] Deleted pre-existing output/video_output.mp4\n",
            "18-01-2020:02:33:08,698 INFO     [classes.py:307] Completed analysis: saved to output/video_output.mp4\n"
          ],
          "name": "stderr"
        },
        {
          "output_type": "stream",
          "text": [
            "./Finalised/User_5/run_1/video.mp4\n",
            "[MoviePy] >>>> Building video video.mp4\n",
            "[MoviePy] Writing audio in videoTEMP_MPY_wvf_snd.mp4\n"
          ],
          "name": "stdout"
        },
        {
          "output_type": "stream",
          "text": [
            "100%|██████████| 23/23 [00:00<00:00, 375.87it/s]"
          ],
          "name": "stderr"
        },
        {
          "output_type": "stream",
          "text": [
            "[MoviePy] Done.\n",
            "[MoviePy] Writing video video.mp4\n"
          ],
          "name": "stdout"
        },
        {
          "output_type": "stream",
          "text": [
            "\n",
            " 97%|█████████▋| 30/31 [00:03<00:00,  8.45it/s]\n"
          ],
          "name": "stderr"
        },
        {
          "output_type": "stream",
          "text": [
            "[MoviePy] Done.\n",
            "[MoviePy] >>>> Video ready: video.mp4 \n",
            "\n"
          ],
          "name": "stdout"
        },
        {
          "output_type": "stream",
          "text": [
            "18-01-2020:02:33:42,672 INFO     [classes.py:207] 30.00 fps, 30 frames, 1.00 seconds\n",
            "18-01-2020:02:33:42,678 INFO     [classes.py:323] Deleted pre-existing output/video_output.mp4\n",
            "18-01-2020:02:34:53,742 INFO     [classes.py:307] Completed analysis: saved to output/video_output.mp4\n"
          ],
          "name": "stderr"
        },
        {
          "output_type": "stream",
          "text": [
            "./Finalised/User_5/run_2/video.mp4\n",
            "[MoviePy] >>>> Building video video.mp4\n",
            "[MoviePy] Writing audio in videoTEMP_MPY_wvf_snd.mp4\n"
          ],
          "name": "stdout"
        },
        {
          "output_type": "stream",
          "text": [
            "100%|██████████| 23/23 [00:00<00:00, 391.98it/s]"
          ],
          "name": "stderr"
        },
        {
          "output_type": "stream",
          "text": [
            "[MoviePy] Done.\n",
            "[MoviePy] Writing video video.mp4\n"
          ],
          "name": "stdout"
        },
        {
          "output_type": "stream",
          "text": [
            "\n",
            " 97%|█████████▋| 30/31 [00:03<00:00,  8.27it/s]\n"
          ],
          "name": "stderr"
        },
        {
          "output_type": "stream",
          "text": [
            "[MoviePy] Done.\n",
            "[MoviePy] >>>> Video ready: video.mp4 \n",
            "\n"
          ],
          "name": "stdout"
        },
        {
          "output_type": "stream",
          "text": [
            "18-01-2020:02:35:27,703 INFO     [classes.py:207] 30.00 fps, 30 frames, 1.00 seconds\n",
            "18-01-2020:02:35:27,712 INFO     [classes.py:323] Deleted pre-existing output/video_output.mp4\n",
            "18-01-2020:02:36:35,233 INFO     [classes.py:307] Completed analysis: saved to output/video_output.mp4\n"
          ],
          "name": "stderr"
        },
        {
          "output_type": "stream",
          "text": [
            "./Finalised/User_5/run_3/video.mp4\n",
            "[MoviePy] >>>> Building video video.mp4\n",
            "[MoviePy] Writing audio in videoTEMP_MPY_wvf_snd.mp4\n"
          ],
          "name": "stdout"
        },
        {
          "output_type": "stream",
          "text": [
            "100%|██████████| 23/23 [00:00<00:00, 272.49it/s]"
          ],
          "name": "stderr"
        },
        {
          "output_type": "stream",
          "text": [
            "[MoviePy] Done.\n",
            "[MoviePy] Writing video video.mp4\n"
          ],
          "name": "stdout"
        },
        {
          "output_type": "stream",
          "text": [
            "\n",
            " 97%|█████████▋| 30/31 [00:03<00:00,  8.50it/s]\n"
          ],
          "name": "stderr"
        },
        {
          "output_type": "stream",
          "text": [
            "[MoviePy] Done.\n",
            "[MoviePy] >>>> Video ready: video.mp4 \n",
            "\n"
          ],
          "name": "stdout"
        },
        {
          "output_type": "stream",
          "text": [
            "18-01-2020:02:37:10,802 INFO     [classes.py:207] 30.00 fps, 30 frames, 1.00 seconds\n",
            "18-01-2020:02:37:10,807 INFO     [classes.py:323] Deleted pre-existing output/video_output.mp4\n",
            "18-01-2020:02:38:18,913 INFO     [classes.py:307] Completed analysis: saved to output/video_output.mp4\n"
          ],
          "name": "stderr"
        },
        {
          "output_type": "stream",
          "text": [
            "./Finalised/User_5/run_4/video.mp4\n",
            "[MoviePy] >>>> Building video video.mp4\n",
            "[MoviePy] Writing audio in videoTEMP_MPY_wvf_snd.mp4\n"
          ],
          "name": "stdout"
        },
        {
          "output_type": "stream",
          "text": [
            "100%|██████████| 23/23 [00:00<00:00, 407.77it/s]"
          ],
          "name": "stderr"
        },
        {
          "output_type": "stream",
          "text": [
            "[MoviePy] Done.\n",
            "[MoviePy] Writing video video.mp4\n"
          ],
          "name": "stdout"
        },
        {
          "output_type": "stream",
          "text": [
            "\n",
            " 97%|█████████▋| 30/31 [00:03<00:00,  8.41it/s]\n"
          ],
          "name": "stderr"
        },
        {
          "output_type": "stream",
          "text": [
            "[MoviePy] Done.\n",
            "[MoviePy] >>>> Video ready: video.mp4 \n",
            "\n"
          ],
          "name": "stdout"
        },
        {
          "output_type": "stream",
          "text": [
            "18-01-2020:02:38:54,900 INFO     [classes.py:207] 30.00 fps, 30 frames, 1.00 seconds\n",
            "18-01-2020:02:38:54,909 INFO     [classes.py:323] Deleted pre-existing output/video_output.mp4\n",
            "18-01-2020:02:40:04,57 INFO     [classes.py:307] Completed analysis: saved to output/video_output.mp4\n"
          ],
          "name": "stderr"
        },
        {
          "output_type": "stream",
          "text": [
            "./Finalised/User_5/run_5/video.mp4\n",
            "[MoviePy] >>>> Building video video.mp4\n",
            "[MoviePy] Writing audio in videoTEMP_MPY_wvf_snd.mp4\n"
          ],
          "name": "stdout"
        },
        {
          "output_type": "stream",
          "text": [
            "100%|██████████| 23/23 [00:00<00:00, 383.74it/s]"
          ],
          "name": "stderr"
        },
        {
          "output_type": "stream",
          "text": [
            "[MoviePy] Done.\n",
            "[MoviePy] Writing video video.mp4\n"
          ],
          "name": "stdout"
        },
        {
          "output_type": "stream",
          "text": [
            "\n",
            " 97%|█████████▋| 30/31 [00:03<00:00,  8.20it/s]\n"
          ],
          "name": "stderr"
        },
        {
          "output_type": "stream",
          "text": [
            "[MoviePy] Done.\n",
            "[MoviePy] >>>> Video ready: video.mp4 \n",
            "\n"
          ],
          "name": "stdout"
        },
        {
          "output_type": "stream",
          "text": [
            "18-01-2020:02:40:38,166 INFO     [classes.py:207] 30.00 fps, 30 frames, 1.00 seconds\n",
            "18-01-2020:02:40:38,175 INFO     [classes.py:323] Deleted pre-existing output/video_output.mp4\n",
            "18-01-2020:02:41:44,553 INFO     [classes.py:307] Completed analysis: saved to output/video_output.mp4\n"
          ],
          "name": "stderr"
        },
        {
          "output_type": "stream",
          "text": [
            "./Finalised/User_5/run_6/video.mp4\n",
            "[MoviePy] >>>> Building video video.mp4\n",
            "[MoviePy] Writing audio in videoTEMP_MPY_wvf_snd.mp4\n"
          ],
          "name": "stdout"
        },
        {
          "output_type": "stream",
          "text": [
            "100%|██████████| 23/23 [00:00<00:00, 264.89it/s]"
          ],
          "name": "stderr"
        },
        {
          "output_type": "stream",
          "text": [
            "[MoviePy] Done.\n",
            "[MoviePy] Writing video video.mp4\n"
          ],
          "name": "stdout"
        },
        {
          "output_type": "stream",
          "text": [
            "\n",
            " 97%|█████████▋| 30/31 [00:03<00:00,  8.63it/s]\n"
          ],
          "name": "stderr"
        },
        {
          "output_type": "stream",
          "text": [
            "[MoviePy] Done.\n",
            "[MoviePy] >>>> Video ready: video.mp4 \n",
            "\n"
          ],
          "name": "stdout"
        },
        {
          "output_type": "stream",
          "text": [
            "18-01-2020:02:42:19,246 INFO     [classes.py:207] 30.00 fps, 30 frames, 1.00 seconds\n",
            "18-01-2020:02:42:19,255 INFO     [classes.py:323] Deleted pre-existing output/video_output.mp4\n",
            "18-01-2020:02:43:27,374 INFO     [classes.py:307] Completed analysis: saved to output/video_output.mp4\n"
          ],
          "name": "stderr"
        },
        {
          "output_type": "stream",
          "text": [
            "./Finalised/User_5/run_7/video.mp4\n",
            "[MoviePy] >>>> Building video video.mp4\n",
            "[MoviePy] Writing audio in videoTEMP_MPY_wvf_snd.mp4\n"
          ],
          "name": "stdout"
        },
        {
          "output_type": "stream",
          "text": [
            "100%|██████████| 23/23 [00:00<00:00, 191.99it/s]\n"
          ],
          "name": "stderr"
        },
        {
          "output_type": "stream",
          "text": [
            "[MoviePy] Done.\n",
            "[MoviePy] Writing video video.mp4\n"
          ],
          "name": "stdout"
        },
        {
          "output_type": "stream",
          "text": [
            " 97%|█████████▋| 30/31 [00:03<00:00,  8.65it/s]\n"
          ],
          "name": "stderr"
        },
        {
          "output_type": "stream",
          "text": [
            "[MoviePy] Done.\n",
            "[MoviePy] >>>> Video ready: video.mp4 \n",
            "\n"
          ],
          "name": "stdout"
        },
        {
          "output_type": "stream",
          "text": [
            "18-01-2020:02:44:02,651 INFO     [classes.py:207] 30.00 fps, 30 frames, 1.00 seconds\n",
            "18-01-2020:02:44:02,659 INFO     [classes.py:323] Deleted pre-existing output/video_output.mp4\n",
            "18-01-2020:02:45:08,207 INFO     [classes.py:307] Completed analysis: saved to output/video_output.mp4\n"
          ],
          "name": "stderr"
        },
        {
          "output_type": "stream",
          "text": [
            "./Finalised/User_5/run_8/video.mp4\n",
            "[MoviePy] >>>> Building video video.mp4\n",
            "[MoviePy] Writing audio in videoTEMP_MPY_wvf_snd.mp4\n"
          ],
          "name": "stdout"
        },
        {
          "output_type": "stream",
          "text": [
            "100%|██████████| 23/23 [00:00<00:00, 408.84it/s]"
          ],
          "name": "stderr"
        },
        {
          "output_type": "stream",
          "text": [
            "[MoviePy] Done.\n",
            "[MoviePy] Writing video video.mp4\n"
          ],
          "name": "stdout"
        },
        {
          "output_type": "stream",
          "text": [
            "\n",
            " 97%|█████████▋| 30/31 [00:03<00:00,  8.73it/s]\n"
          ],
          "name": "stderr"
        },
        {
          "output_type": "stream",
          "text": [
            "[MoviePy] Done.\n",
            "[MoviePy] >>>> Video ready: video.mp4 \n",
            "\n"
          ],
          "name": "stdout"
        },
        {
          "output_type": "stream",
          "text": [
            "18-01-2020:02:45:43,224 INFO     [classes.py:207] 30.00 fps, 30 frames, 1.00 seconds\n",
            "18-01-2020:02:45:43,232 INFO     [classes.py:323] Deleted pre-existing output/video_output.mp4\n",
            "18-01-2020:02:46:51,425 INFO     [classes.py:307] Completed analysis: saved to output/video_output.mp4\n"
          ],
          "name": "stderr"
        },
        {
          "output_type": "stream",
          "text": [
            "./Finalised/User_5/run_9/video.mp4\n",
            "[MoviePy] >>>> Building video video.mp4\n",
            "[MoviePy] Writing audio in videoTEMP_MPY_wvf_snd.mp4\n"
          ],
          "name": "stdout"
        },
        {
          "output_type": "stream",
          "text": [
            "100%|██████████| 23/23 [00:00<00:00, 401.56it/s]"
          ],
          "name": "stderr"
        },
        {
          "output_type": "stream",
          "text": [
            "[MoviePy] Done.\n",
            "[MoviePy] Writing video video.mp4\n"
          ],
          "name": "stdout"
        },
        {
          "output_type": "stream",
          "text": [
            "\n",
            " 97%|█████████▋| 30/31 [00:03<00:00,  8.25it/s]\n"
          ],
          "name": "stderr"
        },
        {
          "output_type": "stream",
          "text": [
            "[MoviePy] Done.\n",
            "[MoviePy] >>>> Video ready: video.mp4 \n",
            "\n"
          ],
          "name": "stdout"
        },
        {
          "output_type": "stream",
          "text": [
            "18-01-2020:02:47:26,640 INFO     [classes.py:207] 30.00 fps, 30 frames, 1.00 seconds\n",
            "18-01-2020:02:47:26,649 INFO     [classes.py:323] Deleted pre-existing output/video_output.mp4\n",
            "18-01-2020:02:48:38,343 INFO     [classes.py:307] Completed analysis: saved to output/video_output.mp4\n"
          ],
          "name": "stderr"
        },
        {
          "output_type": "stream",
          "text": [
            "./Finalised/User_6/run_0/video.mp4\n",
            "[MoviePy] >>>> Building video video.mp4\n",
            "[MoviePy] Writing audio in videoTEMP_MPY_wvf_snd.mp4\n"
          ],
          "name": "stdout"
        },
        {
          "output_type": "stream",
          "text": [
            "100%|██████████| 23/23 [00:00<00:00, 301.55it/s]"
          ],
          "name": "stderr"
        },
        {
          "output_type": "stream",
          "text": [
            "[MoviePy] Done.\n",
            "[MoviePy] Writing video video.mp4\n"
          ],
          "name": "stdout"
        },
        {
          "output_type": "stream",
          "text": [
            "\n",
            " 97%|█████████▋| 30/31 [00:03<00:00,  8.62it/s]\n"
          ],
          "name": "stderr"
        },
        {
          "output_type": "stream",
          "text": [
            "[MoviePy] Done.\n",
            "[MoviePy] >>>> Video ready: video.mp4 \n",
            "\n"
          ],
          "name": "stdout"
        },
        {
          "output_type": "stream",
          "text": [
            "18-01-2020:02:49:15,15 INFO     [classes.py:207] 30.00 fps, 30 frames, 1.00 seconds\n",
            "18-01-2020:02:49:15,21 INFO     [classes.py:323] Deleted pre-existing output/video_output.mp4\n",
            "18-01-2020:02:50:07,26 INFO     [classes.py:307] Completed analysis: saved to output/video_output.mp4\n"
          ],
          "name": "stderr"
        },
        {
          "output_type": "stream",
          "text": [
            "./Finalised/User_6/run_1/video.mp4\n",
            "[MoviePy] >>>> Building video video.mp4\n",
            "[MoviePy] Writing audio in videoTEMP_MPY_wvf_snd.mp4\n"
          ],
          "name": "stdout"
        },
        {
          "output_type": "stream",
          "text": [
            "100%|██████████| 23/23 [00:00<00:00, 357.10it/s]"
          ],
          "name": "stderr"
        },
        {
          "output_type": "stream",
          "text": [
            "[MoviePy] Done.\n",
            "[MoviePy] Writing video video.mp4\n"
          ],
          "name": "stdout"
        },
        {
          "output_type": "stream",
          "text": [
            "\n",
            " 97%|█████████▋| 30/31 [00:03<00:00,  8.43it/s]\n"
          ],
          "name": "stderr"
        },
        {
          "output_type": "stream",
          "text": [
            "[MoviePy] Done.\n",
            "[MoviePy] >>>> Video ready: video.mp4 \n",
            "\n"
          ],
          "name": "stdout"
        },
        {
          "output_type": "stream",
          "text": [
            "18-01-2020:02:50:42,744 INFO     [classes.py:207] 30.00 fps, 30 frames, 1.00 seconds\n",
            "18-01-2020:02:50:42,749 INFO     [classes.py:323] Deleted pre-existing output/video_output.mp4\n",
            "18-01-2020:02:51:38,101 INFO     [classes.py:307] Completed analysis: saved to output/video_output.mp4\n"
          ],
          "name": "stderr"
        },
        {
          "output_type": "stream",
          "text": [
            "./Finalised/User_6/run_2/video.mp4\n",
            "[MoviePy] >>>> Building video video.mp4\n",
            "[MoviePy] Writing audio in videoTEMP_MPY_wvf_snd.mp4\n"
          ],
          "name": "stdout"
        },
        {
          "output_type": "stream",
          "text": [
            "100%|██████████| 23/23 [00:00<00:00, 399.79it/s]"
          ],
          "name": "stderr"
        },
        {
          "output_type": "stream",
          "text": [
            "[MoviePy] Done.\n",
            "[MoviePy] Writing video video.mp4\n"
          ],
          "name": "stdout"
        },
        {
          "output_type": "stream",
          "text": [
            "\n",
            " 97%|█████████▋| 30/31 [00:03<00:00,  8.32it/s]\n"
          ],
          "name": "stderr"
        },
        {
          "output_type": "stream",
          "text": [
            "[MoviePy] Done.\n",
            "[MoviePy] >>>> Video ready: video.mp4 \n",
            "\n"
          ],
          "name": "stdout"
        },
        {
          "output_type": "stream",
          "text": [
            "18-01-2020:02:52:14,620 INFO     [classes.py:207] 30.00 fps, 30 frames, 1.00 seconds\n",
            "18-01-2020:02:52:14,626 INFO     [classes.py:323] Deleted pre-existing output/video_output.mp4\n",
            "18-01-2020:02:53:10,770 INFO     [classes.py:307] Completed analysis: saved to output/video_output.mp4\n"
          ],
          "name": "stderr"
        },
        {
          "output_type": "stream",
          "text": [
            "./Finalised/User_6/run_3/video.mp4\n",
            "[MoviePy] >>>> Building video video.mp4\n",
            "[MoviePy] Writing audio in videoTEMP_MPY_wvf_snd.mp4\n"
          ],
          "name": "stdout"
        },
        {
          "output_type": "stream",
          "text": [
            "100%|██████████| 23/23 [00:00<00:00, 367.10it/s]"
          ],
          "name": "stderr"
        },
        {
          "output_type": "stream",
          "text": [
            "[MoviePy] Done.\n",
            "[MoviePy] Writing video video.mp4\n"
          ],
          "name": "stdout"
        },
        {
          "output_type": "stream",
          "text": [
            "\n",
            " 97%|█████████▋| 30/31 [00:03<00:00,  8.96it/s]\n"
          ],
          "name": "stderr"
        },
        {
          "output_type": "stream",
          "text": [
            "[MoviePy] Done.\n",
            "[MoviePy] >>>> Video ready: video.mp4 \n",
            "\n"
          ],
          "name": "stdout"
        },
        {
          "output_type": "stream",
          "text": [
            "18-01-2020:02:53:46,748 INFO     [classes.py:207] 30.00 fps, 30 frames, 1.00 seconds\n",
            "18-01-2020:02:53:46,754 INFO     [classes.py:323] Deleted pre-existing output/video_output.mp4\n",
            "18-01-2020:02:54:37,699 INFO     [classes.py:307] Completed analysis: saved to output/video_output.mp4\n"
          ],
          "name": "stderr"
        },
        {
          "output_type": "stream",
          "text": [
            "./Finalised/User_6/run_4/video.mp4\n",
            "[MoviePy] >>>> Building video video.mp4\n",
            "[MoviePy] Writing audio in videoTEMP_MPY_wvf_snd.mp4\n"
          ],
          "name": "stdout"
        },
        {
          "output_type": "stream",
          "text": [
            "100%|██████████| 23/23 [00:00<00:00, 368.08it/s]"
          ],
          "name": "stderr"
        },
        {
          "output_type": "stream",
          "text": [
            "[MoviePy] Done.\n",
            "[MoviePy] Writing video video.mp4\n"
          ],
          "name": "stdout"
        },
        {
          "output_type": "stream",
          "text": [
            "\n",
            " 97%|█████████▋| 30/31 [00:03<00:00,  8.04it/s]\n"
          ],
          "name": "stderr"
        },
        {
          "output_type": "stream",
          "text": [
            "[MoviePy] Done.\n",
            "[MoviePy] >>>> Video ready: video.mp4 \n",
            "\n"
          ],
          "name": "stdout"
        },
        {
          "output_type": "stream",
          "text": [
            "18-01-2020:02:55:14,51 INFO     [classes.py:207] 30.00 fps, 30 frames, 1.00 seconds\n",
            "18-01-2020:02:55:14,58 INFO     [classes.py:323] Deleted pre-existing output/video_output.mp4\n",
            "18-01-2020:02:56:06,517 INFO     [classes.py:307] Completed analysis: saved to output/video_output.mp4\n"
          ],
          "name": "stderr"
        },
        {
          "output_type": "stream",
          "text": [
            "./Finalised/User_6/run_5/video.mp4\n",
            "[MoviePy] >>>> Building video video.mp4\n",
            "[MoviePy] Writing audio in videoTEMP_MPY_wvf_snd.mp4\n"
          ],
          "name": "stdout"
        },
        {
          "output_type": "stream",
          "text": [
            "100%|██████████| 23/23 [00:00<00:00, 387.04it/s]"
          ],
          "name": "stderr"
        },
        {
          "output_type": "stream",
          "text": [
            "[MoviePy] Done.\n",
            "[MoviePy] Writing video video.mp4\n"
          ],
          "name": "stdout"
        },
        {
          "output_type": "stream",
          "text": [
            "\n",
            " 97%|█████████▋| 30/31 [00:03<00:00,  8.41it/s]\n"
          ],
          "name": "stderr"
        },
        {
          "output_type": "stream",
          "text": [
            "[MoviePy] Done.\n",
            "[MoviePy] >>>> Video ready: video.mp4 \n",
            "\n"
          ],
          "name": "stdout"
        },
        {
          "output_type": "stream",
          "text": [
            "18-01-2020:02:56:43,716 INFO     [classes.py:207] 30.00 fps, 30 frames, 1.00 seconds\n",
            "18-01-2020:02:56:43,723 INFO     [classes.py:323] Deleted pre-existing output/video_output.mp4\n",
            "18-01-2020:02:57:37,985 INFO     [classes.py:307] Completed analysis: saved to output/video_output.mp4\n"
          ],
          "name": "stderr"
        },
        {
          "output_type": "stream",
          "text": [
            "./Finalised/User_6/run_6/video.mp4\n",
            "[MoviePy] >>>> Building video video.mp4\n",
            "[MoviePy] Writing audio in videoTEMP_MPY_wvf_snd.mp4\n"
          ],
          "name": "stdout"
        },
        {
          "output_type": "stream",
          "text": [
            "100%|██████████| 23/23 [00:00<00:00, 393.40it/s]"
          ],
          "name": "stderr"
        },
        {
          "output_type": "stream",
          "text": [
            "[MoviePy] Done.\n",
            "[MoviePy] Writing video video.mp4\n"
          ],
          "name": "stdout"
        },
        {
          "output_type": "stream",
          "text": [
            "\n",
            " 97%|█████████▋| 30/31 [00:03<00:00,  7.94it/s]\n"
          ],
          "name": "stderr"
        },
        {
          "output_type": "stream",
          "text": [
            "[MoviePy] Done.\n",
            "[MoviePy] >>>> Video ready: video.mp4 \n",
            "\n"
          ],
          "name": "stdout"
        },
        {
          "output_type": "stream",
          "text": [
            "18-01-2020:02:58:15,203 INFO     [classes.py:207] 30.00 fps, 30 frames, 1.00 seconds\n",
            "18-01-2020:02:58:15,211 INFO     [classes.py:323] Deleted pre-existing output/video_output.mp4\n",
            "18-01-2020:02:59:10,11 INFO     [classes.py:307] Completed analysis: saved to output/video_output.mp4\n"
          ],
          "name": "stderr"
        },
        {
          "output_type": "stream",
          "text": [
            "./Finalised/User_6/run_7/video.mp4\n",
            "[MoviePy] >>>> Building video video.mp4\n",
            "[MoviePy] Writing audio in videoTEMP_MPY_wvf_snd.mp4\n"
          ],
          "name": "stdout"
        },
        {
          "output_type": "stream",
          "text": [
            "100%|██████████| 23/23 [00:00<00:00, 367.27it/s]"
          ],
          "name": "stderr"
        },
        {
          "output_type": "stream",
          "text": [
            "[MoviePy] Done.\n",
            "[MoviePy] Writing video video.mp4\n"
          ],
          "name": "stdout"
        },
        {
          "output_type": "stream",
          "text": [
            "\n",
            " 97%|█████████▋| 30/31 [00:03<00:00,  8.54it/s]\n"
          ],
          "name": "stderr"
        },
        {
          "output_type": "stream",
          "text": [
            "[MoviePy] Done.\n",
            "[MoviePy] >>>> Video ready: video.mp4 \n",
            "\n"
          ],
          "name": "stdout"
        },
        {
          "output_type": "stream",
          "text": [
            "18-01-2020:02:59:47,798 INFO     [classes.py:207] 30.00 fps, 30 frames, 1.00 seconds\n",
            "18-01-2020:02:59:47,806 INFO     [classes.py:323] Deleted pre-existing output/video_output.mp4\n",
            "18-01-2020:03:00:42,369 INFO     [classes.py:307] Completed analysis: saved to output/video_output.mp4\n"
          ],
          "name": "stderr"
        },
        {
          "output_type": "stream",
          "text": [
            "./Finalised/User_6/run_8/video.mp4\n",
            "[MoviePy] >>>> Building video video.mp4\n",
            "[MoviePy] Writing audio in videoTEMP_MPY_wvf_snd.mp4\n"
          ],
          "name": "stdout"
        },
        {
          "output_type": "stream",
          "text": [
            "100%|██████████| 23/23 [00:00<00:00, 388.13it/s]"
          ],
          "name": "stderr"
        },
        {
          "output_type": "stream",
          "text": [
            "[MoviePy] Done.\n",
            "[MoviePy] Writing video video.mp4\n"
          ],
          "name": "stdout"
        },
        {
          "output_type": "stream",
          "text": [
            "\n",
            " 97%|█████████▋| 30/31 [00:03<00:00,  7.72it/s]\n"
          ],
          "name": "stderr"
        },
        {
          "output_type": "stream",
          "text": [
            "[MoviePy] Done.\n",
            "[MoviePy] >>>> Video ready: video.mp4 \n",
            "\n"
          ],
          "name": "stdout"
        },
        {
          "output_type": "stream",
          "text": [
            "18-01-2020:03:01:19,720 INFO     [classes.py:207] 30.00 fps, 30 frames, 1.00 seconds\n",
            "18-01-2020:03:01:19,725 INFO     [classes.py:323] Deleted pre-existing output/video_output.mp4\n",
            "18-01-2020:03:02:14,805 INFO     [classes.py:307] Completed analysis: saved to output/video_output.mp4\n"
          ],
          "name": "stderr"
        },
        {
          "output_type": "stream",
          "text": [
            "./Finalised/User_6/run_9/video.mp4\n",
            "[MoviePy] >>>> Building video video.mp4\n",
            "[MoviePy] Writing audio in videoTEMP_MPY_wvf_snd.mp4\n"
          ],
          "name": "stdout"
        },
        {
          "output_type": "stream",
          "text": [
            "100%|██████████| 23/23 [00:00<00:00, 417.32it/s]"
          ],
          "name": "stderr"
        },
        {
          "output_type": "stream",
          "text": [
            "[MoviePy] Done.\n",
            "[MoviePy] Writing video video.mp4\n"
          ],
          "name": "stdout"
        },
        {
          "output_type": "stream",
          "text": [
            "\n",
            " 97%|█████████▋| 30/31 [00:03<00:00,  8.18it/s]\n"
          ],
          "name": "stderr"
        },
        {
          "output_type": "stream",
          "text": [
            "[MoviePy] Done.\n",
            "[MoviePy] >>>> Video ready: video.mp4 \n",
            "\n"
          ],
          "name": "stdout"
        },
        {
          "output_type": "stream",
          "text": [
            "18-01-2020:03:02:52,429 INFO     [classes.py:207] 30.00 fps, 30 frames, 1.00 seconds\n",
            "18-01-2020:03:02:52,433 INFO     [classes.py:323] Deleted pre-existing output/video_output.mp4\n",
            "18-01-2020:03:03:47,322 INFO     [classes.py:307] Completed analysis: saved to output/video_output.mp4\n"
          ],
          "name": "stderr"
        },
        {
          "output_type": "stream",
          "text": [
            "./Finalised/User_6/run_10/video.mp4\n",
            "[MoviePy] >>>> Building video video.mp4\n",
            "[MoviePy] Writing audio in videoTEMP_MPY_wvf_snd.mp4\n"
          ],
          "name": "stdout"
        },
        {
          "output_type": "stream",
          "text": [
            "100%|██████████| 23/23 [00:00<00:00, 367.55it/s]"
          ],
          "name": "stderr"
        },
        {
          "output_type": "stream",
          "text": [
            "[MoviePy] Done.\n",
            "[MoviePy] Writing video video.mp4\n"
          ],
          "name": "stdout"
        },
        {
          "output_type": "stream",
          "text": [
            "\n",
            " 97%|█████████▋| 30/31 [00:03<00:00,  8.87it/s]\n"
          ],
          "name": "stderr"
        },
        {
          "output_type": "stream",
          "text": [
            "[MoviePy] Done.\n",
            "[MoviePy] >>>> Video ready: video.mp4 \n",
            "\n"
          ],
          "name": "stdout"
        },
        {
          "output_type": "stream",
          "text": [
            "18-01-2020:03:04:24,920 INFO     [classes.py:207] 30.00 fps, 30 frames, 1.00 seconds\n",
            "18-01-2020:03:04:24,926 INFO     [classes.py:323] Deleted pre-existing output/video_output.mp4\n",
            "18-01-2020:03:05:19,372 INFO     [classes.py:307] Completed analysis: saved to output/video_output.mp4\n"
          ],
          "name": "stderr"
        },
        {
          "output_type": "stream",
          "text": [
            "./Finalised/User_7/run_0/video.mp4\n",
            "[MoviePy] >>>> Building video video.mp4\n",
            "[MoviePy] Writing audio in videoTEMP_MPY_wvf_snd.mp4\n"
          ],
          "name": "stdout"
        },
        {
          "output_type": "stream",
          "text": [
            "100%|██████████| 23/23 [00:00<00:00, 355.31it/s]"
          ],
          "name": "stderr"
        },
        {
          "output_type": "stream",
          "text": [
            "[MoviePy] Done.\n",
            "[MoviePy] Writing video video.mp4\n"
          ],
          "name": "stdout"
        },
        {
          "output_type": "stream",
          "text": [
            "\n",
            "100%|██████████| 31/31 [00:00<00:00, 64.39it/s]\n"
          ],
          "name": "stderr"
        },
        {
          "output_type": "stream",
          "text": [
            "[MoviePy] Done.\n",
            "[MoviePy] >>>> Video ready: video.mp4 \n",
            "\n"
          ],
          "name": "stdout"
        },
        {
          "output_type": "stream",
          "text": [
            "18-01-2020:03:05:34,822 INFO     [classes.py:207] 30.04 fps, 31 frames, 1.03 seconds\n",
            "18-01-2020:03:05:34,830 INFO     [classes.py:323] Deleted pre-existing output/video_output.mp4\n",
            "18-01-2020:03:05:46,835 INFO     [classes.py:307] Completed analysis: saved to output/video_output.mp4\n"
          ],
          "name": "stderr"
        },
        {
          "output_type": "stream",
          "text": [
            "./Finalised/User_7/run_1/video.mp4\n",
            "[MoviePy] >>>> Building video video.mp4\n",
            "[MoviePy] Writing audio in videoTEMP_MPY_wvf_snd.mp4\n"
          ],
          "name": "stdout"
        },
        {
          "output_type": "stream",
          "text": [
            "100%|██████████| 23/23 [00:00<00:00, 409.95it/s]"
          ],
          "name": "stderr"
        },
        {
          "output_type": "stream",
          "text": [
            "[MoviePy] Done.\n",
            "[MoviePy] Writing video video.mp4\n"
          ],
          "name": "stdout"
        },
        {
          "output_type": "stream",
          "text": [
            "\n",
            "100%|██████████| 31/31 [00:00<00:00, 66.29it/s]\n"
          ],
          "name": "stderr"
        },
        {
          "output_type": "stream",
          "text": [
            "[MoviePy] Done.\n",
            "[MoviePy] >>>> Video ready: video.mp4 \n",
            "\n"
          ],
          "name": "stdout"
        },
        {
          "output_type": "stream",
          "text": [
            "18-01-2020:03:06:02,3 INFO     [classes.py:207] 30.04 fps, 31 frames, 1.03 seconds\n",
            "18-01-2020:03:06:02,14 INFO     [classes.py:323] Deleted pre-existing output/video_output.mp4\n",
            "18-01-2020:03:06:14,173 INFO     [classes.py:307] Completed analysis: saved to output/video_output.mp4\n"
          ],
          "name": "stderr"
        },
        {
          "output_type": "stream",
          "text": [
            "./Finalised/User_7/run_2/video.mp4\n",
            "[MoviePy] >>>> Building video video.mp4\n",
            "[MoviePy] Writing audio in videoTEMP_MPY_wvf_snd.mp4\n"
          ],
          "name": "stdout"
        },
        {
          "output_type": "stream",
          "text": [
            "100%|██████████| 23/23 [00:00<00:00, 362.17it/s]"
          ],
          "name": "stderr"
        },
        {
          "output_type": "stream",
          "text": [
            "[MoviePy] Done.\n",
            "[MoviePy] Writing video video.mp4\n"
          ],
          "name": "stdout"
        },
        {
          "output_type": "stream",
          "text": [
            "\n",
            "100%|██████████| 31/31 [00:00<00:00, 62.06it/s]\n"
          ],
          "name": "stderr"
        },
        {
          "output_type": "stream",
          "text": [
            "[MoviePy] Done.\n",
            "[MoviePy] >>>> Video ready: video.mp4 \n",
            "\n"
          ],
          "name": "stdout"
        },
        {
          "output_type": "stream",
          "text": [
            "18-01-2020:03:06:29,566 INFO     [classes.py:207] 30.04 fps, 31 frames, 1.03 seconds\n",
            "18-01-2020:03:06:29,572 INFO     [classes.py:323] Deleted pre-existing output/video_output.mp4\n",
            "18-01-2020:03:06:41,500 INFO     [classes.py:307] Completed analysis: saved to output/video_output.mp4\n"
          ],
          "name": "stderr"
        },
        {
          "output_type": "stream",
          "text": [
            "./Finalised/User_7/run_3/video.mp4\n",
            "[MoviePy] >>>> Building video video.mp4\n",
            "[MoviePy] Writing audio in videoTEMP_MPY_wvf_snd.mp4\n"
          ],
          "name": "stdout"
        },
        {
          "output_type": "stream",
          "text": [
            "100%|██████████| 23/23 [00:00<00:00, 391.49it/s]"
          ],
          "name": "stderr"
        },
        {
          "output_type": "stream",
          "text": [
            "[MoviePy] Done.\n",
            "[MoviePy] Writing video video.mp4\n"
          ],
          "name": "stdout"
        },
        {
          "output_type": "stream",
          "text": [
            "\n",
            "100%|██████████| 31/31 [00:00<00:00, 64.25it/s]\n"
          ],
          "name": "stderr"
        },
        {
          "output_type": "stream",
          "text": [
            "[MoviePy] Done.\n",
            "[MoviePy] >>>> Video ready: video.mp4 \n",
            "\n"
          ],
          "name": "stdout"
        },
        {
          "output_type": "stream",
          "text": [
            "18-01-2020:03:06:57,481 INFO     [classes.py:207] 30.04 fps, 31 frames, 1.03 seconds\n",
            "18-01-2020:03:06:57,485 INFO     [classes.py:323] Deleted pre-existing output/video_output.mp4\n",
            "18-01-2020:03:07:09,684 INFO     [classes.py:307] Completed analysis: saved to output/video_output.mp4\n"
          ],
          "name": "stderr"
        },
        {
          "output_type": "stream",
          "text": [
            "./Finalised/User_7/run_4/video.mp4\n",
            "[MoviePy] >>>> Building video video.mp4\n",
            "[MoviePy] Writing audio in videoTEMP_MPY_wvf_snd.mp4\n"
          ],
          "name": "stdout"
        },
        {
          "output_type": "stream",
          "text": [
            "100%|██████████| 23/23 [00:00<00:00, 392.89it/s]"
          ],
          "name": "stderr"
        },
        {
          "output_type": "stream",
          "text": [
            "[MoviePy] Done.\n",
            "[MoviePy] Writing video video.mp4\n"
          ],
          "name": "stdout"
        },
        {
          "output_type": "stream",
          "text": [
            "\n",
            "100%|██████████| 31/31 [00:00<00:00, 65.15it/s]\n"
          ],
          "name": "stderr"
        },
        {
          "output_type": "stream",
          "text": [
            "[MoviePy] Done.\n",
            "[MoviePy] >>>> Video ready: video.mp4 \n",
            "\n"
          ],
          "name": "stdout"
        },
        {
          "output_type": "stream",
          "text": [
            "18-01-2020:03:07:25,521 INFO     [classes.py:207] 30.04 fps, 31 frames, 1.03 seconds\n",
            "18-01-2020:03:07:25,525 INFO     [classes.py:323] Deleted pre-existing output/video_output.mp4\n",
            "18-01-2020:03:07:37,599 INFO     [classes.py:307] Completed analysis: saved to output/video_output.mp4\n"
          ],
          "name": "stderr"
        },
        {
          "output_type": "stream",
          "text": [
            "./Finalised/User_7/run_5/video.mp4\n",
            "[MoviePy] >>>> Building video video.mp4\n",
            "[MoviePy] Writing audio in videoTEMP_MPY_wvf_snd.mp4\n"
          ],
          "name": "stdout"
        },
        {
          "output_type": "stream",
          "text": [
            "100%|██████████| 23/23 [00:00<00:00, 369.04it/s]"
          ],
          "name": "stderr"
        },
        {
          "output_type": "stream",
          "text": [
            "[MoviePy] Done.\n",
            "[MoviePy] Writing video video.mp4\n"
          ],
          "name": "stdout"
        },
        {
          "output_type": "stream",
          "text": [
            "\n",
            "100%|██████████| 31/31 [00:00<00:00, 64.38it/s]\n"
          ],
          "name": "stderr"
        },
        {
          "output_type": "stream",
          "text": [
            "[MoviePy] Done.\n",
            "[MoviePy] >>>> Video ready: video.mp4 \n",
            "\n"
          ],
          "name": "stdout"
        },
        {
          "output_type": "stream",
          "text": [
            "18-01-2020:03:07:53,626 INFO     [classes.py:207] 30.04 fps, 31 frames, 1.03 seconds\n",
            "18-01-2020:03:07:53,630 INFO     [classes.py:323] Deleted pre-existing output/video_output.mp4\n",
            "18-01-2020:03:08:05,951 INFO     [classes.py:307] Completed analysis: saved to output/video_output.mp4\n"
          ],
          "name": "stderr"
        },
        {
          "output_type": "stream",
          "text": [
            "./Finalised/User_7/run_6/video.mp4\n",
            "[MoviePy] >>>> Building video video.mp4\n",
            "[MoviePy] Writing audio in videoTEMP_MPY_wvf_snd.mp4\n"
          ],
          "name": "stdout"
        },
        {
          "output_type": "stream",
          "text": [
            "100%|██████████| 23/23 [00:00<00:00, 396.96it/s]"
          ],
          "name": "stderr"
        },
        {
          "output_type": "stream",
          "text": [
            "[MoviePy] Done.\n",
            "[MoviePy] Writing video video.mp4\n"
          ],
          "name": "stdout"
        },
        {
          "output_type": "stream",
          "text": [
            "\n",
            "100%|██████████| 31/31 [00:00<00:00, 61.21it/s]\n"
          ],
          "name": "stderr"
        },
        {
          "output_type": "stream",
          "text": [
            "[MoviePy] Done.\n",
            "[MoviePy] >>>> Video ready: video.mp4 \n",
            "\n"
          ],
          "name": "stdout"
        },
        {
          "output_type": "stream",
          "text": [
            "18-01-2020:03:08:22,11 INFO     [classes.py:207] 30.04 fps, 31 frames, 1.03 seconds\n",
            "18-01-2020:03:08:22,18 INFO     [classes.py:323] Deleted pre-existing output/video_output.mp4\n",
            "18-01-2020:03:08:34,195 INFO     [classes.py:307] Completed analysis: saved to output/video_output.mp4\n"
          ],
          "name": "stderr"
        },
        {
          "output_type": "stream",
          "text": [
            "./Finalised/User_7/run_7/video.mp4\n",
            "[MoviePy] >>>> Building video video.mp4\n",
            "[MoviePy] Writing audio in videoTEMP_MPY_wvf_snd.mp4\n"
          ],
          "name": "stdout"
        },
        {
          "output_type": "stream",
          "text": [
            "100%|██████████| 23/23 [00:00<00:00, 380.77it/s]"
          ],
          "name": "stderr"
        },
        {
          "output_type": "stream",
          "text": [
            "[MoviePy] Done.\n",
            "[MoviePy] Writing video video.mp4\n"
          ],
          "name": "stdout"
        },
        {
          "output_type": "stream",
          "text": [
            "\n",
            "100%|██████████| 31/31 [00:00<00:00, 66.15it/s]\n"
          ],
          "name": "stderr"
        },
        {
          "output_type": "stream",
          "text": [
            "[MoviePy] Done.\n",
            "[MoviePy] >>>> Video ready: video.mp4 \n",
            "\n"
          ],
          "name": "stdout"
        },
        {
          "output_type": "stream",
          "text": [
            "18-01-2020:03:08:51,290 INFO     [classes.py:207] 30.04 fps, 31 frames, 1.03 seconds\n",
            "18-01-2020:03:08:51,297 INFO     [classes.py:323] Deleted pre-existing output/video_output.mp4\n",
            "18-01-2020:03:09:03,664 INFO     [classes.py:307] Completed analysis: saved to output/video_output.mp4\n"
          ],
          "name": "stderr"
        },
        {
          "output_type": "stream",
          "text": [
            "./Finalised/User_7/run_8/video.mp4\n",
            "[MoviePy] >>>> Building video video.mp4\n",
            "[MoviePy] Writing audio in videoTEMP_MPY_wvf_snd.mp4\n"
          ],
          "name": "stdout"
        },
        {
          "output_type": "stream",
          "text": [
            "100%|██████████| 23/23 [00:00<00:00, 401.68it/s]"
          ],
          "name": "stderr"
        },
        {
          "output_type": "stream",
          "text": [
            "[MoviePy] Done.\n",
            "[MoviePy] Writing video video.mp4\n"
          ],
          "name": "stdout"
        },
        {
          "output_type": "stream",
          "text": [
            "\n",
            " 97%|█████████▋| 30/31 [00:00<00:00, 62.03it/s]\n"
          ],
          "name": "stderr"
        },
        {
          "output_type": "stream",
          "text": [
            "[MoviePy] Done.\n",
            "[MoviePy] >>>> Video ready: video.mp4 \n",
            "\n"
          ],
          "name": "stdout"
        },
        {
          "output_type": "stream",
          "text": [
            "18-01-2020:03:09:20,77 INFO     [classes.py:207] 30.00 fps, 30 frames, 1.00 seconds\n",
            "18-01-2020:03:09:20,86 INFO     [classes.py:323] Deleted pre-existing output/video_output.mp4\n",
            "18-01-2020:03:09:32,323 INFO     [classes.py:307] Completed analysis: saved to output/video_output.mp4\n"
          ],
          "name": "stderr"
        },
        {
          "output_type": "stream",
          "text": [
            "./Finalised/User_7/run_9/video.mp4\n",
            "[MoviePy] >>>> Building video video.mp4\n",
            "[MoviePy] Writing audio in videoTEMP_MPY_wvf_snd.mp4\n"
          ],
          "name": "stdout"
        },
        {
          "output_type": "stream",
          "text": [
            "100%|██████████| 23/23 [00:00<00:00, 431.19it/s]"
          ],
          "name": "stderr"
        },
        {
          "output_type": "stream",
          "text": [
            "[MoviePy] Done.\n",
            "[MoviePy] Writing video video.mp4\n"
          ],
          "name": "stdout"
        },
        {
          "output_type": "stream",
          "text": [
            "\n",
            "100%|██████████| 31/31 [00:00<00:00, 67.23it/s]\n"
          ],
          "name": "stderr"
        },
        {
          "output_type": "stream",
          "text": [
            "[MoviePy] Done.\n",
            "[MoviePy] >>>> Video ready: video.mp4 \n",
            "\n"
          ],
          "name": "stdout"
        },
        {
          "output_type": "stream",
          "text": [
            "18-01-2020:03:09:49,63 INFO     [classes.py:207] 30.04 fps, 31 frames, 1.03 seconds\n",
            "18-01-2020:03:09:49,70 INFO     [classes.py:323] Deleted pre-existing output/video_output.mp4\n",
            "18-01-2020:03:10:01,538 INFO     [classes.py:307] Completed analysis: saved to output/video_output.mp4\n"
          ],
          "name": "stderr"
        },
        {
          "output_type": "stream",
          "text": [
            "./Finalised/User_8/run_0/video.mp4\n",
            "[MoviePy] >>>> Building video video.mp4\n",
            "[MoviePy] Writing audio in videoTEMP_MPY_wvf_snd.mp4\n"
          ],
          "name": "stdout"
        },
        {
          "output_type": "stream",
          "text": [
            "100%|██████████| 23/23 [00:00<00:00, 388.06it/s]"
          ],
          "name": "stderr"
        },
        {
          "output_type": "stream",
          "text": [
            "[MoviePy] Done.\n",
            "[MoviePy] Writing video video.mp4\n"
          ],
          "name": "stdout"
        },
        {
          "output_type": "stream",
          "text": [
            "\n",
            " 97%|█████████▋| 30/31 [00:03<00:00,  7.91it/s]\n"
          ],
          "name": "stderr"
        },
        {
          "output_type": "stream",
          "text": [
            "[MoviePy] Done.\n",
            "[MoviePy] >>>> Video ready: video.mp4 \n",
            "\n"
          ],
          "name": "stdout"
        },
        {
          "output_type": "stream",
          "text": [
            "18-01-2020:03:10:43,978 INFO     [classes.py:207] 30.00 fps, 30 frames, 1.00 seconds\n",
            "18-01-2020:03:10:43,982 INFO     [classes.py:323] Deleted pre-existing output/video_output.mp4\n",
            "18-01-2020:03:11:33,31 INFO     [classes.py:307] Completed analysis: saved to output/video_output.mp4\n"
          ],
          "name": "stderr"
        },
        {
          "output_type": "stream",
          "text": [
            "./Finalised/User_8/run_1/video.mp4\n",
            "[MoviePy] >>>> Building video video.mp4\n",
            "[MoviePy] Writing audio in videoTEMP_MPY_wvf_snd.mp4\n"
          ],
          "name": "stdout"
        },
        {
          "output_type": "stream",
          "text": [
            "100%|██████████| 23/23 [00:00<00:00, 358.16it/s]"
          ],
          "name": "stderr"
        },
        {
          "output_type": "stream",
          "text": [
            "[MoviePy] Done.\n",
            "[MoviePy] Writing video video.mp4\n"
          ],
          "name": "stdout"
        },
        {
          "output_type": "stream",
          "text": [
            "\n",
            " 97%|█████████▋| 30/31 [00:03<00:00,  8.25it/s]\n"
          ],
          "name": "stderr"
        },
        {
          "output_type": "stream",
          "text": [
            "[MoviePy] Done.\n",
            "[MoviePy] >>>> Video ready: video.mp4 \n",
            "\n"
          ],
          "name": "stdout"
        },
        {
          "output_type": "stream",
          "text": [
            "18-01-2020:03:12:15,396 INFO     [classes.py:207] 30.00 fps, 30 frames, 1.00 seconds\n",
            "18-01-2020:03:12:15,401 INFO     [classes.py:323] Deleted pre-existing output/video_output.mp4\n",
            "18-01-2020:03:13:04,428 INFO     [classes.py:307] Completed analysis: saved to output/video_output.mp4\n"
          ],
          "name": "stderr"
        },
        {
          "output_type": "stream",
          "text": [
            "./Finalised/User_8/run_2/video.mp4\n",
            "[MoviePy] >>>> Building video video.mp4\n",
            "[MoviePy] Writing audio in videoTEMP_MPY_wvf_snd.mp4\n"
          ],
          "name": "stdout"
        },
        {
          "output_type": "stream",
          "text": [
            "100%|██████████| 23/23 [00:00<00:00, 367.35it/s]"
          ],
          "name": "stderr"
        },
        {
          "output_type": "stream",
          "text": [
            "[MoviePy] Done.\n",
            "[MoviePy] Writing video video.mp4\n"
          ],
          "name": "stdout"
        },
        {
          "output_type": "stream",
          "text": [
            "\n",
            " 97%|█████████▋| 30/31 [00:03<00:00,  7.62it/s]\n"
          ],
          "name": "stderr"
        },
        {
          "output_type": "stream",
          "text": [
            "[MoviePy] Done.\n",
            "[MoviePy] >>>> Video ready: video.mp4 \n",
            "\n"
          ],
          "name": "stdout"
        },
        {
          "output_type": "stream",
          "text": [
            "18-01-2020:03:13:47,495 INFO     [classes.py:207] 30.00 fps, 30 frames, 1.00 seconds\n",
            "18-01-2020:03:13:47,503 INFO     [classes.py:323] Deleted pre-existing output/video_output.mp4\n",
            "18-01-2020:03:14:33,543 INFO     [classes.py:307] Completed analysis: saved to output/video_output.mp4\n"
          ],
          "name": "stderr"
        },
        {
          "output_type": "stream",
          "text": [
            "./Finalised/User_8/run_3/video.mp4\n",
            "[MoviePy] >>>> Building video video.mp4\n",
            "[MoviePy] Writing audio in videoTEMP_MPY_wvf_snd.mp4\n"
          ],
          "name": "stdout"
        },
        {
          "output_type": "stream",
          "text": [
            "100%|██████████| 23/23 [00:00<00:00, 397.35it/s]"
          ],
          "name": "stderr"
        },
        {
          "output_type": "stream",
          "text": [
            "[MoviePy] Done.\n",
            "[MoviePy] Writing video video.mp4\n"
          ],
          "name": "stdout"
        },
        {
          "output_type": "stream",
          "text": [
            "\n",
            " 97%|█████████▋| 30/31 [00:03<00:00,  7.63it/s]\n"
          ],
          "name": "stderr"
        },
        {
          "output_type": "stream",
          "text": [
            "[MoviePy] Done.\n",
            "[MoviePy] >>>> Video ready: video.mp4 \n",
            "\n"
          ],
          "name": "stdout"
        },
        {
          "output_type": "stream",
          "text": [
            "18-01-2020:03:15:17,426 INFO     [classes.py:207] 30.00 fps, 30 frames, 1.00 seconds\n",
            "18-01-2020:03:15:17,431 INFO     [classes.py:323] Deleted pre-existing output/video_output.mp4\n",
            "18-01-2020:03:16:03,798 INFO     [classes.py:307] Completed analysis: saved to output/video_output.mp4\n"
          ],
          "name": "stderr"
        },
        {
          "output_type": "stream",
          "text": [
            "./Finalised/User_8/run_4/video.mp4\n",
            "[MoviePy] >>>> Building video video.mp4\n",
            "[MoviePy] Writing audio in videoTEMP_MPY_wvf_snd.mp4\n"
          ],
          "name": "stdout"
        },
        {
          "output_type": "stream",
          "text": [
            "100%|██████████| 23/23 [00:00<00:00, 358.51it/s]"
          ],
          "name": "stderr"
        },
        {
          "output_type": "stream",
          "text": [
            "[MoviePy] Done.\n",
            "[MoviePy] Writing video video.mp4\n"
          ],
          "name": "stdout"
        },
        {
          "output_type": "stream",
          "text": [
            "\n",
            " 97%|█████████▋| 30/31 [00:03<00:00,  7.83it/s]\n"
          ],
          "name": "stderr"
        },
        {
          "output_type": "stream",
          "text": [
            "[MoviePy] Done.\n",
            "[MoviePy] >>>> Video ready: video.mp4 \n",
            "\n"
          ],
          "name": "stdout"
        },
        {
          "output_type": "stream",
          "text": [
            "18-01-2020:03:16:47,91 INFO     [classes.py:207] 30.00 fps, 30 frames, 1.00 seconds\n",
            "18-01-2020:03:16:47,97 INFO     [classes.py:323] Deleted pre-existing output/video_output.mp4\n",
            "18-01-2020:03:17:34,914 INFO     [classes.py:307] Completed analysis: saved to output/video_output.mp4\n"
          ],
          "name": "stderr"
        },
        {
          "output_type": "stream",
          "text": [
            "./Finalised/User_8/run_5/video.mp4\n",
            "[MoviePy] >>>> Building video video.mp4\n",
            "[MoviePy] Writing audio in videoTEMP_MPY_wvf_snd.mp4\n"
          ],
          "name": "stdout"
        },
        {
          "output_type": "stream",
          "text": [
            "100%|██████████| 23/23 [00:00<00:00, 345.46it/s]"
          ],
          "name": "stderr"
        },
        {
          "output_type": "stream",
          "text": [
            "[MoviePy] Done.\n",
            "[MoviePy] Writing video video.mp4\n"
          ],
          "name": "stdout"
        },
        {
          "output_type": "stream",
          "text": [
            "\n",
            " 97%|█████████▋| 30/31 [00:03<00:00,  8.15it/s]\n"
          ],
          "name": "stderr"
        },
        {
          "output_type": "stream",
          "text": [
            "[MoviePy] Done.\n",
            "[MoviePy] >>>> Video ready: video.mp4 \n",
            "\n"
          ],
          "name": "stdout"
        },
        {
          "output_type": "stream",
          "text": [
            "18-01-2020:03:18:18,937 INFO     [classes.py:207] 30.00 fps, 30 frames, 1.00 seconds\n",
            "18-01-2020:03:18:18,942 INFO     [classes.py:323] Deleted pre-existing output/video_output.mp4\n",
            "18-01-2020:03:19:05,948 INFO     [classes.py:307] Completed analysis: saved to output/video_output.mp4\n"
          ],
          "name": "stderr"
        },
        {
          "output_type": "stream",
          "text": [
            "./Finalised/User_8/run_6/video.mp4\n",
            "[MoviePy] >>>> Building video video.mp4\n",
            "[MoviePy] Writing audio in videoTEMP_MPY_wvf_snd.mp4\n"
          ],
          "name": "stdout"
        },
        {
          "output_type": "stream",
          "text": [
            "100%|██████████| 23/23 [00:00<00:00, 356.31it/s]"
          ],
          "name": "stderr"
        },
        {
          "output_type": "stream",
          "text": [
            "[MoviePy] Done.\n",
            "[MoviePy] Writing video video.mp4\n"
          ],
          "name": "stdout"
        },
        {
          "output_type": "stream",
          "text": [
            "\n",
            " 97%|█████████▋| 30/31 [00:03<00:00,  8.17it/s]\n"
          ],
          "name": "stderr"
        },
        {
          "output_type": "stream",
          "text": [
            "[MoviePy] Done.\n",
            "[MoviePy] >>>> Video ready: video.mp4 \n",
            "\n"
          ],
          "name": "stdout"
        },
        {
          "output_type": "stream",
          "text": [
            "18-01-2020:03:19:49,497 INFO     [classes.py:207] 30.00 fps, 30 frames, 1.00 seconds\n",
            "18-01-2020:03:19:49,504 INFO     [classes.py:323] Deleted pre-existing output/video_output.mp4\n",
            "18-01-2020:03:20:37,138 INFO     [classes.py:307] Completed analysis: saved to output/video_output.mp4\n"
          ],
          "name": "stderr"
        },
        {
          "output_type": "stream",
          "text": [
            "./Finalised/User_8/run_7/video.mp4\n",
            "[MoviePy] >>>> Building video video.mp4\n",
            "[MoviePy] Writing audio in videoTEMP_MPY_wvf_snd.mp4\n"
          ],
          "name": "stdout"
        },
        {
          "output_type": "stream",
          "text": [
            "100%|██████████| 23/23 [00:00<00:00, 369.78it/s]"
          ],
          "name": "stderr"
        },
        {
          "output_type": "stream",
          "text": [
            "[MoviePy] Done.\n",
            "[MoviePy] Writing video video.mp4\n"
          ],
          "name": "stdout"
        },
        {
          "output_type": "stream",
          "text": [
            "\n",
            " 97%|█████████▋| 30/31 [00:03<00:00,  8.37it/s]\n"
          ],
          "name": "stderr"
        },
        {
          "output_type": "stream",
          "text": [
            "[MoviePy] Done.\n",
            "[MoviePy] >>>> Video ready: video.mp4 \n",
            "\n"
          ],
          "name": "stdout"
        },
        {
          "output_type": "stream",
          "text": [
            "18-01-2020:03:21:21,39 INFO     [classes.py:207] 30.00 fps, 30 frames, 1.00 seconds\n",
            "18-01-2020:03:21:21,45 INFO     [classes.py:323] Deleted pre-existing output/video_output.mp4\n",
            "18-01-2020:03:22:11,424 INFO     [classes.py:307] Completed analysis: saved to output/video_output.mp4\n"
          ],
          "name": "stderr"
        },
        {
          "output_type": "stream",
          "text": [
            "./Finalised/User_8/run_8/video.mp4\n",
            "[MoviePy] >>>> Building video video.mp4\n",
            "[MoviePy] Writing audio in videoTEMP_MPY_wvf_snd.mp4\n"
          ],
          "name": "stdout"
        },
        {
          "output_type": "stream",
          "text": [
            "100%|██████████| 23/23 [00:00<00:00, 410.87it/s]"
          ],
          "name": "stderr"
        },
        {
          "output_type": "stream",
          "text": [
            "[MoviePy] Done.\n",
            "[MoviePy] Writing video video.mp4\n"
          ],
          "name": "stdout"
        },
        {
          "output_type": "stream",
          "text": [
            "\n",
            " 97%|█████████▋| 30/31 [00:03<00:00,  7.71it/s]\n"
          ],
          "name": "stderr"
        },
        {
          "output_type": "stream",
          "text": [
            "[MoviePy] Done.\n",
            "[MoviePy] >>>> Video ready: video.mp4 \n",
            "\n"
          ],
          "name": "stdout"
        },
        {
          "output_type": "stream",
          "text": [
            "18-01-2020:03:22:55,768 INFO     [classes.py:207] 30.00 fps, 30 frames, 1.00 seconds\n",
            "18-01-2020:03:22:55,776 INFO     [classes.py:323] Deleted pre-existing output/video_output.mp4\n",
            "18-01-2020:03:23:42,379 INFO     [classes.py:307] Completed analysis: saved to output/video_output.mp4\n"
          ],
          "name": "stderr"
        },
        {
          "output_type": "stream",
          "text": [
            "./Finalised/User_8/run_9/video.mp4\n",
            "[MoviePy] >>>> Building video video.mp4\n",
            "[MoviePy] Writing audio in videoTEMP_MPY_wvf_snd.mp4\n"
          ],
          "name": "stdout"
        },
        {
          "output_type": "stream",
          "text": [
            "100%|██████████| 23/23 [00:00<00:00, 367.12it/s]"
          ],
          "name": "stderr"
        },
        {
          "output_type": "stream",
          "text": [
            "[MoviePy] Done.\n",
            "[MoviePy] Writing video video.mp4\n"
          ],
          "name": "stdout"
        },
        {
          "output_type": "stream",
          "text": [
            "\n",
            " 97%|█████████▋| 30/31 [00:03<00:00,  8.69it/s]\n"
          ],
          "name": "stderr"
        },
        {
          "output_type": "stream",
          "text": [
            "[MoviePy] Done.\n",
            "[MoviePy] >>>> Video ready: video.mp4 \n",
            "\n"
          ],
          "name": "stdout"
        },
        {
          "output_type": "stream",
          "text": [
            "18-01-2020:03:24:26,535 INFO     [classes.py:207] 30.00 fps, 30 frames, 1.00 seconds\n",
            "18-01-2020:03:24:26,544 INFO     [classes.py:323] Deleted pre-existing output/video_output.mp4\n",
            "18-01-2020:03:25:13,920 INFO     [classes.py:307] Completed analysis: saved to output/video_output.mp4\n"
          ],
          "name": "stderr"
        },
        {
          "output_type": "stream",
          "text": [
            "./Finalised/User_9/run_0/video.mp4\n",
            "[MoviePy] >>>> Building video video.mp4\n",
            "[MoviePy] Writing audio in videoTEMP_MPY_wvf_snd.mp4\n"
          ],
          "name": "stdout"
        },
        {
          "output_type": "stream",
          "text": [
            "100%|██████████| 23/23 [00:00<00:00, 378.57it/s]"
          ],
          "name": "stderr"
        },
        {
          "output_type": "stream",
          "text": [
            "[MoviePy] Done.\n",
            "[MoviePy] Writing video video.mp4\n"
          ],
          "name": "stdout"
        },
        {
          "output_type": "stream",
          "text": [
            "\n",
            " 97%|█████████▋| 30/31 [00:03<00:00,  8.30it/s]\n"
          ],
          "name": "stderr"
        },
        {
          "output_type": "stream",
          "text": [
            "[MoviePy] Done.\n",
            "[MoviePy] >>>> Video ready: video.mp4 \n",
            "\n"
          ],
          "name": "stdout"
        },
        {
          "output_type": "stream",
          "text": [
            "18-01-2020:03:25:58,200 INFO     [classes.py:207] 30.00 fps, 30 frames, 1.00 seconds\n",
            "18-01-2020:03:25:58,205 INFO     [classes.py:323] Deleted pre-existing output/video_output.mp4\n",
            "18-01-2020:03:26:47,209 INFO     [classes.py:307] Completed analysis: saved to output/video_output.mp4\n"
          ],
          "name": "stderr"
        },
        {
          "output_type": "stream",
          "text": [
            "./Finalised/User_9/run_1/video.mp4\n",
            "[MoviePy] >>>> Building video video.mp4\n",
            "[MoviePy] Writing audio in videoTEMP_MPY_wvf_snd.mp4\n"
          ],
          "name": "stdout"
        },
        {
          "output_type": "stream",
          "text": [
            "100%|██████████| 23/23 [00:00<00:00, 369.06it/s]"
          ],
          "name": "stderr"
        },
        {
          "output_type": "stream",
          "text": [
            "[MoviePy] Done.\n",
            "[MoviePy] Writing video video.mp4\n"
          ],
          "name": "stdout"
        },
        {
          "output_type": "stream",
          "text": [
            "\n",
            " 97%|█████████▋| 30/31 [00:03<00:00,  7.99it/s]\n"
          ],
          "name": "stderr"
        },
        {
          "output_type": "stream",
          "text": [
            "[MoviePy] Done.\n",
            "[MoviePy] >>>> Video ready: video.mp4 \n",
            "\n"
          ],
          "name": "stdout"
        },
        {
          "output_type": "stream",
          "text": [
            "18-01-2020:03:27:31,681 INFO     [classes.py:207] 30.00 fps, 30 frames, 1.00 seconds\n",
            "18-01-2020:03:27:31,686 INFO     [classes.py:323] Deleted pre-existing output/video_output.mp4\n",
            "18-01-2020:03:28:21,82 INFO     [classes.py:307] Completed analysis: saved to output/video_output.mp4\n"
          ],
          "name": "stderr"
        },
        {
          "output_type": "stream",
          "text": [
            "./Finalised/User_9/run_2/video.mp4\n",
            "[MoviePy] >>>> Building video video.mp4\n",
            "[MoviePy] Writing audio in videoTEMP_MPY_wvf_snd.mp4\n"
          ],
          "name": "stdout"
        },
        {
          "output_type": "stream",
          "text": [
            "100%|██████████| 23/23 [00:00<00:00, 372.61it/s]"
          ],
          "name": "stderr"
        },
        {
          "output_type": "stream",
          "text": [
            "[MoviePy] Done.\n",
            "[MoviePy] Writing video video.mp4\n"
          ],
          "name": "stdout"
        },
        {
          "output_type": "stream",
          "text": [
            "\n",
            " 97%|█████████▋| 30/31 [00:03<00:00,  7.91it/s]\n"
          ],
          "name": "stderr"
        },
        {
          "output_type": "stream",
          "text": [
            "[MoviePy] Done.\n",
            "[MoviePy] >>>> Video ready: video.mp4 \n",
            "\n"
          ],
          "name": "stdout"
        },
        {
          "output_type": "stream",
          "text": [
            "18-01-2020:03:29:05,476 INFO     [classes.py:207] 30.00 fps, 30 frames, 1.00 seconds\n",
            "18-01-2020:03:29:05,484 INFO     [classes.py:323] Deleted pre-existing output/video_output.mp4\n",
            "18-01-2020:03:29:59,311 INFO     [classes.py:307] Completed analysis: saved to output/video_output.mp4\n"
          ],
          "name": "stderr"
        },
        {
          "output_type": "stream",
          "text": [
            "./Finalised/User_9/run_3/video.mp4\n",
            "[MoviePy] >>>> Building video video.mp4\n",
            "[MoviePy] Writing audio in videoTEMP_MPY_wvf_snd.mp4\n"
          ],
          "name": "stdout"
        },
        {
          "output_type": "stream",
          "text": [
            "100%|██████████| 23/23 [00:00<00:00, 421.76it/s]"
          ],
          "name": "stderr"
        },
        {
          "output_type": "stream",
          "text": [
            "[MoviePy] Done.\n",
            "[MoviePy] Writing video video.mp4\n"
          ],
          "name": "stdout"
        },
        {
          "output_type": "stream",
          "text": [
            "\n",
            " 97%|█████████▋| 30/31 [00:03<00:00,  8.76it/s]\n"
          ],
          "name": "stderr"
        },
        {
          "output_type": "stream",
          "text": [
            "[MoviePy] Done.\n",
            "[MoviePy] >>>> Video ready: video.mp4 \n",
            "\n"
          ],
          "name": "stdout"
        },
        {
          "output_type": "stream",
          "text": [
            "18-01-2020:03:30:43,828 INFO     [classes.py:207] 30.00 fps, 30 frames, 1.00 seconds\n",
            "18-01-2020:03:30:43,832 INFO     [classes.py:323] Deleted pre-existing output/video_output.mp4\n",
            "18-01-2020:03:31:30,26 INFO     [classes.py:307] Completed analysis: saved to output/video_output.mp4\n"
          ],
          "name": "stderr"
        },
        {
          "output_type": "stream",
          "text": [
            "./Finalised/User_9/run_4/video.mp4\n",
            "[MoviePy] >>>> Building video video.mp4\n",
            "[MoviePy] Writing audio in videoTEMP_MPY_wvf_snd.mp4\n"
          ],
          "name": "stdout"
        },
        {
          "output_type": "stream",
          "text": [
            "100%|██████████| 23/23 [00:00<00:00, 370.47it/s]"
          ],
          "name": "stderr"
        },
        {
          "output_type": "stream",
          "text": [
            "[MoviePy] Done.\n",
            "[MoviePy] Writing video video.mp4\n"
          ],
          "name": "stdout"
        },
        {
          "output_type": "stream",
          "text": [
            "\n",
            " 97%|█████████▋| 30/31 [00:03<00:00,  8.37it/s]\n"
          ],
          "name": "stderr"
        },
        {
          "output_type": "stream",
          "text": [
            "[MoviePy] Done.\n",
            "[MoviePy] >>>> Video ready: video.mp4 \n",
            "\n"
          ],
          "name": "stdout"
        },
        {
          "output_type": "stream",
          "text": [
            "18-01-2020:03:32:15,223 INFO     [classes.py:207] 30.00 fps, 30 frames, 1.00 seconds\n",
            "18-01-2020:03:32:15,229 INFO     [classes.py:323] Deleted pre-existing output/video_output.mp4\n",
            "18-01-2020:03:33:01,693 INFO     [classes.py:307] Completed analysis: saved to output/video_output.mp4\n"
          ],
          "name": "stderr"
        },
        {
          "output_type": "stream",
          "text": [
            "./Finalised/User_9/run_5/video.mp4\n",
            "[MoviePy] >>>> Building video video.mp4\n",
            "[MoviePy] Writing audio in videoTEMP_MPY_wvf_snd.mp4\n"
          ],
          "name": "stdout"
        },
        {
          "output_type": "stream",
          "text": [
            "100%|██████████| 23/23 [00:00<00:00, 392.80it/s]"
          ],
          "name": "stderr"
        },
        {
          "output_type": "stream",
          "text": [
            "[MoviePy] Done.\n",
            "[MoviePy] Writing video video.mp4\n"
          ],
          "name": "stdout"
        },
        {
          "output_type": "stream",
          "text": [
            "\n",
            " 97%|█████████▋| 30/31 [00:03<00:00,  8.69it/s]\n"
          ],
          "name": "stderr"
        },
        {
          "output_type": "stream",
          "text": [
            "[MoviePy] Done.\n",
            "[MoviePy] >>>> Video ready: video.mp4 \n",
            "\n"
          ],
          "name": "stdout"
        },
        {
          "output_type": "stream",
          "text": [
            "18-01-2020:03:33:47,120 INFO     [classes.py:207] 30.00 fps, 30 frames, 1.00 seconds\n",
            "18-01-2020:03:33:47,124 INFO     [classes.py:323] Deleted pre-existing output/video_output.mp4\n",
            "18-01-2020:03:34:33,394 INFO     [classes.py:307] Completed analysis: saved to output/video_output.mp4\n"
          ],
          "name": "stderr"
        },
        {
          "output_type": "stream",
          "text": [
            "./Finalised/User_9/run_6/video.mp4\n",
            "[MoviePy] >>>> Building video video.mp4\n",
            "[MoviePy] Writing audio in videoTEMP_MPY_wvf_snd.mp4\n"
          ],
          "name": "stdout"
        },
        {
          "output_type": "stream",
          "text": [
            "100%|██████████| 23/23 [00:00<00:00, 393.42it/s]"
          ],
          "name": "stderr"
        },
        {
          "output_type": "stream",
          "text": [
            "[MoviePy] Done.\n",
            "[MoviePy] Writing video video.mp4\n"
          ],
          "name": "stdout"
        },
        {
          "output_type": "stream",
          "text": [
            "\n",
            " 97%|█████████▋| 30/31 [00:03<00:00,  8.64it/s]\n"
          ],
          "name": "stderr"
        },
        {
          "output_type": "stream",
          "text": [
            "[MoviePy] Done.\n",
            "[MoviePy] >>>> Video ready: video.mp4 \n",
            "\n"
          ],
          "name": "stdout"
        },
        {
          "output_type": "stream",
          "text": [
            "18-01-2020:03:35:18,471 INFO     [classes.py:207] 30.00 fps, 30 frames, 1.00 seconds\n",
            "18-01-2020:03:35:18,476 INFO     [classes.py:323] Deleted pre-existing output/video_output.mp4\n",
            "18-01-2020:03:36:05,142 INFO     [classes.py:307] Completed analysis: saved to output/video_output.mp4\n"
          ],
          "name": "stderr"
        },
        {
          "output_type": "stream",
          "text": [
            "./Finalised/User_9/run_7/video.mp4\n",
            "[MoviePy] >>>> Building video video.mp4\n",
            "[MoviePy] Writing audio in videoTEMP_MPY_wvf_snd.mp4\n"
          ],
          "name": "stdout"
        },
        {
          "output_type": "stream",
          "text": [
            "100%|██████████| 23/23 [00:00<00:00, 362.82it/s]"
          ],
          "name": "stderr"
        },
        {
          "output_type": "stream",
          "text": [
            "[MoviePy] Done.\n",
            "[MoviePy] Writing video video.mp4\n"
          ],
          "name": "stdout"
        },
        {
          "output_type": "stream",
          "text": [
            "\n",
            " 97%|█████████▋| 30/31 [00:03<00:00,  8.42it/s]\n"
          ],
          "name": "stderr"
        },
        {
          "output_type": "stream",
          "text": [
            "[MoviePy] Done.\n",
            "[MoviePy] >>>> Video ready: video.mp4 \n",
            "\n"
          ],
          "name": "stdout"
        },
        {
          "output_type": "stream",
          "text": [
            "18-01-2020:03:36:50,310 INFO     [classes.py:207] 30.00 fps, 30 frames, 1.00 seconds\n",
            "18-01-2020:03:36:50,318 INFO     [classes.py:323] Deleted pre-existing output/video_output.mp4\n",
            "18-01-2020:03:37:37,80 INFO     [classes.py:307] Completed analysis: saved to output/video_output.mp4\n"
          ],
          "name": "stderr"
        },
        {
          "output_type": "stream",
          "text": [
            "./Finalised/User_10/run_0/video.mp4\n",
            "[MoviePy] >>>> Building video video.mp4\n",
            "[MoviePy] Writing audio in videoTEMP_MPY_wvf_snd.mp4\n"
          ],
          "name": "stdout"
        },
        {
          "output_type": "stream",
          "text": [
            "100%|██████████| 23/23 [00:00<00:00, 383.92it/s]"
          ],
          "name": "stderr"
        },
        {
          "output_type": "stream",
          "text": [
            "[MoviePy] Done.\n",
            "[MoviePy] Writing video video.mp4\n"
          ],
          "name": "stdout"
        },
        {
          "output_type": "stream",
          "text": [
            "\n",
            " 97%|█████████▋| 30/31 [00:03<00:00,  8.72it/s]\n"
          ],
          "name": "stderr"
        },
        {
          "output_type": "stream",
          "text": [
            "[MoviePy] Done.\n",
            "[MoviePy] >>>> Video ready: video.mp4 \n",
            "\n"
          ],
          "name": "stdout"
        },
        {
          "output_type": "stream",
          "text": [
            "18-01-2020:03:38:17,446 INFO     [classes.py:207] 30.00 fps, 30 frames, 1.00 seconds\n",
            "18-01-2020:03:38:17,451 INFO     [classes.py:323] Deleted pre-existing output/video_output.mp4\n",
            "18-01-2020:03:39:07,665 INFO     [classes.py:307] Completed analysis: saved to output/video_output.mp4\n"
          ],
          "name": "stderr"
        },
        {
          "output_type": "stream",
          "text": [
            "./Finalised/User_10/run_1/video.mp4\n",
            "[MoviePy] >>>> Building video video.mp4\n",
            "[MoviePy] Writing audio in videoTEMP_MPY_wvf_snd.mp4\n"
          ],
          "name": "stdout"
        },
        {
          "output_type": "stream",
          "text": [
            "100%|██████████| 23/23 [00:00<00:00, 347.23it/s]"
          ],
          "name": "stderr"
        },
        {
          "output_type": "stream",
          "text": [
            "[MoviePy] Done.\n",
            "[MoviePy] Writing video video.mp4\n"
          ],
          "name": "stdout"
        },
        {
          "output_type": "stream",
          "text": [
            "\n",
            " 97%|█████████▋| 30/31 [00:03<00:00,  9.27it/s]\n"
          ],
          "name": "stderr"
        },
        {
          "output_type": "stream",
          "text": [
            "[MoviePy] Done.\n",
            "[MoviePy] >>>> Video ready: video.mp4 \n",
            "\n"
          ],
          "name": "stdout"
        },
        {
          "output_type": "stream",
          "text": [
            "18-01-2020:03:39:47,126 INFO     [classes.py:207] 30.00 fps, 30 frames, 1.00 seconds\n",
            "18-01-2020:03:39:47,133 INFO     [classes.py:323] Deleted pre-existing output/video_output.mp4\n",
            "18-01-2020:03:40:36,255 INFO     [classes.py:307] Completed analysis: saved to output/video_output.mp4\n"
          ],
          "name": "stderr"
        },
        {
          "output_type": "stream",
          "text": [
            "./Finalised/User_10/run_2/video.mp4\n",
            "[MoviePy] >>>> Building video video.mp4\n",
            "[MoviePy] Writing audio in videoTEMP_MPY_wvf_snd.mp4\n"
          ],
          "name": "stdout"
        },
        {
          "output_type": "stream",
          "text": [
            "100%|██████████| 23/23 [00:00<00:00, 401.65it/s]"
          ],
          "name": "stderr"
        },
        {
          "output_type": "stream",
          "text": [
            "[MoviePy] Done.\n",
            "[MoviePy] Writing video video.mp4\n"
          ],
          "name": "stdout"
        },
        {
          "output_type": "stream",
          "text": [
            "\n",
            " 97%|█████████▋| 30/31 [00:03<00:00,  9.23it/s]\n"
          ],
          "name": "stderr"
        },
        {
          "output_type": "stream",
          "text": [
            "[MoviePy] Done.\n",
            "[MoviePy] >>>> Video ready: video.mp4 \n",
            "\n"
          ],
          "name": "stdout"
        },
        {
          "output_type": "stream",
          "text": [
            "18-01-2020:03:41:15,867 INFO     [classes.py:207] 30.00 fps, 30 frames, 1.00 seconds\n",
            "18-01-2020:03:41:15,872 INFO     [classes.py:323] Deleted pre-existing output/video_output.mp4\n",
            "18-01-2020:03:42:05,728 INFO     [classes.py:307] Completed analysis: saved to output/video_output.mp4\n"
          ],
          "name": "stderr"
        },
        {
          "output_type": "stream",
          "text": [
            "./Finalised/User_10/run_3/video.mp4\n",
            "[MoviePy] >>>> Building video video.mp4\n",
            "[MoviePy] Writing audio in videoTEMP_MPY_wvf_snd.mp4\n"
          ],
          "name": "stdout"
        },
        {
          "output_type": "stream",
          "text": [
            "100%|██████████| 23/23 [00:00<00:00, 387.01it/s]"
          ],
          "name": "stderr"
        },
        {
          "output_type": "stream",
          "text": [
            "[MoviePy] Done.\n",
            "[MoviePy] Writing video video.mp4\n"
          ],
          "name": "stdout"
        },
        {
          "output_type": "stream",
          "text": [
            "\n",
            " 97%|█████████▋| 30/31 [00:03<00:00,  8.94it/s]\n"
          ],
          "name": "stderr"
        },
        {
          "output_type": "stream",
          "text": [
            "[MoviePy] Done.\n",
            "[MoviePy] >>>> Video ready: video.mp4 \n",
            "\n"
          ],
          "name": "stdout"
        },
        {
          "output_type": "stream",
          "text": [
            "18-01-2020:03:42:45,656 INFO     [classes.py:207] 30.00 fps, 30 frames, 1.00 seconds\n",
            "18-01-2020:03:42:45,665 INFO     [classes.py:323] Deleted pre-existing output/video_output.mp4\n",
            "18-01-2020:03:43:35,381 INFO     [classes.py:307] Completed analysis: saved to output/video_output.mp4\n"
          ],
          "name": "stderr"
        },
        {
          "output_type": "stream",
          "text": [
            "./Finalised/User_10/run_4/video.mp4\n",
            "[MoviePy] >>>> Building video video.mp4\n",
            "[MoviePy] Writing audio in videoTEMP_MPY_wvf_snd.mp4\n"
          ],
          "name": "stdout"
        },
        {
          "output_type": "stream",
          "text": [
            "100%|██████████| 23/23 [00:00<00:00, 368.80it/s]"
          ],
          "name": "stderr"
        },
        {
          "output_type": "stream",
          "text": [
            "[MoviePy] Done.\n",
            "[MoviePy] Writing video video.mp4\n"
          ],
          "name": "stdout"
        },
        {
          "output_type": "stream",
          "text": [
            "\n",
            " 97%|█████████▋| 30/31 [00:03<00:00,  9.04it/s]\n"
          ],
          "name": "stderr"
        },
        {
          "output_type": "stream",
          "text": [
            "[MoviePy] Done.\n",
            "[MoviePy] >>>> Video ready: video.mp4 \n",
            "\n"
          ],
          "name": "stdout"
        },
        {
          "output_type": "stream",
          "text": [
            "18-01-2020:03:44:16,419 INFO     [classes.py:207] 30.00 fps, 30 frames, 1.00 seconds\n",
            "18-01-2020:03:44:16,426 INFO     [classes.py:323] Deleted pre-existing output/video_output.mp4\n",
            "18-01-2020:03:45:07,709 INFO     [classes.py:307] Completed analysis: saved to output/video_output.mp4\n"
          ],
          "name": "stderr"
        },
        {
          "output_type": "stream",
          "text": [
            "./Finalised/User_10/run_5/video.mp4\n",
            "[MoviePy] >>>> Building video video.mp4\n",
            "[MoviePy] Writing audio in videoTEMP_MPY_wvf_snd.mp4\n"
          ],
          "name": "stdout"
        },
        {
          "output_type": "stream",
          "text": [
            "100%|██████████| 23/23 [00:00<00:00, 393.88it/s]"
          ],
          "name": "stderr"
        },
        {
          "output_type": "stream",
          "text": [
            "[MoviePy] Done.\n",
            "[MoviePy] Writing video video.mp4\n"
          ],
          "name": "stdout"
        },
        {
          "output_type": "stream",
          "text": [
            "\n",
            " 97%|█████████▋| 30/31 [00:03<00:00,  7.86it/s]\n"
          ],
          "name": "stderr"
        },
        {
          "output_type": "stream",
          "text": [
            "[MoviePy] Done.\n",
            "[MoviePy] >>>> Video ready: video.mp4 \n",
            "\n"
          ],
          "name": "stdout"
        },
        {
          "output_type": "stream",
          "text": [
            "18-01-2020:03:45:47,765 INFO     [classes.py:207] 30.00 fps, 30 frames, 1.00 seconds\n",
            "18-01-2020:03:45:47,773 INFO     [classes.py:323] Deleted pre-existing output/video_output.mp4\n",
            "18-01-2020:03:46:35,862 INFO     [classes.py:307] Completed analysis: saved to output/video_output.mp4\n"
          ],
          "name": "stderr"
        },
        {
          "output_type": "stream",
          "text": [
            "./Finalised/User_10/run_6/video.mp4\n",
            "[MoviePy] >>>> Building video video.mp4\n",
            "[MoviePy] Writing audio in videoTEMP_MPY_wvf_snd.mp4\n"
          ],
          "name": "stdout"
        },
        {
          "output_type": "stream",
          "text": [
            "100%|██████████| 23/23 [00:00<00:00, 372.16it/s]"
          ],
          "name": "stderr"
        },
        {
          "output_type": "stream",
          "text": [
            "[MoviePy] Done.\n",
            "[MoviePy] Writing video video.mp4\n"
          ],
          "name": "stdout"
        },
        {
          "output_type": "stream",
          "text": [
            "\n",
            " 97%|█████████▋| 30/31 [00:03<00:00,  9.07it/s]\n"
          ],
          "name": "stderr"
        },
        {
          "output_type": "stream",
          "text": [
            "[MoviePy] Done.\n",
            "[MoviePy] >>>> Video ready: video.mp4 \n",
            "\n"
          ],
          "name": "stdout"
        },
        {
          "output_type": "stream",
          "text": [
            "18-01-2020:03:47:16,49 INFO     [classes.py:207] 30.00 fps, 30 frames, 1.00 seconds\n",
            "18-01-2020:03:47:16,57 INFO     [classes.py:323] Deleted pre-existing output/video_output.mp4\n",
            "18-01-2020:03:48:06,242 INFO     [classes.py:307] Completed analysis: saved to output/video_output.mp4\n"
          ],
          "name": "stderr"
        },
        {
          "output_type": "stream",
          "text": [
            "./Finalised/User_10/run_7/video.mp4\n",
            "[MoviePy] >>>> Building video video.mp4\n",
            "[MoviePy] Writing audio in videoTEMP_MPY_wvf_snd.mp4\n"
          ],
          "name": "stdout"
        },
        {
          "output_type": "stream",
          "text": [
            "100%|██████████| 23/23 [00:00<00:00, 370.11it/s]"
          ],
          "name": "stderr"
        },
        {
          "output_type": "stream",
          "text": [
            "[MoviePy] Done.\n",
            "[MoviePy] Writing video video.mp4\n"
          ],
          "name": "stdout"
        },
        {
          "output_type": "stream",
          "text": [
            "\n",
            " 97%|█████████▋| 30/31 [00:03<00:00,  8.53it/s]\n"
          ],
          "name": "stderr"
        },
        {
          "output_type": "stream",
          "text": [
            "[MoviePy] Done.\n",
            "[MoviePy] >>>> Video ready: video.mp4 \n",
            "\n"
          ],
          "name": "stdout"
        },
        {
          "output_type": "stream",
          "text": [
            "18-01-2020:03:48:47,39 INFO     [classes.py:207] 30.00 fps, 30 frames, 1.00 seconds\n",
            "18-01-2020:03:48:47,44 INFO     [classes.py:323] Deleted pre-existing output/video_output.mp4\n",
            "18-01-2020:03:49:38,204 INFO     [classes.py:307] Completed analysis: saved to output/video_output.mp4\n"
          ],
          "name": "stderr"
        },
        {
          "output_type": "stream",
          "text": [
            "./Finalised/User_10/run_8/video.mp4\n",
            "[MoviePy] >>>> Building video video.mp4\n",
            "[MoviePy] Writing audio in videoTEMP_MPY_wvf_snd.mp4\n"
          ],
          "name": "stdout"
        },
        {
          "output_type": "stream",
          "text": [
            "100%|██████████| 23/23 [00:00<00:00, 377.75it/s]"
          ],
          "name": "stderr"
        },
        {
          "output_type": "stream",
          "text": [
            "[MoviePy] Done.\n",
            "[MoviePy] Writing video video.mp4\n"
          ],
          "name": "stdout"
        },
        {
          "output_type": "stream",
          "text": [
            "\n",
            " 97%|█████████▋| 30/31 [00:03<00:00,  9.00it/s]\n"
          ],
          "name": "stderr"
        },
        {
          "output_type": "stream",
          "text": [
            "[MoviePy] Done.\n",
            "[MoviePy] >>>> Video ready: video.mp4 \n",
            "\n"
          ],
          "name": "stdout"
        },
        {
          "output_type": "stream",
          "text": [
            "18-01-2020:03:50:18,913 INFO     [classes.py:207] 30.00 fps, 30 frames, 1.00 seconds\n",
            "18-01-2020:03:50:18,918 INFO     [classes.py:323] Deleted pre-existing output/video_output.mp4\n",
            "18-01-2020:03:51:08,147 INFO     [classes.py:307] Completed analysis: saved to output/video_output.mp4\n"
          ],
          "name": "stderr"
        },
        {
          "output_type": "stream",
          "text": [
            "./Finalised/User_11/run_0/video.mp4\n",
            "[MoviePy] >>>> Building video video.mp4\n",
            "[MoviePy] Writing audio in videoTEMP_MPY_wvf_snd.mp4\n"
          ],
          "name": "stdout"
        },
        {
          "output_type": "stream",
          "text": [
            "100%|██████████| 23/23 [00:00<00:00, 369.01it/s]"
          ],
          "name": "stderr"
        },
        {
          "output_type": "stream",
          "text": [
            "[MoviePy] Done.\n",
            "[MoviePy] Writing video video.mp4\n"
          ],
          "name": "stdout"
        },
        {
          "output_type": "stream",
          "text": [
            "\n",
            " 97%|█████████▋| 30/31 [00:03<00:00,  7.95it/s]\n"
          ],
          "name": "stderr"
        },
        {
          "output_type": "stream",
          "text": [
            "[MoviePy] Done.\n",
            "[MoviePy] >>>> Video ready: video.mp4 \n",
            "\n"
          ],
          "name": "stdout"
        },
        {
          "output_type": "stream",
          "text": [
            "18-01-2020:03:51:49,209 INFO     [classes.py:207] 30.00 fps, 30 frames, 1.00 seconds\n",
            "18-01-2020:03:51:49,216 INFO     [classes.py:323] Deleted pre-existing output/video_output.mp4\n",
            "18-01-2020:03:52:40,777 INFO     [classes.py:307] Completed analysis: saved to output/video_output.mp4\n"
          ],
          "name": "stderr"
        },
        {
          "output_type": "stream",
          "text": [
            "./Finalised/User_11/run_1/video.mp4\n",
            "[MoviePy] >>>> Building video video.mp4\n",
            "[MoviePy] Writing audio in videoTEMP_MPY_wvf_snd.mp4\n"
          ],
          "name": "stdout"
        },
        {
          "output_type": "stream",
          "text": [
            "100%|██████████| 23/23 [00:00<00:00, 376.72it/s]"
          ],
          "name": "stderr"
        },
        {
          "output_type": "stream",
          "text": [
            "[MoviePy] Done.\n",
            "[MoviePy] Writing video video.mp4\n"
          ],
          "name": "stdout"
        },
        {
          "output_type": "stream",
          "text": [
            "\n",
            " 97%|█████████▋| 30/31 [00:03<00:00,  8.41it/s]\n"
          ],
          "name": "stderr"
        },
        {
          "output_type": "stream",
          "text": [
            "[MoviePy] Done.\n",
            "[MoviePy] >>>> Video ready: video.mp4 \n",
            "\n"
          ],
          "name": "stdout"
        },
        {
          "output_type": "stream",
          "text": [
            "18-01-2020:03:53:21,711 INFO     [classes.py:207] 30.00 fps, 30 frames, 1.00 seconds\n",
            "18-01-2020:03:53:21,719 INFO     [classes.py:323] Deleted pre-existing output/video_output.mp4\n",
            "18-01-2020:03:54:14,56 INFO     [classes.py:307] Completed analysis: saved to output/video_output.mp4\n"
          ],
          "name": "stderr"
        },
        {
          "output_type": "stream",
          "text": [
            "./Finalised/User_11/run_2/video.mp4\n",
            "[MoviePy] >>>> Building video video.mp4\n",
            "[MoviePy] Writing audio in videoTEMP_MPY_wvf_snd.mp4\n"
          ],
          "name": "stdout"
        },
        {
          "output_type": "stream",
          "text": [
            "100%|██████████| 23/23 [00:00<00:00, 399.53it/s]"
          ],
          "name": "stderr"
        },
        {
          "output_type": "stream",
          "text": [
            "[MoviePy] Done.\n",
            "[MoviePy] Writing video video.mp4\n"
          ],
          "name": "stdout"
        },
        {
          "output_type": "stream",
          "text": [
            "\n",
            " 97%|█████████▋| 30/31 [00:03<00:00,  8.70it/s]\n"
          ],
          "name": "stderr"
        },
        {
          "output_type": "stream",
          "text": [
            "[MoviePy] Done.\n",
            "[MoviePy] >>>> Video ready: video.mp4 \n",
            "\n"
          ],
          "name": "stdout"
        },
        {
          "output_type": "stream",
          "text": [
            "18-01-2020:03:54:54,897 INFO     [classes.py:207] 30.00 fps, 30 frames, 1.00 seconds\n",
            "18-01-2020:03:54:54,902 INFO     [classes.py:323] Deleted pre-existing output/video_output.mp4\n",
            "18-01-2020:03:55:44,569 INFO     [classes.py:307] Completed analysis: saved to output/video_output.mp4\n"
          ],
          "name": "stderr"
        },
        {
          "output_type": "stream",
          "text": [
            "./Finalised/User_11/run_3/video.mp4\n",
            "[MoviePy] >>>> Building video video.mp4\n",
            "[MoviePy] Writing audio in videoTEMP_MPY_wvf_snd.mp4\n"
          ],
          "name": "stdout"
        },
        {
          "output_type": "stream",
          "text": [
            "100%|██████████| 23/23 [00:00<00:00, 379.36it/s]"
          ],
          "name": "stderr"
        },
        {
          "output_type": "stream",
          "text": [
            "[MoviePy] Done.\n",
            "[MoviePy] Writing video video.mp4\n"
          ],
          "name": "stdout"
        },
        {
          "output_type": "stream",
          "text": [
            "\n",
            " 97%|█████████▋| 30/31 [00:03<00:00,  8.20it/s]\n"
          ],
          "name": "stderr"
        },
        {
          "output_type": "stream",
          "text": [
            "[MoviePy] Done.\n",
            "[MoviePy] >>>> Video ready: video.mp4 \n",
            "\n"
          ],
          "name": "stdout"
        },
        {
          "output_type": "stream",
          "text": [
            "18-01-2020:03:56:25,857 INFO     [classes.py:207] 30.00 fps, 30 frames, 1.00 seconds\n",
            "18-01-2020:03:56:25,866 INFO     [classes.py:323] Deleted pre-existing output/video_output.mp4\n",
            "18-01-2020:03:57:14,810 INFO     [classes.py:307] Completed analysis: saved to output/video_output.mp4\n"
          ],
          "name": "stderr"
        },
        {
          "output_type": "stream",
          "text": [
            "./Finalised/User_11/run_4/video.mp4\n",
            "[MoviePy] >>>> Building video video.mp4\n",
            "[MoviePy] Writing audio in videoTEMP_MPY_wvf_snd.mp4\n"
          ],
          "name": "stdout"
        },
        {
          "output_type": "stream",
          "text": [
            "100%|██████████| 23/23 [00:00<00:00, 372.00it/s]"
          ],
          "name": "stderr"
        },
        {
          "output_type": "stream",
          "text": [
            "[MoviePy] Done.\n",
            "[MoviePy] Writing video video.mp4\n"
          ],
          "name": "stdout"
        },
        {
          "output_type": "stream",
          "text": [
            "\n",
            " 97%|█████████▋| 30/31 [00:03<00:00,  9.30it/s]\n"
          ],
          "name": "stderr"
        },
        {
          "output_type": "stream",
          "text": [
            "[MoviePy] Done.\n",
            "[MoviePy] >>>> Video ready: video.mp4 \n",
            "\n"
          ],
          "name": "stdout"
        },
        {
          "output_type": "stream",
          "text": [
            "18-01-2020:03:57:55,981 INFO     [classes.py:207] 30.00 fps, 30 frames, 1.00 seconds\n",
            "18-01-2020:03:57:55,987 INFO     [classes.py:323] Deleted pre-existing output/video_output.mp4\n",
            "18-01-2020:03:58:46,264 INFO     [classes.py:307] Completed analysis: saved to output/video_output.mp4\n"
          ],
          "name": "stderr"
        },
        {
          "output_type": "stream",
          "text": [
            "./Finalised/User_11/run_5/video.mp4\n",
            "[MoviePy] >>>> Building video video.mp4\n",
            "[MoviePy] Writing audio in videoTEMP_MPY_wvf_snd.mp4\n"
          ],
          "name": "stdout"
        },
        {
          "output_type": "stream",
          "text": [
            "100%|██████████| 23/23 [00:00<00:00, 408.10it/s]"
          ],
          "name": "stderr"
        },
        {
          "output_type": "stream",
          "text": [
            "[MoviePy] Done.\n",
            "[MoviePy] Writing video video.mp4\n"
          ],
          "name": "stdout"
        },
        {
          "output_type": "stream",
          "text": [
            "\n",
            " 97%|█████████▋| 30/31 [00:03<00:00,  8.25it/s]\n"
          ],
          "name": "stderr"
        },
        {
          "output_type": "stream",
          "text": [
            "[MoviePy] Done.\n",
            "[MoviePy] >>>> Video ready: video.mp4 \n",
            "\n"
          ],
          "name": "stdout"
        },
        {
          "output_type": "stream",
          "text": [
            "18-01-2020:03:59:28,40 INFO     [classes.py:207] 30.00 fps, 30 frames, 1.00 seconds\n",
            "18-01-2020:03:59:28,46 INFO     [classes.py:323] Deleted pre-existing output/video_output.mp4\n",
            "18-01-2020:04:00:21,460 INFO     [classes.py:307] Completed analysis: saved to output/video_output.mp4\n"
          ],
          "name": "stderr"
        },
        {
          "output_type": "stream",
          "text": [
            "./Finalised/User_11/run_6/video.mp4\n",
            "[MoviePy] >>>> Building video video.mp4\n",
            "[MoviePy] Writing audio in videoTEMP_MPY_wvf_snd.mp4\n"
          ],
          "name": "stdout"
        },
        {
          "output_type": "stream",
          "text": [
            "100%|██████████| 23/23 [00:00<00:00, 385.65it/s]"
          ],
          "name": "stderr"
        },
        {
          "output_type": "stream",
          "text": [
            "[MoviePy] Done.\n",
            "[MoviePy] Writing video video.mp4\n"
          ],
          "name": "stdout"
        },
        {
          "output_type": "stream",
          "text": [
            "\n",
            " 97%|█████████▋| 30/31 [00:03<00:00,  8.18it/s]\n"
          ],
          "name": "stderr"
        },
        {
          "output_type": "stream",
          "text": [
            "[MoviePy] Done.\n",
            "[MoviePy] >>>> Video ready: video.mp4 \n",
            "\n"
          ],
          "name": "stdout"
        },
        {
          "output_type": "stream",
          "text": [
            "18-01-2020:04:01:03,274 INFO     [classes.py:207] 30.00 fps, 30 frames, 1.00 seconds\n",
            "18-01-2020:04:01:03,279 INFO     [classes.py:323] Deleted pre-existing output/video_output.mp4\n",
            "18-01-2020:04:01:57,365 INFO     [classes.py:307] Completed analysis: saved to output/video_output.mp4\n"
          ],
          "name": "stderr"
        },
        {
          "output_type": "stream",
          "text": [
            "./Finalised/User_11/run_7/video.mp4\n",
            "[MoviePy] >>>> Building video video.mp4\n",
            "[MoviePy] Writing audio in videoTEMP_MPY_wvf_snd.mp4\n"
          ],
          "name": "stdout"
        },
        {
          "output_type": "stream",
          "text": [
            "100%|██████████| 23/23 [00:00<00:00, 382.92it/s]"
          ],
          "name": "stderr"
        },
        {
          "output_type": "stream",
          "text": [
            "[MoviePy] Done.\n",
            "[MoviePy] Writing video video.mp4\n"
          ],
          "name": "stdout"
        },
        {
          "output_type": "stream",
          "text": [
            "\n",
            " 97%|█████████▋| 30/31 [00:03<00:00,  8.37it/s]\n"
          ],
          "name": "stderr"
        },
        {
          "output_type": "stream",
          "text": [
            "[MoviePy] Done.\n",
            "[MoviePy] >>>> Video ready: video.mp4 \n",
            "\n"
          ],
          "name": "stdout"
        },
        {
          "output_type": "stream",
          "text": [
            "18-01-2020:04:02:38,908 INFO     [classes.py:207] 30.00 fps, 30 frames, 1.00 seconds\n",
            "18-01-2020:04:02:38,918 INFO     [classes.py:323] Deleted pre-existing output/video_output.mp4\n",
            "18-01-2020:04:03:33,488 INFO     [classes.py:307] Completed analysis: saved to output/video_output.mp4\n"
          ],
          "name": "stderr"
        },
        {
          "output_type": "stream",
          "text": [
            "./Finalised/User_11/run_8/video.mp4\n",
            "[MoviePy] >>>> Building video video.mp4\n",
            "[MoviePy] Writing audio in videoTEMP_MPY_wvf_snd.mp4\n"
          ],
          "name": "stdout"
        },
        {
          "output_type": "stream",
          "text": [
            "100%|██████████| 23/23 [00:00<00:00, 406.32it/s]"
          ],
          "name": "stderr"
        },
        {
          "output_type": "stream",
          "text": [
            "[MoviePy] Done.\n",
            "[MoviePy] Writing video video.mp4\n"
          ],
          "name": "stdout"
        },
        {
          "output_type": "stream",
          "text": [
            "\n",
            " 97%|█████████▋| 30/31 [00:03<00:00,  8.16it/s]\n"
          ],
          "name": "stderr"
        },
        {
          "output_type": "stream",
          "text": [
            "[MoviePy] Done.\n",
            "[MoviePy] >>>> Video ready: video.mp4 \n",
            "\n"
          ],
          "name": "stdout"
        },
        {
          "output_type": "stream",
          "text": [
            "18-01-2020:04:04:16,506 INFO     [classes.py:207] 30.00 fps, 30 frames, 1.00 seconds\n",
            "18-01-2020:04:04:16,510 INFO     [classes.py:323] Deleted pre-existing output/video_output.mp4\n",
            "18-01-2020:04:05:06,360 INFO     [classes.py:307] Completed analysis: saved to output/video_output.mp4\n"
          ],
          "name": "stderr"
        },
        {
          "output_type": "stream",
          "text": [
            "./Finalised/User_11/run_9/video.mp4\n",
            "[MoviePy] >>>> Building video video.mp4\n",
            "[MoviePy] Writing audio in videoTEMP_MPY_wvf_snd.mp4\n"
          ],
          "name": "stdout"
        },
        {
          "output_type": "stream",
          "text": [
            "100%|██████████| 23/23 [00:00<00:00, 415.58it/s]"
          ],
          "name": "stderr"
        },
        {
          "output_type": "stream",
          "text": [
            "[MoviePy] Done.\n",
            "[MoviePy] Writing video video.mp4\n"
          ],
          "name": "stdout"
        },
        {
          "output_type": "stream",
          "text": [
            "\n",
            " 97%|█████████▋| 30/31 [00:03<00:00,  8.10it/s]\n"
          ],
          "name": "stderr"
        },
        {
          "output_type": "stream",
          "text": [
            "[MoviePy] Done.\n",
            "[MoviePy] >>>> Video ready: video.mp4 \n",
            "\n"
          ],
          "name": "stdout"
        },
        {
          "output_type": "stream",
          "text": [
            "18-01-2020:04:05:48,626 INFO     [classes.py:207] 30.00 fps, 30 frames, 1.00 seconds\n",
            "18-01-2020:04:05:48,634 INFO     [classes.py:323] Deleted pre-existing output/video_output.mp4\n",
            "18-01-2020:04:06:35,763 INFO     [classes.py:307] Completed analysis: saved to output/video_output.mp4\n"
          ],
          "name": "stderr"
        },
        {
          "output_type": "stream",
          "text": [
            "./Finalised/User_12/run_0/video.mp4\n",
            "[MoviePy] >>>> Building video video.mp4\n",
            "[MoviePy] Writing audio in videoTEMP_MPY_wvf_snd.mp4\n"
          ],
          "name": "stdout"
        },
        {
          "output_type": "stream",
          "text": [
            "100%|██████████| 23/23 [00:00<00:00, 432.48it/s]"
          ],
          "name": "stderr"
        },
        {
          "output_type": "stream",
          "text": [
            "[MoviePy] Done.\n",
            "[MoviePy] Writing video video.mp4\n"
          ],
          "name": "stdout"
        },
        {
          "output_type": "stream",
          "text": [
            "\n",
            " 97%|█████████▋| 30/31 [00:00<00:00, 67.32it/s]\n"
          ],
          "name": "stderr"
        },
        {
          "output_type": "stream",
          "text": [
            "[MoviePy] Done.\n",
            "[MoviePy] >>>> Video ready: video.mp4 \n",
            "\n"
          ],
          "name": "stdout"
        },
        {
          "output_type": "stream",
          "text": [
            "18-01-2020:04:06:59,367 INFO     [classes.py:207] 30.00 fps, 30 frames, 1.00 seconds\n",
            "18-01-2020:04:06:59,373 INFO     [classes.py:323] Deleted pre-existing output/video_output.mp4\n",
            "18-01-2020:04:07:17,390 INFO     [classes.py:307] Completed analysis: saved to output/video_output.mp4\n"
          ],
          "name": "stderr"
        },
        {
          "output_type": "stream",
          "text": [
            "./Finalised/User_12/run_1/video.mp4\n",
            "[MoviePy] >>>> Building video video.mp4\n",
            "[MoviePy] Writing audio in videoTEMP_MPY_wvf_snd.mp4\n"
          ],
          "name": "stdout"
        },
        {
          "output_type": "stream",
          "text": [
            "100%|██████████| 23/23 [00:00<00:00, 385.53it/s]"
          ],
          "name": "stderr"
        },
        {
          "output_type": "stream",
          "text": [
            "[MoviePy] Done.\n",
            "[MoviePy] Writing video video.mp4\n"
          ],
          "name": "stdout"
        },
        {
          "output_type": "stream",
          "text": [
            "\n",
            "100%|██████████| 31/31 [00:00<00:00, 66.76it/s]\n"
          ],
          "name": "stderr"
        },
        {
          "output_type": "stream",
          "text": [
            "[MoviePy] Done.\n",
            "[MoviePy] >>>> Video ready: video.mp4 \n",
            "\n"
          ],
          "name": "stdout"
        },
        {
          "output_type": "stream",
          "text": [
            "18-01-2020:04:07:40,525 INFO     [classes.py:207] 30.04 fps, 31 frames, 1.03 seconds\n",
            "18-01-2020:04:07:40,533 INFO     [classes.py:323] Deleted pre-existing output/video_output.mp4\n",
            "18-01-2020:04:07:58,877 INFO     [classes.py:307] Completed analysis: saved to output/video_output.mp4\n"
          ],
          "name": "stderr"
        },
        {
          "output_type": "stream",
          "text": [
            "./Finalised/User_12/run_2/video.mp4\n",
            "[MoviePy] >>>> Building video video.mp4\n",
            "[MoviePy] Writing audio in videoTEMP_MPY_wvf_snd.mp4\n"
          ],
          "name": "stdout"
        },
        {
          "output_type": "stream",
          "text": [
            "100%|██████████| 23/23 [00:00<00:00, 368.58it/s]"
          ],
          "name": "stderr"
        },
        {
          "output_type": "stream",
          "text": [
            "[MoviePy] Done.\n",
            "[MoviePy] Writing video video.mp4\n"
          ],
          "name": "stdout"
        },
        {
          "output_type": "stream",
          "text": [
            "\n",
            " 97%|█████████▋| 30/31 [00:00<00:00, 63.20it/s]\n"
          ],
          "name": "stderr"
        },
        {
          "output_type": "stream",
          "text": [
            "[MoviePy] Done.\n",
            "[MoviePy] >>>> Video ready: video.mp4 \n",
            "\n"
          ],
          "name": "stdout"
        },
        {
          "output_type": "stream",
          "text": [
            "18-01-2020:04:08:22,301 INFO     [classes.py:207] 30.00 fps, 30 frames, 1.00 seconds\n",
            "18-01-2020:04:08:22,316 INFO     [classes.py:323] Deleted pre-existing output/video_output.mp4\n",
            "18-01-2020:04:08:40,193 INFO     [classes.py:307] Completed analysis: saved to output/video_output.mp4\n"
          ],
          "name": "stderr"
        },
        {
          "output_type": "stream",
          "text": [
            "./Finalised/User_12/run_3/video.mp4\n",
            "[MoviePy] >>>> Building video video.mp4\n",
            "[MoviePy] Writing audio in videoTEMP_MPY_wvf_snd.mp4\n"
          ],
          "name": "stdout"
        },
        {
          "output_type": "stream",
          "text": [
            "100%|██████████| 23/23 [00:00<00:00, 375.21it/s]"
          ],
          "name": "stderr"
        },
        {
          "output_type": "stream",
          "text": [
            "[MoviePy] Done.\n",
            "[MoviePy] Writing video video.mp4\n"
          ],
          "name": "stdout"
        },
        {
          "output_type": "stream",
          "text": [
            "\n",
            "100%|██████████| 31/31 [00:00<00:00, 73.51it/s]\n"
          ],
          "name": "stderr"
        },
        {
          "output_type": "stream",
          "text": [
            "[MoviePy] Done.\n",
            "[MoviePy] >>>> Video ready: video.mp4 \n",
            "\n"
          ],
          "name": "stdout"
        },
        {
          "output_type": "stream",
          "text": [
            "18-01-2020:04:09:03,791 INFO     [classes.py:207] 30.04 fps, 31 frames, 1.03 seconds\n",
            "18-01-2020:04:09:03,799 INFO     [classes.py:323] Deleted pre-existing output/video_output.mp4\n",
            "18-01-2020:04:09:22,422 INFO     [classes.py:307] Completed analysis: saved to output/video_output.mp4\n"
          ],
          "name": "stderr"
        },
        {
          "output_type": "stream",
          "text": [
            "./Finalised/User_12/run_4/video.mp4\n",
            "[MoviePy] >>>> Building video video.mp4\n",
            "[MoviePy] Writing audio in videoTEMP_MPY_wvf_snd.mp4\n"
          ],
          "name": "stdout"
        },
        {
          "output_type": "stream",
          "text": [
            "100%|██████████| 23/23 [00:00<00:00, 408.81it/s]"
          ],
          "name": "stderr"
        },
        {
          "output_type": "stream",
          "text": [
            "[MoviePy] Done.\n",
            "[MoviePy] Writing video video.mp4\n"
          ],
          "name": "stdout"
        },
        {
          "output_type": "stream",
          "text": [
            "\n",
            " 97%|█████████▋| 30/31 [00:00<00:00, 60.76it/s]\n"
          ],
          "name": "stderr"
        },
        {
          "output_type": "stream",
          "text": [
            "[MoviePy] Done.\n",
            "[MoviePy] >>>> Video ready: video.mp4 \n",
            "\n"
          ],
          "name": "stdout"
        },
        {
          "output_type": "stream",
          "text": [
            "18-01-2020:04:09:46,126 INFO     [classes.py:207] 30.00 fps, 30 frames, 1.00 seconds\n",
            "18-01-2020:04:09:46,136 INFO     [classes.py:323] Deleted pre-existing output/video_output.mp4\n",
            "18-01-2020:04:10:04,408 INFO     [classes.py:307] Completed analysis: saved to output/video_output.mp4\n"
          ],
          "name": "stderr"
        },
        {
          "output_type": "stream",
          "text": [
            "./Finalised/User_12/run_5/video.mp4\n",
            "[MoviePy] >>>> Building video video.mp4\n",
            "[MoviePy] Writing audio in videoTEMP_MPY_wvf_snd.mp4\n"
          ],
          "name": "stdout"
        },
        {
          "output_type": "stream",
          "text": [
            "100%|██████████| 23/23 [00:00<00:00, 406.00it/s]"
          ],
          "name": "stderr"
        },
        {
          "output_type": "stream",
          "text": [
            "[MoviePy] Done.\n",
            "[MoviePy] Writing video video.mp4\n"
          ],
          "name": "stdout"
        },
        {
          "output_type": "stream",
          "text": [
            "\n",
            "100%|██████████| 31/31 [00:00<00:00, 69.85it/s]\n"
          ],
          "name": "stderr"
        },
        {
          "output_type": "stream",
          "text": [
            "[MoviePy] Done.\n",
            "[MoviePy] >>>> Video ready: video.mp4 \n",
            "\n"
          ],
          "name": "stdout"
        },
        {
          "output_type": "stream",
          "text": [
            "18-01-2020:04:10:28,360 INFO     [classes.py:207] 30.04 fps, 31 frames, 1.03 seconds\n",
            "18-01-2020:04:10:28,368 INFO     [classes.py:323] Deleted pre-existing output/video_output.mp4\n",
            "18-01-2020:04:10:46,861 INFO     [classes.py:307] Completed analysis: saved to output/video_output.mp4\n"
          ],
          "name": "stderr"
        },
        {
          "output_type": "stream",
          "text": [
            "./Finalised/User_12/run_6/video.mp4\n",
            "[MoviePy] >>>> Building video video.mp4\n",
            "[MoviePy] Writing audio in videoTEMP_MPY_wvf_snd.mp4\n"
          ],
          "name": "stdout"
        },
        {
          "output_type": "stream",
          "text": [
            "100%|██████████| 23/23 [00:00<00:00, 384.32it/s]"
          ],
          "name": "stderr"
        },
        {
          "output_type": "stream",
          "text": [
            "[MoviePy] Done.\n",
            "[MoviePy] Writing video video.mp4\n"
          ],
          "name": "stdout"
        },
        {
          "output_type": "stream",
          "text": [
            "\n",
            " 97%|█████████▋| 30/31 [00:00<00:00, 59.26it/s]\n"
          ],
          "name": "stderr"
        },
        {
          "output_type": "stream",
          "text": [
            "[MoviePy] Done.\n",
            "[MoviePy] >>>> Video ready: video.mp4 \n",
            "\n"
          ],
          "name": "stdout"
        },
        {
          "output_type": "stream",
          "text": [
            "18-01-2020:04:11:10,863 INFO     [classes.py:207] 30.00 fps, 30 frames, 1.00 seconds\n",
            "18-01-2020:04:11:10,867 INFO     [classes.py:323] Deleted pre-existing output/video_output.mp4\n",
            "18-01-2020:04:11:29,96 INFO     [classes.py:307] Completed analysis: saved to output/video_output.mp4\n"
          ],
          "name": "stderr"
        },
        {
          "output_type": "stream",
          "text": [
            "./Finalised/User_12/run_7/video.mp4\n",
            "[MoviePy] >>>> Building video video.mp4\n",
            "[MoviePy] Writing audio in videoTEMP_MPY_wvf_snd.mp4\n"
          ],
          "name": "stdout"
        },
        {
          "output_type": "stream",
          "text": [
            "100%|██████████| 23/23 [00:00<00:00, 394.25it/s]"
          ],
          "name": "stderr"
        },
        {
          "output_type": "stream",
          "text": [
            "[MoviePy] Done.\n",
            "[MoviePy] Writing video video.mp4\n"
          ],
          "name": "stdout"
        },
        {
          "output_type": "stream",
          "text": [
            "\n",
            "100%|██████████| 31/31 [00:00<00:00, 71.08it/s]\n"
          ],
          "name": "stderr"
        },
        {
          "output_type": "stream",
          "text": [
            "[MoviePy] Done.\n",
            "[MoviePy] >>>> Video ready: video.mp4 \n",
            "\n"
          ],
          "name": "stdout"
        },
        {
          "output_type": "stream",
          "text": [
            "18-01-2020:04:11:53,283 INFO     [classes.py:207] 30.04 fps, 31 frames, 1.03 seconds\n",
            "18-01-2020:04:11:53,291 INFO     [classes.py:323] Deleted pre-existing output/video_output.mp4\n",
            "18-01-2020:04:12:11,864 INFO     [classes.py:307] Completed analysis: saved to output/video_output.mp4\n"
          ],
          "name": "stderr"
        },
        {
          "output_type": "stream",
          "text": [
            "./Finalised/User_12/run_8/video.mp4\n",
            "[MoviePy] >>>> Building video video.mp4\n",
            "[MoviePy] Writing audio in videoTEMP_MPY_wvf_snd.mp4\n"
          ],
          "name": "stdout"
        },
        {
          "output_type": "stream",
          "text": [
            "100%|██████████| 23/23 [00:00<00:00, 371.81it/s]"
          ],
          "name": "stderr"
        },
        {
          "output_type": "stream",
          "text": [
            "[MoviePy] Done.\n",
            "[MoviePy] Writing video video.mp4\n"
          ],
          "name": "stdout"
        },
        {
          "output_type": "stream",
          "text": [
            "\n",
            "100%|██████████| 31/31 [00:00<00:00, 65.67it/s]\n"
          ],
          "name": "stderr"
        },
        {
          "output_type": "stream",
          "text": [
            "[MoviePy] Done.\n",
            "[MoviePy] >>>> Video ready: video.mp4 \n",
            "\n"
          ],
          "name": "stdout"
        },
        {
          "output_type": "stream",
          "text": [
            "18-01-2020:04:12:36,41 INFO     [classes.py:207] 30.04 fps, 31 frames, 1.03 seconds\n",
            "18-01-2020:04:12:36,46 INFO     [classes.py:323] Deleted pre-existing output/video_output.mp4\n",
            "18-01-2020:04:12:54,832 INFO     [classes.py:307] Completed analysis: saved to output/video_output.mp4\n"
          ],
          "name": "stderr"
        },
        {
          "output_type": "stream",
          "text": [
            "./Finalised/User_12/run_9/video.mp4\n",
            "[MoviePy] >>>> Building video video.mp4\n",
            "[MoviePy] Writing audio in videoTEMP_MPY_wvf_snd.mp4\n"
          ],
          "name": "stdout"
        },
        {
          "output_type": "stream",
          "text": [
            "\r  0%|          | 0/23 [00:00<?, ?it/s]\n"
          ],
          "name": "stderr"
        },
        {
          "output_type": "stream",
          "text": [
            "./Finalised/User_13/run_0/video.mp4\n",
            "[MoviePy] >>>> Building video video.mp4\n",
            "[MoviePy] Writing audio in videoTEMP_MPY_wvf_snd.mp4\n"
          ],
          "name": "stdout"
        },
        {
          "output_type": "stream",
          "text": [
            "100%|██████████| 23/23 [00:00<00:00, 418.15it/s]"
          ],
          "name": "stderr"
        },
        {
          "output_type": "stream",
          "text": [
            "[MoviePy] Done.\n",
            "[MoviePy] Writing video video.mp4\n"
          ],
          "name": "stdout"
        },
        {
          "output_type": "stream",
          "text": [
            "\n",
            "100%|██████████| 31/31 [00:00<00:00, 51.06it/s]\n"
          ],
          "name": "stderr"
        },
        {
          "output_type": "stream",
          "text": [
            "[MoviePy] Done.\n",
            "[MoviePy] >>>> Video ready: video.mp4 \n",
            "\n"
          ],
          "name": "stdout"
        },
        {
          "output_type": "stream",
          "text": [
            "18-01-2020:04:13:22,148 INFO     [classes.py:207] 30.04 fps, 31 frames, 1.03 seconds\n",
            "18-01-2020:04:13:22,154 INFO     [classes.py:323] Deleted pre-existing output/video_output.mp4\n",
            "18-01-2020:04:13:38,739 INFO     [classes.py:307] Completed analysis: saved to output/video_output.mp4\n"
          ],
          "name": "stderr"
        },
        {
          "output_type": "stream",
          "text": [
            "./Finalised/User_13/run_1/video.mp4\n",
            "[MoviePy] >>>> Building video video.mp4\n",
            "[MoviePy] Writing audio in videoTEMP_MPY_wvf_snd.mp4\n"
          ],
          "name": "stdout"
        },
        {
          "output_type": "stream",
          "text": [
            "100%|██████████| 23/23 [00:00<00:00, 390.64it/s]"
          ],
          "name": "stderr"
        },
        {
          "output_type": "stream",
          "text": [
            "[MoviePy] Done.\n",
            "[MoviePy] Writing video video.mp4\n"
          ],
          "name": "stdout"
        },
        {
          "output_type": "stream",
          "text": [
            "\n",
            "100%|██████████| 31/31 [00:00<00:00, 63.30it/s]\n"
          ],
          "name": "stderr"
        },
        {
          "output_type": "stream",
          "text": [
            "[MoviePy] Done.\n",
            "[MoviePy] >>>> Video ready: video.mp4 \n",
            "\n"
          ],
          "name": "stdout"
        },
        {
          "output_type": "stream",
          "text": [
            "18-01-2020:04:14:03,872 INFO     [classes.py:207] 30.04 fps, 31 frames, 1.03 seconds\n",
            "18-01-2020:04:14:03,881 INFO     [classes.py:323] Deleted pre-existing output/video_output.mp4\n",
            "18-01-2020:04:14:21,163 INFO     [classes.py:307] Completed analysis: saved to output/video_output.mp4\n"
          ],
          "name": "stderr"
        },
        {
          "output_type": "stream",
          "text": [
            "./Finalised/User_13/run_2/video.mp4\n",
            "[MoviePy] >>>> Building video video.mp4\n",
            "[MoviePy] Writing audio in videoTEMP_MPY_wvf_snd.mp4\n"
          ],
          "name": "stdout"
        },
        {
          "output_type": "stream",
          "text": [
            "100%|██████████| 23/23 [00:00<00:00, 366.69it/s]"
          ],
          "name": "stderr"
        },
        {
          "output_type": "stream",
          "text": [
            "[MoviePy] Done.\n",
            "[MoviePy] Writing video video.mp4\n"
          ],
          "name": "stdout"
        },
        {
          "output_type": "stream",
          "text": [
            "\n",
            " 97%|█████████▋| 30/31 [00:00<00:00, 59.40it/s]\n"
          ],
          "name": "stderr"
        },
        {
          "output_type": "stream",
          "text": [
            "[MoviePy] Done.\n",
            "[MoviePy] >>>> Video ready: video.mp4 \n",
            "\n"
          ],
          "name": "stdout"
        },
        {
          "output_type": "stream",
          "text": [
            "18-01-2020:04:14:46,203 INFO     [classes.py:207] 30.00 fps, 30 frames, 1.00 seconds\n",
            "18-01-2020:04:14:46,208 INFO     [classes.py:323] Deleted pre-existing output/video_output.mp4\n",
            "18-01-2020:04:15:02,991 INFO     [classes.py:307] Completed analysis: saved to output/video_output.mp4\n"
          ],
          "name": "stderr"
        },
        {
          "output_type": "stream",
          "text": [
            "./Finalised/User_13/run_3/video.mp4\n",
            "[MoviePy] >>>> Building video video.mp4\n",
            "[MoviePy] Writing audio in videoTEMP_MPY_wvf_snd.mp4\n"
          ],
          "name": "stdout"
        },
        {
          "output_type": "stream",
          "text": [
            "100%|██████████| 23/23 [00:00<00:00, 379.71it/s]"
          ],
          "name": "stderr"
        },
        {
          "output_type": "stream",
          "text": [
            "[MoviePy] Done.\n",
            "[MoviePy] Writing video video.mp4\n"
          ],
          "name": "stdout"
        },
        {
          "output_type": "stream",
          "text": [
            "\n",
            "100%|██████████| 31/31 [00:00<00:00, 62.93it/s]\n"
          ],
          "name": "stderr"
        },
        {
          "output_type": "stream",
          "text": [
            "[MoviePy] Done.\n",
            "[MoviePy] >>>> Video ready: video.mp4 \n",
            "\n"
          ],
          "name": "stdout"
        },
        {
          "output_type": "stream",
          "text": [
            "18-01-2020:04:15:28,435 INFO     [classes.py:207] 30.04 fps, 31 frames, 1.03 seconds\n",
            "18-01-2020:04:15:28,444 INFO     [classes.py:323] Deleted pre-existing output/video_output.mp4\n",
            "18-01-2020:04:15:45,205 INFO     [classes.py:307] Completed analysis: saved to output/video_output.mp4\n"
          ],
          "name": "stderr"
        },
        {
          "output_type": "stream",
          "text": [
            "./Finalised/User_13/run_4/video.mp4\n",
            "[MoviePy] >>>> Building video video.mp4\n",
            "[MoviePy] Writing audio in videoTEMP_MPY_wvf_snd.mp4\n"
          ],
          "name": "stdout"
        },
        {
          "output_type": "stream",
          "text": [
            "100%|██████████| 23/23 [00:00<00:00, 396.04it/s]"
          ],
          "name": "stderr"
        },
        {
          "output_type": "stream",
          "text": [
            "[MoviePy] Done.\n",
            "[MoviePy] Writing video video.mp4\n"
          ],
          "name": "stdout"
        },
        {
          "output_type": "stream",
          "text": [
            "\n",
            " 39%|███▊      | 12/31 [00:00<00:00, 44.78it/s]18-01-2020:04:15:47,366 WARNING  [warnings.py:99] /usr/local/lib/python3.6/dist-packages/moviepy/video/io/ffmpeg_reader.py:130: UserWarning: Warning: in file ./Finalised/User_13/run_4/video.mp4, 2764800 bytes wanted but 0 bytes read,at frame 106/123, at time 3.53/4.08 sec. Using the last valid frame instead.\n",
            "  UserWarning)\n",
            "\n",
            "18-01-2020:04:15:47,376 WARNING  [warnings.py:99] /usr/local/lib/python3.6/dist-packages/moviepy/video/io/ffmpeg_reader.py:130: UserWarning: Warning: in file ./Finalised/User_13/run_4/video.mp4, 2764800 bytes wanted but 0 bytes read,at frame 107/123, at time 3.56/4.08 sec. Using the last valid frame instead.\n",
            "  UserWarning)\n",
            "\n",
            "18-01-2020:04:15:47,386 WARNING  [warnings.py:99] /usr/local/lib/python3.6/dist-packages/moviepy/video/io/ffmpeg_reader.py:130: UserWarning: Warning: in file ./Finalised/User_13/run_4/video.mp4, 2764800 bytes wanted but 0 bytes read,at frame 108/123, at time 3.60/4.08 sec. Using the last valid frame instead.\n",
            "  UserWarning)\n",
            "\n",
            "18-01-2020:04:15:47,395 WARNING  [warnings.py:99] /usr/local/lib/python3.6/dist-packages/moviepy/video/io/ffmpeg_reader.py:130: UserWarning: Warning: in file ./Finalised/User_13/run_4/video.mp4, 2764800 bytes wanted but 0 bytes read,at frame 109/123, at time 3.63/4.08 sec. Using the last valid frame instead.\n",
            "  UserWarning)\n",
            "\n",
            "18-01-2020:04:15:47,404 WARNING  [warnings.py:99] /usr/local/lib/python3.6/dist-packages/moviepy/video/io/ffmpeg_reader.py:130: UserWarning: Warning: in file ./Finalised/User_13/run_4/video.mp4, 2764800 bytes wanted but 0 bytes read,at frame 110/123, at time 3.66/4.08 sec. Using the last valid frame instead.\n",
            "  UserWarning)\n",
            "\n",
            "18-01-2020:04:15:47,412 WARNING  [warnings.py:99] /usr/local/lib/python3.6/dist-packages/moviepy/video/io/ffmpeg_reader.py:130: UserWarning: Warning: in file ./Finalised/User_13/run_4/video.mp4, 2764800 bytes wanted but 0 bytes read,at frame 111/123, at time 3.70/4.08 sec. Using the last valid frame instead.\n",
            "  UserWarning)\n",
            "\n",
            " 71%|███████   | 22/31 [00:00<00:00, 53.09it/s]18-01-2020:04:15:47,425 WARNING  [warnings.py:99] /usr/local/lib/python3.6/dist-packages/moviepy/video/io/ffmpeg_reader.py:130: UserWarning: Warning: in file ./Finalised/User_13/run_4/video.mp4, 2764800 bytes wanted but 0 bytes read,at frame 112/123, at time 3.73/4.08 sec. Using the last valid frame instead.\n",
            "  UserWarning)\n",
            "\n",
            "18-01-2020:04:15:47,433 WARNING  [warnings.py:99] /usr/local/lib/python3.6/dist-packages/moviepy/video/io/ffmpeg_reader.py:130: UserWarning: Warning: in file ./Finalised/User_13/run_4/video.mp4, 2764800 bytes wanted but 0 bytes read,at frame 113/123, at time 3.76/4.08 sec. Using the last valid frame instead.\n",
            "  UserWarning)\n",
            "\n",
            "18-01-2020:04:15:47,443 WARNING  [warnings.py:99] /usr/local/lib/python3.6/dist-packages/moviepy/video/io/ffmpeg_reader.py:130: UserWarning: Warning: in file ./Finalised/User_13/run_4/video.mp4, 2764800 bytes wanted but 0 bytes read,at frame 114/123, at time 3.79/4.08 sec. Using the last valid frame instead.\n",
            "  UserWarning)\n",
            "\n",
            "18-01-2020:04:15:47,453 WARNING  [warnings.py:99] /usr/local/lib/python3.6/dist-packages/moviepy/video/io/ffmpeg_reader.py:130: UserWarning: Warning: in file ./Finalised/User_13/run_4/video.mp4, 2764800 bytes wanted but 0 bytes read,at frame 115/123, at time 3.83/4.08 sec. Using the last valid frame instead.\n",
            "  UserWarning)\n",
            "\n",
            "18-01-2020:04:15:47,462 WARNING  [warnings.py:99] /usr/local/lib/python3.6/dist-packages/moviepy/video/io/ffmpeg_reader.py:130: UserWarning: Warning: in file ./Finalised/User_13/run_4/video.mp4, 2764800 bytes wanted but 0 bytes read,at frame 116/123, at time 3.86/4.08 sec. Using the last valid frame instead.\n",
            "  UserWarning)\n",
            "\n",
            "18-01-2020:04:15:47,468 WARNING  [warnings.py:99] /usr/local/lib/python3.6/dist-packages/moviepy/video/io/ffmpeg_reader.py:130: UserWarning: Warning: in file ./Finalised/User_13/run_4/video.mp4, 2764800 bytes wanted but 0 bytes read,at frame 117/123, at time 3.89/4.08 sec. Using the last valid frame instead.\n",
            "  UserWarning)\n",
            "\n",
            "18-01-2020:04:15:47,479 WARNING  [warnings.py:99] /usr/local/lib/python3.6/dist-packages/moviepy/video/io/ffmpeg_reader.py:130: UserWarning: Warning: in file ./Finalised/User_13/run_4/video.mp4, 2764800 bytes wanted but 0 bytes read,at frame 118/123, at time 3.93/4.08 sec. Using the last valid frame instead.\n",
            "  UserWarning)\n",
            "\n",
            "18-01-2020:04:15:47,489 WARNING  [warnings.py:99] /usr/local/lib/python3.6/dist-packages/moviepy/video/io/ffmpeg_reader.py:130: UserWarning: Warning: in file ./Finalised/User_13/run_4/video.mp4, 2764800 bytes wanted but 0 bytes read,at frame 119/123, at time 3.96/4.08 sec. Using the last valid frame instead.\n",
            "  UserWarning)\n",
            "\n",
            "18-01-2020:04:15:47,498 WARNING  [warnings.py:99] /usr/local/lib/python3.6/dist-packages/moviepy/video/io/ffmpeg_reader.py:130: UserWarning: Warning: in file ./Finalised/User_13/run_4/video.mp4, 2764800 bytes wanted but 0 bytes read,at frame 120/123, at time 3.99/4.08 sec. Using the last valid frame instead.\n",
            "  UserWarning)\n",
            "\n",
            "100%|██████████| 31/31 [00:00<00:00, 77.44it/s]\n"
          ],
          "name": "stderr"
        },
        {
          "output_type": "stream",
          "text": [
            "[MoviePy] Done.\n",
            "[MoviePy] >>>> Video ready: video.mp4 \n",
            "\n"
          ],
          "name": "stdout"
        },
        {
          "output_type": "stream",
          "text": [
            "18-01-2020:04:16:10,269 INFO     [classes.py:207] 30.04 fps, 31 frames, 1.03 seconds\n",
            "18-01-2020:04:16:10,275 INFO     [classes.py:323] Deleted pre-existing output/video_output.mp4\n",
            "18-01-2020:04:16:27,540 INFO     [classes.py:307] Completed analysis: saved to output/video_output.mp4\n"
          ],
          "name": "stderr"
        },
        {
          "output_type": "stream",
          "text": [
            "./Finalised/User_13/run_5/video.mp4\n",
            "[MoviePy] >>>> Building video video.mp4\n",
            "[MoviePy] Writing audio in videoTEMP_MPY_wvf_snd.mp4\n"
          ],
          "name": "stdout"
        },
        {
          "output_type": "stream",
          "text": [
            "100%|██████████| 23/23 [00:00<00:00, 408.59it/s]"
          ],
          "name": "stderr"
        },
        {
          "output_type": "stream",
          "text": [
            "[MoviePy] Done.\n",
            "[MoviePy] Writing video video.mp4\n"
          ],
          "name": "stdout"
        },
        {
          "output_type": "stream",
          "text": [
            "\n",
            "100%|██████████| 31/31 [00:00<00:00, 63.93it/s]\n"
          ],
          "name": "stderr"
        },
        {
          "output_type": "stream",
          "text": [
            "[MoviePy] Done.\n",
            "[MoviePy] >>>> Video ready: video.mp4 \n",
            "\n"
          ],
          "name": "stdout"
        },
        {
          "output_type": "stream",
          "text": [
            "18-01-2020:04:16:53,222 INFO     [classes.py:207] 30.04 fps, 31 frames, 1.03 seconds\n",
            "18-01-2020:04:16:53,229 INFO     [classes.py:323] Deleted pre-existing output/video_output.mp4\n",
            "18-01-2020:04:17:10,287 INFO     [classes.py:307] Completed analysis: saved to output/video_output.mp4\n"
          ],
          "name": "stderr"
        },
        {
          "output_type": "stream",
          "text": [
            "./Finalised/User_13/run_6/video.mp4\n",
            "[MoviePy] >>>> Building video video.mp4\n",
            "[MoviePy] Writing audio in videoTEMP_MPY_wvf_snd.mp4\n"
          ],
          "name": "stdout"
        },
        {
          "output_type": "stream",
          "text": [
            "100%|██████████| 23/23 [00:00<00:00, 389.83it/s]"
          ],
          "name": "stderr"
        },
        {
          "output_type": "stream",
          "text": [
            "[MoviePy] Done.\n",
            "[MoviePy] Writing video video.mp4\n"
          ],
          "name": "stdout"
        },
        {
          "output_type": "stream",
          "text": [
            "\n",
            "100%|██████████| 31/31 [00:00<00:00, 60.05it/s]\n"
          ],
          "name": "stderr"
        },
        {
          "output_type": "stream",
          "text": [
            "[MoviePy] Done.\n",
            "[MoviePy] >>>> Video ready: video.mp4 \n",
            "\n"
          ],
          "name": "stdout"
        },
        {
          "output_type": "stream",
          "text": [
            "18-01-2020:04:17:36,76 INFO     [classes.py:207] 30.04 fps, 31 frames, 1.03 seconds\n",
            "18-01-2020:04:17:36,84 INFO     [classes.py:323] Deleted pre-existing output/video_output.mp4\n",
            "18-01-2020:04:17:53,498 INFO     [classes.py:307] Completed analysis: saved to output/video_output.mp4\n"
          ],
          "name": "stderr"
        },
        {
          "output_type": "stream",
          "text": [
            "./Finalised/User_13/run_7/video.mp4\n",
            "[MoviePy] >>>> Building video video.mp4\n",
            "[MoviePy] Writing audio in videoTEMP_MPY_wvf_snd.mp4\n"
          ],
          "name": "stdout"
        },
        {
          "output_type": "stream",
          "text": [
            "100%|██████████| 23/23 [00:00<00:00, 392.90it/s]"
          ],
          "name": "stderr"
        },
        {
          "output_type": "stream",
          "text": [
            "[MoviePy] Done.\n",
            "[MoviePy] Writing video video.mp4\n"
          ],
          "name": "stdout"
        },
        {
          "output_type": "stream",
          "text": [
            "\n",
            " 97%|█████████▋| 30/31 [00:00<00:00, 63.80it/s]\n"
          ],
          "name": "stderr"
        },
        {
          "output_type": "stream",
          "text": [
            "[MoviePy] Done.\n",
            "[MoviePy] >>>> Video ready: video.mp4 \n",
            "\n"
          ],
          "name": "stdout"
        },
        {
          "output_type": "stream",
          "text": [
            "18-01-2020:04:18:19,520 INFO     [classes.py:207] 30.00 fps, 30 frames, 1.00 seconds\n",
            "18-01-2020:04:18:19,524 INFO     [classes.py:323] Deleted pre-existing output/video_output.mp4\n",
            "18-01-2020:04:18:36,495 INFO     [classes.py:307] Completed analysis: saved to output/video_output.mp4\n"
          ],
          "name": "stderr"
        },
        {
          "output_type": "stream",
          "text": [
            "./Finalised/User_13/run_8/video.mp4\n",
            "[MoviePy] >>>> Building video video.mp4\n",
            "[MoviePy] Writing audio in videoTEMP_MPY_wvf_snd.mp4\n"
          ],
          "name": "stdout"
        },
        {
          "output_type": "stream",
          "text": [
            "100%|██████████| 23/23 [00:00<00:00, 406.34it/s]"
          ],
          "name": "stderr"
        },
        {
          "output_type": "stream",
          "text": [
            "[MoviePy] Done.\n",
            "[MoviePy] Writing video video.mp4\n"
          ],
          "name": "stdout"
        },
        {
          "output_type": "stream",
          "text": [
            "\n",
            "100%|██████████| 31/31 [00:00<00:00, 64.92it/s]\n"
          ],
          "name": "stderr"
        },
        {
          "output_type": "stream",
          "text": [
            "[MoviePy] Done.\n",
            "[MoviePy] >>>> Video ready: video.mp4 \n",
            "\n"
          ],
          "name": "stdout"
        },
        {
          "output_type": "stream",
          "text": [
            "18-01-2020:04:19:02,860 INFO     [classes.py:207] 30.04 fps, 31 frames, 1.03 seconds\n",
            "18-01-2020:04:19:02,868 INFO     [classes.py:323] Deleted pre-existing output/video_output.mp4\n",
            "18-01-2020:04:19:20,348 INFO     [classes.py:307] Completed analysis: saved to output/video_output.mp4\n"
          ],
          "name": "stderr"
        },
        {
          "output_type": "stream",
          "text": [
            "./Finalised/User_13/run_9/video.mp4\n",
            "[MoviePy] >>>> Building video video.mp4\n",
            "[MoviePy] Writing audio in videoTEMP_MPY_wvf_snd.mp4\n"
          ],
          "name": "stdout"
        },
        {
          "output_type": "stream",
          "text": [
            "100%|██████████| 23/23 [00:00<00:00, 347.61it/s]"
          ],
          "name": "stderr"
        },
        {
          "output_type": "stream",
          "text": [
            "[MoviePy] Done.\n",
            "[MoviePy] Writing video video.mp4\n"
          ],
          "name": "stdout"
        },
        {
          "output_type": "stream",
          "text": [
            "\n",
            " 97%|█████████▋| 30/31 [00:00<00:00, 65.58it/s]\n"
          ],
          "name": "stderr"
        },
        {
          "output_type": "stream",
          "text": [
            "[MoviePy] Done.\n",
            "[MoviePy] >>>> Video ready: video.mp4 \n",
            "\n"
          ],
          "name": "stdout"
        },
        {
          "output_type": "stream",
          "text": [
            "18-01-2020:04:19:47,178 INFO     [classes.py:207] 30.00 fps, 30 frames, 1.00 seconds\n",
            "18-01-2020:04:19:47,183 INFO     [classes.py:323] Deleted pre-existing output/video_output.mp4\n",
            "18-01-2020:04:20:04,358 INFO     [classes.py:307] Completed analysis: saved to output/video_output.mp4\n"
          ],
          "name": "stderr"
        },
        {
          "output_type": "stream",
          "text": [
            "./Finalised/User_14/run_0/video.mp4\n",
            "[MoviePy] >>>> Building video video.mp4\n",
            "[MoviePy] Writing audio in videoTEMP_MPY_wvf_snd.mp4\n"
          ],
          "name": "stdout"
        },
        {
          "output_type": "stream",
          "text": [
            "100%|██████████| 23/23 [00:00<00:00, 388.54it/s]"
          ],
          "name": "stderr"
        },
        {
          "output_type": "stream",
          "text": [
            "[MoviePy] Done.\n",
            "[MoviePy] Writing video video.mp4\n"
          ],
          "name": "stdout"
        },
        {
          "output_type": "stream",
          "text": [
            "\n",
            " 97%|█████████▋| 30/31 [00:03<00:00,  7.72it/s]\n"
          ],
          "name": "stderr"
        },
        {
          "output_type": "stream",
          "text": [
            "[MoviePy] Done.\n",
            "[MoviePy] >>>> Video ready: video.mp4 \n",
            "\n"
          ],
          "name": "stdout"
        },
        {
          "output_type": "stream",
          "text": [
            "18-01-2020:04:20:57,615 INFO     [classes.py:207] 30.00 fps, 30 frames, 1.00 seconds\n",
            "18-01-2020:04:20:57,620 INFO     [classes.py:323] Deleted pre-existing output/video_output.mp4\n",
            "18-01-2020:04:22:04,690 INFO     [classes.py:307] Completed analysis: saved to output/video_output.mp4\n"
          ],
          "name": "stderr"
        },
        {
          "output_type": "stream",
          "text": [
            "./Finalised/User_14/run_1/video.mp4\n",
            "[MoviePy] >>>> Building video video.mp4\n",
            "[MoviePy] Writing audio in videoTEMP_MPY_wvf_snd.mp4\n"
          ],
          "name": "stdout"
        },
        {
          "output_type": "stream",
          "text": [
            "100%|██████████| 23/23 [00:00<00:00, 440.90it/s]"
          ],
          "name": "stderr"
        },
        {
          "output_type": "stream",
          "text": [
            "[MoviePy] Done.\n",
            "[MoviePy] Writing video video.mp4\n"
          ],
          "name": "stdout"
        },
        {
          "output_type": "stream",
          "text": [
            "\n",
            " 97%|█████████▋| 30/31 [00:03<00:00,  7.82it/s]\n"
          ],
          "name": "stderr"
        },
        {
          "output_type": "stream",
          "text": [
            "[MoviePy] Done.\n",
            "[MoviePy] >>>> Video ready: video.mp4 \n",
            "\n"
          ],
          "name": "stdout"
        },
        {
          "output_type": "stream",
          "text": [
            "18-01-2020:04:22:56,788 INFO     [classes.py:207] 30.00 fps, 30 frames, 1.00 seconds\n",
            "18-01-2020:04:22:56,796 INFO     [classes.py:323] Deleted pre-existing output/video_output.mp4\n",
            "18-01-2020:04:24:09,437 INFO     [classes.py:307] Completed analysis: saved to output/video_output.mp4\n"
          ],
          "name": "stderr"
        },
        {
          "output_type": "stream",
          "text": [
            "./Finalised/User_14/run_2/video.mp4\n",
            "[MoviePy] >>>> Building video video.mp4\n",
            "[MoviePy] Writing audio in videoTEMP_MPY_wvf_snd.mp4\n"
          ],
          "name": "stdout"
        },
        {
          "output_type": "stream",
          "text": [
            "100%|██████████| 23/23 [00:00<00:00, 409.34it/s]"
          ],
          "name": "stderr"
        },
        {
          "output_type": "stream",
          "text": [
            "[MoviePy] Done.\n",
            "[MoviePy] Writing video video.mp4\n"
          ],
          "name": "stdout"
        },
        {
          "output_type": "stream",
          "text": [
            "\n",
            " 97%|█████████▋| 30/31 [00:03<00:00,  7.81it/s]\n"
          ],
          "name": "stderr"
        },
        {
          "output_type": "stream",
          "text": [
            "[MoviePy] Done.\n",
            "[MoviePy] >>>> Video ready: video.mp4 \n",
            "\n"
          ],
          "name": "stdout"
        },
        {
          "output_type": "stream",
          "text": [
            "18-01-2020:04:25:02,483 INFO     [classes.py:207] 30.00 fps, 30 frames, 1.00 seconds\n",
            "18-01-2020:04:25:02,492 INFO     [classes.py:323] Deleted pre-existing output/video_output.mp4\n",
            "18-01-2020:04:26:09,648 INFO     [classes.py:307] Completed analysis: saved to output/video_output.mp4\n"
          ],
          "name": "stderr"
        },
        {
          "output_type": "stream",
          "text": [
            "./Finalised/User_14/run_3/video.mp4\n",
            "[MoviePy] >>>> Building video video.mp4\n",
            "[MoviePy] Writing audio in videoTEMP_MPY_wvf_snd.mp4\n"
          ],
          "name": "stdout"
        },
        {
          "output_type": "stream",
          "text": [
            "100%|██████████| 23/23 [00:00<00:00, 445.33it/s]"
          ],
          "name": "stderr"
        },
        {
          "output_type": "stream",
          "text": [
            "[MoviePy] Done.\n",
            "[MoviePy] Writing video video.mp4\n"
          ],
          "name": "stdout"
        },
        {
          "output_type": "stream",
          "text": [
            "\n",
            " 97%|█████████▋| 30/31 [00:03<00:00,  8.23it/s]\n"
          ],
          "name": "stderr"
        },
        {
          "output_type": "stream",
          "text": [
            "[MoviePy] Done.\n",
            "[MoviePy] >>>> Video ready: video.mp4 \n",
            "\n"
          ],
          "name": "stdout"
        },
        {
          "output_type": "stream",
          "text": [
            "18-01-2020:04:27:02,650 INFO     [classes.py:207] 30.00 fps, 30 frames, 1.00 seconds\n",
            "18-01-2020:04:27:02,658 INFO     [classes.py:323] Deleted pre-existing output/video_output.mp4\n",
            "18-01-2020:04:28:09,765 INFO     [classes.py:307] Completed analysis: saved to output/video_output.mp4\n"
          ],
          "name": "stderr"
        },
        {
          "output_type": "stream",
          "text": [
            "./Finalised/User_14/run_4/video.mp4\n",
            "[MoviePy] >>>> Building video video.mp4\n",
            "[MoviePy] Writing audio in videoTEMP_MPY_wvf_snd.mp4\n"
          ],
          "name": "stdout"
        },
        {
          "output_type": "stream",
          "text": [
            "100%|██████████| 23/23 [00:00<00:00, 404.46it/s]"
          ],
          "name": "stderr"
        },
        {
          "output_type": "stream",
          "text": [
            "[MoviePy] Done.\n",
            "[MoviePy] Writing video video.mp4\n"
          ],
          "name": "stdout"
        },
        {
          "output_type": "stream",
          "text": [
            "\n",
            " 97%|█████████▋| 30/31 [00:03<00:00,  7.93it/s]\n"
          ],
          "name": "stderr"
        },
        {
          "output_type": "stream",
          "text": [
            "[MoviePy] Done.\n",
            "[MoviePy] >>>> Video ready: video.mp4 \n",
            "\n"
          ],
          "name": "stdout"
        },
        {
          "output_type": "stream",
          "text": [
            "18-01-2020:04:29:05,58 INFO     [classes.py:207] 30.00 fps, 30 frames, 1.00 seconds\n",
            "18-01-2020:04:29:05,67 INFO     [classes.py:323] Deleted pre-existing output/video_output.mp4\n",
            "18-01-2020:04:30:12,159 INFO     [classes.py:307] Completed analysis: saved to output/video_output.mp4\n"
          ],
          "name": "stderr"
        },
        {
          "output_type": "stream",
          "text": [
            "./Finalised/User_14/run_5/video.mp4\n",
            "[MoviePy] >>>> Building video video.mp4\n",
            "[MoviePy] Writing audio in videoTEMP_MPY_wvf_snd.mp4\n"
          ],
          "name": "stdout"
        },
        {
          "output_type": "stream",
          "text": [
            "100%|██████████| 23/23 [00:00<00:00, 359.18it/s]"
          ],
          "name": "stderr"
        },
        {
          "output_type": "stream",
          "text": [
            "[MoviePy] Done.\n",
            "[MoviePy] Writing video video.mp4\n"
          ],
          "name": "stdout"
        },
        {
          "output_type": "stream",
          "text": [
            "\n",
            " 97%|█████████▋| 30/31 [00:03<00:00,  8.38it/s]\n"
          ],
          "name": "stderr"
        },
        {
          "output_type": "stream",
          "text": [
            "[MoviePy] Done.\n",
            "[MoviePy] >>>> Video ready: video.mp4 \n",
            "\n"
          ],
          "name": "stdout"
        },
        {
          "output_type": "stream",
          "text": [
            "18-01-2020:04:31:05,283 INFO     [classes.py:207] 30.00 fps, 30 frames, 1.00 seconds\n",
            "18-01-2020:04:31:05,291 INFO     [classes.py:323] Deleted pre-existing output/video_output.mp4\n",
            "18-01-2020:04:32:12,231 INFO     [classes.py:307] Completed analysis: saved to output/video_output.mp4\n"
          ],
          "name": "stderr"
        },
        {
          "output_type": "stream",
          "text": [
            "./Finalised/User_14/run_6/video.mp4\n",
            "[MoviePy] >>>> Building video video.mp4\n",
            "[MoviePy] Writing audio in videoTEMP_MPY_wvf_snd.mp4\n"
          ],
          "name": "stdout"
        },
        {
          "output_type": "stream",
          "text": [
            "100%|██████████| 23/23 [00:00<00:00, 384.89it/s]"
          ],
          "name": "stderr"
        },
        {
          "output_type": "stream",
          "text": [
            "[MoviePy] Done.\n",
            "[MoviePy] Writing video video.mp4\n"
          ],
          "name": "stdout"
        },
        {
          "output_type": "stream",
          "text": [
            "\n",
            " 97%|█████████▋| 30/31 [00:03<00:00,  8.02it/s]\n"
          ],
          "name": "stderr"
        },
        {
          "output_type": "stream",
          "text": [
            "[MoviePy] Done.\n",
            "[MoviePy] >>>> Video ready: video.mp4 \n",
            "\n"
          ],
          "name": "stdout"
        },
        {
          "output_type": "stream",
          "text": [
            "18-01-2020:04:33:05,627 INFO     [classes.py:207] 30.00 fps, 30 frames, 1.00 seconds\n",
            "18-01-2020:04:33:05,635 INFO     [classes.py:323] Deleted pre-existing output/video_output.mp4\n",
            "18-01-2020:04:34:17,23 INFO     [classes.py:307] Completed analysis: saved to output/video_output.mp4\n"
          ],
          "name": "stderr"
        },
        {
          "output_type": "stream",
          "text": [
            "./Finalised/User_14/run_7/video.mp4\n",
            "[MoviePy] >>>> Building video video.mp4\n",
            "[MoviePy] Writing audio in videoTEMP_MPY_wvf_snd.mp4\n"
          ],
          "name": "stdout"
        },
        {
          "output_type": "stream",
          "text": [
            "100%|██████████| 23/23 [00:00<00:00, 392.82it/s]"
          ],
          "name": "stderr"
        },
        {
          "output_type": "stream",
          "text": [
            "[MoviePy] Done.\n",
            "[MoviePy] Writing video video.mp4\n"
          ],
          "name": "stdout"
        },
        {
          "output_type": "stream",
          "text": [
            "\n",
            " 97%|█████████▋| 30/31 [00:03<00:00,  8.06it/s]\n"
          ],
          "name": "stderr"
        },
        {
          "output_type": "stream",
          "text": [
            "[MoviePy] Done.\n",
            "[MoviePy] >>>> Video ready: video.mp4 \n",
            "\n"
          ],
          "name": "stdout"
        },
        {
          "output_type": "stream",
          "text": [
            "18-01-2020:04:35:10,191 INFO     [classes.py:207] 30.00 fps, 30 frames, 1.00 seconds\n",
            "18-01-2020:04:35:10,197 INFO     [classes.py:323] Deleted pre-existing output/video_output.mp4\n",
            "18-01-2020:04:36:20,493 INFO     [classes.py:307] Completed analysis: saved to output/video_output.mp4\n"
          ],
          "name": "stderr"
        },
        {
          "output_type": "stream",
          "text": [
            "./Finalised/User_14/run_8/video.mp4\n",
            "[MoviePy] >>>> Building video video.mp4\n",
            "[MoviePy] Writing audio in videoTEMP_MPY_wvf_snd.mp4\n"
          ],
          "name": "stdout"
        },
        {
          "output_type": "stream",
          "text": [
            "100%|██████████| 23/23 [00:00<00:00, 422.69it/s]"
          ],
          "name": "stderr"
        },
        {
          "output_type": "stream",
          "text": [
            "[MoviePy] Done.\n",
            "[MoviePy] Writing video video.mp4\n"
          ],
          "name": "stdout"
        },
        {
          "output_type": "stream",
          "text": [
            "\n",
            " 97%|█████████▋| 30/31 [00:03<00:00,  7.88it/s]\n"
          ],
          "name": "stderr"
        },
        {
          "output_type": "stream",
          "text": [
            "[MoviePy] Done.\n",
            "[MoviePy] >>>> Video ready: video.mp4 \n",
            "\n"
          ],
          "name": "stdout"
        },
        {
          "output_type": "stream",
          "text": [
            "18-01-2020:04:37:14,451 INFO     [classes.py:207] 30.00 fps, 30 frames, 1.00 seconds\n",
            "18-01-2020:04:37:14,471 INFO     [classes.py:323] Deleted pre-existing output/video_output.mp4\n",
            "18-01-2020:04:38:24,980 INFO     [classes.py:307] Completed analysis: saved to output/video_output.mp4\n"
          ],
          "name": "stderr"
        },
        {
          "output_type": "stream",
          "text": [
            "./Finalised/User_14/run_9/video.mp4\n",
            "[MoviePy] >>>> Building video video.mp4\n",
            "[MoviePy] Writing audio in videoTEMP_MPY_wvf_snd.mp4\n"
          ],
          "name": "stdout"
        },
        {
          "output_type": "stream",
          "text": [
            "100%|██████████| 23/23 [00:00<00:00, 352.49it/s]"
          ],
          "name": "stderr"
        },
        {
          "output_type": "stream",
          "text": [
            "[MoviePy] Done.\n",
            "[MoviePy] Writing video video.mp4\n"
          ],
          "name": "stdout"
        },
        {
          "output_type": "stream",
          "text": [
            "\n",
            " 97%|█████████▋| 30/31 [00:03<00:00,  8.30it/s]\n"
          ],
          "name": "stderr"
        },
        {
          "output_type": "stream",
          "text": [
            "[MoviePy] Done.\n",
            "[MoviePy] >>>> Video ready: video.mp4 \n",
            "\n"
          ],
          "name": "stdout"
        },
        {
          "output_type": "stream",
          "text": [
            "18-01-2020:04:39:18,868 INFO     [classes.py:207] 30.00 fps, 30 frames, 1.00 seconds\n",
            "18-01-2020:04:39:18,872 INFO     [classes.py:323] Deleted pre-existing output/video_output.mp4\n",
            "18-01-2020:04:40:32,374 INFO     [classes.py:307] Completed analysis: saved to output/video_output.mp4\n"
          ],
          "name": "stderr"
        },
        {
          "output_type": "stream",
          "text": [
            "./Finalised/User_15/run_0/video.mp4\n",
            "[MoviePy] >>>> Building video video.mp4\n",
            "[MoviePy] Writing audio in videoTEMP_MPY_wvf_snd.mp4\n"
          ],
          "name": "stdout"
        },
        {
          "output_type": "stream",
          "text": [
            "100%|██████████| 23/23 [00:00<00:00, 413.98it/s]"
          ],
          "name": "stderr"
        },
        {
          "output_type": "stream",
          "text": [
            "[MoviePy] Done.\n",
            "[MoviePy] Writing video video.mp4\n"
          ],
          "name": "stdout"
        },
        {
          "output_type": "stream",
          "text": [
            "\n",
            " 97%|█████████▋| 30/31 [00:03<00:00,  8.10it/s]\n"
          ],
          "name": "stderr"
        },
        {
          "output_type": "stream",
          "text": [
            "[MoviePy] Done.\n",
            "[MoviePy] >>>> Video ready: video.mp4 \n",
            "\n"
          ],
          "name": "stdout"
        },
        {
          "output_type": "stream",
          "text": [
            "18-01-2020:04:41:28,982 INFO     [classes.py:207] 30.00 fps, 30 frames, 1.00 seconds\n",
            "18-01-2020:04:41:28,990 INFO     [classes.py:323] Deleted pre-existing output/video_output.mp4\n",
            "18-01-2020:04:42:59,46 INFO     [classes.py:307] Completed analysis: saved to output/video_output.mp4\n"
          ],
          "name": "stderr"
        },
        {
          "output_type": "stream",
          "text": [
            "./Finalised/User_15/run_1/video.mp4\n",
            "[MoviePy] >>>> Building video video.mp4\n",
            "[MoviePy] Writing audio in videoTEMP_MPY_wvf_snd.mp4\n"
          ],
          "name": "stdout"
        },
        {
          "output_type": "stream",
          "text": [
            "100%|██████████| 23/23 [00:00<00:00, 377.61it/s]"
          ],
          "name": "stderr"
        },
        {
          "output_type": "stream",
          "text": [
            "[MoviePy] Done.\n",
            "[MoviePy] Writing video video.mp4\n"
          ],
          "name": "stdout"
        },
        {
          "output_type": "stream",
          "text": [
            "\n",
            " 97%|█████████▋| 30/31 [00:03<00:00,  7.84it/s]\n"
          ],
          "name": "stderr"
        },
        {
          "output_type": "stream",
          "text": [
            "[MoviePy] Done.\n",
            "[MoviePy] >>>> Video ready: video.mp4 \n",
            "\n"
          ],
          "name": "stdout"
        },
        {
          "output_type": "stream",
          "text": [
            "18-01-2020:04:43:53,999 INFO     [classes.py:207] 30.00 fps, 30 frames, 1.00 seconds\n",
            "18-01-2020:04:43:54,5 INFO     [classes.py:323] Deleted pre-existing output/video_output.mp4\n",
            "18-01-2020:04:45:15,605 INFO     [classes.py:307] Completed analysis: saved to output/video_output.mp4\n"
          ],
          "name": "stderr"
        },
        {
          "output_type": "stream",
          "text": [
            "./Finalised/User_15/run_2/video.mp4\n",
            "[MoviePy] >>>> Building video video.mp4\n",
            "[MoviePy] Writing audio in videoTEMP_MPY_wvf_snd.mp4\n"
          ],
          "name": "stdout"
        },
        {
          "output_type": "stream",
          "text": [
            "100%|██████████| 23/23 [00:00<00:00, 356.24it/s]"
          ],
          "name": "stderr"
        },
        {
          "output_type": "stream",
          "text": [
            "[MoviePy] Done.\n",
            "[MoviePy] Writing video video.mp4\n"
          ],
          "name": "stdout"
        },
        {
          "output_type": "stream",
          "text": [
            "\n",
            " 97%|█████████▋| 30/31 [00:03<00:00,  8.51it/s]\n"
          ],
          "name": "stderr"
        },
        {
          "output_type": "stream",
          "text": [
            "[MoviePy] Done.\n",
            "[MoviePy] >>>> Video ready: video.mp4 \n",
            "\n"
          ],
          "name": "stdout"
        },
        {
          "output_type": "stream",
          "text": [
            "18-01-2020:04:46:11,559 INFO     [classes.py:207] 30.00 fps, 30 frames, 1.00 seconds\n",
            "18-01-2020:04:46:11,567 INFO     [classes.py:323] Deleted pre-existing output/video_output.mp4\n",
            "18-01-2020:04:47:31,687 INFO     [classes.py:307] Completed analysis: saved to output/video_output.mp4\n"
          ],
          "name": "stderr"
        },
        {
          "output_type": "stream",
          "text": [
            "./Finalised/User_15/run_3/video.mp4\n",
            "[MoviePy] >>>> Building video video.mp4\n",
            "[MoviePy] Writing audio in videoTEMP_MPY_wvf_snd.mp4\n"
          ],
          "name": "stdout"
        },
        {
          "output_type": "stream",
          "text": [
            "100%|██████████| 23/23 [00:00<00:00, 401.41it/s]"
          ],
          "name": "stderr"
        },
        {
          "output_type": "stream",
          "text": [
            "[MoviePy] Done.\n",
            "[MoviePy] Writing video video.mp4\n"
          ],
          "name": "stdout"
        },
        {
          "output_type": "stream",
          "text": [
            "\n",
            " 97%|█████████▋| 30/31 [00:03<00:00,  8.31it/s]\n"
          ],
          "name": "stderr"
        },
        {
          "output_type": "stream",
          "text": [
            "[MoviePy] Done.\n",
            "[MoviePy] >>>> Video ready: video.mp4 \n",
            "\n"
          ],
          "name": "stdout"
        },
        {
          "output_type": "stream",
          "text": [
            "18-01-2020:04:48:27,368 INFO     [classes.py:207] 30.00 fps, 30 frames, 1.00 seconds\n",
            "18-01-2020:04:48:27,377 INFO     [classes.py:323] Deleted pre-existing output/video_output.mp4\n",
            "18-01-2020:04:49:40,293 INFO     [classes.py:307] Completed analysis: saved to output/video_output.mp4\n"
          ],
          "name": "stderr"
        },
        {
          "output_type": "stream",
          "text": [
            "./Finalised/User_15/run_4/video.mp4\n",
            "[MoviePy] >>>> Building video video.mp4\n",
            "[MoviePy] Writing audio in videoTEMP_MPY_wvf_snd.mp4\n"
          ],
          "name": "stdout"
        },
        {
          "output_type": "stream",
          "text": [
            "100%|██████████| 23/23 [00:00<00:00, 425.03it/s]"
          ],
          "name": "stderr"
        },
        {
          "output_type": "stream",
          "text": [
            "[MoviePy] Done.\n",
            "[MoviePy] Writing video video.mp4\n"
          ],
          "name": "stdout"
        },
        {
          "output_type": "stream",
          "text": [
            "\n",
            " 97%|█████████▋| 30/31 [00:03<00:00,  8.58it/s]\n"
          ],
          "name": "stderr"
        },
        {
          "output_type": "stream",
          "text": [
            "[MoviePy] Done.\n",
            "[MoviePy] >>>> Video ready: video.mp4 \n",
            "\n"
          ],
          "name": "stdout"
        },
        {
          "output_type": "stream",
          "text": [
            "18-01-2020:04:50:35,834 INFO     [classes.py:207] 30.00 fps, 30 frames, 1.00 seconds\n",
            "18-01-2020:04:50:35,842 INFO     [classes.py:323] Deleted pre-existing output/video_output.mp4\n",
            "18-01-2020:04:51:57,369 INFO     [classes.py:307] Completed analysis: saved to output/video_output.mp4\n"
          ],
          "name": "stderr"
        },
        {
          "output_type": "stream",
          "text": [
            "./Finalised/User_15/run_5/video.mp4\n",
            "[MoviePy] >>>> Building video video.mp4\n",
            "[MoviePy] Writing audio in videoTEMP_MPY_wvf_snd.mp4\n"
          ],
          "name": "stdout"
        },
        {
          "output_type": "stream",
          "text": [
            "100%|██████████| 23/23 [00:00<00:00, 399.56it/s]"
          ],
          "name": "stderr"
        },
        {
          "output_type": "stream",
          "text": [
            "[MoviePy] Done.\n",
            "[MoviePy] Writing video video.mp4\n"
          ],
          "name": "stdout"
        },
        {
          "output_type": "stream",
          "text": [
            "\n",
            " 97%|█████████▋| 30/31 [00:03<00:00,  8.16it/s]\n"
          ],
          "name": "stderr"
        },
        {
          "output_type": "stream",
          "text": [
            "[MoviePy] Done.\n",
            "[MoviePy] >>>> Video ready: video.mp4 \n",
            "\n"
          ],
          "name": "stdout"
        },
        {
          "output_type": "stream",
          "text": [
            "18-01-2020:04:52:52,721 INFO     [classes.py:207] 30.00 fps, 30 frames, 1.00 seconds\n",
            "18-01-2020:04:52:52,729 INFO     [classes.py:323] Deleted pre-existing output/video_output.mp4\n",
            "18-01-2020:04:54:09,756 INFO     [classes.py:307] Completed analysis: saved to output/video_output.mp4\n"
          ],
          "name": "stderr"
        },
        {
          "output_type": "stream",
          "text": [
            "./Finalised/User_15/run_6/video.mp4\n",
            "[MoviePy] >>>> Building video video.mp4\n",
            "[MoviePy] Writing audio in videoTEMP_MPY_wvf_snd.mp4\n"
          ],
          "name": "stdout"
        },
        {
          "output_type": "stream",
          "text": [
            "100%|██████████| 23/23 [00:00<00:00, 392.81it/s]"
          ],
          "name": "stderr"
        },
        {
          "output_type": "stream",
          "text": [
            "[MoviePy] Done.\n",
            "[MoviePy] Writing video video.mp4\n"
          ],
          "name": "stdout"
        },
        {
          "output_type": "stream",
          "text": [
            "\n",
            " 97%|█████████▋| 30/31 [00:03<00:00,  7.78it/s]\n"
          ],
          "name": "stderr"
        },
        {
          "output_type": "stream",
          "text": [
            "[MoviePy] Done.\n",
            "[MoviePy] >>>> Video ready: video.mp4 \n",
            "\n"
          ],
          "name": "stdout"
        },
        {
          "output_type": "stream",
          "text": [
            "18-01-2020:04:55:05,954 INFO     [classes.py:207] 30.00 fps, 30 frames, 1.00 seconds\n",
            "18-01-2020:04:55:05,960 INFO     [classes.py:323] Deleted pre-existing output/video_output.mp4\n",
            "18-01-2020:04:56:31,992 INFO     [classes.py:307] Completed analysis: saved to output/video_output.mp4\n"
          ],
          "name": "stderr"
        },
        {
          "output_type": "stream",
          "text": [
            "./Finalised/User_15/run_7/video.mp4\n",
            "[MoviePy] >>>> Building video video.mp4\n",
            "[MoviePy] Writing audio in videoTEMP_MPY_wvf_snd.mp4\n"
          ],
          "name": "stdout"
        },
        {
          "output_type": "stream",
          "text": [
            "100%|██████████| 23/23 [00:00<00:00, 414.01it/s]"
          ],
          "name": "stderr"
        },
        {
          "output_type": "stream",
          "text": [
            "[MoviePy] Done.\n",
            "[MoviePy] Writing video video.mp4\n"
          ],
          "name": "stdout"
        },
        {
          "output_type": "stream",
          "text": [
            "\n",
            " 97%|█████████▋| 30/31 [00:03<00:00,  7.97it/s]\n"
          ],
          "name": "stderr"
        },
        {
          "output_type": "stream",
          "text": [
            "[MoviePy] Done.\n",
            "[MoviePy] >>>> Video ready: video.mp4 \n",
            "\n"
          ],
          "name": "stdout"
        },
        {
          "output_type": "stream",
          "text": [
            "18-01-2020:04:57:28,781 INFO     [classes.py:207] 30.00 fps, 30 frames, 1.00 seconds\n",
            "18-01-2020:04:57:28,787 INFO     [classes.py:323] Deleted pre-existing output/video_output.mp4\n",
            "18-01-2020:04:58:53,435 INFO     [classes.py:307] Completed analysis: saved to output/video_output.mp4\n"
          ],
          "name": "stderr"
        },
        {
          "output_type": "stream",
          "text": [
            "./Finalised/User_15/run_8/video.mp4\n",
            "[MoviePy] >>>> Building video video.mp4\n",
            "[MoviePy] Writing audio in videoTEMP_MPY_wvf_snd.mp4\n"
          ],
          "name": "stdout"
        },
        {
          "output_type": "stream",
          "text": [
            "100%|██████████| 23/23 [00:00<00:00, 374.73it/s]"
          ],
          "name": "stderr"
        },
        {
          "output_type": "stream",
          "text": [
            "[MoviePy] Done.\n",
            "[MoviePy] Writing video video.mp4\n"
          ],
          "name": "stdout"
        },
        {
          "output_type": "stream",
          "text": [
            "\n",
            " 97%|█████████▋| 30/31 [00:03<00:00,  8.15it/s]\n"
          ],
          "name": "stderr"
        },
        {
          "output_type": "stream",
          "text": [
            "[MoviePy] Done.\n",
            "[MoviePy] >>>> Video ready: video.mp4 \n",
            "\n"
          ],
          "name": "stdout"
        },
        {
          "output_type": "stream",
          "text": [
            "18-01-2020:04:59:49,838 INFO     [classes.py:207] 30.00 fps, 30 frames, 1.00 seconds\n",
            "18-01-2020:04:59:49,845 INFO     [classes.py:323] Deleted pre-existing output/video_output.mp4\n",
            "18-01-2020:05:01:10,297 INFO     [classes.py:307] Completed analysis: saved to output/video_output.mp4\n"
          ],
          "name": "stderr"
        },
        {
          "output_type": "stream",
          "text": [
            "./Finalised/User_15/run_9/video.mp4\n",
            "[MoviePy] >>>> Building video video.mp4\n",
            "[MoviePy] Writing audio in videoTEMP_MPY_wvf_snd.mp4\n"
          ],
          "name": "stdout"
        },
        {
          "output_type": "stream",
          "text": [
            "100%|██████████| 23/23 [00:00<00:00, 375.00it/s]"
          ],
          "name": "stderr"
        },
        {
          "output_type": "stream",
          "text": [
            "[MoviePy] Done.\n",
            "[MoviePy] Writing video video.mp4\n"
          ],
          "name": "stdout"
        },
        {
          "output_type": "stream",
          "text": [
            "\n",
            " 97%|█████████▋| 30/31 [00:03<00:00,  7.14it/s]\n"
          ],
          "name": "stderr"
        },
        {
          "output_type": "stream",
          "text": [
            "[MoviePy] Done.\n",
            "[MoviePy] >>>> Video ready: video.mp4 \n",
            "\n"
          ],
          "name": "stdout"
        },
        {
          "output_type": "stream",
          "text": [
            "18-01-2020:05:02:07,454 INFO     [classes.py:207] 30.00 fps, 30 frames, 1.00 seconds\n",
            "18-01-2020:05:02:07,461 INFO     [classes.py:323] Deleted pre-existing output/video_output.mp4\n",
            "18-01-2020:05:03:30,93 INFO     [classes.py:307] Completed analysis: saved to output/video_output.mp4\n"
          ],
          "name": "stderr"
        },
        {
          "output_type": "stream",
          "text": [
            "./Finalised/User_16/run_0/video.mp4\n",
            "[MoviePy] >>>> Building video video.mp4\n",
            "[MoviePy] Writing audio in videoTEMP_MPY_wvf_snd.mp4\n"
          ],
          "name": "stdout"
        },
        {
          "output_type": "stream",
          "text": [
            "100%|██████████| 23/23 [00:00<00:00, 376.35it/s]"
          ],
          "name": "stderr"
        },
        {
          "output_type": "stream",
          "text": [
            "[MoviePy] Done.\n",
            "[MoviePy] Writing video video.mp4\n"
          ],
          "name": "stdout"
        },
        {
          "output_type": "stream",
          "text": [
            "\n",
            " 97%|█████████▋| 30/31 [00:03<00:00,  7.94it/s]\n"
          ],
          "name": "stderr"
        },
        {
          "output_type": "stream",
          "text": [
            "[MoviePy] Done.\n",
            "[MoviePy] >>>> Video ready: video.mp4 \n",
            "\n"
          ],
          "name": "stdout"
        },
        {
          "output_type": "stream",
          "text": [
            "18-01-2020:05:04:26,532 INFO     [classes.py:207] 30.00 fps, 30 frames, 1.00 seconds\n",
            "18-01-2020:05:04:26,540 INFO     [classes.py:323] Deleted pre-existing output/video_output.mp4\n",
            "18-01-2020:05:05:15,997 INFO     [classes.py:307] Completed analysis: saved to output/video_output.mp4\n"
          ],
          "name": "stderr"
        },
        {
          "output_type": "stream",
          "text": [
            "./Finalised/User_16/run_1/video.mp4\n",
            "[MoviePy] >>>> Building video video.mp4\n",
            "[MoviePy] Writing audio in videoTEMP_MPY_wvf_snd.mp4\n"
          ],
          "name": "stdout"
        },
        {
          "output_type": "stream",
          "text": [
            "100%|██████████| 23/23 [00:00<00:00, 373.25it/s]"
          ],
          "name": "stderr"
        },
        {
          "output_type": "stream",
          "text": [
            "[MoviePy] Done.\n",
            "[MoviePy] Writing video video.mp4\n"
          ],
          "name": "stdout"
        },
        {
          "output_type": "stream",
          "text": [
            "\n",
            " 97%|█████████▋| 30/31 [00:03<00:00,  7.86it/s]\n"
          ],
          "name": "stderr"
        },
        {
          "output_type": "stream",
          "text": [
            "[MoviePy] Done.\n",
            "[MoviePy] >>>> Video ready: video.mp4 \n",
            "\n"
          ],
          "name": "stdout"
        },
        {
          "output_type": "stream",
          "text": [
            "18-01-2020:05:06:12,315 INFO     [classes.py:207] 30.00 fps, 30 frames, 1.00 seconds\n",
            "18-01-2020:05:06:12,322 INFO     [classes.py:323] Deleted pre-existing output/video_output.mp4\n",
            "18-01-2020:05:07:01,442 INFO     [classes.py:307] Completed analysis: saved to output/video_output.mp4\n"
          ],
          "name": "stderr"
        },
        {
          "output_type": "stream",
          "text": [
            "./Finalised/User_16/run_2/video.mp4\n",
            "[MoviePy] >>>> Building video video.mp4\n",
            "[MoviePy] Writing audio in videoTEMP_MPY_wvf_snd.mp4\n"
          ],
          "name": "stdout"
        },
        {
          "output_type": "stream",
          "text": [
            "100%|██████████| 23/23 [00:00<00:00, 384.32it/s]"
          ],
          "name": "stderr"
        },
        {
          "output_type": "stream",
          "text": [
            "[MoviePy] Done.\n",
            "[MoviePy] Writing video video.mp4\n"
          ],
          "name": "stdout"
        },
        {
          "output_type": "stream",
          "text": [
            "\n",
            " 97%|█████████▋| 30/31 [00:03<00:00,  8.52it/s]\n"
          ],
          "name": "stderr"
        },
        {
          "output_type": "stream",
          "text": [
            "[MoviePy] Done.\n",
            "[MoviePy] >>>> Video ready: video.mp4 \n",
            "\n"
          ],
          "name": "stdout"
        },
        {
          "output_type": "stream",
          "text": [
            "18-01-2020:05:07:57,548 INFO     [classes.py:207] 30.00 fps, 30 frames, 1.00 seconds\n",
            "18-01-2020:05:07:57,557 INFO     [classes.py:323] Deleted pre-existing output/video_output.mp4\n",
            "18-01-2020:05:08:46,781 INFO     [classes.py:307] Completed analysis: saved to output/video_output.mp4\n"
          ],
          "name": "stderr"
        },
        {
          "output_type": "stream",
          "text": [
            "./Finalised/User_16/run_3/video.mp4\n",
            "[MoviePy] >>>> Building video video.mp4\n",
            "[MoviePy] Writing audio in videoTEMP_MPY_wvf_snd.mp4\n"
          ],
          "name": "stdout"
        },
        {
          "output_type": "stream",
          "text": [
            "100%|██████████| 23/23 [00:00<00:00, 401.24it/s]"
          ],
          "name": "stderr"
        },
        {
          "output_type": "stream",
          "text": [
            "[MoviePy] Done.\n",
            "[MoviePy] Writing video video.mp4\n"
          ],
          "name": "stdout"
        },
        {
          "output_type": "stream",
          "text": [
            "\n",
            " 97%|█████████▋| 30/31 [00:03<00:00,  8.62it/s]\n"
          ],
          "name": "stderr"
        },
        {
          "output_type": "stream",
          "text": [
            "[MoviePy] Done.\n",
            "[MoviePy] >>>> Video ready: video.mp4 \n",
            "\n"
          ],
          "name": "stdout"
        },
        {
          "output_type": "stream",
          "text": [
            "18-01-2020:05:09:44,398 INFO     [classes.py:207] 30.00 fps, 30 frames, 1.00 seconds\n",
            "18-01-2020:05:09:44,405 INFO     [classes.py:323] Deleted pre-existing output/video_output.mp4\n",
            "18-01-2020:05:10:34,7 INFO     [classes.py:307] Completed analysis: saved to output/video_output.mp4\n"
          ],
          "name": "stderr"
        },
        {
          "output_type": "stream",
          "text": [
            "./Finalised/User_16/run_4/video.mp4\n",
            "[MoviePy] >>>> Building video video.mp4\n",
            "[MoviePy] Writing audio in videoTEMP_MPY_wvf_snd.mp4\n"
          ],
          "name": "stdout"
        },
        {
          "output_type": "stream",
          "text": [
            "100%|██████████| 23/23 [00:00<00:00, 361.92it/s]"
          ],
          "name": "stderr"
        },
        {
          "output_type": "stream",
          "text": [
            "[MoviePy] Done.\n",
            "[MoviePy] Writing video video.mp4\n"
          ],
          "name": "stdout"
        },
        {
          "output_type": "stream",
          "text": [
            "\n",
            " 97%|█████████▋| 30/31 [00:03<00:00,  8.28it/s]\n"
          ],
          "name": "stderr"
        },
        {
          "output_type": "stream",
          "text": [
            "[MoviePy] Done.\n",
            "[MoviePy] >>>> Video ready: video.mp4 \n",
            "\n"
          ],
          "name": "stdout"
        },
        {
          "output_type": "stream",
          "text": [
            "18-01-2020:05:11:31,55 INFO     [classes.py:207] 30.00 fps, 30 frames, 1.00 seconds\n",
            "18-01-2020:05:11:31,59 INFO     [classes.py:323] Deleted pre-existing output/video_output.mp4\n",
            "18-01-2020:05:12:20,562 INFO     [classes.py:307] Completed analysis: saved to output/video_output.mp4\n"
          ],
          "name": "stderr"
        },
        {
          "output_type": "stream",
          "text": [
            "./Finalised/User_16/run_5/video.mp4\n",
            "[MoviePy] >>>> Building video video.mp4\n",
            "[MoviePy] Writing audio in videoTEMP_MPY_wvf_snd.mp4\n"
          ],
          "name": "stdout"
        },
        {
          "output_type": "stream",
          "text": [
            "100%|██████████| 23/23 [00:00<00:00, 420.59it/s]"
          ],
          "name": "stderr"
        },
        {
          "output_type": "stream",
          "text": [
            "[MoviePy] Done.\n",
            "[MoviePy] Writing video video.mp4\n"
          ],
          "name": "stdout"
        },
        {
          "output_type": "stream",
          "text": [
            "\n",
            " 97%|█████████▋| 30/31 [00:03<00:00,  8.47it/s]\n"
          ],
          "name": "stderr"
        },
        {
          "output_type": "stream",
          "text": [
            "[MoviePy] Done.\n",
            "[MoviePy] >>>> Video ready: video.mp4 \n",
            "\n"
          ],
          "name": "stdout"
        },
        {
          "output_type": "stream",
          "text": [
            "18-01-2020:05:13:17,776 INFO     [classes.py:207] 30.00 fps, 30 frames, 1.00 seconds\n",
            "18-01-2020:05:13:17,781 INFO     [classes.py:323] Deleted pre-existing output/video_output.mp4\n",
            "18-01-2020:05:14:07,333 INFO     [classes.py:307] Completed analysis: saved to output/video_output.mp4\n"
          ],
          "name": "stderr"
        },
        {
          "output_type": "stream",
          "text": [
            "./Finalised/User_16/run_6/video.mp4\n",
            "[MoviePy] >>>> Building video video.mp4\n",
            "[MoviePy] Writing audio in videoTEMP_MPY_wvf_snd.mp4\n"
          ],
          "name": "stdout"
        },
        {
          "output_type": "stream",
          "text": [
            "100%|██████████| 23/23 [00:00<00:00, 388.72it/s]"
          ],
          "name": "stderr"
        },
        {
          "output_type": "stream",
          "text": [
            "[MoviePy] Done.\n",
            "[MoviePy] Writing video video.mp4\n"
          ],
          "name": "stdout"
        },
        {
          "output_type": "stream",
          "text": [
            "\n",
            " 97%|█████████▋| 30/31 [00:03<00:00,  7.81it/s]\n"
          ],
          "name": "stderr"
        },
        {
          "output_type": "stream",
          "text": [
            "[MoviePy] Done.\n",
            "[MoviePy] >>>> Video ready: video.mp4 \n",
            "\n"
          ],
          "name": "stdout"
        },
        {
          "output_type": "stream",
          "text": [
            "18-01-2020:05:15:05,228 INFO     [classes.py:207] 30.00 fps, 30 frames, 1.00 seconds\n",
            "18-01-2020:05:15:05,236 INFO     [classes.py:323] Deleted pre-existing output/video_output.mp4\n",
            "18-01-2020:05:15:54,720 INFO     [classes.py:307] Completed analysis: saved to output/video_output.mp4\n"
          ],
          "name": "stderr"
        },
        {
          "output_type": "stream",
          "text": [
            "./Finalised/User_16/run_7/video.mp4\n",
            "[MoviePy] >>>> Building video video.mp4\n",
            "[MoviePy] Writing audio in videoTEMP_MPY_wvf_snd.mp4\n"
          ],
          "name": "stdout"
        },
        {
          "output_type": "stream",
          "text": [
            "100%|██████████| 23/23 [00:00<00:00, 412.10it/s]"
          ],
          "name": "stderr"
        },
        {
          "output_type": "stream",
          "text": [
            "[MoviePy] Done.\n",
            "[MoviePy] Writing video video.mp4\n"
          ],
          "name": "stdout"
        },
        {
          "output_type": "stream",
          "text": [
            "\n",
            " 97%|█████████▋| 30/31 [00:03<00:00,  8.43it/s]\n"
          ],
          "name": "stderr"
        },
        {
          "output_type": "stream",
          "text": [
            "[MoviePy] Done.\n",
            "[MoviePy] >>>> Video ready: video.mp4 \n",
            "\n"
          ],
          "name": "stdout"
        },
        {
          "output_type": "stream",
          "text": [
            "18-01-2020:05:16:52,426 INFO     [classes.py:207] 30.00 fps, 30 frames, 1.00 seconds\n",
            "18-01-2020:05:16:52,435 INFO     [classes.py:323] Deleted pre-existing output/video_output.mp4\n",
            "18-01-2020:05:17:42,22 INFO     [classes.py:307] Completed analysis: saved to output/video_output.mp4\n"
          ],
          "name": "stderr"
        },
        {
          "output_type": "stream",
          "text": [
            "./Finalised/User_16/run_8/video.mp4\n",
            "[MoviePy] >>>> Building video video.mp4\n",
            "[MoviePy] Writing audio in videoTEMP_MPY_wvf_snd.mp4\n"
          ],
          "name": "stdout"
        },
        {
          "output_type": "stream",
          "text": [
            "100%|██████████| 23/23 [00:00<00:00, 404.09it/s]"
          ],
          "name": "stderr"
        },
        {
          "output_type": "stream",
          "text": [
            "[MoviePy] Done.\n",
            "[MoviePy] Writing video video.mp4\n"
          ],
          "name": "stdout"
        },
        {
          "output_type": "stream",
          "text": [
            "\n",
            " 97%|█████████▋| 30/31 [00:03<00:00,  8.19it/s]\n"
          ],
          "name": "stderr"
        },
        {
          "output_type": "stream",
          "text": [
            "[MoviePy] Done.\n",
            "[MoviePy] >>>> Video ready: video.mp4 \n",
            "\n"
          ],
          "name": "stdout"
        },
        {
          "output_type": "stream",
          "text": [
            "18-01-2020:05:18:39,400 INFO     [classes.py:207] 30.00 fps, 30 frames, 1.00 seconds\n",
            "18-01-2020:05:18:39,406 INFO     [classes.py:323] Deleted pre-existing output/video_output.mp4\n",
            "18-01-2020:05:19:29,124 INFO     [classes.py:307] Completed analysis: saved to output/video_output.mp4\n"
          ],
          "name": "stderr"
        },
        {
          "output_type": "stream",
          "text": [
            "./Finalised/User_16/run_9/video.mp4\n",
            "[MoviePy] >>>> Building video video.mp4\n",
            "[MoviePy] Writing audio in videoTEMP_MPY_wvf_snd.mp4\n"
          ],
          "name": "stdout"
        },
        {
          "output_type": "stream",
          "text": [
            "100%|██████████| 23/23 [00:00<00:00, 402.46it/s]"
          ],
          "name": "stderr"
        },
        {
          "output_type": "stream",
          "text": [
            "[MoviePy] Done.\n",
            "[MoviePy] Writing video video.mp4\n"
          ],
          "name": "stdout"
        },
        {
          "output_type": "stream",
          "text": [
            "\n",
            " 97%|█████████▋| 30/31 [00:03<00:00,  8.58it/s]\n"
          ],
          "name": "stderr"
        },
        {
          "output_type": "stream",
          "text": [
            "[MoviePy] Done.\n",
            "[MoviePy] >>>> Video ready: video.mp4 \n",
            "\n"
          ],
          "name": "stdout"
        },
        {
          "output_type": "stream",
          "text": [
            "18-01-2020:05:20:27,334 INFO     [classes.py:207] 30.00 fps, 30 frames, 1.00 seconds\n",
            "18-01-2020:05:20:27,340 INFO     [classes.py:323] Deleted pre-existing output/video_output.mp4\n",
            "18-01-2020:05:21:16,744 INFO     [classes.py:307] Completed analysis: saved to output/video_output.mp4\n"
          ],
          "name": "stderr"
        },
        {
          "output_type": "stream",
          "text": [
            "./Finalised/User_17/run_0/video.mp4\n",
            "[MoviePy] >>>> Building video video.mp4\n",
            "[MoviePy] Writing audio in videoTEMP_MPY_wvf_snd.mp4\n"
          ],
          "name": "stdout"
        },
        {
          "output_type": "stream",
          "text": [
            "100%|██████████| 23/23 [00:00<00:00, 354.33it/s]"
          ],
          "name": "stderr"
        },
        {
          "output_type": "stream",
          "text": [
            "[MoviePy] Done.\n",
            "[MoviePy] Writing video video.mp4\n"
          ],
          "name": "stdout"
        },
        {
          "output_type": "stream",
          "text": [
            "\n",
            " 97%|█████████▋| 30/31 [00:03<00:00,  9.17it/s]\n"
          ],
          "name": "stderr"
        },
        {
          "output_type": "stream",
          "text": [
            "[MoviePy] Done.\n",
            "[MoviePy] >>>> Video ready: video.mp4 \n",
            "\n"
          ],
          "name": "stdout"
        },
        {
          "output_type": "stream",
          "text": [
            "18-01-2020:05:22:13,327 INFO     [classes.py:207] 30.00 fps, 30 frames, 1.00 seconds\n",
            "18-01-2020:05:22:13,335 INFO     [classes.py:323] Deleted pre-existing output/video_output.mp4\n",
            "18-01-2020:05:22:58,988 INFO     [classes.py:307] Completed analysis: saved to output/video_output.mp4\n"
          ],
          "name": "stderr"
        },
        {
          "output_type": "stream",
          "text": [
            "./Finalised/User_17/run_1/video.mp4\n",
            "[MoviePy] >>>> Building video video.mp4\n",
            "[MoviePy] Writing audio in videoTEMP_MPY_wvf_snd.mp4\n"
          ],
          "name": "stdout"
        },
        {
          "output_type": "stream",
          "text": [
            "100%|██████████| 23/23 [00:00<00:00, 413.73it/s]"
          ],
          "name": "stderr"
        },
        {
          "output_type": "stream",
          "text": [
            "[MoviePy] Done.\n",
            "[MoviePy] Writing video video.mp4\n"
          ],
          "name": "stdout"
        },
        {
          "output_type": "stream",
          "text": [
            "\n",
            " 97%|█████████▋| 30/31 [00:03<00:00,  7.82it/s]\n"
          ],
          "name": "stderr"
        },
        {
          "output_type": "stream",
          "text": [
            "[MoviePy] Done.\n",
            "[MoviePy] >>>> Video ready: video.mp4 \n",
            "\n"
          ],
          "name": "stdout"
        },
        {
          "output_type": "stream",
          "text": [
            "18-01-2020:05:23:52,577 INFO     [classes.py:207] 30.00 fps, 30 frames, 1.00 seconds\n",
            "18-01-2020:05:23:52,581 INFO     [classes.py:323] Deleted pre-existing output/video_output.mp4\n",
            "18-01-2020:05:24:38,485 INFO     [classes.py:307] Completed analysis: saved to output/video_output.mp4\n"
          ],
          "name": "stderr"
        },
        {
          "output_type": "stream",
          "text": [
            "./Finalised/User_17/run_2/video.mp4\n",
            "[MoviePy] >>>> Building video video.mp4\n",
            "[MoviePy] Writing audio in videoTEMP_MPY_wvf_snd.mp4\n"
          ],
          "name": "stdout"
        },
        {
          "output_type": "stream",
          "text": [
            "100%|██████████| 23/23 [00:00<00:00, 403.25it/s]"
          ],
          "name": "stderr"
        },
        {
          "output_type": "stream",
          "text": [
            "[MoviePy] Done.\n",
            "[MoviePy] Writing video video.mp4\n"
          ],
          "name": "stdout"
        },
        {
          "output_type": "stream",
          "text": [
            "\n",
            " 97%|█████████▋| 30/31 [00:03<00:00,  8.95it/s]\n"
          ],
          "name": "stderr"
        },
        {
          "output_type": "stream",
          "text": [
            "[MoviePy] Done.\n",
            "[MoviePy] >>>> Video ready: video.mp4 \n",
            "\n"
          ],
          "name": "stdout"
        },
        {
          "output_type": "stream",
          "text": [
            "18-01-2020:05:25:32,668 INFO     [classes.py:207] 30.00 fps, 30 frames, 1.00 seconds\n",
            "18-01-2020:05:25:32,673 INFO     [classes.py:323] Deleted pre-existing output/video_output.mp4\n",
            "18-01-2020:05:26:19,354 INFO     [classes.py:307] Completed analysis: saved to output/video_output.mp4\n"
          ],
          "name": "stderr"
        },
        {
          "output_type": "stream",
          "text": [
            "./Finalised/User_17/run_3/video.mp4\n",
            "[MoviePy] >>>> Building video video.mp4\n",
            "[MoviePy] Writing audio in videoTEMP_MPY_wvf_snd.mp4\n"
          ],
          "name": "stdout"
        },
        {
          "output_type": "stream",
          "text": [
            "100%|██████████| 23/23 [00:00<00:00, 399.94it/s]"
          ],
          "name": "stderr"
        },
        {
          "output_type": "stream",
          "text": [
            "[MoviePy] Done.\n",
            "[MoviePy] Writing video video.mp4\n"
          ],
          "name": "stdout"
        },
        {
          "output_type": "stream",
          "text": [
            "\n",
            " 97%|█████████▋| 30/31 [00:03<00:00,  8.29it/s]\n"
          ],
          "name": "stderr"
        },
        {
          "output_type": "stream",
          "text": [
            "[MoviePy] Done.\n",
            "[MoviePy] >>>> Video ready: video.mp4 \n",
            "\n"
          ],
          "name": "stdout"
        },
        {
          "output_type": "stream",
          "text": [
            "18-01-2020:05:27:14,421 INFO     [classes.py:207] 30.00 fps, 30 frames, 1.00 seconds\n",
            "18-01-2020:05:27:14,428 INFO     [classes.py:323] Deleted pre-existing output/video_output.mp4\n",
            "18-01-2020:05:28:00,733 INFO     [classes.py:307] Completed analysis: saved to output/video_output.mp4\n"
          ],
          "name": "stderr"
        },
        {
          "output_type": "stream",
          "text": [
            "./Finalised/User_17/run_4/video.mp4\n",
            "[MoviePy] >>>> Building video video.mp4\n",
            "[MoviePy] Writing audio in videoTEMP_MPY_wvf_snd.mp4\n"
          ],
          "name": "stdout"
        },
        {
          "output_type": "stream",
          "text": [
            "100%|██████████| 23/23 [00:00<00:00, 424.00it/s]"
          ],
          "name": "stderr"
        },
        {
          "output_type": "stream",
          "text": [
            "[MoviePy] Done.\n",
            "[MoviePy] Writing video video.mp4\n"
          ],
          "name": "stdout"
        },
        {
          "output_type": "stream",
          "text": [
            "\n",
            " 97%|█████████▋| 30/31 [00:03<00:00,  8.47it/s]\n"
          ],
          "name": "stderr"
        },
        {
          "output_type": "stream",
          "text": [
            "[MoviePy] Done.\n",
            "[MoviePy] >>>> Video ready: video.mp4 \n",
            "\n"
          ],
          "name": "stdout"
        },
        {
          "output_type": "stream",
          "text": [
            "18-01-2020:05:28:53,454 INFO     [classes.py:207] 30.00 fps, 30 frames, 1.00 seconds\n",
            "18-01-2020:05:28:53,462 INFO     [classes.py:323] Deleted pre-existing output/video_output.mp4\n",
            "18-01-2020:05:29:27,830 INFO     [classes.py:307] Completed analysis: saved to output/video_output.mp4\n"
          ],
          "name": "stderr"
        },
        {
          "output_type": "stream",
          "text": [
            "./Finalised/User_17/run_5/video.mp4\n",
            "[MoviePy] >>>> Building video video.mp4\n",
            "[MoviePy] Writing audio in videoTEMP_MPY_wvf_snd.mp4\n"
          ],
          "name": "stdout"
        },
        {
          "output_type": "stream",
          "text": [
            "100%|██████████| 23/23 [00:00<00:00, 376.39it/s]"
          ],
          "name": "stderr"
        },
        {
          "output_type": "stream",
          "text": [
            "[MoviePy] Done.\n",
            "[MoviePy] Writing video video.mp4\n"
          ],
          "name": "stdout"
        },
        {
          "output_type": "stream",
          "text": [
            "\n",
            " 97%|█████████▋| 30/31 [00:03<00:00,  9.20it/s]\n"
          ],
          "name": "stderr"
        },
        {
          "output_type": "stream",
          "text": [
            "[MoviePy] Done.\n",
            "[MoviePy] >>>> Video ready: video.mp4 \n",
            "\n"
          ],
          "name": "stdout"
        },
        {
          "output_type": "stream",
          "text": [
            "18-01-2020:05:30:22,863 INFO     [classes.py:207] 30.00 fps, 30 frames, 1.00 seconds\n",
            "18-01-2020:05:30:22,867 INFO     [classes.py:323] Deleted pre-existing output/video_output.mp4\n",
            "18-01-2020:05:31:10,819 INFO     [classes.py:307] Completed analysis: saved to output/video_output.mp4\n"
          ],
          "name": "stderr"
        },
        {
          "output_type": "stream",
          "text": [
            "./Finalised/User_17/run_6/video.mp4\n",
            "[MoviePy] >>>> Building video video.mp4\n",
            "[MoviePy] Writing audio in videoTEMP_MPY_wvf_snd.mp4\n"
          ],
          "name": "stdout"
        },
        {
          "output_type": "stream",
          "text": [
            "100%|██████████| 23/23 [00:00<00:00, 386.49it/s]"
          ],
          "name": "stderr"
        },
        {
          "output_type": "stream",
          "text": [
            "[MoviePy] Done.\n",
            "[MoviePy] Writing video video.mp4\n"
          ],
          "name": "stdout"
        },
        {
          "output_type": "stream",
          "text": [
            "\n",
            " 97%|█████████▋| 30/31 [00:03<00:00,  8.63it/s]\n"
          ],
          "name": "stderr"
        },
        {
          "output_type": "stream",
          "text": [
            "[MoviePy] Done.\n",
            "[MoviePy] >>>> Video ready: video.mp4 \n",
            "\n"
          ],
          "name": "stdout"
        },
        {
          "output_type": "stream",
          "text": [
            "18-01-2020:05:32:03,410 INFO     [classes.py:207] 30.00 fps, 30 frames, 1.00 seconds\n",
            "18-01-2020:05:32:03,418 INFO     [classes.py:323] Deleted pre-existing output/video_output.mp4\n",
            "18-01-2020:05:32:50,954 INFO     [classes.py:307] Completed analysis: saved to output/video_output.mp4\n"
          ],
          "name": "stderr"
        },
        {
          "output_type": "stream",
          "text": [
            "./Finalised/User_17/run_7/video.mp4\n",
            "[MoviePy] >>>> Building video video.mp4\n",
            "[MoviePy] Writing audio in videoTEMP_MPY_wvf_snd.mp4\n"
          ],
          "name": "stdout"
        },
        {
          "output_type": "stream",
          "text": [
            "100%|██████████| 23/23 [00:00<00:00, 398.26it/s]"
          ],
          "name": "stderr"
        },
        {
          "output_type": "stream",
          "text": [
            "[MoviePy] Done.\n",
            "[MoviePy] Writing video video.mp4\n"
          ],
          "name": "stdout"
        },
        {
          "output_type": "stream",
          "text": [
            "\n",
            " 97%|█████████▋| 30/31 [00:03<00:00,  9.00it/s]\n"
          ],
          "name": "stderr"
        },
        {
          "output_type": "stream",
          "text": [
            "[MoviePy] Done.\n",
            "[MoviePy] >>>> Video ready: video.mp4 \n",
            "\n"
          ],
          "name": "stdout"
        },
        {
          "output_type": "stream",
          "text": [
            "18-01-2020:05:33:45,259 INFO     [classes.py:207] 30.00 fps, 30 frames, 1.00 seconds\n",
            "18-01-2020:05:33:45,268 INFO     [classes.py:323] Deleted pre-existing output/video_output.mp4\n",
            "18-01-2020:05:34:34,441 INFO     [classes.py:307] Completed analysis: saved to output/video_output.mp4\n"
          ],
          "name": "stderr"
        },
        {
          "output_type": "stream",
          "text": [
            "./Finalised/User_17/run_8/video.mp4\n",
            "[MoviePy] >>>> Building video video.mp4\n",
            "[MoviePy] Writing audio in videoTEMP_MPY_wvf_snd.mp4\n"
          ],
          "name": "stdout"
        },
        {
          "output_type": "stream",
          "text": [
            "100%|██████████| 23/23 [00:00<00:00, 380.91it/s]"
          ],
          "name": "stderr"
        },
        {
          "output_type": "stream",
          "text": [
            "[MoviePy] Done.\n",
            "[MoviePy] Writing video video.mp4\n"
          ],
          "name": "stdout"
        },
        {
          "output_type": "stream",
          "text": [
            "\n",
            " 97%|█████████▋| 30/31 [00:03<00:00,  9.15it/s]\n"
          ],
          "name": "stderr"
        },
        {
          "output_type": "stream",
          "text": [
            "[MoviePy] Done.\n",
            "[MoviePy] >>>> Video ready: video.mp4 \n",
            "\n"
          ],
          "name": "stdout"
        },
        {
          "output_type": "stream",
          "text": [
            "18-01-2020:05:35:28,158 INFO     [classes.py:207] 30.00 fps, 30 frames, 1.00 seconds\n",
            "18-01-2020:05:35:28,165 INFO     [classes.py:323] Deleted pre-existing output/video_output.mp4\n",
            "18-01-2020:05:36:14,109 INFO     [classes.py:307] Completed analysis: saved to output/video_output.mp4\n"
          ],
          "name": "stderr"
        },
        {
          "output_type": "stream",
          "text": [
            "./Finalised/User_17/run_9/video.mp4\n",
            "[MoviePy] >>>> Building video video.mp4\n",
            "[MoviePy] Writing audio in videoTEMP_MPY_wvf_snd.mp4\n"
          ],
          "name": "stdout"
        },
        {
          "output_type": "stream",
          "text": [
            "100%|██████████| 23/23 [00:00<00:00, 368.48it/s]"
          ],
          "name": "stderr"
        },
        {
          "output_type": "stream",
          "text": [
            "[MoviePy] Done.\n",
            "[MoviePy] Writing video video.mp4\n"
          ],
          "name": "stdout"
        },
        {
          "output_type": "stream",
          "text": [
            "\n",
            " 97%|█████████▋| 30/31 [00:03<00:00,  8.66it/s]\n"
          ],
          "name": "stderr"
        },
        {
          "output_type": "stream",
          "text": [
            "[MoviePy] Done.\n",
            "[MoviePy] >>>> Video ready: video.mp4 \n",
            "\n"
          ],
          "name": "stdout"
        },
        {
          "output_type": "stream",
          "text": [
            "18-01-2020:05:37:07,204 INFO     [classes.py:207] 30.00 fps, 30 frames, 1.00 seconds\n",
            "18-01-2020:05:37:07,211 INFO     [classes.py:323] Deleted pre-existing output/video_output.mp4\n",
            "18-01-2020:05:37:55,714 INFO     [classes.py:307] Completed analysis: saved to output/video_output.mp4\n"
          ],
          "name": "stderr"
        },
        {
          "output_type": "stream",
          "text": [
            "./Finalised/User_18/run_0/video.mp4\n",
            "[MoviePy] >>>> Building video video.mp4\n",
            "[MoviePy] Writing audio in videoTEMP_MPY_wvf_snd.mp4\n"
          ],
          "name": "stdout"
        },
        {
          "output_type": "stream",
          "text": [
            "100%|██████████| 23/23 [00:00<00:00, 399.56it/s]"
          ],
          "name": "stderr"
        },
        {
          "output_type": "stream",
          "text": [
            "[MoviePy] Done.\n",
            "[MoviePy] Writing video video.mp4\n"
          ],
          "name": "stdout"
        },
        {
          "output_type": "stream",
          "text": [
            "\n",
            " 97%|█████████▋| 30/31 [00:03<00:00,  8.51it/s]\n"
          ],
          "name": "stderr"
        },
        {
          "output_type": "stream",
          "text": [
            "[MoviePy] Done.\n",
            "[MoviePy] >>>> Video ready: video.mp4 \n",
            "\n"
          ],
          "name": "stdout"
        },
        {
          "output_type": "stream",
          "text": [
            "18-01-2020:05:38:52,690 INFO     [classes.py:207] 30.00 fps, 30 frames, 1.00 seconds\n",
            "18-01-2020:05:38:52,695 INFO     [classes.py:323] Deleted pre-existing output/video_output.mp4\n",
            "18-01-2020:05:39:45,343 INFO     [classes.py:307] Completed analysis: saved to output/video_output.mp4\n"
          ],
          "name": "stderr"
        },
        {
          "output_type": "stream",
          "text": [
            "./Finalised/User_18/run_1/video.mp4\n",
            "[MoviePy] >>>> Building video video.mp4\n",
            "[MoviePy] Writing audio in videoTEMP_MPY_wvf_snd.mp4\n"
          ],
          "name": "stdout"
        },
        {
          "output_type": "stream",
          "text": [
            "100%|██████████| 23/23 [00:00<00:00, 411.19it/s]"
          ],
          "name": "stderr"
        },
        {
          "output_type": "stream",
          "text": [
            "[MoviePy] Done.\n",
            "[MoviePy] Writing video video.mp4\n"
          ],
          "name": "stdout"
        },
        {
          "output_type": "stream",
          "text": [
            "\n",
            " 97%|█████████▋| 30/31 [00:03<00:00,  8.00it/s]\n"
          ],
          "name": "stderr"
        },
        {
          "output_type": "stream",
          "text": [
            "[MoviePy] Done.\n",
            "[MoviePy] >>>> Video ready: video.mp4 \n",
            "\n"
          ],
          "name": "stdout"
        },
        {
          "output_type": "stream",
          "text": [
            "18-01-2020:05:40:39,457 INFO     [classes.py:207] 30.00 fps, 30 frames, 1.00 seconds\n",
            "18-01-2020:05:40:39,462 INFO     [classes.py:323] Deleted pre-existing output/video_output.mp4\n",
            "18-01-2020:05:41:31,637 INFO     [classes.py:307] Completed analysis: saved to output/video_output.mp4\n"
          ],
          "name": "stderr"
        },
        {
          "output_type": "stream",
          "text": [
            "./Finalised/User_18/run_2/video.mp4\n",
            "[MoviePy] >>>> Building video video.mp4\n",
            "[MoviePy] Writing audio in videoTEMP_MPY_wvf_snd.mp4\n"
          ],
          "name": "stdout"
        },
        {
          "output_type": "stream",
          "text": [
            "100%|██████████| 23/23 [00:00<00:00, 415.15it/s]"
          ],
          "name": "stderr"
        },
        {
          "output_type": "stream",
          "text": [
            "[MoviePy] Done.\n",
            "[MoviePy] Writing video video.mp4\n"
          ],
          "name": "stdout"
        },
        {
          "output_type": "stream",
          "text": [
            "\n",
            " 97%|█████████▋| 30/31 [00:03<00:00,  8.79it/s]\n"
          ],
          "name": "stderr"
        },
        {
          "output_type": "stream",
          "text": [
            "[MoviePy] Done.\n",
            "[MoviePy] >>>> Video ready: video.mp4 \n",
            "\n"
          ],
          "name": "stdout"
        },
        {
          "output_type": "stream",
          "text": [
            "18-01-2020:05:42:25,858 INFO     [classes.py:207] 30.00 fps, 30 frames, 1.00 seconds\n",
            "18-01-2020:05:42:25,866 INFO     [classes.py:323] Deleted pre-existing output/video_output.mp4\n",
            "18-01-2020:05:43:26,480 INFO     [classes.py:307] Completed analysis: saved to output/video_output.mp4\n"
          ],
          "name": "stderr"
        },
        {
          "output_type": "stream",
          "text": [
            "./Finalised/User_18/run_3/video.mp4\n",
            "[MoviePy] >>>> Building video video.mp4\n",
            "[MoviePy] Writing audio in videoTEMP_MPY_wvf_snd.mp4\n"
          ],
          "name": "stdout"
        },
        {
          "output_type": "stream",
          "text": [
            "100%|██████████| 23/23 [00:00<00:00, 413.80it/s]"
          ],
          "name": "stderr"
        },
        {
          "output_type": "stream",
          "text": [
            "[MoviePy] Done.\n",
            "[MoviePy] Writing video video.mp4\n"
          ],
          "name": "stdout"
        },
        {
          "output_type": "stream",
          "text": [
            "\n",
            " 97%|█████████▋| 30/31 [00:03<00:00,  7.74it/s]\n"
          ],
          "name": "stderr"
        },
        {
          "output_type": "stream",
          "text": [
            "[MoviePy] Done.\n",
            "[MoviePy] >>>> Video ready: video.mp4 \n",
            "\n"
          ],
          "name": "stdout"
        },
        {
          "output_type": "stream",
          "text": [
            "18-01-2020:05:44:20,693 INFO     [classes.py:207] 30.00 fps, 30 frames, 1.00 seconds\n",
            "18-01-2020:05:44:20,699 INFO     [classes.py:323] Deleted pre-existing output/video_output.mp4\n",
            "18-01-2020:05:45:12,767 INFO     [classes.py:307] Completed analysis: saved to output/video_output.mp4\n"
          ],
          "name": "stderr"
        },
        {
          "output_type": "stream",
          "text": [
            "./Finalised/User_18/run_4/video.mp4\n",
            "[MoviePy] >>>> Building video video.mp4\n",
            "[MoviePy] Writing audio in videoTEMP_MPY_wvf_snd.mp4\n"
          ],
          "name": "stdout"
        },
        {
          "output_type": "stream",
          "text": [
            "100%|██████████| 23/23 [00:00<00:00, 377.54it/s]"
          ],
          "name": "stderr"
        },
        {
          "output_type": "stream",
          "text": [
            "[MoviePy] Done.\n",
            "[MoviePy] Writing video video.mp4\n"
          ],
          "name": "stdout"
        },
        {
          "output_type": "stream",
          "text": [
            "\n",
            " 97%|█████████▋| 30/31 [00:03<00:00,  8.44it/s]\n"
          ],
          "name": "stderr"
        },
        {
          "output_type": "stream",
          "text": [
            "[MoviePy] Done.\n",
            "[MoviePy] >>>> Video ready: video.mp4 \n",
            "\n"
          ],
          "name": "stdout"
        },
        {
          "output_type": "stream",
          "text": [
            "18-01-2020:05:46:07,1 INFO     [classes.py:207] 30.00 fps, 30 frames, 1.00 seconds\n",
            "18-01-2020:05:46:07,8 INFO     [classes.py:323] Deleted pre-existing output/video_output.mp4\n",
            "18-01-2020:05:46:59,446 INFO     [classes.py:307] Completed analysis: saved to output/video_output.mp4\n"
          ],
          "name": "stderr"
        },
        {
          "output_type": "stream",
          "text": [
            "./Finalised/User_18/run_5/video.mp4\n",
            "[MoviePy] >>>> Building video video.mp4\n",
            "[MoviePy] Writing audio in videoTEMP_MPY_wvf_snd.mp4\n"
          ],
          "name": "stdout"
        },
        {
          "output_type": "stream",
          "text": [
            "100%|██████████| 23/23 [00:00<00:00, 437.73it/s]"
          ],
          "name": "stderr"
        },
        {
          "output_type": "stream",
          "text": [
            "[MoviePy] Done.\n",
            "[MoviePy] Writing video video.mp4\n"
          ],
          "name": "stdout"
        },
        {
          "output_type": "stream",
          "text": [
            "\n",
            " 97%|█████████▋| 30/31 [00:03<00:00,  8.69it/s]\n"
          ],
          "name": "stderr"
        },
        {
          "output_type": "stream",
          "text": [
            "[MoviePy] Done.\n",
            "[MoviePy] >>>> Video ready: video.mp4 \n",
            "\n"
          ],
          "name": "stdout"
        },
        {
          "output_type": "stream",
          "text": [
            "18-01-2020:05:47:54,281 INFO     [classes.py:207] 30.00 fps, 30 frames, 1.00 seconds\n",
            "18-01-2020:05:47:54,289 INFO     [classes.py:323] Deleted pre-existing output/video_output.mp4\n",
            "18-01-2020:05:48:43,732 INFO     [classes.py:307] Completed analysis: saved to output/video_output.mp4\n"
          ],
          "name": "stderr"
        },
        {
          "output_type": "stream",
          "text": [
            "./Finalised/User_18/run_6/video.mp4\n",
            "[MoviePy] >>>> Building video video.mp4\n",
            "[MoviePy] Writing audio in videoTEMP_MPY_wvf_snd.mp4\n"
          ],
          "name": "stdout"
        },
        {
          "output_type": "stream",
          "text": [
            "100%|██████████| 23/23 [00:00<00:00, 417.19it/s]"
          ],
          "name": "stderr"
        },
        {
          "output_type": "stream",
          "text": [
            "[MoviePy] Done.\n",
            "[MoviePy] Writing video video.mp4\n"
          ],
          "name": "stdout"
        },
        {
          "output_type": "stream",
          "text": [
            "\n",
            " 97%|█████████▋| 30/31 [00:03<00:00,  8.70it/s]\n"
          ],
          "name": "stderr"
        },
        {
          "output_type": "stream",
          "text": [
            "[MoviePy] Done.\n",
            "[MoviePy] >>>> Video ready: video.mp4 \n",
            "\n"
          ],
          "name": "stdout"
        },
        {
          "output_type": "stream",
          "text": [
            "18-01-2020:05:49:38,92 INFO     [classes.py:207] 30.00 fps, 30 frames, 1.00 seconds\n",
            "18-01-2020:05:49:38,98 INFO     [classes.py:323] Deleted pre-existing output/video_output.mp4\n",
            "18-01-2020:05:50:29,311 INFO     [classes.py:307] Completed analysis: saved to output/video_output.mp4\n"
          ],
          "name": "stderr"
        },
        {
          "output_type": "stream",
          "text": [
            "./Finalised/User_18/run_7/video.mp4\n",
            "[MoviePy] >>>> Building video video.mp4\n",
            "[MoviePy] Writing audio in videoTEMP_MPY_wvf_snd.mp4\n"
          ],
          "name": "stdout"
        },
        {
          "output_type": "stream",
          "text": [
            "100%|██████████| 23/23 [00:00<00:00, 401.53it/s]"
          ],
          "name": "stderr"
        },
        {
          "output_type": "stream",
          "text": [
            "[MoviePy] Done.\n",
            "[MoviePy] Writing video video.mp4\n"
          ],
          "name": "stdout"
        },
        {
          "output_type": "stream",
          "text": [
            "\n",
            " 97%|█████████▋| 30/31 [00:03<00:00,  8.65it/s]\n"
          ],
          "name": "stderr"
        },
        {
          "output_type": "stream",
          "text": [
            "[MoviePy] Done.\n",
            "[MoviePy] >>>> Video ready: video.mp4 \n",
            "\n"
          ],
          "name": "stdout"
        },
        {
          "output_type": "stream",
          "text": [
            "18-01-2020:05:51:24,423 INFO     [classes.py:207] 30.00 fps, 30 frames, 1.00 seconds\n",
            "18-01-2020:05:51:24,430 INFO     [classes.py:323] Deleted pre-existing output/video_output.mp4\n",
            "18-01-2020:05:52:15,664 INFO     [classes.py:307] Completed analysis: saved to output/video_output.mp4\n"
          ],
          "name": "stderr"
        },
        {
          "output_type": "stream",
          "text": [
            "./Finalised/User_18/run_8/video.mp4\n",
            "[MoviePy] >>>> Building video video.mp4\n",
            "[MoviePy] Writing audio in videoTEMP_MPY_wvf_snd.mp4\n"
          ],
          "name": "stdout"
        },
        {
          "output_type": "stream",
          "text": [
            "100%|██████████| 23/23 [00:00<00:00, 402.04it/s]"
          ],
          "name": "stderr"
        },
        {
          "output_type": "stream",
          "text": [
            "[MoviePy] Done.\n",
            "[MoviePy] Writing video video.mp4\n"
          ],
          "name": "stdout"
        },
        {
          "output_type": "stream",
          "text": [
            "\n",
            " 97%|█████████▋| 30/31 [00:03<00:00,  8.37it/s]\n"
          ],
          "name": "stderr"
        },
        {
          "output_type": "stream",
          "text": [
            "[MoviePy] Done.\n",
            "[MoviePy] >>>> Video ready: video.mp4 \n",
            "\n"
          ],
          "name": "stdout"
        },
        {
          "output_type": "stream",
          "text": [
            "18-01-2020:05:53:11,133 INFO     [classes.py:207] 30.00 fps, 30 frames, 1.00 seconds\n",
            "18-01-2020:05:53:11,141 INFO     [classes.py:323] Deleted pre-existing output/video_output.mp4\n",
            "18-01-2020:05:54:00,833 INFO     [classes.py:307] Completed analysis: saved to output/video_output.mp4\n"
          ],
          "name": "stderr"
        },
        {
          "output_type": "stream",
          "text": [
            "./Finalised/User_18/run_9/video.mp4\n",
            "[MoviePy] >>>> Building video video.mp4\n",
            "[MoviePy] Writing audio in videoTEMP_MPY_wvf_snd.mp4\n"
          ],
          "name": "stdout"
        },
        {
          "output_type": "stream",
          "text": [
            "100%|██████████| 23/23 [00:00<00:00, 406.17it/s]"
          ],
          "name": "stderr"
        },
        {
          "output_type": "stream",
          "text": [
            "[MoviePy] Done.\n",
            "[MoviePy] Writing video video.mp4\n"
          ],
          "name": "stdout"
        },
        {
          "output_type": "stream",
          "text": [
            "\n",
            " 97%|█████████▋| 30/31 [00:03<00:00,  8.90it/s]\n"
          ],
          "name": "stderr"
        },
        {
          "output_type": "stream",
          "text": [
            "[MoviePy] Done.\n",
            "[MoviePy] >>>> Video ready: video.mp4 \n",
            "\n"
          ],
          "name": "stdout"
        },
        {
          "output_type": "stream",
          "text": [
            "18-01-2020:05:54:56,696 INFO     [classes.py:207] 30.00 fps, 30 frames, 1.00 seconds\n",
            "18-01-2020:05:54:56,703 INFO     [classes.py:323] Deleted pre-existing output/video_output.mp4\n",
            "18-01-2020:05:55:52,879 INFO     [classes.py:307] Completed analysis: saved to output/video_output.mp4\n"
          ],
          "name": "stderr"
        },
        {
          "output_type": "stream",
          "text": [
            "./Finalised/User_19/run_0/video.mp4\n",
            "[MoviePy] >>>> Building video video.mp4\n",
            "[MoviePy] Writing audio in videoTEMP_MPY_wvf_snd.mp4\n"
          ],
          "name": "stdout"
        },
        {
          "output_type": "stream",
          "text": [
            "100%|██████████| 23/23 [00:00<00:00, 366.23it/s]"
          ],
          "name": "stderr"
        },
        {
          "output_type": "stream",
          "text": [
            "[MoviePy] Done.\n",
            "[MoviePy] Writing video video.mp4\n"
          ],
          "name": "stdout"
        },
        {
          "output_type": "stream",
          "text": [
            "\n",
            " 97%|█████████▋| 30/31 [00:03<00:00,  7.58it/s]\n"
          ],
          "name": "stderr"
        },
        {
          "output_type": "stream",
          "text": [
            "[MoviePy] Done.\n",
            "[MoviePy] >>>> Video ready: video.mp4 \n",
            "\n"
          ],
          "name": "stdout"
        },
        {
          "output_type": "stream",
          "text": [
            "18-01-2020:05:56:54,533 INFO     [classes.py:207] 30.00 fps, 30 frames, 1.00 seconds\n",
            "18-01-2020:05:56:54,538 INFO     [classes.py:323] Deleted pre-existing output/video_output.mp4\n",
            "18-01-2020:05:57:50,893 INFO     [classes.py:307] Completed analysis: saved to output/video_output.mp4\n"
          ],
          "name": "stderr"
        },
        {
          "output_type": "stream",
          "text": [
            "./Finalised/User_19/run_1/video.mp4\n",
            "[MoviePy] >>>> Building video video.mp4\n",
            "[MoviePy] Writing audio in videoTEMP_MPY_wvf_snd.mp4\n"
          ],
          "name": "stdout"
        },
        {
          "output_type": "stream",
          "text": [
            "100%|██████████| 23/23 [00:00<00:00, 386.66it/s]"
          ],
          "name": "stderr"
        },
        {
          "output_type": "stream",
          "text": [
            "[MoviePy] Done.\n",
            "[MoviePy] Writing video video.mp4\n"
          ],
          "name": "stdout"
        },
        {
          "output_type": "stream",
          "text": [
            "\n",
            " 97%|█████████▋| 30/31 [00:03<00:00,  8.09it/s]\n"
          ],
          "name": "stderr"
        },
        {
          "output_type": "stream",
          "text": [
            "[MoviePy] Done.\n",
            "[MoviePy] >>>> Video ready: video.mp4 \n",
            "\n"
          ],
          "name": "stdout"
        },
        {
          "output_type": "stream",
          "text": [
            "18-01-2020:05:58:51,462 INFO     [classes.py:207] 30.00 fps, 30 frames, 1.00 seconds\n",
            "18-01-2020:05:58:51,468 INFO     [classes.py:323] Deleted pre-existing output/video_output.mp4\n",
            "18-01-2020:05:59:47,22 INFO     [classes.py:307] Completed analysis: saved to output/video_output.mp4\n"
          ],
          "name": "stderr"
        },
        {
          "output_type": "stream",
          "text": [
            "./Finalised/User_19/run_2/video.mp4\n",
            "[MoviePy] >>>> Building video video.mp4\n",
            "[MoviePy] Writing audio in videoTEMP_MPY_wvf_snd.mp4\n"
          ],
          "name": "stdout"
        },
        {
          "output_type": "stream",
          "text": [
            "100%|██████████| 23/23 [00:00<00:00, 391.68it/s]"
          ],
          "name": "stderr"
        },
        {
          "output_type": "stream",
          "text": [
            "[MoviePy] Done.\n",
            "[MoviePy] Writing video video.mp4\n"
          ],
          "name": "stdout"
        },
        {
          "output_type": "stream",
          "text": [
            "\n",
            " 97%|█████████▋| 30/31 [00:03<00:00,  8.06it/s]\n"
          ],
          "name": "stderr"
        },
        {
          "output_type": "stream",
          "text": [
            "[MoviePy] Done.\n",
            "[MoviePy] >>>> Video ready: video.mp4 \n",
            "\n"
          ],
          "name": "stdout"
        },
        {
          "output_type": "stream",
          "text": [
            "18-01-2020:06:00:49,321 INFO     [classes.py:207] 30.00 fps, 30 frames, 1.00 seconds\n",
            "18-01-2020:06:00:49,329 INFO     [classes.py:323] Deleted pre-existing output/video_output.mp4\n",
            "18-01-2020:06:01:45,75 INFO     [classes.py:307] Completed analysis: saved to output/video_output.mp4\n"
          ],
          "name": "stderr"
        },
        {
          "output_type": "stream",
          "text": [
            "./Finalised/User_19/run_3/video.mp4\n",
            "[MoviePy] >>>> Building video video.mp4\n",
            "[MoviePy] Writing audio in videoTEMP_MPY_wvf_snd.mp4\n"
          ],
          "name": "stdout"
        },
        {
          "output_type": "stream",
          "text": [
            "100%|██████████| 23/23 [00:00<00:00, 372.70it/s]"
          ],
          "name": "stderr"
        },
        {
          "output_type": "stream",
          "text": [
            "[MoviePy] Done.\n",
            "[MoviePy] Writing video video.mp4\n"
          ],
          "name": "stdout"
        },
        {
          "output_type": "stream",
          "text": [
            "\n",
            " 97%|█████████▋| 30/31 [00:03<00:00,  7.92it/s]\n"
          ],
          "name": "stderr"
        },
        {
          "output_type": "stream",
          "text": [
            "[MoviePy] Done.\n",
            "[MoviePy] >>>> Video ready: video.mp4 \n",
            "\n"
          ],
          "name": "stdout"
        },
        {
          "output_type": "stream",
          "text": [
            "18-01-2020:06:02:45,973 INFO     [classes.py:207] 30.00 fps, 30 frames, 1.00 seconds\n",
            "18-01-2020:06:02:45,982 INFO     [classes.py:323] Deleted pre-existing output/video_output.mp4\n",
            "18-01-2020:06:03:41,261 INFO     [classes.py:307] Completed analysis: saved to output/video_output.mp4\n"
          ],
          "name": "stderr"
        },
        {
          "output_type": "stream",
          "text": [
            "./Finalised/User_19/run_4/video.mp4\n",
            "[MoviePy] >>>> Building video video.mp4\n",
            "[MoviePy] Writing audio in videoTEMP_MPY_wvf_snd.mp4\n"
          ],
          "name": "stdout"
        },
        {
          "output_type": "stream",
          "text": [
            "100%|██████████| 23/23 [00:00<00:00, 420.05it/s]"
          ],
          "name": "stderr"
        },
        {
          "output_type": "stream",
          "text": [
            "[MoviePy] Done.\n",
            "[MoviePy] Writing video video.mp4\n"
          ],
          "name": "stdout"
        },
        {
          "output_type": "stream",
          "text": [
            "\n",
            " 97%|█████████▋| 30/31 [00:03<00:00,  8.20it/s]\n"
          ],
          "name": "stderr"
        },
        {
          "output_type": "stream",
          "text": [
            "[MoviePy] Done.\n",
            "[MoviePy] >>>> Video ready: video.mp4 \n",
            "\n"
          ],
          "name": "stdout"
        },
        {
          "output_type": "stream",
          "text": [
            "18-01-2020:06:04:42,502 INFO     [classes.py:207] 30.00 fps, 30 frames, 1.00 seconds\n",
            "18-01-2020:06:04:42,507 INFO     [classes.py:323] Deleted pre-existing output/video_output.mp4\n",
            "18-01-2020:06:05:40,981 INFO     [classes.py:307] Completed analysis: saved to output/video_output.mp4\n"
          ],
          "name": "stderr"
        },
        {
          "output_type": "stream",
          "text": [
            "./Finalised/User_19/run_5/video.mp4\n",
            "[MoviePy] >>>> Building video video.mp4\n",
            "[MoviePy] Writing audio in videoTEMP_MPY_wvf_snd.mp4\n"
          ],
          "name": "stdout"
        },
        {
          "output_type": "stream",
          "text": [
            "100%|██████████| 23/23 [00:00<00:00, 389.47it/s]"
          ],
          "name": "stderr"
        },
        {
          "output_type": "stream",
          "text": [
            "[MoviePy] Done.\n",
            "[MoviePy] Writing video video.mp4\n"
          ],
          "name": "stdout"
        },
        {
          "output_type": "stream",
          "text": [
            "\n",
            " 97%|█████████▋| 30/31 [00:03<00:00,  9.23it/s]\n"
          ],
          "name": "stderr"
        },
        {
          "output_type": "stream",
          "text": [
            "[MoviePy] Done.\n",
            "[MoviePy] >>>> Video ready: video.mp4 \n",
            "\n"
          ],
          "name": "stdout"
        },
        {
          "output_type": "stream",
          "text": [
            "18-01-2020:06:06:42,364 INFO     [classes.py:207] 30.00 fps, 30 frames, 1.00 seconds\n",
            "18-01-2020:06:06:42,371 INFO     [classes.py:323] Deleted pre-existing output/video_output.mp4\n",
            "18-01-2020:06:07:39,840 INFO     [classes.py:307] Completed analysis: saved to output/video_output.mp4\n"
          ],
          "name": "stderr"
        },
        {
          "output_type": "stream",
          "text": [
            "./Finalised/User_19/run_6/video.mp4\n",
            "[MoviePy] >>>> Building video video.mp4\n",
            "[MoviePy] Writing audio in videoTEMP_MPY_wvf_snd.mp4\n"
          ],
          "name": "stdout"
        },
        {
          "output_type": "stream",
          "text": [
            "100%|██████████| 23/23 [00:00<00:00, 369.41it/s]"
          ],
          "name": "stderr"
        },
        {
          "output_type": "stream",
          "text": [
            "[MoviePy] Done.\n",
            "[MoviePy] Writing video video.mp4\n"
          ],
          "name": "stdout"
        },
        {
          "output_type": "stream",
          "text": [
            "\n",
            " 97%|█████████▋| 30/31 [00:03<00:00,  8.39it/s]\n"
          ],
          "name": "stderr"
        },
        {
          "output_type": "stream",
          "text": [
            "[MoviePy] Done.\n",
            "[MoviePy] >>>> Video ready: video.mp4 \n",
            "\n"
          ],
          "name": "stdout"
        },
        {
          "output_type": "stream",
          "text": [
            "18-01-2020:06:08:42,228 INFO     [classes.py:207] 30.00 fps, 30 frames, 1.00 seconds\n",
            "18-01-2020:06:08:42,236 INFO     [classes.py:323] Deleted pre-existing output/video_output.mp4\n",
            "18-01-2020:06:09:39,388 INFO     [classes.py:307] Completed analysis: saved to output/video_output.mp4\n"
          ],
          "name": "stderr"
        },
        {
          "output_type": "stream",
          "text": [
            "./Finalised/User_19/run_7/video.mp4\n",
            "[MoviePy] >>>> Building video video.mp4\n",
            "[MoviePy] Writing audio in videoTEMP_MPY_wvf_snd.mp4\n"
          ],
          "name": "stdout"
        },
        {
          "output_type": "stream",
          "text": [
            "100%|██████████| 23/23 [00:00<00:00, 390.94it/s]"
          ],
          "name": "stderr"
        },
        {
          "output_type": "stream",
          "text": [
            "[MoviePy] Done.\n",
            "[MoviePy] Writing video video.mp4\n"
          ],
          "name": "stdout"
        },
        {
          "output_type": "stream",
          "text": [
            "\n",
            " 97%|█████████▋| 30/31 [00:03<00:00,  7.73it/s]\n"
          ],
          "name": "stderr"
        },
        {
          "output_type": "stream",
          "text": [
            "[MoviePy] Done.\n",
            "[MoviePy] >>>> Video ready: video.mp4 \n",
            "\n"
          ],
          "name": "stdout"
        },
        {
          "output_type": "stream",
          "text": [
            "18-01-2020:06:10:42,96 INFO     [classes.py:207] 30.00 fps, 30 frames, 1.00 seconds\n",
            "18-01-2020:06:10:42,102 INFO     [classes.py:323] Deleted pre-existing output/video_output.mp4\n",
            "18-01-2020:06:11:40,404 INFO     [classes.py:307] Completed analysis: saved to output/video_output.mp4\n"
          ],
          "name": "stderr"
        },
        {
          "output_type": "stream",
          "text": [
            "./Finalised/User_19/run_8/video.mp4\n",
            "[MoviePy] >>>> Building video video.mp4\n",
            "[MoviePy] Writing audio in videoTEMP_MPY_wvf_snd.mp4\n"
          ],
          "name": "stdout"
        },
        {
          "output_type": "stream",
          "text": [
            "100%|██████████| 23/23 [00:00<00:00, 379.30it/s]"
          ],
          "name": "stderr"
        },
        {
          "output_type": "stream",
          "text": [
            "[MoviePy] Done.\n",
            "[MoviePy] Writing video video.mp4\n"
          ],
          "name": "stdout"
        },
        {
          "output_type": "stream",
          "text": [
            "\n",
            " 97%|█████████▋| 30/31 [00:03<00:00,  8.09it/s]\n"
          ],
          "name": "stderr"
        },
        {
          "output_type": "stream",
          "text": [
            "[MoviePy] Done.\n",
            "[MoviePy] >>>> Video ready: video.mp4 \n",
            "\n"
          ],
          "name": "stdout"
        },
        {
          "output_type": "stream",
          "text": [
            "18-01-2020:06:12:43,935 INFO     [classes.py:207] 30.00 fps, 30 frames, 1.00 seconds\n",
            "18-01-2020:06:12:43,942 INFO     [classes.py:323] Deleted pre-existing output/video_output.mp4\n",
            "18-01-2020:06:13:41,954 INFO     [classes.py:307] Completed analysis: saved to output/video_output.mp4\n"
          ],
          "name": "stderr"
        },
        {
          "output_type": "stream",
          "text": [
            "./Finalised/User_19/run_9/video.mp4\n",
            "[MoviePy] >>>> Building video video.mp4\n",
            "[MoviePy] Writing audio in videoTEMP_MPY_wvf_snd.mp4\n"
          ],
          "name": "stdout"
        },
        {
          "output_type": "stream",
          "text": [
            "100%|██████████| 23/23 [00:00<00:00, 367.81it/s]"
          ],
          "name": "stderr"
        },
        {
          "output_type": "stream",
          "text": [
            "[MoviePy] Done.\n",
            "[MoviePy] Writing video video.mp4\n"
          ],
          "name": "stdout"
        },
        {
          "output_type": "stream",
          "text": [
            "\n",
            " 97%|█████████▋| 30/31 [00:03<00:00,  7.86it/s]\n"
          ],
          "name": "stderr"
        },
        {
          "output_type": "stream",
          "text": [
            "[MoviePy] Done.\n",
            "[MoviePy] >>>> Video ready: video.mp4 \n",
            "\n"
          ],
          "name": "stdout"
        },
        {
          "output_type": "stream",
          "text": [
            "18-01-2020:06:14:45,595 INFO     [classes.py:207] 30.00 fps, 30 frames, 1.00 seconds\n",
            "18-01-2020:06:14:45,604 INFO     [classes.py:323] Deleted pre-existing output/video_output.mp4\n",
            "18-01-2020:06:15:43,206 INFO     [classes.py:307] Completed analysis: saved to output/video_output.mp4\n"
          ],
          "name": "stderr"
        },
        {
          "output_type": "stream",
          "text": [
            "./Finalised/User_20/run_0/video.mp4\n",
            "[MoviePy] >>>> Building video video.mp4\n",
            "[MoviePy] Writing audio in videoTEMP_MPY_wvf_snd.mp4\n"
          ],
          "name": "stdout"
        },
        {
          "output_type": "stream",
          "text": [
            "100%|██████████| 23/23 [00:00<00:00, 379.47it/s]"
          ],
          "name": "stderr"
        },
        {
          "output_type": "stream",
          "text": [
            "[MoviePy] Done.\n",
            "[MoviePy] Writing video video.mp4\n"
          ],
          "name": "stdout"
        },
        {
          "output_type": "stream",
          "text": [
            "\n",
            " 97%|█████████▋| 30/31 [00:03<00:00,  7.87it/s]\n"
          ],
          "name": "stderr"
        },
        {
          "output_type": "stream",
          "text": [
            "[MoviePy] Done.\n",
            "[MoviePy] >>>> Video ready: video.mp4 \n",
            "\n"
          ],
          "name": "stdout"
        },
        {
          "output_type": "stream",
          "text": [
            "18-01-2020:06:16:46,67 INFO     [classes.py:207] 30.00 fps, 30 frames, 1.00 seconds\n",
            "18-01-2020:06:16:46,72 INFO     [classes.py:323] Deleted pre-existing output/video_output.mp4\n",
            "18-01-2020:06:17:52,788 INFO     [classes.py:307] Completed analysis: saved to output/video_output.mp4\n"
          ],
          "name": "stderr"
        },
        {
          "output_type": "stream",
          "text": [
            "./Finalised/User_20/run_1/video.mp4\n",
            "[MoviePy] >>>> Building video video.mp4\n",
            "[MoviePy] Writing audio in videoTEMP_MPY_wvf_snd.mp4\n"
          ],
          "name": "stdout"
        },
        {
          "output_type": "stream",
          "text": [
            "100%|██████████| 23/23 [00:00<00:00, 381.96it/s]"
          ],
          "name": "stderr"
        },
        {
          "output_type": "stream",
          "text": [
            "[MoviePy] Done.\n",
            "[MoviePy] Writing video video.mp4\n"
          ],
          "name": "stdout"
        },
        {
          "output_type": "stream",
          "text": [
            "\n",
            " 97%|█████████▋| 30/31 [00:03<00:00,  7.77it/s]\n"
          ],
          "name": "stderr"
        },
        {
          "output_type": "stream",
          "text": [
            "[MoviePy] Done.\n",
            "[MoviePy] >>>> Video ready: video.mp4 \n",
            "\n"
          ],
          "name": "stdout"
        },
        {
          "output_type": "stream",
          "text": [
            "18-01-2020:06:18:55,877 INFO     [classes.py:207] 30.00 fps, 30 frames, 1.00 seconds\n",
            "18-01-2020:06:18:55,885 INFO     [classes.py:323] Deleted pre-existing output/video_output.mp4\n",
            "18-01-2020:06:20:14,460 INFO     [classes.py:307] Completed analysis: saved to output/video_output.mp4\n"
          ],
          "name": "stderr"
        },
        {
          "output_type": "stream",
          "text": [
            "./Finalised/User_20/run_2/video.mp4\n",
            "[MoviePy] >>>> Building video video.mp4\n",
            "[MoviePy] Writing audio in videoTEMP_MPY_wvf_snd.mp4\n"
          ],
          "name": "stdout"
        },
        {
          "output_type": "stream",
          "text": [
            "100%|██████████| 23/23 [00:00<00:00, 399.49it/s]"
          ],
          "name": "stderr"
        },
        {
          "output_type": "stream",
          "text": [
            "[MoviePy] Done.\n",
            "[MoviePy] Writing video video.mp4\n"
          ],
          "name": "stdout"
        },
        {
          "output_type": "stream",
          "text": [
            "\n",
            " 97%|█████████▋| 30/31 [00:03<00:00,  8.26it/s]\n"
          ],
          "name": "stderr"
        },
        {
          "output_type": "stream",
          "text": [
            "[MoviePy] Done.\n",
            "[MoviePy] >>>> Video ready: video.mp4 \n",
            "\n"
          ],
          "name": "stdout"
        },
        {
          "output_type": "stream",
          "text": [
            "18-01-2020:06:21:16,432 INFO     [classes.py:207] 30.00 fps, 30 frames, 1.00 seconds\n",
            "18-01-2020:06:21:16,438 INFO     [classes.py:323] Deleted pre-existing output/video_output.mp4\n",
            "18-01-2020:06:22:34,265 INFO     [classes.py:307] Completed analysis: saved to output/video_output.mp4\n"
          ],
          "name": "stderr"
        },
        {
          "output_type": "stream",
          "text": [
            "./Finalised/User_20/run_3/video.mp4\n",
            "[MoviePy] >>>> Building video video.mp4\n",
            "[MoviePy] Writing audio in videoTEMP_MPY_wvf_snd.mp4\n"
          ],
          "name": "stdout"
        },
        {
          "output_type": "stream",
          "text": [
            "100%|██████████| 23/23 [00:00<00:00, 423.56it/s]"
          ],
          "name": "stderr"
        },
        {
          "output_type": "stream",
          "text": [
            "[MoviePy] Done.\n",
            "[MoviePy] Writing video video.mp4\n"
          ],
          "name": "stdout"
        },
        {
          "output_type": "stream",
          "text": [
            "\n",
            " 97%|█████████▋| 30/31 [00:03<00:00,  8.08it/s]\n"
          ],
          "name": "stderr"
        },
        {
          "output_type": "stream",
          "text": [
            "[MoviePy] Done.\n",
            "[MoviePy] >>>> Video ready: video.mp4 \n",
            "\n"
          ],
          "name": "stdout"
        },
        {
          "output_type": "stream",
          "text": [
            "18-01-2020:06:23:36,106 INFO     [classes.py:207] 30.00 fps, 30 frames, 1.00 seconds\n",
            "18-01-2020:06:23:36,113 INFO     [classes.py:323] Deleted pre-existing output/video_output.mp4\n",
            "18-01-2020:06:24:55,820 INFO     [classes.py:307] Completed analysis: saved to output/video_output.mp4\n"
          ],
          "name": "stderr"
        },
        {
          "output_type": "stream",
          "text": [
            "./Finalised/User_20/run_4/video.mp4\n",
            "[MoviePy] >>>> Building video video.mp4\n",
            "[MoviePy] Writing audio in videoTEMP_MPY_wvf_snd.mp4\n"
          ],
          "name": "stdout"
        },
        {
          "output_type": "stream",
          "text": [
            "100%|██████████| 23/23 [00:00<00:00, 368.97it/s]"
          ],
          "name": "stderr"
        },
        {
          "output_type": "stream",
          "text": [
            "[MoviePy] Done.\n",
            "[MoviePy] Writing video video.mp4\n"
          ],
          "name": "stdout"
        },
        {
          "output_type": "stream",
          "text": [
            "\n",
            " 97%|█████████▋| 30/31 [00:03<00:00,  8.80it/s]\n"
          ],
          "name": "stderr"
        },
        {
          "output_type": "stream",
          "text": [
            "[MoviePy] Done.\n",
            "[MoviePy] >>>> Video ready: video.mp4 \n",
            "\n"
          ],
          "name": "stdout"
        },
        {
          "output_type": "stream",
          "text": [
            "18-01-2020:06:25:58,838 INFO     [classes.py:207] 30.00 fps, 30 frames, 1.00 seconds\n",
            "18-01-2020:06:25:58,844 INFO     [classes.py:323] Deleted pre-existing output/video_output.mp4\n",
            "18-01-2020:06:27:15,369 INFO     [classes.py:307] Completed analysis: saved to output/video_output.mp4\n"
          ],
          "name": "stderr"
        },
        {
          "output_type": "stream",
          "text": [
            "./Finalised/User_20/run_5/video.mp4\n",
            "[MoviePy] >>>> Building video video.mp4\n",
            "[MoviePy] Writing audio in videoTEMP_MPY_wvf_snd.mp4\n"
          ],
          "name": "stdout"
        },
        {
          "output_type": "stream",
          "text": [
            "100%|██████████| 23/23 [00:00<00:00, 378.61it/s]"
          ],
          "name": "stderr"
        },
        {
          "output_type": "stream",
          "text": [
            "[MoviePy] Done.\n",
            "[MoviePy] Writing video video.mp4\n"
          ],
          "name": "stdout"
        },
        {
          "output_type": "stream",
          "text": [
            "\n",
            " 97%|█████████▋| 30/31 [00:03<00:00,  8.09it/s]\n"
          ],
          "name": "stderr"
        },
        {
          "output_type": "stream",
          "text": [
            "[MoviePy] Done.\n",
            "[MoviePy] >>>> Video ready: video.mp4 \n",
            "\n"
          ],
          "name": "stdout"
        },
        {
          "output_type": "stream",
          "text": [
            "18-01-2020:06:28:17,880 INFO     [classes.py:207] 30.00 fps, 30 frames, 1.00 seconds\n",
            "18-01-2020:06:28:17,889 INFO     [classes.py:323] Deleted pre-existing output/video_output.mp4\n",
            "18-01-2020:06:29:32,784 INFO     [classes.py:307] Completed analysis: saved to output/video_output.mp4\n"
          ],
          "name": "stderr"
        },
        {
          "output_type": "stream",
          "text": [
            "./Finalised/User_20/run_6/video.mp4\n",
            "[MoviePy] >>>> Building video video.mp4\n",
            "[MoviePy] Writing audio in videoTEMP_MPY_wvf_snd.mp4\n"
          ],
          "name": "stdout"
        },
        {
          "output_type": "stream",
          "text": [
            "100%|██████████| 23/23 [00:00<00:00, 414.52it/s]"
          ],
          "name": "stderr"
        },
        {
          "output_type": "stream",
          "text": [
            "[MoviePy] Done.\n",
            "[MoviePy] Writing video video.mp4\n"
          ],
          "name": "stdout"
        },
        {
          "output_type": "stream",
          "text": [
            "\n",
            " 97%|█████████▋| 30/31 [00:03<00:00,  7.84it/s]\n"
          ],
          "name": "stderr"
        },
        {
          "output_type": "stream",
          "text": [
            "[MoviePy] Done.\n",
            "[MoviePy] >>>> Video ready: video.mp4 \n",
            "\n"
          ],
          "name": "stdout"
        },
        {
          "output_type": "stream",
          "text": [
            "18-01-2020:06:30:36,9 INFO     [classes.py:207] 30.00 fps, 30 frames, 1.00 seconds\n",
            "18-01-2020:06:30:36,16 INFO     [classes.py:323] Deleted pre-existing output/video_output.mp4\n",
            "18-01-2020:06:31:53,131 INFO     [classes.py:307] Completed analysis: saved to output/video_output.mp4\n"
          ],
          "name": "stderr"
        },
        {
          "output_type": "stream",
          "text": [
            "./Finalised/User_20/run_7/video.mp4\n",
            "[MoviePy] >>>> Building video video.mp4\n",
            "[MoviePy] Writing audio in videoTEMP_MPY_wvf_snd.mp4\n"
          ],
          "name": "stdout"
        },
        {
          "output_type": "stream",
          "text": [
            "100%|██████████| 23/23 [00:00<00:00, 341.74it/s]"
          ],
          "name": "stderr"
        },
        {
          "output_type": "stream",
          "text": [
            "[MoviePy] Done.\n",
            "[MoviePy] Writing video video.mp4\n"
          ],
          "name": "stdout"
        },
        {
          "output_type": "stream",
          "text": [
            "\n",
            " 97%|█████████▋| 30/31 [00:03<00:00,  8.22it/s]\n"
          ],
          "name": "stderr"
        },
        {
          "output_type": "stream",
          "text": [
            "[MoviePy] Done.\n",
            "[MoviePy] >>>> Video ready: video.mp4 \n",
            "\n"
          ],
          "name": "stdout"
        },
        {
          "output_type": "stream",
          "text": [
            "18-01-2020:06:32:56,504 INFO     [classes.py:207] 30.00 fps, 30 frames, 1.00 seconds\n",
            "18-01-2020:06:32:56,510 INFO     [classes.py:323] Deleted pre-existing output/video_output.mp4\n",
            "18-01-2020:06:34:09,17 INFO     [classes.py:307] Completed analysis: saved to output/video_output.mp4\n"
          ],
          "name": "stderr"
        },
        {
          "output_type": "stream",
          "text": [
            "./Finalised/User_20/run_8/video.mp4\n",
            "[MoviePy] >>>> Building video video.mp4\n",
            "[MoviePy] Writing audio in videoTEMP_MPY_wvf_snd.mp4\n"
          ],
          "name": "stdout"
        },
        {
          "output_type": "stream",
          "text": [
            "100%|██████████| 23/23 [00:00<00:00, 351.67it/s]"
          ],
          "name": "stderr"
        },
        {
          "output_type": "stream",
          "text": [
            "[MoviePy] Done.\n",
            "[MoviePy] Writing video video.mp4\n"
          ],
          "name": "stdout"
        },
        {
          "output_type": "stream",
          "text": [
            "\n",
            " 97%|█████████▋| 30/31 [00:03<00:00,  8.06it/s]\n"
          ],
          "name": "stderr"
        },
        {
          "output_type": "stream",
          "text": [
            "[MoviePy] Done.\n",
            "[MoviePy] >>>> Video ready: video.mp4 \n",
            "\n"
          ],
          "name": "stdout"
        },
        {
          "output_type": "stream",
          "text": [
            "18-01-2020:06:35:12,660 INFO     [classes.py:207] 30.00 fps, 30 frames, 1.00 seconds\n",
            "18-01-2020:06:35:12,671 INFO     [classes.py:323] Deleted pre-existing output/video_output.mp4\n",
            "18-01-2020:06:36:27,768 INFO     [classes.py:307] Completed analysis: saved to output/video_output.mp4\n"
          ],
          "name": "stderr"
        },
        {
          "output_type": "stream",
          "text": [
            "./Finalised/User_20/run_9/video.mp4\n",
            "[MoviePy] >>>> Building video video.mp4\n",
            "[MoviePy] Writing audio in videoTEMP_MPY_wvf_snd.mp4\n"
          ],
          "name": "stdout"
        },
        {
          "output_type": "stream",
          "text": [
            "100%|██████████| 23/23 [00:00<00:00, 426.20it/s]"
          ],
          "name": "stderr"
        },
        {
          "output_type": "stream",
          "text": [
            "[MoviePy] Done.\n",
            "[MoviePy] Writing video video.mp4\n"
          ],
          "name": "stdout"
        },
        {
          "output_type": "stream",
          "text": [
            "\n",
            " 97%|█████████▋| 30/31 [00:03<00:00,  8.12it/s]\n"
          ],
          "name": "stderr"
        },
        {
          "output_type": "stream",
          "text": [
            "[MoviePy] Done.\n",
            "[MoviePy] >>>> Video ready: video.mp4 \n",
            "\n"
          ],
          "name": "stdout"
        },
        {
          "output_type": "stream",
          "text": [
            "18-01-2020:06:37:29,382 INFO     [classes.py:207] 30.00 fps, 30 frames, 1.00 seconds\n",
            "18-01-2020:06:37:29,391 INFO     [classes.py:323] Deleted pre-existing output/video_output.mp4\n",
            "18-01-2020:06:38:20,77 INFO     [classes.py:307] Completed analysis: saved to output/video_output.mp4\n"
          ],
          "name": "stderr"
        },
        {
          "output_type": "stream",
          "text": [
            "./Finalised/User_21/run_0/video.mp4\n",
            "[MoviePy] >>>> Building video video.mp4\n",
            "[MoviePy] Writing audio in videoTEMP_MPY_wvf_snd.mp4\n"
          ],
          "name": "stdout"
        },
        {
          "output_type": "stream",
          "text": [
            "\r  0%|          | 0/23 [00:00<?, ?it/s]\n"
          ],
          "name": "stderr"
        },
        {
          "output_type": "stream",
          "text": [
            "./Finalised/User_21/run_1/video.mp4\n",
            "[MoviePy] >>>> Building video video.mp4\n",
            "[MoviePy] Writing audio in videoTEMP_MPY_wvf_snd.mp4\n"
          ],
          "name": "stdout"
        },
        {
          "output_type": "stream",
          "text": [
            "100%|██████████| 23/23 [00:00<00:00, 371.37it/s]"
          ],
          "name": "stderr"
        },
        {
          "output_type": "stream",
          "text": [
            "[MoviePy] Done.\n",
            "[MoviePy] Writing video video.mp4\n"
          ],
          "name": "stdout"
        },
        {
          "output_type": "stream",
          "text": [
            "\n",
            " 97%|█████████▋| 30/31 [00:03<00:00,  8.41it/s]\n"
          ],
          "name": "stderr"
        },
        {
          "output_type": "stream",
          "text": [
            "[MoviePy] Done.\n",
            "[MoviePy] >>>> Video ready: video.mp4 \n",
            "\n"
          ],
          "name": "stdout"
        },
        {
          "output_type": "stream",
          "text": [
            "18-01-2020:06:39:34,713 INFO     [classes.py:207] 30.00 fps, 30 frames, 1.00 seconds\n",
            "18-01-2020:06:39:34,717 INFO     [classes.py:323] Deleted pre-existing output/video_output.mp4\n",
            "18-01-2020:06:40:35,779 INFO     [classes.py:307] Completed analysis: saved to output/video_output.mp4\n"
          ],
          "name": "stderr"
        },
        {
          "output_type": "stream",
          "text": [
            "./Finalised/User_21/run_2/video.mp4\n",
            "[MoviePy] >>>> Building video video.mp4\n",
            "[MoviePy] Writing audio in videoTEMP_MPY_wvf_snd.mp4\n"
          ],
          "name": "stdout"
        },
        {
          "output_type": "stream",
          "text": [
            "100%|██████████| 23/23 [00:00<00:00, 404.83it/s]"
          ],
          "name": "stderr"
        },
        {
          "output_type": "stream",
          "text": [
            "[MoviePy] Done.\n",
            "[MoviePy] Writing video video.mp4\n"
          ],
          "name": "stdout"
        },
        {
          "output_type": "stream",
          "text": [
            "\n",
            " 97%|█████████▋| 30/31 [00:03<00:00,  8.71it/s]\n"
          ],
          "name": "stderr"
        },
        {
          "output_type": "stream",
          "text": [
            "[MoviePy] Done.\n",
            "[MoviePy] >>>> Video ready: video.mp4 \n",
            "\n"
          ],
          "name": "stdout"
        },
        {
          "output_type": "stream",
          "text": [
            "18-01-2020:06:41:40,516 INFO     [classes.py:207] 30.00 fps, 30 frames, 1.00 seconds\n",
            "18-01-2020:06:41:40,520 INFO     [classes.py:323] Deleted pre-existing output/video_output.mp4\n",
            "18-01-2020:06:42:43,607 INFO     [classes.py:307] Completed analysis: saved to output/video_output.mp4\n"
          ],
          "name": "stderr"
        },
        {
          "output_type": "stream",
          "text": [
            "./Finalised/User_21/run_3/video.mp4\n",
            "[MoviePy] >>>> Building video video.mp4\n",
            "[MoviePy] Writing audio in videoTEMP_MPY_wvf_snd.mp4\n"
          ],
          "name": "stdout"
        },
        {
          "output_type": "stream",
          "text": [
            "100%|██████████| 23/23 [00:00<00:00, 348.90it/s]"
          ],
          "name": "stderr"
        },
        {
          "output_type": "stream",
          "text": [
            "[MoviePy] Done.\n",
            "[MoviePy] Writing video video.mp4\n"
          ],
          "name": "stdout"
        },
        {
          "output_type": "stream",
          "text": [
            "\n",
            " 97%|█████████▋| 30/31 [00:03<00:00,  8.19it/s]\n"
          ],
          "name": "stderr"
        },
        {
          "output_type": "stream",
          "text": [
            "[MoviePy] Done.\n",
            "[MoviePy] >>>> Video ready: video.mp4 \n",
            "\n"
          ],
          "name": "stdout"
        },
        {
          "output_type": "stream",
          "text": [
            "18-01-2020:06:43:48,982 INFO     [classes.py:207] 30.00 fps, 30 frames, 1.00 seconds\n",
            "18-01-2020:06:43:48,987 INFO     [classes.py:323] Deleted pre-existing output/video_output.mp4\n",
            "18-01-2020:06:44:53,440 INFO     [classes.py:307] Completed analysis: saved to output/video_output.mp4\n"
          ],
          "name": "stderr"
        },
        {
          "output_type": "stream",
          "text": [
            "./Finalised/User_21/run_4/video.mp4\n",
            "[MoviePy] >>>> Building video video.mp4\n",
            "[MoviePy] Writing audio in videoTEMP_MPY_wvf_snd.mp4\n"
          ],
          "name": "stdout"
        },
        {
          "output_type": "stream",
          "text": [
            "100%|██████████| 23/23 [00:00<00:00, 397.35it/s]"
          ],
          "name": "stderr"
        },
        {
          "output_type": "stream",
          "text": [
            "[MoviePy] Done.\n",
            "[MoviePy] Writing video video.mp4\n"
          ],
          "name": "stdout"
        },
        {
          "output_type": "stream",
          "text": [
            "\n",
            " 97%|█████████▋| 30/31 [00:03<00:00,  8.66it/s]\n"
          ],
          "name": "stderr"
        },
        {
          "output_type": "stream",
          "text": [
            "[MoviePy] Done.\n",
            "[MoviePy] >>>> Video ready: video.mp4 \n",
            "\n"
          ],
          "name": "stdout"
        },
        {
          "output_type": "stream",
          "text": [
            "18-01-2020:06:45:59,605 INFO     [classes.py:207] 30.00 fps, 30 frames, 1.00 seconds\n",
            "18-01-2020:06:45:59,610 INFO     [classes.py:323] Deleted pre-existing output/video_output.mp4\n",
            "18-01-2020:06:47:04,979 INFO     [classes.py:307] Completed analysis: saved to output/video_output.mp4\n"
          ],
          "name": "stderr"
        },
        {
          "output_type": "stream",
          "text": [
            "./Finalised/User_21/run_5/video.mp4\n",
            "[MoviePy] >>>> Building video video.mp4\n",
            "[MoviePy] Writing audio in videoTEMP_MPY_wvf_snd.mp4\n"
          ],
          "name": "stdout"
        },
        {
          "output_type": "stream",
          "text": [
            "100%|██████████| 23/23 [00:00<00:00, 355.46it/s]"
          ],
          "name": "stderr"
        },
        {
          "output_type": "stream",
          "text": [
            "[MoviePy] Done.\n",
            "[MoviePy] Writing video video.mp4\n"
          ],
          "name": "stdout"
        },
        {
          "output_type": "stream",
          "text": [
            "\n",
            " 97%|█████████▋| 30/31 [00:03<00:00,  8.12it/s]\n"
          ],
          "name": "stderr"
        },
        {
          "output_type": "stream",
          "text": [
            "[MoviePy] Done.\n",
            "[MoviePy] >>>> Video ready: video.mp4 \n",
            "\n"
          ],
          "name": "stdout"
        },
        {
          "output_type": "stream",
          "text": [
            "18-01-2020:06:48:10,608 INFO     [classes.py:207] 30.00 fps, 30 frames, 1.00 seconds\n",
            "18-01-2020:06:48:10,614 INFO     [classes.py:323] Deleted pre-existing output/video_output.mp4\n",
            "18-01-2020:06:49:14,658 INFO     [classes.py:307] Completed analysis: saved to output/video_output.mp4\n"
          ],
          "name": "stderr"
        },
        {
          "output_type": "stream",
          "text": [
            "./Finalised/User_21/run_6/video.mp4\n",
            "[MoviePy] >>>> Building video video.mp4\n",
            "[MoviePy] Writing audio in videoTEMP_MPY_wvf_snd.mp4\n"
          ],
          "name": "stdout"
        },
        {
          "output_type": "stream",
          "text": [
            "100%|██████████| 23/23 [00:00<00:00, 386.86it/s]"
          ],
          "name": "stderr"
        },
        {
          "output_type": "stream",
          "text": [
            "[MoviePy] Done.\n",
            "[MoviePy] Writing video video.mp4\n"
          ],
          "name": "stdout"
        },
        {
          "output_type": "stream",
          "text": [
            "\n",
            " 97%|█████████▋| 30/31 [00:03<00:00,  8.24it/s]\n"
          ],
          "name": "stderr"
        },
        {
          "output_type": "stream",
          "text": [
            "[MoviePy] Done.\n",
            "[MoviePy] >>>> Video ready: video.mp4 \n",
            "\n"
          ],
          "name": "stdout"
        },
        {
          "output_type": "stream",
          "text": [
            "18-01-2020:06:50:20,96 INFO     [classes.py:207] 30.00 fps, 30 frames, 1.00 seconds\n",
            "18-01-2020:06:50:20,105 INFO     [classes.py:323] Deleted pre-existing output/video_output.mp4\n",
            "18-01-2020:06:51:25,412 INFO     [classes.py:307] Completed analysis: saved to output/video_output.mp4\n"
          ],
          "name": "stderr"
        },
        {
          "output_type": "stream",
          "text": [
            "./Finalised/User_21/run_7/video.mp4\n",
            "[MoviePy] >>>> Building video video.mp4\n",
            "[MoviePy] Writing audio in videoTEMP_MPY_wvf_snd.mp4\n"
          ],
          "name": "stdout"
        },
        {
          "output_type": "stream",
          "text": [
            "100%|██████████| 23/23 [00:00<00:00, 397.19it/s]"
          ],
          "name": "stderr"
        },
        {
          "output_type": "stream",
          "text": [
            "[MoviePy] Done.\n",
            "[MoviePy] Writing video video.mp4\n"
          ],
          "name": "stdout"
        },
        {
          "output_type": "stream",
          "text": [
            "\n",
            " 97%|█████████▋| 30/31 [00:03<00:00,  7.92it/s]\n"
          ],
          "name": "stderr"
        },
        {
          "output_type": "stream",
          "text": [
            "[MoviePy] Done.\n",
            "[MoviePy] >>>> Video ready: video.mp4 \n",
            "\n"
          ],
          "name": "stdout"
        },
        {
          "output_type": "stream",
          "text": [
            "18-01-2020:06:52:32,148 INFO     [classes.py:207] 30.00 fps, 30 frames, 1.00 seconds\n",
            "18-01-2020:06:52:32,157 INFO     [classes.py:323] Deleted pre-existing output/video_output.mp4\n",
            "18-01-2020:06:53:37,646 INFO     [classes.py:307] Completed analysis: saved to output/video_output.mp4\n"
          ],
          "name": "stderr"
        },
        {
          "output_type": "stream",
          "text": [
            "./Finalised/User_21/run_8/video.mp4\n",
            "[MoviePy] >>>> Building video video.mp4\n",
            "[MoviePy] Writing audio in videoTEMP_MPY_wvf_snd.mp4\n"
          ],
          "name": "stdout"
        },
        {
          "output_type": "stream",
          "text": [
            "100%|██████████| 23/23 [00:00<00:00, 396.80it/s]"
          ],
          "name": "stderr"
        },
        {
          "output_type": "stream",
          "text": [
            "[MoviePy] Done.\n",
            "[MoviePy] Writing video video.mp4\n"
          ],
          "name": "stdout"
        },
        {
          "output_type": "stream",
          "text": [
            "\n",
            " 97%|█████████▋| 30/31 [00:03<00:00,  8.31it/s]\n"
          ],
          "name": "stderr"
        },
        {
          "output_type": "stream",
          "text": [
            "[MoviePy] Done.\n",
            "[MoviePy] >>>> Video ready: video.mp4 \n",
            "\n"
          ],
          "name": "stdout"
        },
        {
          "output_type": "stream",
          "text": [
            "18-01-2020:06:54:43,543 INFO     [classes.py:207] 30.00 fps, 30 frames, 1.00 seconds\n",
            "18-01-2020:06:54:43,551 INFO     [classes.py:323] Deleted pre-existing output/video_output.mp4\n",
            "18-01-2020:06:55:47,162 INFO     [classes.py:307] Completed analysis: saved to output/video_output.mp4\n"
          ],
          "name": "stderr"
        },
        {
          "output_type": "stream",
          "text": [
            "./Finalised/User_21/run_9/video.mp4\n",
            "[MoviePy] >>>> Building video video.mp4\n",
            "[MoviePy] Writing audio in videoTEMP_MPY_wvf_snd.mp4\n"
          ],
          "name": "stdout"
        },
        {
          "output_type": "stream",
          "text": [
            "100%|██████████| 23/23 [00:00<00:00, 365.30it/s]"
          ],
          "name": "stderr"
        },
        {
          "output_type": "stream",
          "text": [
            "[MoviePy] Done.\n",
            "[MoviePy] Writing video video.mp4\n"
          ],
          "name": "stdout"
        },
        {
          "output_type": "stream",
          "text": [
            "\n",
            " 97%|█████████▋| 30/31 [00:03<00:00,  8.98it/s]\n"
          ],
          "name": "stderr"
        },
        {
          "output_type": "stream",
          "text": [
            "[MoviePy] Done.\n",
            "[MoviePy] >>>> Video ready: video.mp4 \n",
            "\n"
          ],
          "name": "stdout"
        },
        {
          "output_type": "stream",
          "text": [
            "18-01-2020:06:56:53,620 INFO     [classes.py:207] 30.00 fps, 30 frames, 1.00 seconds\n",
            "18-01-2020:06:56:53,627 INFO     [classes.py:323] Deleted pre-existing output/video_output.mp4\n",
            "18-01-2020:06:57:58,128 INFO     [classes.py:307] Completed analysis: saved to output/video_output.mp4\n"
          ],
          "name": "stderr"
        },
        {
          "output_type": "stream",
          "text": [
            "./Finalised/User_22/run_0/video.mp4\n",
            "[MoviePy] >>>> Building video video.mp4\n",
            "[MoviePy] Writing audio in videoTEMP_MPY_wvf_snd.mp4\n"
          ],
          "name": "stdout"
        },
        {
          "output_type": "stream",
          "text": [
            "100%|██████████| 23/23 [00:00<00:00, 385.27it/s]"
          ],
          "name": "stderr"
        },
        {
          "output_type": "stream",
          "text": [
            "[MoviePy] Done.\n",
            "[MoviePy] Writing video video.mp4\n"
          ],
          "name": "stdout"
        },
        {
          "output_type": "stream",
          "text": [
            "\n",
            " 97%|█████████▋| 30/31 [00:03<00:00,  8.62it/s]\n"
          ],
          "name": "stderr"
        },
        {
          "output_type": "stream",
          "text": [
            "[MoviePy] Done.\n",
            "[MoviePy] >>>> Video ready: video.mp4 \n",
            "\n"
          ],
          "name": "stdout"
        },
        {
          "output_type": "stream",
          "text": [
            "18-01-2020:06:59:07,86 INFO     [classes.py:207] 30.00 fps, 30 frames, 1.00 seconds\n",
            "18-01-2020:06:59:07,98 INFO     [classes.py:323] Deleted pre-existing output/video_output.mp4\n",
            "18-01-2020:06:59:36,225 INFO     [classes.py:307] Completed analysis: saved to output/video_output.mp4\n"
          ],
          "name": "stderr"
        },
        {
          "output_type": "stream",
          "text": [
            "./Finalised/User_22/run_1/video.mp4\n",
            "[MoviePy] >>>> Building video video.mp4\n",
            "[MoviePy] Writing audio in videoTEMP_MPY_wvf_snd.mp4\n"
          ],
          "name": "stdout"
        },
        {
          "output_type": "stream",
          "text": [
            "100%|██████████| 23/23 [00:00<00:00, 376.95it/s]"
          ],
          "name": "stderr"
        },
        {
          "output_type": "stream",
          "text": [
            "[MoviePy] Done.\n",
            "[MoviePy] Writing video video.mp4\n"
          ],
          "name": "stdout"
        },
        {
          "output_type": "stream",
          "text": [
            "\n",
            " 97%|█████████▋| 30/31 [00:03<00:00,  8.50it/s]\n"
          ],
          "name": "stderr"
        },
        {
          "output_type": "stream",
          "text": [
            "[MoviePy] Done.\n",
            "[MoviePy] >>>> Video ready: video.mp4 \n",
            "\n"
          ],
          "name": "stdout"
        },
        {
          "output_type": "stream",
          "text": [
            "18-01-2020:07:00:45,515 INFO     [classes.py:207] 30.00 fps, 30 frames, 1.00 seconds\n",
            "18-01-2020:07:00:45,522 INFO     [classes.py:323] Deleted pre-existing output/video_output.mp4\n",
            "18-01-2020:07:01:14,917 INFO     [classes.py:307] Completed analysis: saved to output/video_output.mp4\n"
          ],
          "name": "stderr"
        },
        {
          "output_type": "stream",
          "text": [
            "./Finalised/User_22/run_2/video.mp4\n",
            "[MoviePy] >>>> Building video video.mp4\n",
            "[MoviePy] Writing audio in videoTEMP_MPY_wvf_snd.mp4\n"
          ],
          "name": "stdout"
        },
        {
          "output_type": "stream",
          "text": [
            "100%|██████████| 23/23 [00:00<00:00, 392.98it/s]"
          ],
          "name": "stderr"
        },
        {
          "output_type": "stream",
          "text": [
            "[MoviePy] Done.\n",
            "[MoviePy] Writing video video.mp4\n"
          ],
          "name": "stdout"
        },
        {
          "output_type": "stream",
          "text": [
            "\n",
            " 97%|█████████▋| 30/31 [00:03<00:00,  8.10it/s]\n"
          ],
          "name": "stderr"
        },
        {
          "output_type": "stream",
          "text": [
            "[MoviePy] Done.\n",
            "[MoviePy] >>>> Video ready: video.mp4 \n",
            "\n"
          ],
          "name": "stdout"
        },
        {
          "output_type": "stream",
          "text": [
            "18-01-2020:07:02:23,790 INFO     [classes.py:207] 30.00 fps, 30 frames, 1.00 seconds\n",
            "18-01-2020:07:02:23,794 INFO     [classes.py:323] Deleted pre-existing output/video_output.mp4\n",
            "18-01-2020:07:02:52,835 INFO     [classes.py:307] Completed analysis: saved to output/video_output.mp4\n"
          ],
          "name": "stderr"
        },
        {
          "output_type": "stream",
          "text": [
            "./Finalised/User_22/run_3/video.mp4\n",
            "[MoviePy] >>>> Building video video.mp4\n",
            "[MoviePy] Writing audio in videoTEMP_MPY_wvf_snd.mp4\n"
          ],
          "name": "stdout"
        },
        {
          "output_type": "stream",
          "text": [
            "100%|██████████| 23/23 [00:00<00:00, 390.44it/s]"
          ],
          "name": "stderr"
        },
        {
          "output_type": "stream",
          "text": [
            "[MoviePy] Done.\n",
            "[MoviePy] Writing video video.mp4\n"
          ],
          "name": "stdout"
        },
        {
          "output_type": "stream",
          "text": [
            "\n",
            " 97%|█████████▋| 30/31 [00:03<00:00,  8.23it/s]\n"
          ],
          "name": "stderr"
        },
        {
          "output_type": "stream",
          "text": [
            "[MoviePy] Done.\n",
            "[MoviePy] >>>> Video ready: video.mp4 \n",
            "\n"
          ],
          "name": "stdout"
        },
        {
          "output_type": "stream",
          "text": [
            "18-01-2020:07:04:02,151 INFO     [classes.py:207] 30.00 fps, 30 frames, 1.00 seconds\n",
            "18-01-2020:07:04:02,159 INFO     [classes.py:323] Deleted pre-existing output/video_output.mp4\n",
            "18-01-2020:07:04:47,909 INFO     [classes.py:307] Completed analysis: saved to output/video_output.mp4\n"
          ],
          "name": "stderr"
        },
        {
          "output_type": "stream",
          "text": [
            "./Finalised/User_22/run_4/video.mp4\n",
            "[MoviePy] >>>> Building video video.mp4\n",
            "[MoviePy] Writing audio in videoTEMP_MPY_wvf_snd.mp4\n"
          ],
          "name": "stdout"
        },
        {
          "output_type": "stream",
          "text": [
            "100%|██████████| 23/23 [00:00<00:00, 406.27it/s]"
          ],
          "name": "stderr"
        },
        {
          "output_type": "stream",
          "text": [
            "[MoviePy] Done.\n",
            "[MoviePy] Writing video video.mp4\n"
          ],
          "name": "stdout"
        },
        {
          "output_type": "stream",
          "text": [
            "\n",
            " 97%|█████████▋| 30/31 [00:03<00:00,  8.09it/s]\n"
          ],
          "name": "stderr"
        },
        {
          "output_type": "stream",
          "text": [
            "[MoviePy] Done.\n",
            "[MoviePy] >>>> Video ready: video.mp4 \n",
            "\n"
          ],
          "name": "stdout"
        },
        {
          "output_type": "stream",
          "text": [
            "18-01-2020:07:05:57,694 INFO     [classes.py:207] 30.00 fps, 30 frames, 1.00 seconds\n",
            "18-01-2020:07:05:57,699 INFO     [classes.py:323] Deleted pre-existing output/video_output.mp4\n",
            "18-01-2020:07:06:27,741 INFO     [classes.py:307] Completed analysis: saved to output/video_output.mp4\n"
          ],
          "name": "stderr"
        },
        {
          "output_type": "stream",
          "text": [
            "./Finalised/User_22/run_5/video.mp4\n",
            "[MoviePy] >>>> Building video video.mp4\n",
            "[MoviePy] Writing audio in videoTEMP_MPY_wvf_snd.mp4\n"
          ],
          "name": "stdout"
        },
        {
          "output_type": "stream",
          "text": [
            "100%|██████████| 23/23 [00:00<00:00, 403.72it/s]"
          ],
          "name": "stderr"
        },
        {
          "output_type": "stream",
          "text": [
            "[MoviePy] Done.\n",
            "[MoviePy] Writing video video.mp4\n"
          ],
          "name": "stdout"
        },
        {
          "output_type": "stream",
          "text": [
            "\n",
            " 97%|█████████▋| 30/31 [00:03<00:00,  8.19it/s]\n"
          ],
          "name": "stderr"
        },
        {
          "output_type": "stream",
          "text": [
            "[MoviePy] Done.\n",
            "[MoviePy] >>>> Video ready: video.mp4 \n",
            "\n"
          ],
          "name": "stdout"
        },
        {
          "output_type": "stream",
          "text": [
            "18-01-2020:07:07:38,90 INFO     [classes.py:207] 30.00 fps, 30 frames, 1.00 seconds\n",
            "18-01-2020:07:07:38,94 INFO     [classes.py:323] Deleted pre-existing output/video_output.mp4\n",
            "18-01-2020:07:08:24,518 INFO     [classes.py:307] Completed analysis: saved to output/video_output.mp4\n"
          ],
          "name": "stderr"
        },
        {
          "output_type": "stream",
          "text": [
            "./Finalised/User_22/run_6/video.mp4\n",
            "[MoviePy] >>>> Building video video.mp4\n",
            "[MoviePy] Writing audio in videoTEMP_MPY_wvf_snd.mp4\n"
          ],
          "name": "stdout"
        },
        {
          "output_type": "stream",
          "text": [
            "100%|██████████| 23/23 [00:00<00:00, 367.41it/s]"
          ],
          "name": "stderr"
        },
        {
          "output_type": "stream",
          "text": [
            "[MoviePy] Done.\n",
            "[MoviePy] Writing video video.mp4\n"
          ],
          "name": "stdout"
        },
        {
          "output_type": "stream",
          "text": [
            "\n",
            " 97%|█████████▋| 30/31 [00:03<00:00,  8.31it/s]\n"
          ],
          "name": "stderr"
        },
        {
          "output_type": "stream",
          "text": [
            "[MoviePy] Done.\n",
            "[MoviePy] >>>> Video ready: video.mp4 \n",
            "\n"
          ],
          "name": "stdout"
        },
        {
          "output_type": "stream",
          "text": [
            "18-01-2020:07:09:33,823 INFO     [classes.py:207] 30.00 fps, 30 frames, 1.00 seconds\n",
            "18-01-2020:07:09:33,828 INFO     [classes.py:323] Deleted pre-existing output/video_output.mp4\n",
            "18-01-2020:07:10:23,301 INFO     [classes.py:307] Completed analysis: saved to output/video_output.mp4\n"
          ],
          "name": "stderr"
        },
        {
          "output_type": "stream",
          "text": [
            "./Finalised/User_22/run_7/video.mp4\n",
            "[MoviePy] >>>> Building video video.mp4\n",
            "[MoviePy] Writing audio in videoTEMP_MPY_wvf_snd.mp4\n"
          ],
          "name": "stdout"
        },
        {
          "output_type": "stream",
          "text": [
            "100%|██████████| 23/23 [00:00<00:00, 372.25it/s]"
          ],
          "name": "stderr"
        },
        {
          "output_type": "stream",
          "text": [
            "[MoviePy] Done.\n",
            "[MoviePy] Writing video video.mp4\n"
          ],
          "name": "stdout"
        },
        {
          "output_type": "stream",
          "text": [
            "\n",
            " 97%|█████████▋| 30/31 [00:03<00:00,  7.42it/s]\n"
          ],
          "name": "stderr"
        },
        {
          "output_type": "stream",
          "text": [
            "[MoviePy] Done.\n",
            "[MoviePy] >>>> Video ready: video.mp4 \n",
            "\n"
          ],
          "name": "stdout"
        },
        {
          "output_type": "stream",
          "text": [
            "18-01-2020:07:11:33,867 INFO     [classes.py:207] 30.00 fps, 30 frames, 1.00 seconds\n",
            "18-01-2020:07:11:33,872 INFO     [classes.py:323] Deleted pre-existing output/video_output.mp4\n",
            "18-01-2020:07:12:23,939 INFO     [classes.py:307] Completed analysis: saved to output/video_output.mp4\n"
          ],
          "name": "stderr"
        },
        {
          "output_type": "stream",
          "text": [
            "./Finalised/User_22/run_8/video.mp4\n",
            "[MoviePy] >>>> Building video video.mp4\n",
            "[MoviePy] Writing audio in videoTEMP_MPY_wvf_snd.mp4\n"
          ],
          "name": "stdout"
        },
        {
          "output_type": "stream",
          "text": [
            "100%|██████████| 23/23 [00:00<00:00, 354.83it/s]"
          ],
          "name": "stderr"
        },
        {
          "output_type": "stream",
          "text": [
            "[MoviePy] Done.\n",
            "[MoviePy] Writing video video.mp4\n"
          ],
          "name": "stdout"
        },
        {
          "output_type": "stream",
          "text": [
            "\n",
            " 97%|█████████▋| 30/31 [00:03<00:00,  8.09it/s]\n"
          ],
          "name": "stderr"
        },
        {
          "output_type": "stream",
          "text": [
            "[MoviePy] Done.\n",
            "[MoviePy] >>>> Video ready: video.mp4 \n",
            "\n"
          ],
          "name": "stdout"
        },
        {
          "output_type": "stream",
          "text": [
            "18-01-2020:07:13:34,408 INFO     [classes.py:207] 30.00 fps, 30 frames, 1.00 seconds\n",
            "18-01-2020:07:13:34,412 INFO     [classes.py:323] Deleted pre-existing output/video_output.mp4\n",
            "18-01-2020:07:14:20,507 INFO     [classes.py:307] Completed analysis: saved to output/video_output.mp4\n"
          ],
          "name": "stderr"
        },
        {
          "output_type": "stream",
          "text": [
            "./Finalised/User_22/run_9/video.mp4\n",
            "[MoviePy] >>>> Building video video.mp4\n",
            "[MoviePy] Writing audio in videoTEMP_MPY_wvf_snd.mp4\n"
          ],
          "name": "stdout"
        },
        {
          "output_type": "stream",
          "text": [
            "100%|██████████| 23/23 [00:00<00:00, 394.43it/s]"
          ],
          "name": "stderr"
        },
        {
          "output_type": "stream",
          "text": [
            "[MoviePy] Done.\n",
            "[MoviePy] Writing video video.mp4\n"
          ],
          "name": "stdout"
        },
        {
          "output_type": "stream",
          "text": [
            "\n",
            " 97%|█████████▋| 30/31 [00:03<00:00,  8.33it/s]\n"
          ],
          "name": "stderr"
        },
        {
          "output_type": "stream",
          "text": [
            "[MoviePy] Done.\n",
            "[MoviePy] >>>> Video ready: video.mp4 \n",
            "\n"
          ],
          "name": "stdout"
        },
        {
          "output_type": "stream",
          "text": [
            "18-01-2020:07:15:30,919 INFO     [classes.py:207] 30.00 fps, 30 frames, 1.00 seconds\n",
            "18-01-2020:07:15:30,926 INFO     [classes.py:323] Deleted pre-existing output/video_output.mp4\n",
            "18-01-2020:07:16:19,132 INFO     [classes.py:307] Completed analysis: saved to output/video_output.mp4\n"
          ],
          "name": "stderr"
        },
        {
          "output_type": "stream",
          "text": [
            "./Finalised/User_23/run_0/video.mp4\n",
            "[MoviePy] >>>> Building video video.mp4\n",
            "[MoviePy] Writing audio in videoTEMP_MPY_wvf_snd.mp4\n"
          ],
          "name": "stdout"
        },
        {
          "output_type": "stream",
          "text": [
            "100%|██████████| 23/23 [00:00<00:00, 418.93it/s]"
          ],
          "name": "stderr"
        },
        {
          "output_type": "stream",
          "text": [
            "[MoviePy] Done.\n",
            "[MoviePy] Writing video video.mp4\n"
          ],
          "name": "stdout"
        },
        {
          "output_type": "stream",
          "text": [
            "\n",
            " 97%|█████████▋| 30/31 [00:03<00:00,  7.71it/s]\n"
          ],
          "name": "stderr"
        },
        {
          "output_type": "stream",
          "text": [
            "[MoviePy] Done.\n",
            "[MoviePy] >>>> Video ready: video.mp4 \n",
            "\n"
          ],
          "name": "stdout"
        },
        {
          "output_type": "stream",
          "text": [
            "18-01-2020:07:17:29,801 INFO     [classes.py:207] 30.00 fps, 30 frames, 1.00 seconds\n",
            "18-01-2020:07:17:29,808 INFO     [classes.py:323] Deleted pre-existing output/video_output.mp4\n",
            "18-01-2020:07:18:32,48 INFO     [classes.py:307] Completed analysis: saved to output/video_output.mp4\n"
          ],
          "name": "stderr"
        },
        {
          "output_type": "stream",
          "text": [
            "./Finalised/User_23/run_1/video.mp4\n",
            "[MoviePy] >>>> Building video video.mp4\n",
            "[MoviePy] Writing audio in videoTEMP_MPY_wvf_snd.mp4\n"
          ],
          "name": "stdout"
        },
        {
          "output_type": "stream",
          "text": [
            "100%|██████████| 23/23 [00:00<00:00, 406.86it/s]"
          ],
          "name": "stderr"
        },
        {
          "output_type": "stream",
          "text": [
            "[MoviePy] Done.\n",
            "[MoviePy] Writing video video.mp4\n"
          ],
          "name": "stdout"
        },
        {
          "output_type": "stream",
          "text": [
            "\n",
            " 97%|█████████▋| 30/31 [00:03<00:00,  7.18it/s]\n"
          ],
          "name": "stderr"
        },
        {
          "output_type": "stream",
          "text": [
            "[MoviePy] Done.\n",
            "[MoviePy] >>>> Video ready: video.mp4 \n",
            "\n"
          ],
          "name": "stdout"
        },
        {
          "output_type": "stream",
          "text": [
            "18-01-2020:07:19:42,997 INFO     [classes.py:207] 30.00 fps, 30 frames, 1.00 seconds\n",
            "18-01-2020:07:19:43,5 INFO     [classes.py:323] Deleted pre-existing output/video_output.mp4\n",
            "18-01-2020:07:20:43,366 INFO     [classes.py:307] Completed analysis: saved to output/video_output.mp4\n"
          ],
          "name": "stderr"
        },
        {
          "output_type": "stream",
          "text": [
            "./Finalised/User_23/run_2/video.mp4\n",
            "[MoviePy] >>>> Building video video.mp4\n",
            "[MoviePy] Writing audio in videoTEMP_MPY_wvf_snd.mp4\n"
          ],
          "name": "stdout"
        },
        {
          "output_type": "stream",
          "text": [
            "100%|██████████| 23/23 [00:00<00:00, 375.43it/s]"
          ],
          "name": "stderr"
        },
        {
          "output_type": "stream",
          "text": [
            "[MoviePy] Done.\n",
            "[MoviePy] Writing video video.mp4\n"
          ],
          "name": "stdout"
        },
        {
          "output_type": "stream",
          "text": [
            "\n",
            " 97%|█████████▋| 30/31 [00:03<00:00,  7.68it/s]\n"
          ],
          "name": "stderr"
        },
        {
          "output_type": "stream",
          "text": [
            "[MoviePy] Done.\n",
            "[MoviePy] >>>> Video ready: video.mp4 \n",
            "\n"
          ],
          "name": "stdout"
        },
        {
          "output_type": "stream",
          "text": [
            "18-01-2020:07:21:54,197 INFO     [classes.py:207] 30.00 fps, 30 frames, 1.00 seconds\n",
            "18-01-2020:07:21:54,203 INFO     [classes.py:323] Deleted pre-existing output/video_output.mp4\n",
            "18-01-2020:07:22:55,80 INFO     [classes.py:307] Completed analysis: saved to output/video_output.mp4\n"
          ],
          "name": "stderr"
        },
        {
          "output_type": "stream",
          "text": [
            "./Finalised/User_23/run_3/video.mp4\n",
            "[MoviePy] >>>> Building video video.mp4\n",
            "[MoviePy] Writing audio in videoTEMP_MPY_wvf_snd.mp4\n"
          ],
          "name": "stdout"
        },
        {
          "output_type": "stream",
          "text": [
            "100%|██████████| 23/23 [00:00<00:00, 406.46it/s]"
          ],
          "name": "stderr"
        },
        {
          "output_type": "stream",
          "text": [
            "[MoviePy] Done.\n",
            "[MoviePy] Writing video video.mp4\n"
          ],
          "name": "stdout"
        },
        {
          "output_type": "stream",
          "text": [
            "\n",
            " 97%|█████████▋| 30/31 [00:03<00:00,  8.10it/s]\n"
          ],
          "name": "stderr"
        },
        {
          "output_type": "stream",
          "text": [
            "[MoviePy] Done.\n",
            "[MoviePy] >>>> Video ready: video.mp4 \n",
            "\n"
          ],
          "name": "stdout"
        },
        {
          "output_type": "stream",
          "text": [
            "18-01-2020:07:24:05,663 INFO     [classes.py:207] 30.00 fps, 30 frames, 1.00 seconds\n",
            "18-01-2020:07:24:05,671 INFO     [classes.py:323] Deleted pre-existing output/video_output.mp4\n",
            "18-01-2020:07:25:06,68 INFO     [classes.py:307] Completed analysis: saved to output/video_output.mp4\n"
          ],
          "name": "stderr"
        },
        {
          "output_type": "stream",
          "text": [
            "./Finalised/User_23/run_4/video.mp4\n",
            "[MoviePy] >>>> Building video video.mp4\n",
            "[MoviePy] Writing audio in videoTEMP_MPY_wvf_snd.mp4\n"
          ],
          "name": "stdout"
        },
        {
          "output_type": "stream",
          "text": [
            "100%|██████████| 23/23 [00:00<00:00, 356.12it/s]"
          ],
          "name": "stderr"
        },
        {
          "output_type": "stream",
          "text": [
            "[MoviePy] Done.\n",
            "[MoviePy] Writing video video.mp4\n"
          ],
          "name": "stdout"
        },
        {
          "output_type": "stream",
          "text": [
            "\n",
            " 97%|█████████▋| 30/31 [00:03<00:00,  7.61it/s]\n"
          ],
          "name": "stderr"
        },
        {
          "output_type": "stream",
          "text": [
            "[MoviePy] Done.\n",
            "[MoviePy] >>>> Video ready: video.mp4 \n",
            "\n"
          ],
          "name": "stdout"
        },
        {
          "output_type": "stream",
          "text": [
            "18-01-2020:07:26:17,50 INFO     [classes.py:207] 30.00 fps, 30 frames, 1.00 seconds\n",
            "18-01-2020:07:26:17,57 INFO     [classes.py:323] Deleted pre-existing output/video_output.mp4\n",
            "18-01-2020:07:27:17,782 INFO     [classes.py:307] Completed analysis: saved to output/video_output.mp4\n"
          ],
          "name": "stderr"
        },
        {
          "output_type": "stream",
          "text": [
            "./Finalised/User_23/run_5/video.mp4\n",
            "[MoviePy] >>>> Building video video.mp4\n",
            "[MoviePy] Writing audio in videoTEMP_MPY_wvf_snd.mp4\n"
          ],
          "name": "stdout"
        },
        {
          "output_type": "stream",
          "text": [
            "100%|██████████| 23/23 [00:00<00:00, 383.78it/s]"
          ],
          "name": "stderr"
        },
        {
          "output_type": "stream",
          "text": [
            "[MoviePy] Done.\n",
            "[MoviePy] Writing video video.mp4\n"
          ],
          "name": "stdout"
        },
        {
          "output_type": "stream",
          "text": [
            "\n",
            " 97%|█████████▋| 30/31 [00:03<00:00,  7.42it/s]\n"
          ],
          "name": "stderr"
        },
        {
          "output_type": "stream",
          "text": [
            "[MoviePy] Done.\n",
            "[MoviePy] >>>> Video ready: video.mp4 \n",
            "\n"
          ],
          "name": "stdout"
        },
        {
          "output_type": "stream",
          "text": [
            "18-01-2020:07:28:28,855 INFO     [classes.py:207] 30.00 fps, 30 frames, 1.00 seconds\n",
            "18-01-2020:07:28:28,860 INFO     [classes.py:323] Deleted pre-existing output/video_output.mp4\n",
            "18-01-2020:07:29:29,988 INFO     [classes.py:307] Completed analysis: saved to output/video_output.mp4\n"
          ],
          "name": "stderr"
        },
        {
          "output_type": "stream",
          "text": [
            "./Finalised/User_23/run_6/video.mp4\n",
            "[MoviePy] >>>> Building video video.mp4\n",
            "[MoviePy] Writing audio in videoTEMP_MPY_wvf_snd.mp4\n"
          ],
          "name": "stdout"
        },
        {
          "output_type": "stream",
          "text": [
            "100%|██████████| 23/23 [00:00<00:00, 369.67it/s]"
          ],
          "name": "stderr"
        },
        {
          "output_type": "stream",
          "text": [
            "[MoviePy] Done.\n",
            "[MoviePy] Writing video video.mp4\n"
          ],
          "name": "stdout"
        },
        {
          "output_type": "stream",
          "text": [
            "\n",
            " 97%|█████████▋| 30/31 [00:03<00:00,  8.59it/s]\n"
          ],
          "name": "stderr"
        },
        {
          "output_type": "stream",
          "text": [
            "[MoviePy] Done.\n",
            "[MoviePy] >>>> Video ready: video.mp4 \n",
            "\n"
          ],
          "name": "stdout"
        },
        {
          "output_type": "stream",
          "text": [
            "18-01-2020:07:30:41,62 INFO     [classes.py:207] 30.00 fps, 30 frames, 1.00 seconds\n",
            "18-01-2020:07:30:41,69 INFO     [classes.py:323] Deleted pre-existing output/video_output.mp4\n",
            "18-01-2020:07:31:42,36 INFO     [classes.py:307] Completed analysis: saved to output/video_output.mp4\n"
          ],
          "name": "stderr"
        },
        {
          "output_type": "stream",
          "text": [
            "./Finalised/User_23/run_7/video.mp4\n",
            "[MoviePy] >>>> Building video video.mp4\n",
            "[MoviePy] Writing audio in videoTEMP_MPY_wvf_snd.mp4\n"
          ],
          "name": "stdout"
        },
        {
          "output_type": "stream",
          "text": [
            "100%|██████████| 23/23 [00:00<00:00, 357.13it/s]"
          ],
          "name": "stderr"
        },
        {
          "output_type": "stream",
          "text": [
            "[MoviePy] Done.\n",
            "[MoviePy] Writing video video.mp4\n"
          ],
          "name": "stdout"
        },
        {
          "output_type": "stream",
          "text": [
            "\n",
            " 97%|█████████▋| 30/31 [00:03<00:00,  7.74it/s]\n"
          ],
          "name": "stderr"
        },
        {
          "output_type": "stream",
          "text": [
            "[MoviePy] Done.\n",
            "[MoviePy] >>>> Video ready: video.mp4 \n",
            "\n"
          ],
          "name": "stdout"
        },
        {
          "output_type": "stream",
          "text": [
            "18-01-2020:07:32:53,521 INFO     [classes.py:207] 30.00 fps, 30 frames, 1.00 seconds\n",
            "18-01-2020:07:32:53,527 INFO     [classes.py:323] Deleted pre-existing output/video_output.mp4\n",
            "18-01-2020:07:33:55,164 INFO     [classes.py:307] Completed analysis: saved to output/video_output.mp4\n"
          ],
          "name": "stderr"
        },
        {
          "output_type": "stream",
          "text": [
            "./Finalised/User_23/run_8/video.mp4\n",
            "[MoviePy] >>>> Building video video.mp4\n",
            "[MoviePy] Writing audio in videoTEMP_MPY_wvf_snd.mp4\n"
          ],
          "name": "stdout"
        },
        {
          "output_type": "stream",
          "text": [
            "100%|██████████| 23/23 [00:00<00:00, 349.75it/s]"
          ],
          "name": "stderr"
        },
        {
          "output_type": "stream",
          "text": [
            "[MoviePy] Done.\n",
            "[MoviePy] Writing video video.mp4\n"
          ],
          "name": "stdout"
        },
        {
          "output_type": "stream",
          "text": [
            "\n",
            " 97%|█████████▋| 30/31 [00:03<00:00,  8.69it/s]\n"
          ],
          "name": "stderr"
        },
        {
          "output_type": "stream",
          "text": [
            "[MoviePy] Done.\n",
            "[MoviePy] >>>> Video ready: video.mp4 \n",
            "\n"
          ],
          "name": "stdout"
        },
        {
          "output_type": "stream",
          "text": [
            "18-01-2020:07:35:06,973 INFO     [classes.py:207] 30.00 fps, 30 frames, 1.00 seconds\n",
            "18-01-2020:07:35:06,981 INFO     [classes.py:323] Deleted pre-existing output/video_output.mp4\n",
            "18-01-2020:07:36:07,875 INFO     [classes.py:307] Completed analysis: saved to output/video_output.mp4\n"
          ],
          "name": "stderr"
        },
        {
          "output_type": "stream",
          "text": [
            "./Finalised/User_23/run_9/video.mp4\n",
            "[MoviePy] >>>> Building video video.mp4\n",
            "[MoviePy] Writing audio in videoTEMP_MPY_wvf_snd.mp4\n"
          ],
          "name": "stdout"
        },
        {
          "output_type": "stream",
          "text": [
            "100%|██████████| 23/23 [00:00<00:00, 422.12it/s]"
          ],
          "name": "stderr"
        },
        {
          "output_type": "stream",
          "text": [
            "[MoviePy] Done.\n",
            "[MoviePy] Writing video video.mp4\n"
          ],
          "name": "stdout"
        },
        {
          "output_type": "stream",
          "text": [
            "\n",
            " 97%|█████████▋| 30/31 [00:03<00:00,  8.27it/s]\n"
          ],
          "name": "stderr"
        },
        {
          "output_type": "stream",
          "text": [
            "[MoviePy] Done.\n",
            "[MoviePy] >>>> Video ready: video.mp4 \n",
            "\n"
          ],
          "name": "stdout"
        },
        {
          "output_type": "stream",
          "text": [
            "18-01-2020:07:37:20,8 INFO     [classes.py:207] 30.00 fps, 30 frames, 1.00 seconds\n",
            "18-01-2020:07:37:20,14 INFO     [classes.py:323] Deleted pre-existing output/video_output.mp4\n",
            "18-01-2020:07:38:21,668 INFO     [classes.py:307] Completed analysis: saved to output/video_output.mp4\n"
          ],
          "name": "stderr"
        },
        {
          "output_type": "stream",
          "text": [
            "./Finalised/User_24/run_0/video.mp4\n",
            "[MoviePy] >>>> Building video video.mp4\n",
            "[MoviePy] Writing audio in videoTEMP_MPY_wvf_snd.mp4\n"
          ],
          "name": "stdout"
        },
        {
          "output_type": "stream",
          "text": [
            "100%|██████████| 23/23 [00:00<00:00, 357.42it/s]"
          ],
          "name": "stderr"
        },
        {
          "output_type": "stream",
          "text": [
            "[MoviePy] Done.\n",
            "[MoviePy] Writing video video.mp4\n"
          ],
          "name": "stdout"
        },
        {
          "output_type": "stream",
          "text": [
            "\n",
            " 97%|█████████▋| 30/31 [00:03<00:00,  8.44it/s]\n"
          ],
          "name": "stderr"
        },
        {
          "output_type": "stream",
          "text": [
            "[MoviePy] Done.\n",
            "[MoviePy] >>>> Video ready: video.mp4 \n",
            "\n"
          ],
          "name": "stdout"
        },
        {
          "output_type": "stream",
          "text": [
            "18-01-2020:07:39:34,319 INFO     [classes.py:207] 30.00 fps, 30 frames, 1.00 seconds\n",
            "18-01-2020:07:39:34,324 INFO     [classes.py:323] Deleted pre-existing output/video_output.mp4\n",
            "18-01-2020:07:40:55,192 INFO     [classes.py:307] Completed analysis: saved to output/video_output.mp4\n"
          ],
          "name": "stderr"
        },
        {
          "output_type": "stream",
          "text": [
            "./Finalised/User_24/run_1/video.mp4\n",
            "[MoviePy] >>>> Building video video.mp4\n",
            "[MoviePy] Writing audio in videoTEMP_MPY_wvf_snd.mp4\n"
          ],
          "name": "stdout"
        },
        {
          "output_type": "stream",
          "text": [
            "100%|██████████| 23/23 [00:00<00:00, 399.97it/s]"
          ],
          "name": "stderr"
        },
        {
          "output_type": "stream",
          "text": [
            "[MoviePy] Done.\n",
            "[MoviePy] Writing video video.mp4\n"
          ],
          "name": "stdout"
        },
        {
          "output_type": "stream",
          "text": [
            "\n",
            " 97%|█████████▋| 30/31 [00:03<00:00,  8.22it/s]\n"
          ],
          "name": "stderr"
        },
        {
          "output_type": "stream",
          "text": [
            "[MoviePy] Done.\n",
            "[MoviePy] >>>> Video ready: video.mp4 \n",
            "\n"
          ],
          "name": "stdout"
        },
        {
          "output_type": "stream",
          "text": [
            "18-01-2020:07:42:07,171 INFO     [classes.py:207] 30.00 fps, 30 frames, 1.00 seconds\n",
            "18-01-2020:07:42:07,178 INFO     [classes.py:323] Deleted pre-existing output/video_output.mp4\n",
            "18-01-2020:07:43:26,927 INFO     [classes.py:307] Completed analysis: saved to output/video_output.mp4\n"
          ],
          "name": "stderr"
        },
        {
          "output_type": "stream",
          "text": [
            "./Finalised/User_24/run_2/video.mp4\n",
            "[MoviePy] >>>> Building video video.mp4\n",
            "[MoviePy] Writing audio in videoTEMP_MPY_wvf_snd.mp4\n"
          ],
          "name": "stdout"
        },
        {
          "output_type": "stream",
          "text": [
            "100%|██████████| 23/23 [00:00<00:00, 393.08it/s]"
          ],
          "name": "stderr"
        },
        {
          "output_type": "stream",
          "text": [
            "[MoviePy] Done.\n",
            "[MoviePy] Writing video video.mp4\n"
          ],
          "name": "stdout"
        },
        {
          "output_type": "stream",
          "text": [
            "\n",
            " 97%|█████████▋| 30/31 [00:03<00:00,  7.79it/s]\n"
          ],
          "name": "stderr"
        },
        {
          "output_type": "stream",
          "text": [
            "[MoviePy] Done.\n",
            "[MoviePy] >>>> Video ready: video.mp4 \n",
            "\n"
          ],
          "name": "stdout"
        },
        {
          "output_type": "stream",
          "text": [
            "18-01-2020:07:44:39,110 INFO     [classes.py:207] 30.00 fps, 30 frames, 1.00 seconds\n",
            "18-01-2020:07:44:39,116 INFO     [classes.py:323] Deleted pre-existing output/video_output.mp4\n",
            "18-01-2020:07:45:53,467 INFO     [classes.py:307] Completed analysis: saved to output/video_output.mp4\n"
          ],
          "name": "stderr"
        },
        {
          "output_type": "stream",
          "text": [
            "./Finalised/User_24/run_3/video.mp4\n",
            "[MoviePy] >>>> Building video video.mp4\n",
            "[MoviePy] Writing audio in videoTEMP_MPY_wvf_snd.mp4\n"
          ],
          "name": "stdout"
        },
        {
          "output_type": "stream",
          "text": [
            "100%|██████████| 23/23 [00:00<00:00, 357.03it/s]"
          ],
          "name": "stderr"
        },
        {
          "output_type": "stream",
          "text": [
            "[MoviePy] Done.\n",
            "[MoviePy] Writing video video.mp4\n"
          ],
          "name": "stdout"
        },
        {
          "output_type": "stream",
          "text": [
            "\n",
            " 97%|█████████▋| 30/31 [00:03<00:00,  7.94it/s]\n"
          ],
          "name": "stderr"
        },
        {
          "output_type": "stream",
          "text": [
            "[MoviePy] Done.\n",
            "[MoviePy] >>>> Video ready: video.mp4 \n",
            "\n"
          ],
          "name": "stdout"
        },
        {
          "output_type": "stream",
          "text": [
            "18-01-2020:07:47:05,718 INFO     [classes.py:207] 30.00 fps, 30 frames, 1.00 seconds\n",
            "18-01-2020:07:47:05,726 INFO     [classes.py:323] Deleted pre-existing output/video_output.mp4\n",
            "18-01-2020:07:48:25,775 INFO     [classes.py:307] Completed analysis: saved to output/video_output.mp4\n"
          ],
          "name": "stderr"
        },
        {
          "output_type": "stream",
          "text": [
            "./Finalised/User_24/run_4/video.mp4\n",
            "[MoviePy] >>>> Building video video.mp4\n",
            "[MoviePy] Writing audio in videoTEMP_MPY_wvf_snd.mp4\n"
          ],
          "name": "stdout"
        },
        {
          "output_type": "stream",
          "text": [
            "100%|██████████| 23/23 [00:00<00:00, 407.37it/s]"
          ],
          "name": "stderr"
        },
        {
          "output_type": "stream",
          "text": [
            "[MoviePy] Done.\n",
            "[MoviePy] Writing video video.mp4\n"
          ],
          "name": "stdout"
        },
        {
          "output_type": "stream",
          "text": [
            "\n",
            " 97%|█████████▋| 30/31 [00:03<00:00,  7.30it/s]\n"
          ],
          "name": "stderr"
        },
        {
          "output_type": "stream",
          "text": [
            "[MoviePy] Done.\n",
            "[MoviePy] >>>> Video ready: video.mp4 \n",
            "\n"
          ],
          "name": "stdout"
        },
        {
          "output_type": "stream",
          "text": [
            "18-01-2020:07:49:37,883 INFO     [classes.py:207] 30.00 fps, 30 frames, 1.00 seconds\n",
            "18-01-2020:07:49:37,891 INFO     [classes.py:323] Deleted pre-existing output/video_output.mp4\n",
            "18-01-2020:07:50:56,643 INFO     [classes.py:307] Completed analysis: saved to output/video_output.mp4\n"
          ],
          "name": "stderr"
        },
        {
          "output_type": "stream",
          "text": [
            "./Finalised/User_24/run_5/video.mp4\n",
            "[MoviePy] >>>> Building video video.mp4\n",
            "[MoviePy] Writing audio in videoTEMP_MPY_wvf_snd.mp4\n"
          ],
          "name": "stdout"
        },
        {
          "output_type": "stream",
          "text": [
            "100%|██████████| 23/23 [00:00<00:00, 399.22it/s]"
          ],
          "name": "stderr"
        },
        {
          "output_type": "stream",
          "text": [
            "[MoviePy] Done.\n",
            "[MoviePy] Writing video video.mp4\n"
          ],
          "name": "stdout"
        },
        {
          "output_type": "stream",
          "text": [
            "\n",
            " 97%|█████████▋| 30/31 [00:03<00:00,  8.17it/s]\n"
          ],
          "name": "stderr"
        },
        {
          "output_type": "stream",
          "text": [
            "[MoviePy] Done.\n",
            "[MoviePy] >>>> Video ready: video.mp4 \n",
            "\n"
          ],
          "name": "stdout"
        },
        {
          "output_type": "stream",
          "text": [
            "18-01-2020:07:52:08,950 INFO     [classes.py:207] 30.00 fps, 30 frames, 1.00 seconds\n",
            "18-01-2020:07:52:08,957 INFO     [classes.py:323] Deleted pre-existing output/video_output.mp4\n",
            "18-01-2020:07:53:27,343 INFO     [classes.py:307] Completed analysis: saved to output/video_output.mp4\n"
          ],
          "name": "stderr"
        },
        {
          "output_type": "stream",
          "text": [
            "./Finalised/User_24/run_6/video.mp4\n",
            "[MoviePy] >>>> Building video video.mp4\n",
            "[MoviePy] Writing audio in videoTEMP_MPY_wvf_snd.mp4\n"
          ],
          "name": "stdout"
        },
        {
          "output_type": "stream",
          "text": [
            "100%|██████████| 23/23 [00:00<00:00, 439.14it/s]"
          ],
          "name": "stderr"
        },
        {
          "output_type": "stream",
          "text": [
            "[MoviePy] Done.\n",
            "[MoviePy] Writing video video.mp4\n"
          ],
          "name": "stdout"
        },
        {
          "output_type": "stream",
          "text": [
            "\n",
            " 97%|█████████▋| 30/31 [00:03<00:00,  8.31it/s]\n"
          ],
          "name": "stderr"
        },
        {
          "output_type": "stream",
          "text": [
            "[MoviePy] Done.\n",
            "[MoviePy] >>>> Video ready: video.mp4 \n",
            "\n"
          ],
          "name": "stdout"
        },
        {
          "output_type": "stream",
          "text": [
            "18-01-2020:07:54:40,479 INFO     [classes.py:207] 30.00 fps, 30 frames, 1.00 seconds\n",
            "18-01-2020:07:54:40,485 INFO     [classes.py:323] Deleted pre-existing output/video_output.mp4\n",
            "18-01-2020:07:55:57,347 INFO     [classes.py:307] Completed analysis: saved to output/video_output.mp4\n"
          ],
          "name": "stderr"
        },
        {
          "output_type": "stream",
          "text": [
            "./Finalised/User_24/run_7/video.mp4\n",
            "[MoviePy] >>>> Building video video.mp4\n",
            "[MoviePy] Writing audio in videoTEMP_MPY_wvf_snd.mp4\n"
          ],
          "name": "stdout"
        },
        {
          "output_type": "stream",
          "text": [
            "100%|██████████| 23/23 [00:00<00:00, 383.39it/s]"
          ],
          "name": "stderr"
        },
        {
          "output_type": "stream",
          "text": [
            "[MoviePy] Done.\n",
            "[MoviePy] Writing video video.mp4\n"
          ],
          "name": "stdout"
        },
        {
          "output_type": "stream",
          "text": [
            "\n",
            " 97%|█████████▋| 30/31 [00:03<00:00,  7.91it/s]\n"
          ],
          "name": "stderr"
        },
        {
          "output_type": "stream",
          "text": [
            "[MoviePy] Done.\n",
            "[MoviePy] >>>> Video ready: video.mp4 \n",
            "\n"
          ],
          "name": "stdout"
        },
        {
          "output_type": "stream",
          "text": [
            "18-01-2020:07:57:10,773 INFO     [classes.py:207] 30.00 fps, 30 frames, 1.00 seconds\n",
            "18-01-2020:07:57:10,784 INFO     [classes.py:323] Deleted pre-existing output/video_output.mp4\n",
            "18-01-2020:07:58:29,566 INFO     [classes.py:307] Completed analysis: saved to output/video_output.mp4\n"
          ],
          "name": "stderr"
        },
        {
          "output_type": "stream",
          "text": [
            "./Finalised/User_24/run_8/video.mp4\n",
            "[MoviePy] >>>> Building video video.mp4\n",
            "[MoviePy] Writing audio in videoTEMP_MPY_wvf_snd.mp4\n"
          ],
          "name": "stdout"
        },
        {
          "output_type": "stream",
          "text": [
            "100%|██████████| 23/23 [00:00<00:00, 360.42it/s]"
          ],
          "name": "stderr"
        },
        {
          "output_type": "stream",
          "text": [
            "[MoviePy] Done.\n",
            "[MoviePy] Writing video video.mp4\n"
          ],
          "name": "stdout"
        },
        {
          "output_type": "stream",
          "text": [
            "\n",
            " 97%|█████████▋| 30/31 [00:03<00:00,  7.99it/s]\n"
          ],
          "name": "stderr"
        },
        {
          "output_type": "stream",
          "text": [
            "[MoviePy] Done.\n",
            "[MoviePy] >>>> Video ready: video.mp4 \n",
            "\n"
          ],
          "name": "stdout"
        },
        {
          "output_type": "stream",
          "text": [
            "18-01-2020:07:59:43,345 INFO     [classes.py:207] 30.00 fps, 30 frames, 1.00 seconds\n",
            "18-01-2020:07:59:43,355 INFO     [classes.py:323] Deleted pre-existing output/video_output.mp4\n",
            "18-01-2020:08:01:01,29 INFO     [classes.py:307] Completed analysis: saved to output/video_output.mp4\n"
          ],
          "name": "stderr"
        },
        {
          "output_type": "stream",
          "text": [
            "./Finalised/User_24/run_9/video.mp4\n",
            "[MoviePy] >>>> Building video video.mp4\n",
            "[MoviePy] Writing audio in videoTEMP_MPY_wvf_snd.mp4\n"
          ],
          "name": "stdout"
        },
        {
          "output_type": "stream",
          "text": [
            "100%|██████████| 23/23 [00:00<00:00, 359.62it/s]"
          ],
          "name": "stderr"
        },
        {
          "output_type": "stream",
          "text": [
            "[MoviePy] Done.\n",
            "[MoviePy] Writing video video.mp4\n"
          ],
          "name": "stdout"
        },
        {
          "output_type": "stream",
          "text": [
            "\n",
            " 97%|█████████▋| 30/31 [00:03<00:00,  7.48it/s]\n"
          ],
          "name": "stderr"
        },
        {
          "output_type": "stream",
          "text": [
            "[MoviePy] Done.\n",
            "[MoviePy] >>>> Video ready: video.mp4 \n",
            "\n"
          ],
          "name": "stdout"
        },
        {
          "output_type": "stream",
          "text": [
            "18-01-2020:08:02:14,612 INFO     [classes.py:207] 30.00 fps, 30 frames, 1.00 seconds\n",
            "18-01-2020:08:02:14,617 INFO     [classes.py:323] Deleted pre-existing output/video_output.mp4\n",
            "18-01-2020:08:03:35,865 INFO     [classes.py:307] Completed analysis: saved to output/video_output.mp4\n"
          ],
          "name": "stderr"
        },
        {
          "output_type": "stream",
          "text": [
            "./Finalised/User_25/run_0/video.mp4\n",
            "[MoviePy] >>>> Building video video.mp4\n",
            "[MoviePy] Writing audio in videoTEMP_MPY_wvf_snd.mp4\n"
          ],
          "name": "stdout"
        },
        {
          "output_type": "stream",
          "text": [
            "100%|██████████| 23/23 [00:00<00:00, 395.31it/s]"
          ],
          "name": "stderr"
        },
        {
          "output_type": "stream",
          "text": [
            "[MoviePy] Done.\n",
            "[MoviePy] Writing video video.mp4\n"
          ],
          "name": "stdout"
        },
        {
          "output_type": "stream",
          "text": [
            "\n",
            " 97%|█████████▋| 30/31 [00:03<00:00,  8.56it/s]\n"
          ],
          "name": "stderr"
        },
        {
          "output_type": "stream",
          "text": [
            "[MoviePy] Done.\n",
            "[MoviePy] >>>> Video ready: video.mp4 \n",
            "\n"
          ],
          "name": "stdout"
        },
        {
          "output_type": "stream",
          "text": [
            "18-01-2020:08:04:46,772 INFO     [classes.py:207] 30.00 fps, 30 frames, 1.00 seconds\n",
            "18-01-2020:08:04:46,781 INFO     [classes.py:323] Deleted pre-existing output/video_output.mp4\n",
            "18-01-2020:08:05:53,250 INFO     [classes.py:307] Completed analysis: saved to output/video_output.mp4\n"
          ],
          "name": "stderr"
        },
        {
          "output_type": "stream",
          "text": [
            "./Finalised/User_25/run_1/video.mp4\n",
            "[MoviePy] >>>> Building video video.mp4\n",
            "[MoviePy] Writing audio in videoTEMP_MPY_wvf_snd.mp4\n"
          ],
          "name": "stdout"
        },
        {
          "output_type": "stream",
          "text": [
            "100%|██████████| 23/23 [00:00<00:00, 368.84it/s]"
          ],
          "name": "stderr"
        },
        {
          "output_type": "stream",
          "text": [
            "[MoviePy] Done.\n",
            "[MoviePy] Writing video video.mp4\n"
          ],
          "name": "stdout"
        },
        {
          "output_type": "stream",
          "text": [
            "\n",
            " 97%|█████████▋| 30/31 [00:03<00:00,  7.98it/s]\n"
          ],
          "name": "stderr"
        },
        {
          "output_type": "stream",
          "text": [
            "[MoviePy] Done.\n",
            "[MoviePy] >>>> Video ready: video.mp4 \n",
            "\n"
          ],
          "name": "stdout"
        },
        {
          "output_type": "stream",
          "text": [
            "18-01-2020:08:07:03,929 INFO     [classes.py:207] 30.00 fps, 30 frames, 1.00 seconds\n",
            "18-01-2020:08:07:03,934 INFO     [classes.py:323] Deleted pre-existing output/video_output.mp4\n",
            "18-01-2020:08:08:14,361 INFO     [classes.py:307] Completed analysis: saved to output/video_output.mp4\n"
          ],
          "name": "stderr"
        },
        {
          "output_type": "stream",
          "text": [
            "./Finalised/User_25/run_2/video.mp4\n",
            "[MoviePy] >>>> Building video video.mp4\n",
            "[MoviePy] Writing audio in videoTEMP_MPY_wvf_snd.mp4\n"
          ],
          "name": "stdout"
        },
        {
          "output_type": "stream",
          "text": [
            "100%|██████████| 23/23 [00:00<00:00, 344.91it/s]"
          ],
          "name": "stderr"
        },
        {
          "output_type": "stream",
          "text": [
            "[MoviePy] Done.\n",
            "[MoviePy] Writing video video.mp4\n"
          ],
          "name": "stdout"
        },
        {
          "output_type": "stream",
          "text": [
            "\n",
            " 97%|█████████▋| 30/31 [00:03<00:00,  8.35it/s]\n"
          ],
          "name": "stderr"
        },
        {
          "output_type": "stream",
          "text": [
            "[MoviePy] Done.\n",
            "[MoviePy] >>>> Video ready: video.mp4 \n",
            "\n"
          ],
          "name": "stdout"
        },
        {
          "output_type": "stream",
          "text": [
            "18-01-2020:08:09:25,940 INFO     [classes.py:207] 30.00 fps, 30 frames, 1.00 seconds\n",
            "18-01-2020:08:09:25,946 INFO     [classes.py:323] Deleted pre-existing output/video_output.mp4\n",
            "18-01-2020:08:10:35,141 INFO     [classes.py:307] Completed analysis: saved to output/video_output.mp4\n"
          ],
          "name": "stderr"
        },
        {
          "output_type": "stream",
          "text": [
            "./Finalised/User_25/run_3/video.mp4\n",
            "[MoviePy] >>>> Building video video.mp4\n",
            "[MoviePy] Writing audio in videoTEMP_MPY_wvf_snd.mp4\n"
          ],
          "name": "stdout"
        },
        {
          "output_type": "stream",
          "text": [
            "100%|██████████| 23/23 [00:00<00:00, 375.01it/s]"
          ],
          "name": "stderr"
        },
        {
          "output_type": "stream",
          "text": [
            "[MoviePy] Done.\n",
            "[MoviePy] Writing video video.mp4\n"
          ],
          "name": "stdout"
        },
        {
          "output_type": "stream",
          "text": [
            "\n",
            " 97%|█████████▋| 30/31 [00:03<00:00,  7.83it/s]\n"
          ],
          "name": "stderr"
        },
        {
          "output_type": "stream",
          "text": [
            "[MoviePy] Done.\n",
            "[MoviePy] >>>> Video ready: video.mp4 \n",
            "\n"
          ],
          "name": "stdout"
        },
        {
          "output_type": "stream",
          "text": [
            "18-01-2020:08:11:46,320 INFO     [classes.py:207] 30.00 fps, 30 frames, 1.00 seconds\n",
            "18-01-2020:08:11:46,331 INFO     [classes.py:323] Deleted pre-existing output/video_output.mp4\n",
            "18-01-2020:08:12:54,467 INFO     [classes.py:307] Completed analysis: saved to output/video_output.mp4\n"
          ],
          "name": "stderr"
        },
        {
          "output_type": "stream",
          "text": [
            "./Finalised/User_25/run_4/video.mp4\n",
            "[MoviePy] >>>> Building video video.mp4\n",
            "[MoviePy] Writing audio in videoTEMP_MPY_wvf_snd.mp4\n"
          ],
          "name": "stdout"
        },
        {
          "output_type": "stream",
          "text": [
            "100%|██████████| 23/23 [00:00<00:00, 351.89it/s]"
          ],
          "name": "stderr"
        },
        {
          "output_type": "stream",
          "text": [
            "[MoviePy] Done.\n",
            "[MoviePy] Writing video video.mp4\n"
          ],
          "name": "stdout"
        },
        {
          "output_type": "stream",
          "text": [
            "\n",
            " 97%|█████████▋| 30/31 [00:03<00:00,  7.81it/s]\n"
          ],
          "name": "stderr"
        },
        {
          "output_type": "stream",
          "text": [
            "[MoviePy] Done.\n",
            "[MoviePy] >>>> Video ready: video.mp4 \n",
            "\n"
          ],
          "name": "stdout"
        },
        {
          "output_type": "stream",
          "text": [
            "18-01-2020:08:14:06,153 INFO     [classes.py:207] 30.00 fps, 30 frames, 1.00 seconds\n",
            "18-01-2020:08:14:06,157 INFO     [classes.py:323] Deleted pre-existing output/video_output.mp4\n",
            "18-01-2020:08:15:10,581 INFO     [classes.py:307] Completed analysis: saved to output/video_output.mp4\n"
          ],
          "name": "stderr"
        },
        {
          "output_type": "stream",
          "text": [
            "./Finalised/User_25/run_5/video.mp4\n",
            "[MoviePy] >>>> Building video video.mp4\n",
            "[MoviePy] Writing audio in videoTEMP_MPY_wvf_snd.mp4\n"
          ],
          "name": "stdout"
        },
        {
          "output_type": "stream",
          "text": [
            "100%|██████████| 23/23 [00:00<00:00, 403.42it/s]"
          ],
          "name": "stderr"
        },
        {
          "output_type": "stream",
          "text": [
            "[MoviePy] Done.\n",
            "[MoviePy] Writing video video.mp4\n"
          ],
          "name": "stdout"
        },
        {
          "output_type": "stream",
          "text": [
            "\n",
            " 97%|█████████▋| 30/31 [00:03<00:00,  7.55it/s]\n"
          ],
          "name": "stderr"
        },
        {
          "output_type": "stream",
          "text": [
            "[MoviePy] Done.\n",
            "[MoviePy] >>>> Video ready: video.mp4 \n",
            "\n"
          ],
          "name": "stdout"
        },
        {
          "output_type": "stream",
          "text": [
            "18-01-2020:08:16:23,296 INFO     [classes.py:207] 30.00 fps, 30 frames, 1.00 seconds\n",
            "18-01-2020:08:16:23,305 INFO     [classes.py:323] Deleted pre-existing output/video_output.mp4\n",
            "18-01-2020:08:17:29,273 INFO     [classes.py:307] Completed analysis: saved to output/video_output.mp4\n"
          ],
          "name": "stderr"
        },
        {
          "output_type": "stream",
          "text": [
            "./Finalised/User_25/run_6/video.mp4\n",
            "[MoviePy] >>>> Building video video.mp4\n",
            "[MoviePy] Writing audio in videoTEMP_MPY_wvf_snd.mp4\n"
          ],
          "name": "stdout"
        },
        {
          "output_type": "stream",
          "text": [
            "100%|██████████| 23/23 [00:00<00:00, 376.75it/s]"
          ],
          "name": "stderr"
        },
        {
          "output_type": "stream",
          "text": [
            "[MoviePy] Done.\n",
            "[MoviePy] Writing video video.mp4\n"
          ],
          "name": "stdout"
        },
        {
          "output_type": "stream",
          "text": [
            "\n",
            " 97%|█████████▋| 30/31 [00:03<00:00,  7.73it/s]\n"
          ],
          "name": "stderr"
        },
        {
          "output_type": "stream",
          "text": [
            "[MoviePy] Done.\n",
            "[MoviePy] >>>> Video ready: video.mp4 \n",
            "\n"
          ],
          "name": "stdout"
        },
        {
          "output_type": "stream",
          "text": [
            "18-01-2020:08:18:40,580 INFO     [classes.py:207] 30.00 fps, 30 frames, 1.00 seconds\n",
            "18-01-2020:08:18:40,587 INFO     [classes.py:323] Deleted pre-existing output/video_output.mp4\n",
            "18-01-2020:08:19:41,182 INFO     [classes.py:307] Completed analysis: saved to output/video_output.mp4\n"
          ],
          "name": "stderr"
        },
        {
          "output_type": "stream",
          "text": [
            "./Finalised/User_25/run_7/video.mp4\n",
            "[MoviePy] >>>> Building video video.mp4\n",
            "[MoviePy] Writing audio in videoTEMP_MPY_wvf_snd.mp4\n"
          ],
          "name": "stdout"
        },
        {
          "output_type": "stream",
          "text": [
            "100%|██████████| 23/23 [00:00<00:00, 439.84it/s]"
          ],
          "name": "stderr"
        },
        {
          "output_type": "stream",
          "text": [
            "[MoviePy] Done.\n",
            "[MoviePy] Writing video video.mp4\n"
          ],
          "name": "stdout"
        },
        {
          "output_type": "stream",
          "text": [
            "\n",
            " 97%|█████████▋| 30/31 [00:03<00:00,  7.78it/s]\n"
          ],
          "name": "stderr"
        },
        {
          "output_type": "stream",
          "text": [
            "[MoviePy] Done.\n",
            "[MoviePy] >>>> Video ready: video.mp4 \n",
            "\n"
          ],
          "name": "stdout"
        },
        {
          "output_type": "stream",
          "text": [
            "18-01-2020:08:20:52,841 INFO     [classes.py:207] 30.00 fps, 30 frames, 1.00 seconds\n",
            "18-01-2020:08:20:52,846 INFO     [classes.py:323] Deleted pre-existing output/video_output.mp4\n",
            "18-01-2020:08:21:54,242 INFO     [classes.py:307] Completed analysis: saved to output/video_output.mp4\n"
          ],
          "name": "stderr"
        },
        {
          "output_type": "stream",
          "text": [
            "./Finalised/User_25/run_8/video.mp4\n",
            "[MoviePy] >>>> Building video video.mp4\n",
            "[MoviePy] Writing audio in videoTEMP_MPY_wvf_snd.mp4\n"
          ],
          "name": "stdout"
        },
        {
          "output_type": "stream",
          "text": [
            "100%|██████████| 23/23 [00:00<00:00, 364.23it/s]"
          ],
          "name": "stderr"
        },
        {
          "output_type": "stream",
          "text": [
            "[MoviePy] Done.\n",
            "[MoviePy] Writing video video.mp4\n"
          ],
          "name": "stdout"
        },
        {
          "output_type": "stream",
          "text": [
            "\n",
            " 97%|█████████▋| 30/31 [00:03<00:00,  8.20it/s]\n"
          ],
          "name": "stderr"
        },
        {
          "output_type": "stream",
          "text": [
            "[MoviePy] Done.\n",
            "[MoviePy] >>>> Video ready: video.mp4 \n",
            "\n"
          ],
          "name": "stdout"
        },
        {
          "output_type": "stream",
          "text": [
            "18-01-2020:08:23:06,58 INFO     [classes.py:207] 30.00 fps, 30 frames, 1.00 seconds\n",
            "18-01-2020:08:23:06,65 INFO     [classes.py:323] Deleted pre-existing output/video_output.mp4\n",
            "18-01-2020:08:24:07,428 INFO     [classes.py:307] Completed analysis: saved to output/video_output.mp4\n"
          ],
          "name": "stderr"
        },
        {
          "output_type": "stream",
          "text": [
            "./Finalised/User_25/run_9/video.mp4\n",
            "[MoviePy] >>>> Building video video.mp4\n",
            "[MoviePy] Writing audio in videoTEMP_MPY_wvf_snd.mp4\n"
          ],
          "name": "stdout"
        },
        {
          "output_type": "stream",
          "text": [
            "100%|██████████| 23/23 [00:00<00:00, 386.85it/s]"
          ],
          "name": "stderr"
        },
        {
          "output_type": "stream",
          "text": [
            "[MoviePy] Done.\n",
            "[MoviePy] Writing video video.mp4\n"
          ],
          "name": "stdout"
        },
        {
          "output_type": "stream",
          "text": [
            "\n",
            " 97%|█████████▋| 30/31 [00:03<00:00,  7.94it/s]\n"
          ],
          "name": "stderr"
        },
        {
          "output_type": "stream",
          "text": [
            "[MoviePy] Done.\n",
            "[MoviePy] >>>> Video ready: video.mp4 \n",
            "\n"
          ],
          "name": "stdout"
        },
        {
          "output_type": "stream",
          "text": [
            "18-01-2020:08:25:20,197 INFO     [classes.py:207] 30.00 fps, 30 frames, 1.00 seconds\n",
            "18-01-2020:08:25:20,202 INFO     [classes.py:323] Deleted pre-existing output/video_output.mp4\n",
            "18-01-2020:08:26:23,102 INFO     [classes.py:307] Completed analysis: saved to output/video_output.mp4\n"
          ],
          "name": "stderr"
        },
        {
          "output_type": "stream",
          "text": [
            "./Finalised/User_26/run_0/video.mp4\n",
            "[MoviePy] >>>> Building video video.mp4\n",
            "[MoviePy] Writing audio in videoTEMP_MPY_wvf_snd.mp4\n"
          ],
          "name": "stdout"
        },
        {
          "output_type": "stream",
          "text": [
            "100%|██████████| 23/23 [00:00<00:00, 371.23it/s]"
          ],
          "name": "stderr"
        },
        {
          "output_type": "stream",
          "text": [
            "[MoviePy] Done.\n",
            "[MoviePy] Writing video video.mp4\n"
          ],
          "name": "stdout"
        },
        {
          "output_type": "stream",
          "text": [
            "\n",
            " 97%|█████████▋| 30/31 [00:03<00:00,  7.80it/s]\n"
          ],
          "name": "stderr"
        },
        {
          "output_type": "stream",
          "text": [
            "[MoviePy] Done.\n",
            "[MoviePy] >>>> Video ready: video.mp4 \n",
            "\n"
          ],
          "name": "stdout"
        },
        {
          "output_type": "stream",
          "text": [
            "18-01-2020:08:27:36,76 INFO     [classes.py:207] 30.00 fps, 30 frames, 1.00 seconds\n",
            "18-01-2020:08:27:36,81 INFO     [classes.py:323] Deleted pre-existing output/video_output.mp4\n",
            "18-01-2020:08:28:46,830 INFO     [classes.py:307] Completed analysis: saved to output/video_output.mp4\n"
          ],
          "name": "stderr"
        },
        {
          "output_type": "stream",
          "text": [
            "./Finalised/User_26/run_1/video.mp4\n",
            "[MoviePy] >>>> Building video video.mp4\n",
            "[MoviePy] Writing audio in videoTEMP_MPY_wvf_snd.mp4\n"
          ],
          "name": "stdout"
        },
        {
          "output_type": "stream",
          "text": [
            "100%|██████████| 23/23 [00:00<00:00, 357.97it/s]"
          ],
          "name": "stderr"
        },
        {
          "output_type": "stream",
          "text": [
            "[MoviePy] Done.\n",
            "[MoviePy] Writing video video.mp4\n"
          ],
          "name": "stdout"
        },
        {
          "output_type": "stream",
          "text": [
            "\n",
            " 97%|█████████▋| 30/31 [00:03<00:00,  8.33it/s]\n"
          ],
          "name": "stderr"
        },
        {
          "output_type": "stream",
          "text": [
            "[MoviePy] Done.\n",
            "[MoviePy] >>>> Video ready: video.mp4 \n",
            "\n"
          ],
          "name": "stdout"
        },
        {
          "output_type": "stream",
          "text": [
            "18-01-2020:08:30:00,172 INFO     [classes.py:207] 30.00 fps, 30 frames, 1.00 seconds\n",
            "18-01-2020:08:30:00,178 INFO     [classes.py:323] Deleted pre-existing output/video_output.mp4\n",
            "18-01-2020:08:31:13,749 INFO     [classes.py:307] Completed analysis: saved to output/video_output.mp4\n"
          ],
          "name": "stderr"
        },
        {
          "output_type": "stream",
          "text": [
            "./Finalised/User_26/run_2/video.mp4\n",
            "[MoviePy] >>>> Building video video.mp4\n",
            "[MoviePy] Writing audio in videoTEMP_MPY_wvf_snd.mp4\n"
          ],
          "name": "stdout"
        },
        {
          "output_type": "stream",
          "text": [
            "100%|██████████| 23/23 [00:00<00:00, 411.01it/s]"
          ],
          "name": "stderr"
        },
        {
          "output_type": "stream",
          "text": [
            "[MoviePy] Done.\n",
            "[MoviePy] Writing video video.mp4\n"
          ],
          "name": "stdout"
        },
        {
          "output_type": "stream",
          "text": [
            "\n",
            " 97%|█████████▋| 30/31 [00:03<00:00,  8.66it/s]\n"
          ],
          "name": "stderr"
        },
        {
          "output_type": "stream",
          "text": [
            "[MoviePy] Done.\n",
            "[MoviePy] >>>> Video ready: video.mp4 \n",
            "\n"
          ],
          "name": "stdout"
        },
        {
          "output_type": "stream",
          "text": [
            "18-01-2020:08:32:24,674 INFO     [classes.py:207] 30.00 fps, 30 frames, 1.00 seconds\n",
            "18-01-2020:08:32:24,679 INFO     [classes.py:323] Deleted pre-existing output/video_output.mp4\n",
            "18-01-2020:08:33:33,484 INFO     [classes.py:307] Completed analysis: saved to output/video_output.mp4\n"
          ],
          "name": "stderr"
        },
        {
          "output_type": "stream",
          "text": [
            "./Finalised/User_26/run_3/video.mp4\n",
            "[MoviePy] >>>> Building video video.mp4\n",
            "[MoviePy] Writing audio in videoTEMP_MPY_wvf_snd.mp4\n"
          ],
          "name": "stdout"
        },
        {
          "output_type": "stream",
          "text": [
            "100%|██████████| 23/23 [00:00<00:00, 360.45it/s]"
          ],
          "name": "stderr"
        },
        {
          "output_type": "stream",
          "text": [
            "[MoviePy] Done.\n",
            "[MoviePy] Writing video video.mp4\n"
          ],
          "name": "stdout"
        },
        {
          "output_type": "stream",
          "text": [
            "\n",
            " 97%|█████████▋| 30/31 [00:03<00:00,  8.35it/s]\n"
          ],
          "name": "stderr"
        },
        {
          "output_type": "stream",
          "text": [
            "[MoviePy] Done.\n",
            "[MoviePy] >>>> Video ready: video.mp4 \n",
            "\n"
          ],
          "name": "stdout"
        },
        {
          "output_type": "stream",
          "text": [
            "18-01-2020:08:34:44,688 INFO     [classes.py:207] 30.00 fps, 30 frames, 1.00 seconds\n",
            "18-01-2020:08:34:44,694 INFO     [classes.py:323] Deleted pre-existing output/video_output.mp4\n",
            "18-01-2020:08:35:52,147 INFO     [classes.py:307] Completed analysis: saved to output/video_output.mp4\n"
          ],
          "name": "stderr"
        },
        {
          "output_type": "stream",
          "text": [
            "./Finalised/User_26/run_4/video.mp4\n",
            "[MoviePy] >>>> Building video video.mp4\n",
            "[MoviePy] Writing audio in videoTEMP_MPY_wvf_snd.mp4\n"
          ],
          "name": "stdout"
        },
        {
          "output_type": "stream",
          "text": [
            "100%|██████████| 23/23 [00:00<00:00, 390.96it/s]"
          ],
          "name": "stderr"
        },
        {
          "output_type": "stream",
          "text": [
            "[MoviePy] Done.\n",
            "[MoviePy] Writing video video.mp4\n"
          ],
          "name": "stdout"
        },
        {
          "output_type": "stream",
          "text": [
            "\n",
            " 97%|█████████▋| 30/31 [00:03<00:00,  8.58it/s]\n"
          ],
          "name": "stderr"
        },
        {
          "output_type": "stream",
          "text": [
            "[MoviePy] Done.\n",
            "[MoviePy] >>>> Video ready: video.mp4 \n",
            "\n"
          ],
          "name": "stdout"
        },
        {
          "output_type": "stream",
          "text": [
            "18-01-2020:08:37:03,559 INFO     [classes.py:207] 30.00 fps, 30 frames, 1.00 seconds\n",
            "18-01-2020:08:37:03,565 INFO     [classes.py:323] Deleted pre-existing output/video_output.mp4\n",
            "18-01-2020:08:38:14,395 INFO     [classes.py:307] Completed analysis: saved to output/video_output.mp4\n"
          ],
          "name": "stderr"
        },
        {
          "output_type": "stream",
          "text": [
            "./Finalised/User_26/run_5/video.mp4\n",
            "[MoviePy] >>>> Building video video.mp4\n",
            "[MoviePy] Writing audio in videoTEMP_MPY_wvf_snd.mp4\n"
          ],
          "name": "stdout"
        },
        {
          "output_type": "stream",
          "text": [
            "100%|██████████| 23/23 [00:00<00:00, 361.45it/s]"
          ],
          "name": "stderr"
        },
        {
          "output_type": "stream",
          "text": [
            "[MoviePy] Done.\n",
            "[MoviePy] Writing video video.mp4\n"
          ],
          "name": "stdout"
        },
        {
          "output_type": "stream",
          "text": [
            "\n",
            " 97%|█████████▋| 30/31 [00:03<00:00,  8.38it/s]\n"
          ],
          "name": "stderr"
        },
        {
          "output_type": "stream",
          "text": [
            "[MoviePy] Done.\n",
            "[MoviePy] >>>> Video ready: video.mp4 \n",
            "\n"
          ],
          "name": "stdout"
        },
        {
          "output_type": "stream",
          "text": [
            "18-01-2020:08:39:27,26 INFO     [classes.py:207] 30.00 fps, 30 frames, 1.00 seconds\n",
            "18-01-2020:08:39:27,31 INFO     [classes.py:323] Deleted pre-existing output/video_output.mp4\n",
            "18-01-2020:08:40:34,453 INFO     [classes.py:307] Completed analysis: saved to output/video_output.mp4\n"
          ],
          "name": "stderr"
        },
        {
          "output_type": "stream",
          "text": [
            "./Finalised/User_26/run_6/video.mp4\n",
            "[MoviePy] >>>> Building video video.mp4\n",
            "[MoviePy] Writing audio in videoTEMP_MPY_wvf_snd.mp4\n"
          ],
          "name": "stdout"
        },
        {
          "output_type": "stream",
          "text": [
            "100%|██████████| 23/23 [00:00<00:00, 355.96it/s]"
          ],
          "name": "stderr"
        },
        {
          "output_type": "stream",
          "text": [
            "[MoviePy] Done.\n",
            "[MoviePy] Writing video video.mp4\n"
          ],
          "name": "stdout"
        },
        {
          "output_type": "stream",
          "text": [
            "\n",
            " 97%|█████████▋| 30/31 [00:03<00:00,  7.48it/s]\n"
          ],
          "name": "stderr"
        },
        {
          "output_type": "stream",
          "text": [
            "[MoviePy] Done.\n",
            "[MoviePy] >>>> Video ready: video.mp4 \n",
            "\n"
          ],
          "name": "stdout"
        },
        {
          "output_type": "stream",
          "text": [
            "18-01-2020:08:41:47,931 INFO     [classes.py:207] 30.00 fps, 30 frames, 1.00 seconds\n",
            "18-01-2020:08:41:47,936 INFO     [classes.py:323] Deleted pre-existing output/video_output.mp4\n",
            "18-01-2020:08:43:00,200 INFO     [classes.py:307] Completed analysis: saved to output/video_output.mp4\n"
          ],
          "name": "stderr"
        },
        {
          "output_type": "stream",
          "text": [
            "./Finalised/User_26/run_7/video.mp4\n",
            "[MoviePy] >>>> Building video video.mp4\n",
            "[MoviePy] Writing audio in videoTEMP_MPY_wvf_snd.mp4\n"
          ],
          "name": "stdout"
        },
        {
          "output_type": "stream",
          "text": [
            "100%|██████████| 23/23 [00:00<00:00, 410.52it/s]"
          ],
          "name": "stderr"
        },
        {
          "output_type": "stream",
          "text": [
            "[MoviePy] Done.\n",
            "[MoviePy] Writing video video.mp4\n"
          ],
          "name": "stdout"
        },
        {
          "output_type": "stream",
          "text": [
            "\n",
            " 97%|█████████▋| 30/31 [00:03<00:00,  8.55it/s]\n"
          ],
          "name": "stderr"
        },
        {
          "output_type": "stream",
          "text": [
            "[MoviePy] Done.\n",
            "[MoviePy] >>>> Video ready: video.mp4 \n",
            "\n"
          ],
          "name": "stdout"
        },
        {
          "output_type": "stream",
          "text": [
            "18-01-2020:08:44:13,75 INFO     [classes.py:207] 30.00 fps, 30 frames, 1.00 seconds\n",
            "18-01-2020:08:44:13,84 INFO     [classes.py:323] Deleted pre-existing output/video_output.mp4\n",
            "18-01-2020:08:45:19,591 INFO     [classes.py:307] Completed analysis: saved to output/video_output.mp4\n"
          ],
          "name": "stderr"
        },
        {
          "output_type": "stream",
          "text": [
            "./Finalised/User_26/run_8/video.mp4\n",
            "[MoviePy] >>>> Building video video.mp4\n",
            "[MoviePy] Writing audio in videoTEMP_MPY_wvf_snd.mp4\n"
          ],
          "name": "stdout"
        },
        {
          "output_type": "stream",
          "text": [
            "100%|██████████| 23/23 [00:00<00:00, 423.27it/s]"
          ],
          "name": "stderr"
        },
        {
          "output_type": "stream",
          "text": [
            "[MoviePy] Done.\n",
            "[MoviePy] Writing video video.mp4\n"
          ],
          "name": "stdout"
        },
        {
          "output_type": "stream",
          "text": [
            "\n",
            " 97%|█████████▋| 30/31 [00:03<00:00,  7.86it/s]\n"
          ],
          "name": "stderr"
        },
        {
          "output_type": "stream",
          "text": [
            "[MoviePy] Done.\n",
            "[MoviePy] >>>> Video ready: video.mp4 \n",
            "\n"
          ],
          "name": "stdout"
        },
        {
          "output_type": "stream",
          "text": [
            "18-01-2020:08:46:32,778 INFO     [classes.py:207] 30.00 fps, 30 frames, 1.00 seconds\n",
            "18-01-2020:08:46:32,782 INFO     [classes.py:323] Deleted pre-existing output/video_output.mp4\n",
            "18-01-2020:08:47:36,714 INFO     [classes.py:307] Completed analysis: saved to output/video_output.mp4\n"
          ],
          "name": "stderr"
        },
        {
          "output_type": "stream",
          "text": [
            "./Finalised/User_26/run_9/video.mp4\n",
            "[MoviePy] >>>> Building video video.mp4\n",
            "[MoviePy] Writing audio in videoTEMP_MPY_wvf_snd.mp4\n"
          ],
          "name": "stdout"
        },
        {
          "output_type": "stream",
          "text": [
            "100%|██████████| 23/23 [00:00<00:00, 372.24it/s]"
          ],
          "name": "stderr"
        },
        {
          "output_type": "stream",
          "text": [
            "[MoviePy] Done.\n",
            "[MoviePy] Writing video video.mp4\n"
          ],
          "name": "stdout"
        },
        {
          "output_type": "stream",
          "text": [
            "\n",
            " 97%|█████████▋| 30/31 [00:03<00:00,  8.56it/s]\n"
          ],
          "name": "stderr"
        },
        {
          "output_type": "stream",
          "text": [
            "[MoviePy] Done.\n",
            "[MoviePy] >>>> Video ready: video.mp4 \n",
            "\n"
          ],
          "name": "stdout"
        },
        {
          "output_type": "stream",
          "text": [
            "18-01-2020:08:48:50,734 INFO     [classes.py:207] 30.00 fps, 30 frames, 1.00 seconds\n",
            "18-01-2020:08:48:50,742 INFO     [classes.py:323] Deleted pre-existing output/video_output.mp4\n",
            "18-01-2020:08:49:58,31 INFO     [classes.py:307] Completed analysis: saved to output/video_output.mp4\n"
          ],
          "name": "stderr"
        },
        {
          "output_type": "stream",
          "text": [
            "./Finalised/User_27/run_0/video.mp4\n",
            "[MoviePy] >>>> Building video video.mp4\n",
            "[MoviePy] Writing audio in videoTEMP_MPY_wvf_snd.mp4\n"
          ],
          "name": "stdout"
        },
        {
          "output_type": "stream",
          "text": [
            "100%|██████████| 23/23 [00:00<00:00, 409.36it/s]"
          ],
          "name": "stderr"
        },
        {
          "output_type": "stream",
          "text": [
            "[MoviePy] Done.\n",
            "[MoviePy] Writing video video.mp4\n"
          ],
          "name": "stdout"
        },
        {
          "output_type": "stream",
          "text": [
            "\n",
            " 97%|█████████▋| 30/31 [00:03<00:00,  7.47it/s]\n"
          ],
          "name": "stderr"
        },
        {
          "output_type": "stream",
          "text": [
            "[MoviePy] Done.\n",
            "[MoviePy] >>>> Video ready: video.mp4 \n",
            "\n"
          ],
          "name": "stdout"
        },
        {
          "output_type": "stream",
          "text": [
            "18-01-2020:08:51:14,276 INFO     [classes.py:207] 30.00 fps, 30 frames, 1.00 seconds\n",
            "18-01-2020:08:51:14,283 INFO     [classes.py:323] Deleted pre-existing output/video_output.mp4\n",
            "18-01-2020:08:52:30,361 INFO     [classes.py:307] Completed analysis: saved to output/video_output.mp4\n"
          ],
          "name": "stderr"
        },
        {
          "output_type": "stream",
          "text": [
            "./Finalised/User_27/run_1/video.mp4\n",
            "[MoviePy] >>>> Building video video.mp4\n",
            "[MoviePy] Writing audio in videoTEMP_MPY_wvf_snd.mp4\n"
          ],
          "name": "stdout"
        },
        {
          "output_type": "stream",
          "text": [
            "100%|██████████| 23/23 [00:00<00:00, 360.12it/s]"
          ],
          "name": "stderr"
        },
        {
          "output_type": "stream",
          "text": [
            "[MoviePy] Done.\n",
            "[MoviePy] Writing video video.mp4\n"
          ],
          "name": "stdout"
        },
        {
          "output_type": "stream",
          "text": [
            "\n",
            " 97%|█████████▋| 30/31 [00:03<00:00,  7.92it/s]\n"
          ],
          "name": "stderr"
        },
        {
          "output_type": "stream",
          "text": [
            "[MoviePy] Done.\n",
            "[MoviePy] >>>> Video ready: video.mp4 \n",
            "\n"
          ],
          "name": "stdout"
        },
        {
          "output_type": "stream",
          "text": [
            "18-01-2020:08:53:44,975 INFO     [classes.py:207] 30.00 fps, 30 frames, 1.00 seconds\n",
            "18-01-2020:08:53:44,983 INFO     [classes.py:323] Deleted pre-existing output/video_output.mp4\n",
            "18-01-2020:08:55:10,951 INFO     [classes.py:307] Completed analysis: saved to output/video_output.mp4\n"
          ],
          "name": "stderr"
        },
        {
          "output_type": "stream",
          "text": [
            "./Finalised/User_27/run_2/video.mp4\n",
            "[MoviePy] >>>> Building video video.mp4\n",
            "[MoviePy] Writing audio in videoTEMP_MPY_wvf_snd.mp4\n"
          ],
          "name": "stdout"
        },
        {
          "output_type": "stream",
          "text": [
            "100%|██████████| 23/23 [00:00<00:00, 424.81it/s]"
          ],
          "name": "stderr"
        },
        {
          "output_type": "stream",
          "text": [
            "[MoviePy] Done.\n",
            "[MoviePy] Writing video video.mp4\n"
          ],
          "name": "stdout"
        },
        {
          "output_type": "stream",
          "text": [
            "\n",
            " 97%|█████████▋| 30/31 [00:03<00:00,  7.97it/s]\n"
          ],
          "name": "stderr"
        },
        {
          "output_type": "stream",
          "text": [
            "[MoviePy] Done.\n",
            "[MoviePy] >>>> Video ready: video.mp4 \n",
            "\n"
          ],
          "name": "stdout"
        },
        {
          "output_type": "stream",
          "text": [
            "18-01-2020:08:56:25,42 INFO     [classes.py:207] 30.00 fps, 30 frames, 1.00 seconds\n",
            "18-01-2020:08:56:25,49 INFO     [classes.py:323] Deleted pre-existing output/video_output.mp4\n",
            "18-01-2020:08:57:46,451 INFO     [classes.py:307] Completed analysis: saved to output/video_output.mp4\n"
          ],
          "name": "stderr"
        },
        {
          "output_type": "stream",
          "text": [
            "./Finalised/User_27/run_3/video.mp4\n",
            "[MoviePy] >>>> Building video video.mp4\n",
            "[MoviePy] Writing audio in videoTEMP_MPY_wvf_snd.mp4\n"
          ],
          "name": "stdout"
        },
        {
          "output_type": "stream",
          "text": [
            "100%|██████████| 23/23 [00:00<00:00, 362.36it/s]"
          ],
          "name": "stderr"
        },
        {
          "output_type": "stream",
          "text": [
            "[MoviePy] Done.\n",
            "[MoviePy] Writing video video.mp4\n"
          ],
          "name": "stdout"
        },
        {
          "output_type": "stream",
          "text": [
            "\n",
            " 97%|█████████▋| 30/31 [00:03<00:00,  8.61it/s]\n"
          ],
          "name": "stderr"
        },
        {
          "output_type": "stream",
          "text": [
            "[MoviePy] Done.\n",
            "[MoviePy] >>>> Video ready: video.mp4 \n",
            "\n"
          ],
          "name": "stdout"
        },
        {
          "output_type": "stream",
          "text": [
            "18-01-2020:08:59:01,271 INFO     [classes.py:207] 30.00 fps, 30 frames, 1.00 seconds\n",
            "18-01-2020:08:59:01,280 INFO     [classes.py:323] Deleted pre-existing output/video_output.mp4\n",
            "18-01-2020:09:00:19,373 INFO     [classes.py:307] Completed analysis: saved to output/video_output.mp4\n"
          ],
          "name": "stderr"
        },
        {
          "output_type": "stream",
          "text": [
            "./Finalised/User_27/run_4/video.mp4\n",
            "[MoviePy] >>>> Building video video.mp4\n",
            "[MoviePy] Writing audio in videoTEMP_MPY_wvf_snd.mp4\n"
          ],
          "name": "stdout"
        },
        {
          "output_type": "stream",
          "text": [
            "100%|██████████| 23/23 [00:00<00:00, 390.41it/s]"
          ],
          "name": "stderr"
        },
        {
          "output_type": "stream",
          "text": [
            "[MoviePy] Done.\n",
            "[MoviePy] Writing video video.mp4\n"
          ],
          "name": "stdout"
        },
        {
          "output_type": "stream",
          "text": [
            "\n",
            " 97%|█████████▋| 30/31 [00:03<00:00,  7.87it/s]\n"
          ],
          "name": "stderr"
        },
        {
          "output_type": "stream",
          "text": [
            "[MoviePy] Done.\n",
            "[MoviePy] >>>> Video ready: video.mp4 \n",
            "\n"
          ],
          "name": "stdout"
        },
        {
          "output_type": "stream",
          "text": [
            "18-01-2020:09:01:34,393 INFO     [classes.py:207] 30.00 fps, 30 frames, 1.00 seconds\n",
            "18-01-2020:09:01:34,402 INFO     [classes.py:323] Deleted pre-existing output/video_output.mp4\n",
            "18-01-2020:09:02:56,917 INFO     [classes.py:307] Completed analysis: saved to output/video_output.mp4\n"
          ],
          "name": "stderr"
        },
        {
          "output_type": "stream",
          "text": [
            "./Finalised/User_27/run_5/video.mp4\n",
            "[MoviePy] >>>> Building video video.mp4\n",
            "[MoviePy] Writing audio in videoTEMP_MPY_wvf_snd.mp4\n"
          ],
          "name": "stdout"
        },
        {
          "output_type": "stream",
          "text": [
            "100%|██████████| 23/23 [00:00<00:00, 404.24it/s]"
          ],
          "name": "stderr"
        },
        {
          "output_type": "stream",
          "text": [
            "[MoviePy] Done.\n",
            "[MoviePy] Writing video video.mp4\n"
          ],
          "name": "stdout"
        },
        {
          "output_type": "stream",
          "text": [
            "\n",
            " 97%|█████████▋| 30/31 [00:03<00:00,  8.11it/s]\n"
          ],
          "name": "stderr"
        },
        {
          "output_type": "stream",
          "text": [
            "[MoviePy] Done.\n",
            "[MoviePy] >>>> Video ready: video.mp4 \n",
            "\n"
          ],
          "name": "stdout"
        },
        {
          "output_type": "stream",
          "text": [
            "18-01-2020:09:04:11,569 INFO     [classes.py:207] 30.00 fps, 30 frames, 1.00 seconds\n",
            "18-01-2020:09:04:11,576 INFO     [classes.py:323] Deleted pre-existing output/video_output.mp4\n",
            "18-01-2020:09:05:30,645 INFO     [classes.py:307] Completed analysis: saved to output/video_output.mp4\n"
          ],
          "name": "stderr"
        },
        {
          "output_type": "stream",
          "text": [
            "./Finalised/User_27/run_6/video.mp4\n",
            "[MoviePy] >>>> Building video video.mp4\n",
            "[MoviePy] Writing audio in videoTEMP_MPY_wvf_snd.mp4\n"
          ],
          "name": "stdout"
        },
        {
          "output_type": "stream",
          "text": [
            "100%|██████████| 23/23 [00:00<00:00, 348.36it/s]"
          ],
          "name": "stderr"
        },
        {
          "output_type": "stream",
          "text": [
            "[MoviePy] Done.\n",
            "[MoviePy] Writing video video.mp4\n"
          ],
          "name": "stdout"
        },
        {
          "output_type": "stream",
          "text": [
            "\n",
            " 97%|█████████▋| 30/31 [00:03<00:00,  8.75it/s]\n"
          ],
          "name": "stderr"
        },
        {
          "output_type": "stream",
          "text": [
            "[MoviePy] Done.\n",
            "[MoviePy] >>>> Video ready: video.mp4 \n",
            "\n"
          ],
          "name": "stdout"
        },
        {
          "output_type": "stream",
          "text": [
            "18-01-2020:09:06:46,408 INFO     [classes.py:207] 30.00 fps, 30 frames, 1.00 seconds\n",
            "18-01-2020:09:06:46,416 INFO     [classes.py:323] Deleted pre-existing output/video_output.mp4\n",
            "18-01-2020:09:08:08,610 INFO     [classes.py:307] Completed analysis: saved to output/video_output.mp4\n"
          ],
          "name": "stderr"
        },
        {
          "output_type": "stream",
          "text": [
            "./Finalised/User_27/run_7/video.mp4\n",
            "[MoviePy] >>>> Building video video.mp4\n",
            "[MoviePy] Writing audio in videoTEMP_MPY_wvf_snd.mp4\n"
          ],
          "name": "stdout"
        },
        {
          "output_type": "stream",
          "text": [
            "100%|██████████| 23/23 [00:00<00:00, 382.69it/s]"
          ],
          "name": "stderr"
        },
        {
          "output_type": "stream",
          "text": [
            "[MoviePy] Done.\n",
            "[MoviePy] Writing video video.mp4\n"
          ],
          "name": "stdout"
        },
        {
          "output_type": "stream",
          "text": [
            "\n",
            " 97%|█████████▋| 30/31 [00:03<00:00,  8.99it/s]\n"
          ],
          "name": "stderr"
        },
        {
          "output_type": "stream",
          "text": [
            "[MoviePy] Done.\n",
            "[MoviePy] >>>> Video ready: video.mp4 \n",
            "\n"
          ],
          "name": "stdout"
        },
        {
          "output_type": "stream",
          "text": [
            "18-01-2020:09:09:23,288 INFO     [classes.py:207] 30.00 fps, 30 frames, 1.00 seconds\n",
            "18-01-2020:09:09:23,295 INFO     [classes.py:323] Deleted pre-existing output/video_output.mp4\n",
            "18-01-2020:09:10:45,560 INFO     [classes.py:307] Completed analysis: saved to output/video_output.mp4\n"
          ],
          "name": "stderr"
        },
        {
          "output_type": "stream",
          "text": [
            "./Finalised/User_27/run_8/video.mp4\n",
            "[MoviePy] >>>> Building video video.mp4\n",
            "[MoviePy] Writing audio in videoTEMP_MPY_wvf_snd.mp4\n"
          ],
          "name": "stdout"
        },
        {
          "output_type": "stream",
          "text": [
            "100%|██████████| 23/23 [00:00<00:00, 404.90it/s]"
          ],
          "name": "stderr"
        },
        {
          "output_type": "stream",
          "text": [
            "[MoviePy] Done.\n",
            "[MoviePy] Writing video video.mp4\n"
          ],
          "name": "stdout"
        },
        {
          "output_type": "stream",
          "text": [
            "\n",
            " 97%|█████████▋| 30/31 [00:03<00:00,  8.22it/s]\n"
          ],
          "name": "stderr"
        },
        {
          "output_type": "stream",
          "text": [
            "[MoviePy] Done.\n",
            "[MoviePy] >>>> Video ready: video.mp4 \n",
            "\n"
          ],
          "name": "stdout"
        },
        {
          "output_type": "stream",
          "text": [
            "18-01-2020:09:12:00,741 INFO     [classes.py:207] 30.00 fps, 30 frames, 1.00 seconds\n",
            "18-01-2020:09:12:00,748 INFO     [classes.py:323] Deleted pre-existing output/video_output.mp4\n",
            "18-01-2020:09:13:23,355 INFO     [classes.py:307] Completed analysis: saved to output/video_output.mp4\n"
          ],
          "name": "stderr"
        },
        {
          "output_type": "stream",
          "text": [
            "./Finalised/User_27/run_9/video.mp4\n",
            "[MoviePy] >>>> Building video video.mp4\n",
            "[MoviePy] Writing audio in videoTEMP_MPY_wvf_snd.mp4\n"
          ],
          "name": "stdout"
        },
        {
          "output_type": "stream",
          "text": [
            "100%|██████████| 23/23 [00:00<00:00, 433.69it/s]"
          ],
          "name": "stderr"
        },
        {
          "output_type": "stream",
          "text": [
            "[MoviePy] Done.\n",
            "[MoviePy] Writing video video.mp4\n"
          ],
          "name": "stdout"
        },
        {
          "output_type": "stream",
          "text": [
            "\n",
            " 97%|█████████▋| 30/31 [00:03<00:00,  7.95it/s]\n"
          ],
          "name": "stderr"
        },
        {
          "output_type": "stream",
          "text": [
            "[MoviePy] Done.\n",
            "[MoviePy] >>>> Video ready: video.mp4 \n",
            "\n"
          ],
          "name": "stdout"
        },
        {
          "output_type": "stream",
          "text": [
            "18-01-2020:09:14:39,932 INFO     [classes.py:207] 30.00 fps, 30 frames, 1.00 seconds\n",
            "18-01-2020:09:14:39,940 INFO     [classes.py:323] Deleted pre-existing output/video_output.mp4\n",
            "18-01-2020:09:16:06,557 INFO     [classes.py:307] Completed analysis: saved to output/video_output.mp4\n"
          ],
          "name": "stderr"
        },
        {
          "output_type": "stream",
          "text": [
            "./Finalised/User_28/run_0/video.mp4\n",
            "[MoviePy] >>>> Building video video.mp4\n",
            "[MoviePy] Writing audio in videoTEMP_MPY_wvf_snd.mp4\n"
          ],
          "name": "stdout"
        },
        {
          "output_type": "stream",
          "text": [
            "100%|██████████| 23/23 [00:00<00:00, 388.32it/s]"
          ],
          "name": "stderr"
        },
        {
          "output_type": "stream",
          "text": [
            "[MoviePy] Done.\n",
            "[MoviePy] Writing video video.mp4\n"
          ],
          "name": "stdout"
        },
        {
          "output_type": "stream",
          "text": [
            "\n",
            " 97%|█████████▋| 30/31 [00:03<00:00,  8.33it/s]\n"
          ],
          "name": "stderr"
        },
        {
          "output_type": "stream",
          "text": [
            "[MoviePy] Done.\n",
            "[MoviePy] >>>> Video ready: video.mp4 \n",
            "\n"
          ],
          "name": "stdout"
        },
        {
          "output_type": "stream",
          "text": [
            "18-01-2020:09:17:20,160 INFO     [classes.py:207] 30.00 fps, 30 frames, 1.00 seconds\n",
            "18-01-2020:09:17:20,167 INFO     [classes.py:323] Deleted pre-existing output/video_output.mp4\n",
            "18-01-2020:09:18:16,354 INFO     [classes.py:307] Completed analysis: saved to output/video_output.mp4\n"
          ],
          "name": "stderr"
        },
        {
          "output_type": "stream",
          "text": [
            "./Finalised/User_28/run_1/video.mp4\n",
            "[MoviePy] >>>> Building video video.mp4\n",
            "[MoviePy] Writing audio in videoTEMP_MPY_wvf_snd.mp4\n"
          ],
          "name": "stdout"
        },
        {
          "output_type": "stream",
          "text": [
            "100%|██████████| 23/23 [00:00<00:00, 370.17it/s]"
          ],
          "name": "stderr"
        },
        {
          "output_type": "stream",
          "text": [
            "[MoviePy] Done.\n",
            "[MoviePy] Writing video video.mp4\n"
          ],
          "name": "stdout"
        },
        {
          "output_type": "stream",
          "text": [
            "\n",
            " 97%|█████████▋| 30/31 [00:03<00:00,  8.70it/s]\n"
          ],
          "name": "stderr"
        },
        {
          "output_type": "stream",
          "text": [
            "[MoviePy] Done.\n",
            "[MoviePy] >>>> Video ready: video.mp4 \n",
            "\n"
          ],
          "name": "stdout"
        },
        {
          "output_type": "stream",
          "text": [
            "18-01-2020:09:19:29,654 INFO     [classes.py:207] 30.00 fps, 30 frames, 1.00 seconds\n",
            "18-01-2020:09:19:29,661 INFO     [classes.py:323] Deleted pre-existing output/video_output.mp4\n",
            "18-01-2020:09:20:21,166 INFO     [classes.py:307] Completed analysis: saved to output/video_output.mp4\n"
          ],
          "name": "stderr"
        },
        {
          "output_type": "stream",
          "text": [
            "./Finalised/User_28/run_2/video.mp4\n",
            "[MoviePy] >>>> Building video video.mp4\n",
            "[MoviePy] Writing audio in videoTEMP_MPY_wvf_snd.mp4\n"
          ],
          "name": "stdout"
        },
        {
          "output_type": "stream",
          "text": [
            "100%|██████████| 23/23 [00:00<00:00, 385.86it/s]"
          ],
          "name": "stderr"
        },
        {
          "output_type": "stream",
          "text": [
            "[MoviePy] Done.\n",
            "[MoviePy] Writing video video.mp4\n"
          ],
          "name": "stdout"
        },
        {
          "output_type": "stream",
          "text": [
            "\n",
            " 97%|█████████▋| 30/31 [00:03<00:00,  7.83it/s]\n"
          ],
          "name": "stderr"
        },
        {
          "output_type": "stream",
          "text": [
            "[MoviePy] Done.\n",
            "[MoviePy] >>>> Video ready: video.mp4 \n",
            "\n"
          ],
          "name": "stdout"
        },
        {
          "output_type": "stream",
          "text": [
            "18-01-2020:09:21:34,58 INFO     [classes.py:207] 30.00 fps, 30 frames, 1.00 seconds\n",
            "18-01-2020:09:21:34,63 INFO     [classes.py:323] Deleted pre-existing output/video_output.mp4\n",
            "18-01-2020:09:22:30,640 INFO     [classes.py:307] Completed analysis: saved to output/video_output.mp4\n"
          ],
          "name": "stderr"
        },
        {
          "output_type": "stream",
          "text": [
            "./Finalised/User_28/run_3/video.mp4\n",
            "[MoviePy] >>>> Building video video.mp4\n",
            "[MoviePy] Writing audio in videoTEMP_MPY_wvf_snd.mp4\n"
          ],
          "name": "stdout"
        },
        {
          "output_type": "stream",
          "text": [
            "100%|██████████| 23/23 [00:00<00:00, 391.01it/s]"
          ],
          "name": "stderr"
        },
        {
          "output_type": "stream",
          "text": [
            "[MoviePy] Done.\n",
            "[MoviePy] Writing video video.mp4\n"
          ],
          "name": "stdout"
        },
        {
          "output_type": "stream",
          "text": [
            "\n",
            " 97%|█████████▋| 30/31 [00:03<00:00,  8.53it/s]\n"
          ],
          "name": "stderr"
        },
        {
          "output_type": "stream",
          "text": [
            "[MoviePy] Done.\n",
            "[MoviePy] >>>> Video ready: video.mp4 \n",
            "\n"
          ],
          "name": "stdout"
        },
        {
          "output_type": "stream",
          "text": [
            "18-01-2020:09:23:44,448 INFO     [classes.py:207] 30.00 fps, 30 frames, 1.00 seconds\n",
            "18-01-2020:09:23:44,453 INFO     [classes.py:323] Deleted pre-existing output/video_output.mp4\n",
            "18-01-2020:09:24:39,914 INFO     [classes.py:307] Completed analysis: saved to output/video_output.mp4\n"
          ],
          "name": "stderr"
        },
        {
          "output_type": "stream",
          "text": [
            "./Finalised/User_28/run_4/video.mp4\n",
            "[MoviePy] >>>> Building video video.mp4\n",
            "[MoviePy] Writing audio in videoTEMP_MPY_wvf_snd.mp4\n"
          ],
          "name": "stdout"
        },
        {
          "output_type": "stream",
          "text": [
            "100%|██████████| 23/23 [00:00<00:00, 358.57it/s]"
          ],
          "name": "stderr"
        },
        {
          "output_type": "stream",
          "text": [
            "[MoviePy] Done.\n",
            "[MoviePy] Writing video video.mp4\n"
          ],
          "name": "stdout"
        },
        {
          "output_type": "stream",
          "text": [
            "\n",
            " 97%|█████████▋| 30/31 [00:03<00:00,  8.21it/s]\n"
          ],
          "name": "stderr"
        },
        {
          "output_type": "stream",
          "text": [
            "[MoviePy] Done.\n",
            "[MoviePy] >>>> Video ready: video.mp4 \n",
            "\n"
          ],
          "name": "stdout"
        },
        {
          "output_type": "stream",
          "text": [
            "18-01-2020:09:25:54,939 INFO     [classes.py:207] 30.00 fps, 30 frames, 1.00 seconds\n",
            "18-01-2020:09:25:54,947 INFO     [classes.py:323] Deleted pre-existing output/video_output.mp4\n",
            "18-01-2020:09:26:51,184 INFO     [classes.py:307] Completed analysis: saved to output/video_output.mp4\n"
          ],
          "name": "stderr"
        },
        {
          "output_type": "stream",
          "text": [
            "./Finalised/User_28/run_5/video.mp4\n",
            "[MoviePy] >>>> Building video video.mp4\n",
            "[MoviePy] Writing audio in videoTEMP_MPY_wvf_snd.mp4\n"
          ],
          "name": "stdout"
        },
        {
          "output_type": "stream",
          "text": [
            "100%|██████████| 23/23 [00:00<00:00, 405.55it/s]"
          ],
          "name": "stderr"
        },
        {
          "output_type": "stream",
          "text": [
            "[MoviePy] Done.\n",
            "[MoviePy] Writing video video.mp4\n"
          ],
          "name": "stdout"
        },
        {
          "output_type": "stream",
          "text": [
            "\n",
            " 97%|█████████▋| 30/31 [00:03<00:00,  8.85it/s]\n"
          ],
          "name": "stderr"
        },
        {
          "output_type": "stream",
          "text": [
            "[MoviePy] Done.\n",
            "[MoviePy] >>>> Video ready: video.mp4 \n",
            "\n"
          ],
          "name": "stdout"
        },
        {
          "output_type": "stream",
          "text": [
            "18-01-2020:09:28:05,846 INFO     [classes.py:207] 30.00 fps, 30 frames, 1.00 seconds\n",
            "18-01-2020:09:28:05,851 INFO     [classes.py:323] Deleted pre-existing output/video_output.mp4\n",
            "18-01-2020:09:29:05,894 INFO     [classes.py:307] Completed analysis: saved to output/video_output.mp4\n"
          ],
          "name": "stderr"
        },
        {
          "output_type": "stream",
          "text": [
            "./Finalised/User_28/run_6/video.mp4\n",
            "[MoviePy] >>>> Building video video.mp4\n",
            "[MoviePy] Writing audio in videoTEMP_MPY_wvf_snd.mp4\n"
          ],
          "name": "stdout"
        },
        {
          "output_type": "stream",
          "text": [
            "100%|██████████| 23/23 [00:00<00:00, 386.21it/s]"
          ],
          "name": "stderr"
        },
        {
          "output_type": "stream",
          "text": [
            "[MoviePy] Done.\n",
            "[MoviePy] Writing video video.mp4\n"
          ],
          "name": "stdout"
        },
        {
          "output_type": "stream",
          "text": [
            "\n",
            " 97%|█████████▋| 30/31 [00:03<00:00,  8.23it/s]\n"
          ],
          "name": "stderr"
        },
        {
          "output_type": "stream",
          "text": [
            "[MoviePy] Done.\n",
            "[MoviePy] >>>> Video ready: video.mp4 \n",
            "\n"
          ],
          "name": "stdout"
        },
        {
          "output_type": "stream",
          "text": [
            "18-01-2020:09:30:21,164 INFO     [classes.py:207] 30.00 fps, 30 frames, 1.00 seconds\n",
            "18-01-2020:09:30:21,171 INFO     [classes.py:323] Deleted pre-existing output/video_output.mp4\n",
            "18-01-2020:09:31:21,659 INFO     [classes.py:307] Completed analysis: saved to output/video_output.mp4\n"
          ],
          "name": "stderr"
        },
        {
          "output_type": "stream",
          "text": [
            "./Finalised/User_28/run_7/video.mp4\n",
            "[MoviePy] >>>> Building video video.mp4\n",
            "[MoviePy] Writing audio in videoTEMP_MPY_wvf_snd.mp4\n"
          ],
          "name": "stdout"
        },
        {
          "output_type": "stream",
          "text": [
            "100%|██████████| 23/23 [00:00<00:00, 386.57it/s]"
          ],
          "name": "stderr"
        },
        {
          "output_type": "stream",
          "text": [
            "[MoviePy] Done.\n",
            "[MoviePy] Writing video video.mp4\n"
          ],
          "name": "stdout"
        },
        {
          "output_type": "stream",
          "text": [
            "\n",
            " 97%|█████████▋| 30/31 [00:03<00:00,  8.54it/s]\n"
          ],
          "name": "stderr"
        },
        {
          "output_type": "stream",
          "text": [
            "[MoviePy] Done.\n",
            "[MoviePy] >>>> Video ready: video.mp4 \n",
            "\n"
          ],
          "name": "stdout"
        },
        {
          "output_type": "stream",
          "text": [
            "18-01-2020:09:32:36,956 INFO     [classes.py:207] 30.00 fps, 30 frames, 1.00 seconds\n",
            "18-01-2020:09:32:36,961 INFO     [classes.py:323] Deleted pre-existing output/video_output.mp4\n",
            "18-01-2020:09:33:37,85 INFO     [classes.py:307] Completed analysis: saved to output/video_output.mp4\n"
          ],
          "name": "stderr"
        },
        {
          "output_type": "stream",
          "text": [
            "./Finalised/User_28/run_8/video.mp4\n",
            "[MoviePy] >>>> Building video video.mp4\n",
            "[MoviePy] Writing audio in videoTEMP_MPY_wvf_snd.mp4\n"
          ],
          "name": "stdout"
        },
        {
          "output_type": "stream",
          "text": [
            "100%|██████████| 23/23 [00:00<00:00, 366.09it/s]"
          ],
          "name": "stderr"
        },
        {
          "output_type": "stream",
          "text": [
            "[MoviePy] Done.\n",
            "[MoviePy] Writing video video.mp4\n"
          ],
          "name": "stdout"
        },
        {
          "output_type": "stream",
          "text": [
            "\n",
            " 97%|█████████▋| 30/31 [00:03<00:00,  8.21it/s]\n"
          ],
          "name": "stderr"
        },
        {
          "output_type": "stream",
          "text": [
            "[MoviePy] Done.\n",
            "[MoviePy] >>>> Video ready: video.mp4 \n",
            "\n"
          ],
          "name": "stdout"
        },
        {
          "output_type": "stream",
          "text": [
            "18-01-2020:09:34:52,479 INFO     [classes.py:207] 30.00 fps, 30 frames, 1.00 seconds\n",
            "18-01-2020:09:34:52,484 INFO     [classes.py:323] Deleted pre-existing output/video_output.mp4\n",
            "18-01-2020:09:35:49,42 INFO     [classes.py:307] Completed analysis: saved to output/video_output.mp4\n"
          ],
          "name": "stderr"
        },
        {
          "output_type": "stream",
          "text": [
            "./Finalised/User_28/run_9/video.mp4\n",
            "[MoviePy] >>>> Building video video.mp4\n",
            "[MoviePy] Writing audio in videoTEMP_MPY_wvf_snd.mp4\n"
          ],
          "name": "stdout"
        },
        {
          "output_type": "stream",
          "text": [
            "100%|██████████| 23/23 [00:00<00:00, 403.90it/s]"
          ],
          "name": "stderr"
        },
        {
          "output_type": "stream",
          "text": [
            "[MoviePy] Done.\n",
            "[MoviePy] Writing video video.mp4\n"
          ],
          "name": "stdout"
        },
        {
          "output_type": "stream",
          "text": [
            "\n",
            " 97%|█████████▋| 30/31 [00:03<00:00,  8.82it/s]\n"
          ],
          "name": "stderr"
        },
        {
          "output_type": "stream",
          "text": [
            "[MoviePy] Done.\n",
            "[MoviePy] >>>> Video ready: video.mp4 \n",
            "\n"
          ],
          "name": "stdout"
        },
        {
          "output_type": "stream",
          "text": [
            "18-01-2020:09:37:04,155 INFO     [classes.py:207] 30.00 fps, 30 frames, 1.00 seconds\n",
            "18-01-2020:09:37:04,161 INFO     [classes.py:323] Deleted pre-existing output/video_output.mp4\n",
            "18-01-2020:09:37:58,276 INFO     [classes.py:307] Completed analysis: saved to output/video_output.mp4\n"
          ],
          "name": "stderr"
        },
        {
          "output_type": "stream",
          "text": [
            "./Finalised/User_29/run_0/video.mp4\n",
            "[MoviePy] >>>> Building video video.mp4\n",
            "[MoviePy] Writing audio in videoTEMP_MPY_wvf_snd.mp4\n"
          ],
          "name": "stdout"
        },
        {
          "output_type": "stream",
          "text": [
            "100%|██████████| 23/23 [00:00<00:00, 431.33it/s]"
          ],
          "name": "stderr"
        },
        {
          "output_type": "stream",
          "text": [
            "[MoviePy] Done.\n",
            "[MoviePy] Writing video video.mp4\n"
          ],
          "name": "stdout"
        },
        {
          "output_type": "stream",
          "text": [
            "\n",
            " 97%|█████████▋| 30/31 [00:03<00:00,  7.90it/s]\n"
          ],
          "name": "stderr"
        },
        {
          "output_type": "stream",
          "text": [
            "[MoviePy] Done.\n",
            "[MoviePy] >>>> Video ready: video.mp4 \n",
            "\n"
          ],
          "name": "stdout"
        },
        {
          "output_type": "stream",
          "text": [
            "18-01-2020:09:39:14,489 INFO     [classes.py:207] 30.00 fps, 30 frames, 1.00 seconds\n",
            "18-01-2020:09:39:14,494 INFO     [classes.py:323] Deleted pre-existing output/video_output.mp4\n",
            "18-01-2020:09:40:29,370 INFO     [classes.py:307] Completed analysis: saved to output/video_output.mp4\n"
          ],
          "name": "stderr"
        },
        {
          "output_type": "stream",
          "text": [
            "./Finalised/User_29/run_1/video.mp4\n",
            "[MoviePy] >>>> Building video video.mp4\n",
            "[MoviePy] Writing audio in videoTEMP_MPY_wvf_snd.mp4\n"
          ],
          "name": "stdout"
        },
        {
          "output_type": "stream",
          "text": [
            "100%|██████████| 23/23 [00:00<00:00, 367.40it/s]"
          ],
          "name": "stderr"
        },
        {
          "output_type": "stream",
          "text": [
            "[MoviePy] Done.\n",
            "[MoviePy] Writing video video.mp4\n"
          ],
          "name": "stdout"
        },
        {
          "output_type": "stream",
          "text": [
            "\n",
            " 97%|█████████▋| 30/31 [00:03<00:00,  7.76it/s]\n"
          ],
          "name": "stderr"
        },
        {
          "output_type": "stream",
          "text": [
            "[MoviePy] Done.\n",
            "[MoviePy] >>>> Video ready: video.mp4 \n",
            "\n"
          ],
          "name": "stdout"
        },
        {
          "output_type": "stream",
          "text": [
            "18-01-2020:09:41:45,552 INFO     [classes.py:207] 30.00 fps, 30 frames, 1.00 seconds\n",
            "18-01-2020:09:41:45,558 INFO     [classes.py:323] Deleted pre-existing output/video_output.mp4\n",
            "18-01-2020:09:43:01,87 INFO     [classes.py:307] Completed analysis: saved to output/video_output.mp4\n"
          ],
          "name": "stderr"
        },
        {
          "output_type": "stream",
          "text": [
            "./Finalised/User_29/run_2/video.mp4\n",
            "[MoviePy] >>>> Building video video.mp4\n",
            "[MoviePy] Writing audio in videoTEMP_MPY_wvf_snd.mp4\n"
          ],
          "name": "stdout"
        },
        {
          "output_type": "stream",
          "text": [
            "100%|██████████| 23/23 [00:00<00:00, 370.68it/s]"
          ],
          "name": "stderr"
        },
        {
          "output_type": "stream",
          "text": [
            "[MoviePy] Done.\n",
            "[MoviePy] Writing video video.mp4\n"
          ],
          "name": "stdout"
        },
        {
          "output_type": "stream",
          "text": [
            "\n",
            " 97%|█████████▋| 30/31 [00:03<00:00,  8.53it/s]\n"
          ],
          "name": "stderr"
        },
        {
          "output_type": "stream",
          "text": [
            "[MoviePy] Done.\n",
            "[MoviePy] >>>> Video ready: video.mp4 \n",
            "\n"
          ],
          "name": "stdout"
        },
        {
          "output_type": "stream",
          "text": [
            "18-01-2020:09:44:18,188 INFO     [classes.py:207] 30.00 fps, 30 frames, 1.00 seconds\n",
            "18-01-2020:09:44:18,195 INFO     [classes.py:323] Deleted pre-existing output/video_output.mp4\n",
            "18-01-2020:09:45:34,655 INFO     [classes.py:307] Completed analysis: saved to output/video_output.mp4\n"
          ],
          "name": "stderr"
        },
        {
          "output_type": "stream",
          "text": [
            "./Finalised/User_29/run_3/video.mp4\n",
            "[MoviePy] >>>> Building video video.mp4\n",
            "[MoviePy] Writing audio in videoTEMP_MPY_wvf_snd.mp4\n"
          ],
          "name": "stdout"
        },
        {
          "output_type": "stream",
          "text": [
            "100%|██████████| 23/23 [00:00<00:00, 384.75it/s]"
          ],
          "name": "stderr"
        },
        {
          "output_type": "stream",
          "text": [
            "[MoviePy] Done.\n",
            "[MoviePy] Writing video video.mp4\n"
          ],
          "name": "stdout"
        },
        {
          "output_type": "stream",
          "text": [
            "\n",
            " 97%|█████████▋| 30/31 [00:03<00:00,  8.48it/s]\n"
          ],
          "name": "stderr"
        },
        {
          "output_type": "stream",
          "text": [
            "[MoviePy] Done.\n",
            "[MoviePy] >>>> Video ready: video.mp4 \n",
            "\n"
          ],
          "name": "stdout"
        },
        {
          "output_type": "stream",
          "text": [
            "18-01-2020:09:46:52,580 INFO     [classes.py:207] 30.00 fps, 30 frames, 1.00 seconds\n",
            "18-01-2020:09:46:52,588 INFO     [classes.py:323] Deleted pre-existing output/video_output.mp4\n",
            "18-01-2020:09:48:04,874 INFO     [classes.py:307] Completed analysis: saved to output/video_output.mp4\n"
          ],
          "name": "stderr"
        },
        {
          "output_type": "stream",
          "text": [
            "./Finalised/User_29/run_4/video.mp4\n",
            "[MoviePy] >>>> Building video video.mp4\n",
            "[MoviePy] Writing audio in videoTEMP_MPY_wvf_snd.mp4\n"
          ],
          "name": "stdout"
        },
        {
          "output_type": "stream",
          "text": [
            "100%|██████████| 23/23 [00:00<00:00, 402.29it/s]"
          ],
          "name": "stderr"
        },
        {
          "output_type": "stream",
          "text": [
            "[MoviePy] Done.\n",
            "[MoviePy] Writing video video.mp4\n"
          ],
          "name": "stdout"
        },
        {
          "output_type": "stream",
          "text": [
            "\n",
            " 97%|█████████▋| 30/31 [00:03<00:00,  8.35it/s]\n"
          ],
          "name": "stderr"
        },
        {
          "output_type": "stream",
          "text": [
            "[MoviePy] Done.\n",
            "[MoviePy] >>>> Video ready: video.mp4 \n",
            "\n"
          ],
          "name": "stdout"
        },
        {
          "output_type": "stream",
          "text": [
            "18-01-2020:09:49:22,593 INFO     [classes.py:207] 30.00 fps, 30 frames, 1.00 seconds\n",
            "18-01-2020:09:49:22,602 INFO     [classes.py:323] Deleted pre-existing output/video_output.mp4\n",
            "18-01-2020:09:50:36,599 INFO     [classes.py:307] Completed analysis: saved to output/video_output.mp4\n"
          ],
          "name": "stderr"
        },
        {
          "output_type": "stream",
          "text": [
            "./Finalised/User_29/run_5/video.mp4\n",
            "[MoviePy] >>>> Building video video.mp4\n",
            "[MoviePy] Writing audio in videoTEMP_MPY_wvf_snd.mp4\n"
          ],
          "name": "stdout"
        },
        {
          "output_type": "stream",
          "text": [
            "100%|██████████| 23/23 [00:00<00:00, 397.17it/s]"
          ],
          "name": "stderr"
        },
        {
          "output_type": "stream",
          "text": [
            "[MoviePy] Done.\n",
            "[MoviePy] Writing video video.mp4\n"
          ],
          "name": "stdout"
        },
        {
          "output_type": "stream",
          "text": [
            "\n",
            " 97%|█████████▋| 30/31 [00:03<00:00,  8.13it/s]\n"
          ],
          "name": "stderr"
        },
        {
          "output_type": "stream",
          "text": [
            "[MoviePy] Done.\n",
            "[MoviePy] >>>> Video ready: video.mp4 \n",
            "\n"
          ],
          "name": "stdout"
        },
        {
          "output_type": "stream",
          "text": [
            "18-01-2020:09:51:54,576 INFO     [classes.py:207] 30.00 fps, 30 frames, 1.00 seconds\n",
            "18-01-2020:09:51:54,582 INFO     [classes.py:323] Deleted pre-existing output/video_output.mp4\n",
            "18-01-2020:09:53:02,153 INFO     [classes.py:307] Completed analysis: saved to output/video_output.mp4\n"
          ],
          "name": "stderr"
        },
        {
          "output_type": "stream",
          "text": [
            "./Finalised/User_29/run_6/video.mp4\n",
            "[MoviePy] >>>> Building video video.mp4\n",
            "[MoviePy] Writing audio in videoTEMP_MPY_wvf_snd.mp4\n"
          ],
          "name": "stdout"
        },
        {
          "output_type": "stream",
          "text": [
            "100%|██████████| 23/23 [00:00<00:00, 384.48it/s]"
          ],
          "name": "stderr"
        },
        {
          "output_type": "stream",
          "text": [
            "[MoviePy] Done.\n",
            "[MoviePy] Writing video video.mp4\n"
          ],
          "name": "stdout"
        },
        {
          "output_type": "stream",
          "text": [
            "\n",
            " 97%|█████████▋| 30/31 [00:03<00:00,  7.66it/s]\n"
          ],
          "name": "stderr"
        },
        {
          "output_type": "stream",
          "text": [
            "[MoviePy] Done.\n",
            "[MoviePy] >>>> Video ready: video.mp4 \n",
            "\n"
          ],
          "name": "stdout"
        },
        {
          "output_type": "stream",
          "text": [
            "18-01-2020:09:54:20,888 INFO     [classes.py:207] 30.00 fps, 30 frames, 1.00 seconds\n",
            "18-01-2020:09:54:20,894 INFO     [classes.py:323] Deleted pre-existing output/video_output.mp4\n",
            "18-01-2020:09:55:28,236 INFO     [classes.py:307] Completed analysis: saved to output/video_output.mp4\n"
          ],
          "name": "stderr"
        },
        {
          "output_type": "stream",
          "text": [
            "./Finalised/User_29/run_7/video.mp4\n",
            "[MoviePy] >>>> Building video video.mp4\n",
            "[MoviePy] Writing audio in videoTEMP_MPY_wvf_snd.mp4\n"
          ],
          "name": "stdout"
        },
        {
          "output_type": "stream",
          "text": [
            "100%|██████████| 23/23 [00:00<00:00, 382.76it/s]"
          ],
          "name": "stderr"
        },
        {
          "output_type": "stream",
          "text": [
            "[MoviePy] Done.\n",
            "[MoviePy] Writing video video.mp4\n"
          ],
          "name": "stdout"
        },
        {
          "output_type": "stream",
          "text": [
            "\n",
            " 97%|█████████▋| 30/31 [00:03<00:00,  7.82it/s]\n"
          ],
          "name": "stderr"
        },
        {
          "output_type": "stream",
          "text": [
            "[MoviePy] Done.\n",
            "[MoviePy] >>>> Video ready: video.mp4 \n",
            "\n"
          ],
          "name": "stdout"
        },
        {
          "output_type": "stream",
          "text": [
            "18-01-2020:09:56:47,198 INFO     [classes.py:207] 30.00 fps, 30 frames, 1.00 seconds\n",
            "18-01-2020:09:56:47,205 INFO     [classes.py:323] Deleted pre-existing output/video_output.mp4\n",
            "18-01-2020:09:58:00,243 INFO     [classes.py:307] Completed analysis: saved to output/video_output.mp4\n"
          ],
          "name": "stderr"
        },
        {
          "output_type": "stream",
          "text": [
            "./Finalised/User_29/run_8/video.mp4\n",
            "[MoviePy] >>>> Building video video.mp4\n",
            "[MoviePy] Writing audio in videoTEMP_MPY_wvf_snd.mp4\n"
          ],
          "name": "stdout"
        },
        {
          "output_type": "stream",
          "text": [
            "100%|██████████| 23/23 [00:00<00:00, 405.48it/s]"
          ],
          "name": "stderr"
        },
        {
          "output_type": "stream",
          "text": [
            "[MoviePy] Done.\n",
            "[MoviePy] Writing video video.mp4\n"
          ],
          "name": "stdout"
        },
        {
          "output_type": "stream",
          "text": [
            "\n",
            " 97%|█████████▋| 30/31 [00:03<00:00,  7.99it/s]\n"
          ],
          "name": "stderr"
        },
        {
          "output_type": "stream",
          "text": [
            "[MoviePy] Done.\n",
            "[MoviePy] >>>> Video ready: video.mp4 \n",
            "\n"
          ],
          "name": "stdout"
        },
        {
          "output_type": "stream",
          "text": [
            "18-01-2020:09:59:18,248 INFO     [classes.py:207] 30.00 fps, 30 frames, 1.00 seconds\n",
            "18-01-2020:09:59:18,253 INFO     [classes.py:323] Deleted pre-existing output/video_output.mp4\n",
            "18-01-2020:10:00:28,812 INFO     [classes.py:307] Completed analysis: saved to output/video_output.mp4\n"
          ],
          "name": "stderr"
        },
        {
          "output_type": "stream",
          "text": [
            "./Finalised/User_29/run_9/video.mp4\n",
            "[MoviePy] >>>> Building video video.mp4\n",
            "[MoviePy] Writing audio in videoTEMP_MPY_wvf_snd.mp4\n"
          ],
          "name": "stdout"
        },
        {
          "output_type": "stream",
          "text": [
            "100%|██████████| 23/23 [00:00<00:00, 402.98it/s]"
          ],
          "name": "stderr"
        },
        {
          "output_type": "stream",
          "text": [
            "[MoviePy] Done.\n",
            "[MoviePy] Writing video video.mp4\n"
          ],
          "name": "stdout"
        },
        {
          "output_type": "stream",
          "text": [
            "\n",
            " 97%|█████████▋| 30/31 [00:03<00:00,  7.85it/s]\n"
          ],
          "name": "stderr"
        },
        {
          "output_type": "stream",
          "text": [
            "[MoviePy] Done.\n",
            "[MoviePy] >>>> Video ready: video.mp4 \n",
            "\n"
          ],
          "name": "stdout"
        },
        {
          "output_type": "stream",
          "text": [
            "18-01-2020:10:01:47,169 INFO     [classes.py:207] 30.00 fps, 30 frames, 1.00 seconds\n",
            "18-01-2020:10:01:47,174 INFO     [classes.py:323] Deleted pre-existing output/video_output.mp4\n",
            "18-01-2020:10:02:52,911 INFO     [classes.py:307] Completed analysis: saved to output/video_output.mp4\n"
          ],
          "name": "stderr"
        },
        {
          "output_type": "stream",
          "text": [
            "./Finalised/User_30/run_0/video.mp4\n",
            "[MoviePy] >>>> Building video video.mp4\n",
            "[MoviePy] Writing audio in videoTEMP_MPY_wvf_snd.mp4\n"
          ],
          "name": "stdout"
        },
        {
          "output_type": "stream",
          "text": [
            "100%|██████████| 23/23 [00:00<00:00, 322.87it/s]"
          ],
          "name": "stderr"
        },
        {
          "output_type": "stream",
          "text": [
            "[MoviePy] Done.\n",
            "[MoviePy] Writing video video.mp4\n"
          ],
          "name": "stdout"
        },
        {
          "output_type": "stream",
          "text": [
            "\n",
            " 97%|█████████▋| 30/31 [00:03<00:00,  7.62it/s]\n"
          ],
          "name": "stderr"
        },
        {
          "output_type": "stream",
          "text": [
            "[MoviePy] Done.\n",
            "[MoviePy] >>>> Video ready: video.mp4 \n",
            "\n"
          ],
          "name": "stdout"
        },
        {
          "output_type": "stream",
          "text": [
            "18-01-2020:10:04:13,563 INFO     [classes.py:207] 30.00 fps, 30 frames, 1.00 seconds\n",
            "18-01-2020:10:04:13,567 INFO     [classes.py:323] Deleted pre-existing output/video_output.mp4\n",
            "18-01-2020:10:05:47,513 INFO     [classes.py:307] Completed analysis: saved to output/video_output.mp4\n"
          ],
          "name": "stderr"
        },
        {
          "output_type": "stream",
          "text": [
            "./Finalised/User_30/run_1/video.mp4\n",
            "[MoviePy] >>>> Building video video.mp4\n",
            "[MoviePy] Writing audio in videoTEMP_MPY_wvf_snd.mp4\n"
          ],
          "name": "stdout"
        },
        {
          "output_type": "stream",
          "text": [
            "100%|██████████| 23/23 [00:00<00:00, 392.01it/s]"
          ],
          "name": "stderr"
        },
        {
          "output_type": "stream",
          "text": [
            "[MoviePy] Done.\n",
            "[MoviePy] Writing video video.mp4\n"
          ],
          "name": "stdout"
        },
        {
          "output_type": "stream",
          "text": [
            "\n",
            " 97%|█████████▋| 30/31 [00:03<00:00,  7.85it/s]\n"
          ],
          "name": "stderr"
        },
        {
          "output_type": "stream",
          "text": [
            "[MoviePy] Done.\n",
            "[MoviePy] >>>> Video ready: video.mp4 \n",
            "\n"
          ],
          "name": "stdout"
        },
        {
          "output_type": "stream",
          "text": [
            "18-01-2020:10:07:07,907 INFO     [classes.py:207] 30.00 fps, 30 frames, 1.00 seconds\n",
            "18-01-2020:10:07:07,924 INFO     [classes.py:323] Deleted pre-existing output/video_output.mp4\n",
            "18-01-2020:10:08:38,392 INFO     [classes.py:307] Completed analysis: saved to output/video_output.mp4\n"
          ],
          "name": "stderr"
        },
        {
          "output_type": "stream",
          "text": [
            "./Finalised/User_30/run_2/video.mp4\n",
            "[MoviePy] >>>> Building video video.mp4\n",
            "[MoviePy] Writing audio in videoTEMP_MPY_wvf_snd.mp4\n"
          ],
          "name": "stdout"
        },
        {
          "output_type": "stream",
          "text": [
            "100%|██████████| 23/23 [00:00<00:00, 354.51it/s]"
          ],
          "name": "stderr"
        },
        {
          "output_type": "stream",
          "text": [
            "[MoviePy] Done.\n",
            "[MoviePy] Writing video video.mp4\n"
          ],
          "name": "stdout"
        },
        {
          "output_type": "stream",
          "text": [
            "\n",
            " 97%|█████████▋| 30/31 [00:03<00:00,  7.88it/s]\n"
          ],
          "name": "stderr"
        },
        {
          "output_type": "stream",
          "text": [
            "[MoviePy] Done.\n",
            "[MoviePy] >>>> Video ready: video.mp4 \n",
            "\n"
          ],
          "name": "stdout"
        },
        {
          "output_type": "stream",
          "text": [
            "18-01-2020:10:09:58,457 INFO     [classes.py:207] 30.00 fps, 30 frames, 1.00 seconds\n",
            "18-01-2020:10:09:58,465 INFO     [classes.py:323] Deleted pre-existing output/video_output.mp4\n",
            "18-01-2020:10:11:29,131 INFO     [classes.py:307] Completed analysis: saved to output/video_output.mp4\n"
          ],
          "name": "stderr"
        },
        {
          "output_type": "stream",
          "text": [
            "./Finalised/User_30/run_3/video.mp4\n",
            "[MoviePy] >>>> Building video video.mp4\n",
            "[MoviePy] Writing audio in videoTEMP_MPY_wvf_snd.mp4\n"
          ],
          "name": "stdout"
        },
        {
          "output_type": "stream",
          "text": [
            "100%|██████████| 23/23 [00:00<00:00, 346.90it/s]"
          ],
          "name": "stderr"
        },
        {
          "output_type": "stream",
          "text": [
            "[MoviePy] Done.\n",
            "[MoviePy] Writing video video.mp4\n"
          ],
          "name": "stdout"
        },
        {
          "output_type": "stream",
          "text": [
            "\n",
            " 97%|█████████▋| 30/31 [00:03<00:00,  7.74it/s]\n"
          ],
          "name": "stderr"
        },
        {
          "output_type": "stream",
          "text": [
            "[MoviePy] Done.\n",
            "[MoviePy] >>>> Video ready: video.mp4 \n",
            "\n"
          ],
          "name": "stdout"
        },
        {
          "output_type": "stream",
          "text": [
            "18-01-2020:10:12:49,323 INFO     [classes.py:207] 30.00 fps, 30 frames, 1.00 seconds\n",
            "18-01-2020:10:12:49,329 INFO     [classes.py:323] Deleted pre-existing output/video_output.mp4\n",
            "18-01-2020:10:14:19,280 INFO     [classes.py:307] Completed analysis: saved to output/video_output.mp4\n"
          ],
          "name": "stderr"
        },
        {
          "output_type": "stream",
          "text": [
            "./Finalised/User_30/run_4/video.mp4\n",
            "[MoviePy] >>>> Building video video.mp4\n",
            "[MoviePy] Writing audio in videoTEMP_MPY_wvf_snd.mp4\n"
          ],
          "name": "stdout"
        },
        {
          "output_type": "stream",
          "text": [
            "100%|██████████| 23/23 [00:00<00:00, 435.38it/s]"
          ],
          "name": "stderr"
        },
        {
          "output_type": "stream",
          "text": [
            "[MoviePy] Done.\n",
            "[MoviePy] Writing video video.mp4\n"
          ],
          "name": "stdout"
        },
        {
          "output_type": "stream",
          "text": [
            "\n",
            " 97%|█████████▋| 30/31 [00:03<00:00,  8.41it/s]\n"
          ],
          "name": "stderr"
        },
        {
          "output_type": "stream",
          "text": [
            "[MoviePy] Done.\n",
            "[MoviePy] >>>> Video ready: video.mp4 \n",
            "\n"
          ],
          "name": "stdout"
        },
        {
          "output_type": "stream",
          "text": [
            "18-01-2020:10:15:40,176 INFO     [classes.py:207] 30.00 fps, 30 frames, 1.00 seconds\n",
            "18-01-2020:10:15:40,181 INFO     [classes.py:323] Deleted pre-existing output/video_output.mp4\n",
            "18-01-2020:10:17:09,325 INFO     [classes.py:307] Completed analysis: saved to output/video_output.mp4\n"
          ],
          "name": "stderr"
        },
        {
          "output_type": "stream",
          "text": [
            "./Finalised/User_30/run_5/video.mp4\n",
            "[MoviePy] >>>> Building video video.mp4\n",
            "[MoviePy] Writing audio in videoTEMP_MPY_wvf_snd.mp4\n"
          ],
          "name": "stdout"
        },
        {
          "output_type": "stream",
          "text": [
            "100%|██████████| 23/23 [00:00<00:00, 407.13it/s]"
          ],
          "name": "stderr"
        },
        {
          "output_type": "stream",
          "text": [
            "[MoviePy] Done.\n",
            "[MoviePy] Writing video video.mp4\n"
          ],
          "name": "stdout"
        },
        {
          "output_type": "stream",
          "text": [
            "\n",
            " 97%|█████████▋| 30/31 [00:03<00:00,  8.37it/s]\n"
          ],
          "name": "stderr"
        },
        {
          "output_type": "stream",
          "text": [
            "[MoviePy] Done.\n",
            "[MoviePy] >>>> Video ready: video.mp4 \n",
            "\n"
          ],
          "name": "stdout"
        },
        {
          "output_type": "stream",
          "text": [
            "18-01-2020:10:18:29,954 INFO     [classes.py:207] 30.00 fps, 30 frames, 1.00 seconds\n",
            "18-01-2020:10:18:29,961 INFO     [classes.py:323] Deleted pre-existing output/video_output.mp4\n",
            "18-01-2020:10:20:04,281 INFO     [classes.py:307] Completed analysis: saved to output/video_output.mp4\n"
          ],
          "name": "stderr"
        },
        {
          "output_type": "stream",
          "text": [
            "./Finalised/User_30/run_6/video.mp4\n",
            "[MoviePy] >>>> Building video video.mp4\n",
            "[MoviePy] Writing audio in videoTEMP_MPY_wvf_snd.mp4\n"
          ],
          "name": "stdout"
        },
        {
          "output_type": "stream",
          "text": [
            "100%|██████████| 23/23 [00:00<00:00, 355.34it/s]"
          ],
          "name": "stderr"
        },
        {
          "output_type": "stream",
          "text": [
            "[MoviePy] Done.\n",
            "[MoviePy] Writing video video.mp4\n"
          ],
          "name": "stdout"
        },
        {
          "output_type": "stream",
          "text": [
            "\n",
            " 97%|█████████▋| 30/31 [00:03<00:00,  7.32it/s]\n"
          ],
          "name": "stderr"
        },
        {
          "output_type": "stream",
          "text": [
            "[MoviePy] Done.\n",
            "[MoviePy] >>>> Video ready: video.mp4 \n",
            "\n"
          ],
          "name": "stdout"
        },
        {
          "output_type": "stream",
          "text": [
            "18-01-2020:10:21:25,152 INFO     [classes.py:207] 30.00 fps, 30 frames, 1.00 seconds\n",
            "18-01-2020:10:21:25,159 INFO     [classes.py:323] Deleted pre-existing output/video_output.mp4\n",
            "18-01-2020:10:22:53,993 INFO     [classes.py:307] Completed analysis: saved to output/video_output.mp4\n"
          ],
          "name": "stderr"
        },
        {
          "output_type": "stream",
          "text": [
            "./Finalised/User_30/run_7/video.mp4\n",
            "[MoviePy] >>>> Building video video.mp4\n",
            "[MoviePy] Writing audio in videoTEMP_MPY_wvf_snd.mp4\n"
          ],
          "name": "stdout"
        },
        {
          "output_type": "stream",
          "text": [
            "100%|██████████| 23/23 [00:00<00:00, 418.02it/s]"
          ],
          "name": "stderr"
        },
        {
          "output_type": "stream",
          "text": [
            "[MoviePy] Done.\n",
            "[MoviePy] Writing video video.mp4\n"
          ],
          "name": "stdout"
        },
        {
          "output_type": "stream",
          "text": [
            "\n",
            " 97%|█████████▋| 30/31 [00:03<00:00,  8.28it/s]\n"
          ],
          "name": "stderr"
        },
        {
          "output_type": "stream",
          "text": [
            "[MoviePy] Done.\n",
            "[MoviePy] >>>> Video ready: video.mp4 \n",
            "\n"
          ],
          "name": "stdout"
        },
        {
          "output_type": "stream",
          "text": [
            "18-01-2020:10:24:15,164 INFO     [classes.py:207] 30.00 fps, 30 frames, 1.00 seconds\n",
            "18-01-2020:10:24:15,171 INFO     [classes.py:323] Deleted pre-existing output/video_output.mp4\n",
            "18-01-2020:10:25:46,197 INFO     [classes.py:307] Completed analysis: saved to output/video_output.mp4\n"
          ],
          "name": "stderr"
        },
        {
          "output_type": "stream",
          "text": [
            "./Finalised/User_30/run_8/video.mp4\n",
            "[MoviePy] >>>> Building video video.mp4\n",
            "[MoviePy] Writing audio in videoTEMP_MPY_wvf_snd.mp4\n"
          ],
          "name": "stdout"
        },
        {
          "output_type": "stream",
          "text": [
            "100%|██████████| 23/23 [00:00<00:00, 366.29it/s]"
          ],
          "name": "stderr"
        },
        {
          "output_type": "stream",
          "text": [
            "[MoviePy] Done.\n",
            "[MoviePy] Writing video video.mp4\n"
          ],
          "name": "stdout"
        },
        {
          "output_type": "stream",
          "text": [
            "\n",
            " 97%|█████████▋| 30/31 [00:03<00:00,  8.80it/s]\n"
          ],
          "name": "stderr"
        },
        {
          "output_type": "stream",
          "text": [
            "[MoviePy] Done.\n",
            "[MoviePy] >>>> Video ready: video.mp4 \n",
            "\n"
          ],
          "name": "stdout"
        },
        {
          "output_type": "stream",
          "text": [
            "18-01-2020:10:27:07,613 INFO     [classes.py:207] 30.00 fps, 30 frames, 1.00 seconds\n",
            "18-01-2020:10:27:07,619 INFO     [classes.py:323] Deleted pre-existing output/video_output.mp4\n",
            "18-01-2020:10:28:29,439 INFO     [classes.py:307] Completed analysis: saved to output/video_output.mp4\n"
          ],
          "name": "stderr"
        },
        {
          "output_type": "stream",
          "text": [
            "./Finalised/User_30/run_9/video.mp4\n",
            "[MoviePy] >>>> Building video video.mp4\n",
            "[MoviePy] Writing audio in videoTEMP_MPY_wvf_snd.mp4\n"
          ],
          "name": "stdout"
        },
        {
          "output_type": "stream",
          "text": [
            "100%|██████████| 23/23 [00:00<00:00, 392.95it/s]"
          ],
          "name": "stderr"
        },
        {
          "output_type": "stream",
          "text": [
            "[MoviePy] Done.\n",
            "[MoviePy] Writing video video.mp4\n"
          ],
          "name": "stdout"
        },
        {
          "output_type": "stream",
          "text": [
            "\n",
            " 97%|█████████▋| 30/31 [00:03<00:00,  7.32it/s]\n"
          ],
          "name": "stderr"
        },
        {
          "output_type": "stream",
          "text": [
            "[MoviePy] Done.\n",
            "[MoviePy] >>>> Video ready: video.mp4 \n",
            "\n"
          ],
          "name": "stdout"
        },
        {
          "output_type": "stream",
          "text": [
            "18-01-2020:10:29:51,503 INFO     [classes.py:207] 30.00 fps, 30 frames, 1.00 seconds\n",
            "18-01-2020:10:29:51,511 INFO     [classes.py:323] Deleted pre-existing output/video_output.mp4\n",
            "18-01-2020:10:31:20,436 INFO     [classes.py:307] Completed analysis: saved to output/video_output.mp4\n"
          ],
          "name": "stderr"
        },
        {
          "output_type": "stream",
          "text": [
            "./Finalised/User_31/run_0/video.mp4\n",
            "[MoviePy] >>>> Building video video.mp4\n",
            "[MoviePy] Writing audio in videoTEMP_MPY_wvf_snd.mp4\n"
          ],
          "name": "stdout"
        },
        {
          "output_type": "stream",
          "text": [
            "100%|██████████| 23/23 [00:00<00:00, 387.75it/s]"
          ],
          "name": "stderr"
        },
        {
          "output_type": "stream",
          "text": [
            "[MoviePy] Done.\n",
            "[MoviePy] Writing video video.mp4\n"
          ],
          "name": "stdout"
        },
        {
          "output_type": "stream",
          "text": [
            "\n",
            " 98%|█████████▊| 43/44 [00:00<00:00, 171.47it/s]\n"
          ],
          "name": "stderr"
        },
        {
          "output_type": "stream",
          "text": [
            "[MoviePy] Done.\n",
            "[MoviePy] >>>> Video ready: video.mp4 \n",
            "\n"
          ],
          "name": "stdout"
        },
        {
          "output_type": "stream",
          "text": [
            "18-01-2020:10:32:19,619 INFO     [classes.py:207] 43.00 fps, 43 frames, 1.00 seconds\n",
            "18-01-2020:10:32:19,629 INFO     [classes.py:323] Deleted pre-existing output/video_output.mp4\n",
            "18-01-2020:10:32:53,107 INFO     [classes.py:307] Completed analysis: saved to output/video_output.mp4\n"
          ],
          "name": "stderr"
        },
        {
          "output_type": "stream",
          "text": [
            "./Finalised/User_31/run_1/video.mp4\n",
            "[MoviePy] >>>> Building video video.mp4\n",
            "[MoviePy] Writing audio in videoTEMP_MPY_wvf_snd.mp4\n"
          ],
          "name": "stdout"
        },
        {
          "output_type": "stream",
          "text": [
            "100%|██████████| 23/23 [00:00<00:00, 335.66it/s]"
          ],
          "name": "stderr"
        },
        {
          "output_type": "stream",
          "text": [
            "[MoviePy] Done.\n",
            "[MoviePy] Writing video video.mp4\n"
          ],
          "name": "stdout"
        },
        {
          "output_type": "stream",
          "text": [
            "\n",
            " 98%|█████████▊| 43/44 [00:00<00:00, 184.22it/s]\n"
          ],
          "name": "stderr"
        },
        {
          "output_type": "stream",
          "text": [
            "[MoviePy] Done.\n",
            "[MoviePy] >>>> Video ready: video.mp4 \n",
            "\n"
          ],
          "name": "stdout"
        },
        {
          "output_type": "stream",
          "text": [
            "18-01-2020:10:33:51,675 INFO     [classes.py:207] 43.00 fps, 43 frames, 1.00 seconds\n",
            "18-01-2020:10:33:51,684 INFO     [classes.py:323] Deleted pre-existing output/video_output.mp4\n",
            "18-01-2020:10:34:22,829 INFO     [classes.py:307] Completed analysis: saved to output/video_output.mp4\n"
          ],
          "name": "stderr"
        },
        {
          "output_type": "stream",
          "text": [
            "./Finalised/User_31/run_2/video.mp4\n",
            "[MoviePy] >>>> Building video video.mp4\n",
            "[MoviePy] Writing audio in videoTEMP_MPY_wvf_snd.mp4\n"
          ],
          "name": "stdout"
        },
        {
          "output_type": "stream",
          "text": [
            "100%|██████████| 23/23 [00:00<00:00, 386.07it/s]"
          ],
          "name": "stderr"
        },
        {
          "output_type": "stream",
          "text": [
            "[MoviePy] Done.\n",
            "[MoviePy] Writing video video.mp4\n"
          ],
          "name": "stdout"
        },
        {
          "output_type": "stream",
          "text": [
            "\n",
            " 98%|█████████▊| 43/44 [00:00<00:00, 166.79it/s]\n"
          ],
          "name": "stderr"
        },
        {
          "output_type": "stream",
          "text": [
            "[MoviePy] Done.\n",
            "[MoviePy] >>>> Video ready: video.mp4 \n",
            "\n"
          ],
          "name": "stdout"
        },
        {
          "output_type": "stream",
          "text": [
            "18-01-2020:10:35:21,656 INFO     [classes.py:207] 43.00 fps, 43 frames, 1.00 seconds\n",
            "18-01-2020:10:35:21,660 INFO     [classes.py:323] Deleted pre-existing output/video_output.mp4\n",
            "18-01-2020:10:35:52,869 INFO     [classes.py:307] Completed analysis: saved to output/video_output.mp4\n"
          ],
          "name": "stderr"
        },
        {
          "output_type": "stream",
          "text": [
            "./Finalised/User_31/run_3/video.mp4\n",
            "[MoviePy] >>>> Building video video.mp4\n",
            "[MoviePy] Writing audio in videoTEMP_MPY_wvf_snd.mp4\n"
          ],
          "name": "stdout"
        },
        {
          "output_type": "stream",
          "text": [
            "100%|██████████| 23/23 [00:00<00:00, 415.19it/s]"
          ],
          "name": "stderr"
        },
        {
          "output_type": "stream",
          "text": [
            "[MoviePy] Done.\n",
            "[MoviePy] Writing video video.mp4\n"
          ],
          "name": "stdout"
        },
        {
          "output_type": "stream",
          "text": [
            "\n",
            " 98%|█████████▊| 43/44 [00:00<00:00, 177.71it/s]\n"
          ],
          "name": "stderr"
        },
        {
          "output_type": "stream",
          "text": [
            "[MoviePy] Done.\n",
            "[MoviePy] >>>> Video ready: video.mp4 \n",
            "\n"
          ],
          "name": "stdout"
        },
        {
          "output_type": "stream",
          "text": [
            "18-01-2020:10:36:51,749 INFO     [classes.py:207] 43.00 fps, 43 frames, 1.00 seconds\n",
            "18-01-2020:10:36:51,758 INFO     [classes.py:323] Deleted pre-existing output/video_output.mp4\n",
            "18-01-2020:10:37:24,538 INFO     [classes.py:307] Completed analysis: saved to output/video_output.mp4\n"
          ],
          "name": "stderr"
        },
        {
          "output_type": "stream",
          "text": [
            "./Finalised/User_31/run_4/video.mp4\n",
            "[MoviePy] >>>> Building video video.mp4\n",
            "[MoviePy] Writing audio in videoTEMP_MPY_wvf_snd.mp4\n"
          ],
          "name": "stdout"
        },
        {
          "output_type": "stream",
          "text": [
            "100%|██████████| 23/23 [00:00<00:00, 407.47it/s]"
          ],
          "name": "stderr"
        },
        {
          "output_type": "stream",
          "text": [
            "[MoviePy] Done.\n",
            "[MoviePy] Writing video video.mp4\n"
          ],
          "name": "stdout"
        },
        {
          "output_type": "stream",
          "text": [
            "\n",
            " 98%|█████████▊| 43/44 [00:00<00:00, 168.89it/s]\n"
          ],
          "name": "stderr"
        },
        {
          "output_type": "stream",
          "text": [
            "[MoviePy] Done.\n",
            "[MoviePy] >>>> Video ready: video.mp4 \n",
            "\n"
          ],
          "name": "stdout"
        },
        {
          "output_type": "stream",
          "text": [
            "18-01-2020:10:38:24,65 INFO     [classes.py:207] 43.00 fps, 43 frames, 1.00 seconds\n",
            "18-01-2020:10:38:24,72 INFO     [classes.py:323] Deleted pre-existing output/video_output.mp4\n",
            "18-01-2020:10:38:55,404 INFO     [classes.py:307] Completed analysis: saved to output/video_output.mp4\n"
          ],
          "name": "stderr"
        },
        {
          "output_type": "stream",
          "text": [
            "./Finalised/User_31/run_5/video.mp4\n",
            "[MoviePy] >>>> Building video video.mp4\n",
            "[MoviePy] Writing audio in videoTEMP_MPY_wvf_snd.mp4\n"
          ],
          "name": "stdout"
        },
        {
          "output_type": "stream",
          "text": [
            "100%|██████████| 23/23 [00:00<00:00, 400.81it/s]"
          ],
          "name": "stderr"
        },
        {
          "output_type": "stream",
          "text": [
            "[MoviePy] Done.\n",
            "[MoviePy] Writing video video.mp4\n"
          ],
          "name": "stdout"
        },
        {
          "output_type": "stream",
          "text": [
            "\n",
            " 98%|█████████▊| 43/44 [00:00<00:00, 179.19it/s]\n"
          ],
          "name": "stderr"
        },
        {
          "output_type": "stream",
          "text": [
            "[MoviePy] Done.\n",
            "[MoviePy] >>>> Video ready: video.mp4 \n",
            "\n"
          ],
          "name": "stdout"
        },
        {
          "output_type": "stream",
          "text": [
            "18-01-2020:10:39:55,210 INFO     [classes.py:207] 43.00 fps, 43 frames, 1.00 seconds\n",
            "18-01-2020:10:39:55,220 INFO     [classes.py:323] Deleted pre-existing output/video_output.mp4\n",
            "18-01-2020:10:40:23,996 INFO     [classes.py:307] Completed analysis: saved to output/video_output.mp4\n"
          ],
          "name": "stderr"
        },
        {
          "output_type": "stream",
          "text": [
            "./Finalised/User_31/run_6/video.mp4\n",
            "[MoviePy] >>>> Building video video.mp4\n",
            "[MoviePy] Writing audio in videoTEMP_MPY_wvf_snd.mp4\n"
          ],
          "name": "stdout"
        },
        {
          "output_type": "stream",
          "text": [
            "100%|██████████| 23/23 [00:00<00:00, 346.21it/s]"
          ],
          "name": "stderr"
        },
        {
          "output_type": "stream",
          "text": [
            "[MoviePy] Done.\n",
            "[MoviePy] Writing video video.mp4\n"
          ],
          "name": "stdout"
        },
        {
          "output_type": "stream",
          "text": [
            "\n",
            " 98%|█████████▊| 43/44 [00:00<00:00, 168.18it/s]\n"
          ],
          "name": "stderr"
        },
        {
          "output_type": "stream",
          "text": [
            "[MoviePy] Done.\n",
            "[MoviePy] >>>> Video ready: video.mp4 \n",
            "\n"
          ],
          "name": "stdout"
        },
        {
          "output_type": "stream",
          "text": [
            "18-01-2020:10:41:23,392 INFO     [classes.py:207] 43.00 fps, 43 frames, 1.00 seconds\n",
            "18-01-2020:10:41:23,397 INFO     [classes.py:323] Deleted pre-existing output/video_output.mp4\n",
            "18-01-2020:10:41:52,137 INFO     [classes.py:307] Completed analysis: saved to output/video_output.mp4\n"
          ],
          "name": "stderr"
        },
        {
          "output_type": "stream",
          "text": [
            "./Finalised/User_31/run_7/video.mp4\n",
            "[MoviePy] >>>> Building video video.mp4\n",
            "[MoviePy] Writing audio in videoTEMP_MPY_wvf_snd.mp4\n"
          ],
          "name": "stdout"
        },
        {
          "output_type": "stream",
          "text": [
            "100%|██████████| 23/23 [00:00<00:00, 368.01it/s]"
          ],
          "name": "stderr"
        },
        {
          "output_type": "stream",
          "text": [
            "[MoviePy] Done.\n",
            "[MoviePy] Writing video video.mp4\n"
          ],
          "name": "stdout"
        },
        {
          "output_type": "stream",
          "text": [
            "\n",
            " 98%|█████████▊| 43/44 [00:00<00:00, 175.82it/s]\n"
          ],
          "name": "stderr"
        },
        {
          "output_type": "stream",
          "text": [
            "[MoviePy] Done.\n",
            "[MoviePy] >>>> Video ready: video.mp4 \n",
            "\n"
          ],
          "name": "stdout"
        },
        {
          "output_type": "stream",
          "text": [
            "18-01-2020:10:42:51,536 INFO     [classes.py:207] 43.00 fps, 43 frames, 1.00 seconds\n",
            "18-01-2020:10:42:51,542 INFO     [classes.py:323] Deleted pre-existing output/video_output.mp4\n",
            "18-01-2020:10:43:20,651 INFO     [classes.py:307] Completed analysis: saved to output/video_output.mp4\n"
          ],
          "name": "stderr"
        },
        {
          "output_type": "stream",
          "text": [
            "./Finalised/User_31/run_8/video.mp4\n",
            "[MoviePy] >>>> Building video video.mp4\n",
            "[MoviePy] Writing audio in videoTEMP_MPY_wvf_snd.mp4\n"
          ],
          "name": "stdout"
        },
        {
          "output_type": "stream",
          "text": [
            "100%|██████████| 23/23 [00:00<00:00, 392.03it/s]"
          ],
          "name": "stderr"
        },
        {
          "output_type": "stream",
          "text": [
            "[MoviePy] Done.\n",
            "[MoviePy] Writing video video.mp4\n"
          ],
          "name": "stdout"
        },
        {
          "output_type": "stream",
          "text": [
            "\n",
            " 98%|█████████▊| 43/44 [00:00<00:00, 167.38it/s]\n"
          ],
          "name": "stderr"
        },
        {
          "output_type": "stream",
          "text": [
            "[MoviePy] Done.\n",
            "[MoviePy] >>>> Video ready: video.mp4 \n",
            "\n"
          ],
          "name": "stdout"
        },
        {
          "output_type": "stream",
          "text": [
            "18-01-2020:10:44:20,256 INFO     [classes.py:207] 43.00 fps, 43 frames, 1.00 seconds\n",
            "18-01-2020:10:44:20,260 INFO     [classes.py:323] Deleted pre-existing output/video_output.mp4\n",
            "18-01-2020:10:44:49,287 INFO     [classes.py:307] Completed analysis: saved to output/video_output.mp4\n"
          ],
          "name": "stderr"
        },
        {
          "output_type": "stream",
          "text": [
            "./Finalised/User_32/run_0/video.mp4\n",
            "[MoviePy] >>>> Building video video.mp4\n",
            "[MoviePy] Writing audio in videoTEMP_MPY_wvf_snd.mp4\n"
          ],
          "name": "stdout"
        },
        {
          "output_type": "stream",
          "text": [
            "100%|██████████| 23/23 [00:00<00:00, 370.02it/s]"
          ],
          "name": "stderr"
        },
        {
          "output_type": "stream",
          "text": [
            "[MoviePy] Done.\n",
            "[MoviePy] Writing video video.mp4\n"
          ],
          "name": "stdout"
        },
        {
          "output_type": "stream",
          "text": [
            "\n",
            "100%|██████████| 15/15 [00:00<00:00, 101.65it/s]\n"
          ],
          "name": "stderr"
        },
        {
          "output_type": "stream",
          "text": [
            "[MoviePy] Done.\n",
            "[MoviePy] >>>> Video ready: video.mp4 \n",
            "\n"
          ],
          "name": "stdout"
        },
        {
          "output_type": "stream",
          "text": [
            "18-01-2020:10:45:51,810 INFO     [classes.py:207] 14.33 fps, 15 frames, 1.05 seconds\n",
            "18-01-2020:10:45:51,815 INFO     [classes.py:323] Deleted pre-existing output/video_output.mp4\n",
            "18-01-2020:10:46:16,995 INFO     [classes.py:307] Completed analysis: saved to output/video_output.mp4\n"
          ],
          "name": "stderr"
        },
        {
          "output_type": "stream",
          "text": [
            "./Finalised/User_32/run_1/video.mp4\n",
            "[MoviePy] >>>> Building video video.mp4\n",
            "[MoviePy] Writing audio in videoTEMP_MPY_wvf_snd.mp4\n"
          ],
          "name": "stdout"
        },
        {
          "output_type": "stream",
          "text": [
            "100%|██████████| 23/23 [00:00<00:00, 382.38it/s]"
          ],
          "name": "stderr"
        },
        {
          "output_type": "stream",
          "text": [
            "[MoviePy] Done.\n",
            "[MoviePy] Writing video video.mp4\n"
          ],
          "name": "stdout"
        },
        {
          "output_type": "stream",
          "text": [
            "\n",
            "100%|██████████| 15/15 [00:00<00:00, 115.63it/s]\n"
          ],
          "name": "stderr"
        },
        {
          "output_type": "stream",
          "text": [
            "[MoviePy] Done.\n",
            "[MoviePy] >>>> Video ready: video.mp4 \n",
            "\n"
          ],
          "name": "stdout"
        },
        {
          "output_type": "stream",
          "text": [
            "18-01-2020:10:47:16,515 INFO     [classes.py:207] 14.33 fps, 15 frames, 1.05 seconds\n",
            "18-01-2020:10:47:16,520 INFO     [classes.py:323] Deleted pre-existing output/video_output.mp4\n",
            "18-01-2020:10:47:41,821 INFO     [classes.py:307] Completed analysis: saved to output/video_output.mp4\n"
          ],
          "name": "stderr"
        },
        {
          "output_type": "stream",
          "text": [
            "./Finalised/User_32/run_2/video.mp4\n",
            "[MoviePy] >>>> Building video video.mp4\n",
            "[MoviePy] Writing audio in videoTEMP_MPY_wvf_snd.mp4\n"
          ],
          "name": "stdout"
        },
        {
          "output_type": "stream",
          "text": [
            "100%|██████████| 23/23 [00:00<00:00, 365.12it/s]"
          ],
          "name": "stderr"
        },
        {
          "output_type": "stream",
          "text": [
            "[MoviePy] Done.\n",
            "[MoviePy] Writing video video.mp4\n"
          ],
          "name": "stdout"
        },
        {
          "output_type": "stream",
          "text": [
            "\n",
            "100%|██████████| 15/15 [00:00<00:00, 116.75it/s]\n"
          ],
          "name": "stderr"
        },
        {
          "output_type": "stream",
          "text": [
            "[MoviePy] Done.\n",
            "[MoviePy] >>>> Video ready: video.mp4 \n",
            "\n"
          ],
          "name": "stdout"
        },
        {
          "output_type": "stream",
          "text": [
            "18-01-2020:10:48:41,810 INFO     [classes.py:207] 14.33 fps, 15 frames, 1.05 seconds\n",
            "18-01-2020:10:48:41,818 INFO     [classes.py:323] Deleted pre-existing output/video_output.mp4\n",
            "18-01-2020:10:49:07,50 INFO     [classes.py:307] Completed analysis: saved to output/video_output.mp4\n"
          ],
          "name": "stderr"
        },
        {
          "output_type": "stream",
          "text": [
            "./Finalised/User_32/run_3/video.mp4\n",
            "[MoviePy] >>>> Building video video.mp4\n",
            "[MoviePy] Writing audio in videoTEMP_MPY_wvf_snd.mp4\n"
          ],
          "name": "stdout"
        },
        {
          "output_type": "stream",
          "text": [
            "100%|██████████| 23/23 [00:00<00:00, 378.96it/s]"
          ],
          "name": "stderr"
        },
        {
          "output_type": "stream",
          "text": [
            "[MoviePy] Done.\n",
            "[MoviePy] Writing video video.mp4\n"
          ],
          "name": "stdout"
        },
        {
          "output_type": "stream",
          "text": [
            "\n",
            "100%|██████████| 15/15 [00:00<00:00, 116.39it/s]\n"
          ],
          "name": "stderr"
        },
        {
          "output_type": "stream",
          "text": [
            "[MoviePy] Done.\n",
            "[MoviePy] >>>> Video ready: video.mp4 \n",
            "\n"
          ],
          "name": "stdout"
        },
        {
          "output_type": "stream",
          "text": [
            "18-01-2020:10:50:06,928 INFO     [classes.py:207] 14.33 fps, 15 frames, 1.05 seconds\n",
            "18-01-2020:10:50:06,933 INFO     [classes.py:323] Deleted pre-existing output/video_output.mp4\n",
            "18-01-2020:10:50:32,211 INFO     [classes.py:307] Completed analysis: saved to output/video_output.mp4\n"
          ],
          "name": "stderr"
        },
        {
          "output_type": "stream",
          "text": [
            "./Finalised/User_32/run_4/video.mp4\n",
            "[MoviePy] >>>> Building video video.mp4\n",
            "[MoviePy] Writing audio in videoTEMP_MPY_wvf_snd.mp4\n"
          ],
          "name": "stdout"
        },
        {
          "output_type": "stream",
          "text": [
            "100%|██████████| 23/23 [00:00<00:00, 409.26it/s]"
          ],
          "name": "stderr"
        },
        {
          "output_type": "stream",
          "text": [
            "[MoviePy] Done.\n",
            "[MoviePy] Writing video video.mp4\n"
          ],
          "name": "stdout"
        },
        {
          "output_type": "stream",
          "text": [
            "\n",
            "100%|██████████| 15/15 [00:00<00:00, 115.85it/s]\n"
          ],
          "name": "stderr"
        },
        {
          "output_type": "stream",
          "text": [
            "[MoviePy] Done.\n",
            "[MoviePy] >>>> Video ready: video.mp4 \n",
            "\n"
          ],
          "name": "stdout"
        },
        {
          "output_type": "stream",
          "text": [
            "18-01-2020:10:51:32,214 INFO     [classes.py:207] 14.33 fps, 15 frames, 1.05 seconds\n",
            "18-01-2020:10:51:32,218 INFO     [classes.py:323] Deleted pre-existing output/video_output.mp4\n",
            "18-01-2020:10:51:57,891 INFO     [classes.py:307] Completed analysis: saved to output/video_output.mp4\n"
          ],
          "name": "stderr"
        },
        {
          "output_type": "stream",
          "text": [
            "./Finalised/User_32/run_5/video.mp4\n",
            "[MoviePy] >>>> Building video video.mp4\n",
            "[MoviePy] Writing audio in videoTEMP_MPY_wvf_snd.mp4\n"
          ],
          "name": "stdout"
        },
        {
          "output_type": "stream",
          "text": [
            "100%|██████████| 23/23 [00:00<00:00, 402.43it/s]"
          ],
          "name": "stderr"
        },
        {
          "output_type": "stream",
          "text": [
            "[MoviePy] Done.\n",
            "[MoviePy] Writing video video.mp4\n"
          ],
          "name": "stdout"
        },
        {
          "output_type": "stream",
          "text": [
            "\n",
            "100%|██████████| 15/15 [00:00<00:00, 115.94it/s]\n"
          ],
          "name": "stderr"
        },
        {
          "output_type": "stream",
          "text": [
            "[MoviePy] Done.\n",
            "[MoviePy] >>>> Video ready: video.mp4 \n",
            "\n"
          ],
          "name": "stdout"
        },
        {
          "output_type": "stream",
          "text": [
            "18-01-2020:10:52:58,178 INFO     [classes.py:207] 14.33 fps, 15 frames, 1.05 seconds\n",
            "18-01-2020:10:52:58,187 INFO     [classes.py:323] Deleted pre-existing output/video_output.mp4\n",
            "18-01-2020:10:53:23,572 INFO     [classes.py:307] Completed analysis: saved to output/video_output.mp4\n"
          ],
          "name": "stderr"
        },
        {
          "output_type": "stream",
          "text": [
            "./Finalised/User_32/run_6/video.mp4\n",
            "[MoviePy] >>>> Building video video.mp4\n",
            "[MoviePy] Writing audio in videoTEMP_MPY_wvf_snd.mp4\n"
          ],
          "name": "stdout"
        },
        {
          "output_type": "stream",
          "text": [
            "100%|██████████| 23/23 [00:00<00:00, 426.79it/s]"
          ],
          "name": "stderr"
        },
        {
          "output_type": "stream",
          "text": [
            "[MoviePy] Done.\n",
            "[MoviePy] Writing video video.mp4\n"
          ],
          "name": "stdout"
        },
        {
          "output_type": "stream",
          "text": [
            "\n",
            "100%|██████████| 15/15 [00:00<00:00, 117.84it/s]\n"
          ],
          "name": "stderr"
        },
        {
          "output_type": "stream",
          "text": [
            "[MoviePy] Done.\n",
            "[MoviePy] >>>> Video ready: video.mp4 \n",
            "\n"
          ],
          "name": "stdout"
        },
        {
          "output_type": "stream",
          "text": [
            "18-01-2020:10:54:23,910 INFO     [classes.py:207] 14.33 fps, 15 frames, 1.05 seconds\n",
            "18-01-2020:10:54:23,916 INFO     [classes.py:323] Deleted pre-existing output/video_output.mp4\n",
            "18-01-2020:10:54:49,410 INFO     [classes.py:307] Completed analysis: saved to output/video_output.mp4\n"
          ],
          "name": "stderr"
        },
        {
          "output_type": "stream",
          "text": [
            "./Finalised/User_32/run_7/video.mp4\n",
            "[MoviePy] >>>> Building video video.mp4\n",
            "[MoviePy] Writing audio in videoTEMP_MPY_wvf_snd.mp4\n"
          ],
          "name": "stdout"
        },
        {
          "output_type": "stream",
          "text": [
            "100%|██████████| 23/23 [00:00<00:00, 399.22it/s]"
          ],
          "name": "stderr"
        },
        {
          "output_type": "stream",
          "text": [
            "[MoviePy] Done.\n",
            "[MoviePy] Writing video video.mp4\n"
          ],
          "name": "stdout"
        },
        {
          "output_type": "stream",
          "text": [
            "\n",
            "100%|██████████| 15/15 [00:00<00:00, 120.47it/s]\n"
          ],
          "name": "stderr"
        },
        {
          "output_type": "stream",
          "text": [
            "[MoviePy] Done.\n",
            "[MoviePy] >>>> Video ready: video.mp4 \n",
            "\n"
          ],
          "name": "stdout"
        },
        {
          "output_type": "stream",
          "text": [
            "18-01-2020:10:55:49,781 INFO     [classes.py:207] 14.33 fps, 15 frames, 1.05 seconds\n",
            "18-01-2020:10:55:49,786 INFO     [classes.py:323] Deleted pre-existing output/video_output.mp4\n",
            "18-01-2020:10:56:15,422 INFO     [classes.py:307] Completed analysis: saved to output/video_output.mp4\n"
          ],
          "name": "stderr"
        },
        {
          "output_type": "stream",
          "text": [
            "./Finalised/User_33/run_0/video.mp4\n",
            "[MoviePy] >>>> Building video video.mp4\n",
            "[MoviePy] Writing audio in videoTEMP_MPY_wvf_snd.mp4\n"
          ],
          "name": "stdout"
        },
        {
          "output_type": "stream",
          "text": [
            "100%|██████████| 23/23 [00:00<00:00, 409.49it/s]"
          ],
          "name": "stderr"
        },
        {
          "output_type": "stream",
          "text": [
            "[MoviePy] Done.\n",
            "[MoviePy] Writing video video.mp4\n"
          ],
          "name": "stdout"
        },
        {
          "output_type": "stream",
          "text": [
            "\n",
            "100%|██████████| 15/15 [00:00<00:00, 120.51it/s]\n"
          ],
          "name": "stderr"
        },
        {
          "output_type": "stream",
          "text": [
            "[MoviePy] Done.\n",
            "[MoviePy] >>>> Video ready: video.mp4 \n",
            "\n"
          ],
          "name": "stdout"
        },
        {
          "output_type": "stream",
          "text": [
            "18-01-2020:10:57:16,64 INFO     [classes.py:207] 14.33 fps, 15 frames, 1.05 seconds\n",
            "18-01-2020:10:57:16,72 INFO     [classes.py:323] Deleted pre-existing output/video_output.mp4\n",
            "18-01-2020:10:57:41,495 INFO     [classes.py:307] Completed analysis: saved to output/video_output.mp4\n"
          ],
          "name": "stderr"
        },
        {
          "output_type": "stream",
          "text": [
            "./Finalised/User_33/run_1/video.mp4\n",
            "[MoviePy] >>>> Building video video.mp4\n",
            "[MoviePy] Writing audio in videoTEMP_MPY_wvf_snd.mp4\n"
          ],
          "name": "stdout"
        },
        {
          "output_type": "stream",
          "text": [
            "100%|██████████| 23/23 [00:00<00:00, 406.04it/s]"
          ],
          "name": "stderr"
        },
        {
          "output_type": "stream",
          "text": [
            "[MoviePy] Done.\n",
            "[MoviePy] Writing video video.mp4\n"
          ],
          "name": "stdout"
        },
        {
          "output_type": "stream",
          "text": [
            "\n",
            "100%|██████████| 15/15 [00:00<00:00, 113.90it/s]\n"
          ],
          "name": "stderr"
        },
        {
          "output_type": "stream",
          "text": [
            "[MoviePy] Done.\n",
            "[MoviePy] >>>> Video ready: video.mp4 \n",
            "\n"
          ],
          "name": "stdout"
        },
        {
          "output_type": "stream",
          "text": [
            "18-01-2020:10:58:42,121 INFO     [classes.py:207] 14.33 fps, 15 frames, 1.05 seconds\n",
            "18-01-2020:10:58:42,126 INFO     [classes.py:323] Deleted pre-existing output/video_output.mp4\n",
            "18-01-2020:10:59:08,286 INFO     [classes.py:307] Completed analysis: saved to output/video_output.mp4\n"
          ],
          "name": "stderr"
        },
        {
          "output_type": "stream",
          "text": [
            "./Finalised/User_33/run_2/video.mp4\n",
            "[MoviePy] >>>> Building video video.mp4\n",
            "[MoviePy] Writing audio in videoTEMP_MPY_wvf_snd.mp4\n"
          ],
          "name": "stdout"
        },
        {
          "output_type": "stream",
          "text": [
            "100%|██████████| 23/23 [00:00<00:00, 375.45it/s]"
          ],
          "name": "stderr"
        },
        {
          "output_type": "stream",
          "text": [
            "[MoviePy] Done.\n",
            "[MoviePy] Writing video video.mp4\n"
          ],
          "name": "stdout"
        },
        {
          "output_type": "stream",
          "text": [
            "\n",
            "100%|██████████| 15/15 [00:00<00:00, 121.48it/s]\n"
          ],
          "name": "stderr"
        },
        {
          "output_type": "stream",
          "text": [
            "[MoviePy] Done.\n",
            "[MoviePy] >>>> Video ready: video.mp4 \n",
            "\n"
          ],
          "name": "stdout"
        },
        {
          "output_type": "stream",
          "text": [
            "18-01-2020:11:00:09,309 INFO     [classes.py:207] 14.33 fps, 15 frames, 1.05 seconds\n",
            "18-01-2020:11:00:09,317 INFO     [classes.py:323] Deleted pre-existing output/video_output.mp4\n",
            "18-01-2020:11:00:35,114 INFO     [classes.py:307] Completed analysis: saved to output/video_output.mp4\n"
          ],
          "name": "stderr"
        },
        {
          "output_type": "stream",
          "text": [
            "./Finalised/User_33/run_3/video.mp4\n",
            "[MoviePy] >>>> Building video video.mp4\n",
            "[MoviePy] Writing audio in videoTEMP_MPY_wvf_snd.mp4\n"
          ],
          "name": "stdout"
        },
        {
          "output_type": "stream",
          "text": [
            "100%|██████████| 23/23 [00:00<00:00, 383.79it/s]"
          ],
          "name": "stderr"
        },
        {
          "output_type": "stream",
          "text": [
            "[MoviePy] Done.\n",
            "[MoviePy] Writing video video.mp4\n"
          ],
          "name": "stdout"
        },
        {
          "output_type": "stream",
          "text": [
            "\n",
            "100%|██████████| 15/15 [00:00<00:00, 106.08it/s]\n"
          ],
          "name": "stderr"
        },
        {
          "output_type": "stream",
          "text": [
            "[MoviePy] Done.\n",
            "[MoviePy] >>>> Video ready: video.mp4 \n",
            "\n"
          ],
          "name": "stdout"
        },
        {
          "output_type": "stream",
          "text": [
            "18-01-2020:11:01:36,173 INFO     [classes.py:207] 14.33 fps, 15 frames, 1.05 seconds\n",
            "18-01-2020:11:01:36,180 INFO     [classes.py:323] Deleted pre-existing output/video_output.mp4\n",
            "18-01-2020:11:02:02,136 INFO     [classes.py:307] Completed analysis: saved to output/video_output.mp4\n"
          ],
          "name": "stderr"
        },
        {
          "output_type": "stream",
          "text": [
            "./Finalised/User_33/run_4/video.mp4\n",
            "[MoviePy] >>>> Building video video.mp4\n",
            "[MoviePy] Writing audio in videoTEMP_MPY_wvf_snd.mp4\n"
          ],
          "name": "stdout"
        },
        {
          "output_type": "stream",
          "text": [
            "100%|██████████| 23/23 [00:00<00:00, 369.23it/s]"
          ],
          "name": "stderr"
        },
        {
          "output_type": "stream",
          "text": [
            "[MoviePy] Done.\n",
            "[MoviePy] Writing video video.mp4\n"
          ],
          "name": "stdout"
        },
        {
          "output_type": "stream",
          "text": [
            "\n",
            "100%|██████████| 15/15 [00:00<00:00, 117.67it/s]\n"
          ],
          "name": "stderr"
        },
        {
          "output_type": "stream",
          "text": [
            "[MoviePy] Done.\n",
            "[MoviePy] >>>> Video ready: video.mp4 \n",
            "\n"
          ],
          "name": "stdout"
        },
        {
          "output_type": "stream",
          "text": [
            "18-01-2020:11:03:03,432 INFO     [classes.py:207] 14.33 fps, 15 frames, 1.05 seconds\n",
            "18-01-2020:11:03:03,440 INFO     [classes.py:323] Deleted pre-existing output/video_output.mp4\n",
            "18-01-2020:11:03:29,417 INFO     [classes.py:307] Completed analysis: saved to output/video_output.mp4\n"
          ],
          "name": "stderr"
        },
        {
          "output_type": "stream",
          "text": [
            "./Finalised/User_33/run_5/video.mp4\n",
            "[MoviePy] >>>> Building video video.mp4\n",
            "[MoviePy] Writing audio in videoTEMP_MPY_wvf_snd.mp4\n"
          ],
          "name": "stdout"
        },
        {
          "output_type": "stream",
          "text": [
            "100%|██████████| 23/23 [00:00<00:00, 400.87it/s]"
          ],
          "name": "stderr"
        },
        {
          "output_type": "stream",
          "text": [
            "[MoviePy] Done.\n",
            "[MoviePy] Writing video video.mp4\n"
          ],
          "name": "stdout"
        },
        {
          "output_type": "stream",
          "text": [
            "\n",
            "100%|██████████| 15/15 [00:00<00:00, 125.74it/s]\n"
          ],
          "name": "stderr"
        },
        {
          "output_type": "stream",
          "text": [
            "[MoviePy] Done.\n",
            "[MoviePy] >>>> Video ready: video.mp4 \n",
            "\n"
          ],
          "name": "stdout"
        },
        {
          "output_type": "stream",
          "text": [
            "18-01-2020:11:04:30,891 INFO     [classes.py:207] 14.33 fps, 15 frames, 1.05 seconds\n",
            "18-01-2020:11:04:30,895 INFO     [classes.py:323] Deleted pre-existing output/video_output.mp4\n",
            "18-01-2020:11:04:56,902 INFO     [classes.py:307] Completed analysis: saved to output/video_output.mp4\n"
          ],
          "name": "stderr"
        },
        {
          "output_type": "stream",
          "text": [
            "./Finalised/User_33/run_6/video.mp4\n",
            "[MoviePy] >>>> Building video video.mp4\n",
            "[MoviePy] Writing audio in videoTEMP_MPY_wvf_snd.mp4\n"
          ],
          "name": "stdout"
        },
        {
          "output_type": "stream",
          "text": [
            "100%|██████████| 23/23 [00:00<00:00, 400.14it/s]"
          ],
          "name": "stderr"
        },
        {
          "output_type": "stream",
          "text": [
            "[MoviePy] Done.\n",
            "[MoviePy] Writing video video.mp4\n"
          ],
          "name": "stdout"
        },
        {
          "output_type": "stream",
          "text": [
            "\n",
            "100%|██████████| 15/15 [00:00<00:00, 121.35it/s]\n"
          ],
          "name": "stderr"
        },
        {
          "output_type": "stream",
          "text": [
            "[MoviePy] Done.\n",
            "[MoviePy] >>>> Video ready: video.mp4 \n",
            "\n"
          ],
          "name": "stdout"
        },
        {
          "output_type": "stream",
          "text": [
            "18-01-2020:11:05:58,236 INFO     [classes.py:207] 14.33 fps, 15 frames, 1.05 seconds\n",
            "18-01-2020:11:05:58,244 INFO     [classes.py:323] Deleted pre-existing output/video_output.mp4\n",
            "18-01-2020:11:06:24,210 INFO     [classes.py:307] Completed analysis: saved to output/video_output.mp4\n"
          ],
          "name": "stderr"
        },
        {
          "output_type": "stream",
          "text": [
            "./Finalised/User_34/run_0/video.mp4\n",
            "[MoviePy] >>>> Building video video.mp4\n",
            "[MoviePy] Writing audio in videoTEMP_MPY_wvf_snd.mp4\n"
          ],
          "name": "stdout"
        },
        {
          "output_type": "stream",
          "text": [
            "100%|██████████| 23/23 [00:00<00:00, 366.57it/s]"
          ],
          "name": "stderr"
        },
        {
          "output_type": "stream",
          "text": [
            "[MoviePy] Done.\n",
            "[MoviePy] Writing video video.mp4\n"
          ],
          "name": "stdout"
        },
        {
          "output_type": "stream",
          "text": [
            "\n",
            "100%|██████████| 15/15 [00:00<00:00, 112.06it/s]\n"
          ],
          "name": "stderr"
        },
        {
          "output_type": "stream",
          "text": [
            "[MoviePy] Done.\n",
            "[MoviePy] >>>> Video ready: video.mp4 \n",
            "\n"
          ],
          "name": "stdout"
        },
        {
          "output_type": "stream",
          "text": [
            "18-01-2020:11:07:26,138 INFO     [classes.py:207] 14.33 fps, 15 frames, 1.05 seconds\n",
            "18-01-2020:11:07:26,142 INFO     [classes.py:323] Deleted pre-existing output/video_output.mp4\n",
            "18-01-2020:11:07:52,882 INFO     [classes.py:307] Completed analysis: saved to output/video_output.mp4\n"
          ],
          "name": "stderr"
        },
        {
          "output_type": "stream",
          "text": [
            "./Finalised/User_34/run_1/video.mp4\n",
            "[MoviePy] >>>> Building video video.mp4\n",
            "[MoviePy] Writing audio in videoTEMP_MPY_wvf_snd.mp4\n"
          ],
          "name": "stdout"
        },
        {
          "output_type": "stream",
          "text": [
            "100%|██████████| 23/23 [00:00<00:00, 394.39it/s]"
          ],
          "name": "stderr"
        },
        {
          "output_type": "stream",
          "text": [
            "[MoviePy] Done.\n",
            "[MoviePy] Writing video video.mp4\n"
          ],
          "name": "stdout"
        },
        {
          "output_type": "stream",
          "text": [
            "\n",
            "100%|██████████| 15/15 [00:00<00:00, 111.36it/s]\n"
          ],
          "name": "stderr"
        },
        {
          "output_type": "stream",
          "text": [
            "[MoviePy] Done.\n",
            "[MoviePy] >>>> Video ready: video.mp4 \n",
            "\n"
          ],
          "name": "stdout"
        },
        {
          "output_type": "stream",
          "text": [
            "18-01-2020:11:08:54,743 INFO     [classes.py:207] 14.33 fps, 15 frames, 1.05 seconds\n",
            "18-01-2020:11:08:54,751 INFO     [classes.py:323] Deleted pre-existing output/video_output.mp4\n",
            "18-01-2020:11:09:21,603 INFO     [classes.py:307] Completed analysis: saved to output/video_output.mp4\n"
          ],
          "name": "stderr"
        },
        {
          "output_type": "stream",
          "text": [
            "./Finalised/User_34/run_2/video.mp4\n",
            "[MoviePy] >>>> Building video video.mp4\n",
            "[MoviePy] Writing audio in videoTEMP_MPY_wvf_snd.mp4\n"
          ],
          "name": "stdout"
        },
        {
          "output_type": "stream",
          "text": [
            "100%|██████████| 23/23 [00:00<00:00, 362.47it/s]"
          ],
          "name": "stderr"
        },
        {
          "output_type": "stream",
          "text": [
            "[MoviePy] Done.\n",
            "[MoviePy] Writing video video.mp4\n"
          ],
          "name": "stdout"
        },
        {
          "output_type": "stream",
          "text": [
            "\n",
            "100%|██████████| 15/15 [00:00<00:00, 122.54it/s]\n"
          ],
          "name": "stderr"
        },
        {
          "output_type": "stream",
          "text": [
            "[MoviePy] Done.\n",
            "[MoviePy] >>>> Video ready: video.mp4 \n",
            "\n"
          ],
          "name": "stdout"
        },
        {
          "output_type": "stream",
          "text": [
            "18-01-2020:11:10:24,118 INFO     [classes.py:207] 14.33 fps, 15 frames, 1.05 seconds\n",
            "18-01-2020:11:10:24,123 INFO     [classes.py:323] Deleted pre-existing output/video_output.mp4\n",
            "18-01-2020:11:10:51,158 INFO     [classes.py:307] Completed analysis: saved to output/video_output.mp4\n"
          ],
          "name": "stderr"
        },
        {
          "output_type": "stream",
          "text": [
            "./Finalised/User_34/run_3/video.mp4\n",
            "[MoviePy] >>>> Building video video.mp4\n",
            "[MoviePy] Writing audio in videoTEMP_MPY_wvf_snd.mp4\n"
          ],
          "name": "stdout"
        },
        {
          "output_type": "stream",
          "text": [
            "100%|██████████| 23/23 [00:00<00:00, 387.08it/s]"
          ],
          "name": "stderr"
        },
        {
          "output_type": "stream",
          "text": [
            "[MoviePy] Done.\n",
            "[MoviePy] Writing video video.mp4\n"
          ],
          "name": "stdout"
        },
        {
          "output_type": "stream",
          "text": [
            "\n",
            "100%|██████████| 15/15 [00:00<00:00, 117.36it/s]\n"
          ],
          "name": "stderr"
        },
        {
          "output_type": "stream",
          "text": [
            "[MoviePy] Done.\n",
            "[MoviePy] >>>> Video ready: video.mp4 \n",
            "\n"
          ],
          "name": "stdout"
        },
        {
          "output_type": "stream",
          "text": [
            "18-01-2020:11:11:53,899 INFO     [classes.py:207] 14.33 fps, 15 frames, 1.05 seconds\n",
            "18-01-2020:11:11:53,907 INFO     [classes.py:323] Deleted pre-existing output/video_output.mp4\n",
            "18-01-2020:11:12:21,82 INFO     [classes.py:307] Completed analysis: saved to output/video_output.mp4\n"
          ],
          "name": "stderr"
        },
        {
          "output_type": "stream",
          "text": [
            "./Finalised/User_34/run_4/video.mp4\n",
            "[MoviePy] >>>> Building video video.mp4\n",
            "[MoviePy] Writing audio in videoTEMP_MPY_wvf_snd.mp4\n"
          ],
          "name": "stdout"
        },
        {
          "output_type": "stream",
          "text": [
            "100%|██████████| 23/23 [00:00<00:00, 390.71it/s]"
          ],
          "name": "stderr"
        },
        {
          "output_type": "stream",
          "text": [
            "[MoviePy] Done.\n",
            "[MoviePy] Writing video video.mp4\n"
          ],
          "name": "stdout"
        },
        {
          "output_type": "stream",
          "text": [
            "\n",
            "100%|██████████| 15/15 [00:00<00:00, 108.63it/s]\n"
          ],
          "name": "stderr"
        },
        {
          "output_type": "stream",
          "text": [
            "[MoviePy] Done.\n",
            "[MoviePy] >>>> Video ready: video.mp4 \n",
            "\n"
          ],
          "name": "stdout"
        },
        {
          "output_type": "stream",
          "text": [
            "18-01-2020:11:13:24,266 INFO     [classes.py:207] 14.33 fps, 15 frames, 1.05 seconds\n",
            "18-01-2020:11:13:24,271 INFO     [classes.py:323] Deleted pre-existing output/video_output.mp4\n",
            "18-01-2020:11:13:51,629 INFO     [classes.py:307] Completed analysis: saved to output/video_output.mp4\n"
          ],
          "name": "stderr"
        },
        {
          "output_type": "stream",
          "text": [
            "./Finalised/User_34/run_5/video.mp4\n",
            "[MoviePy] >>>> Building video video.mp4\n",
            "[MoviePy] Writing audio in videoTEMP_MPY_wvf_snd.mp4\n"
          ],
          "name": "stdout"
        },
        {
          "output_type": "stream",
          "text": [
            "100%|██████████| 23/23 [00:00<00:00, 385.41it/s]"
          ],
          "name": "stderr"
        },
        {
          "output_type": "stream",
          "text": [
            "[MoviePy] Done.\n",
            "[MoviePy] Writing video video.mp4\n"
          ],
          "name": "stdout"
        },
        {
          "output_type": "stream",
          "text": [
            "\n",
            "100%|██████████| 15/15 [00:00<00:00, 114.01it/s]\n"
          ],
          "name": "stderr"
        },
        {
          "output_type": "stream",
          "text": [
            "[MoviePy] Done.\n",
            "[MoviePy] >>>> Video ready: video.mp4 \n",
            "\n"
          ],
          "name": "stdout"
        },
        {
          "output_type": "stream",
          "text": [
            "18-01-2020:11:14:55,453 INFO     [classes.py:207] 14.42 fps, 15 frames, 1.04 seconds\n",
            "18-01-2020:11:14:55,462 INFO     [classes.py:323] Deleted pre-existing output/video_output.mp4\n",
            "18-01-2020:11:15:22,552 INFO     [classes.py:307] Completed analysis: saved to output/video_output.mp4\n"
          ],
          "name": "stderr"
        },
        {
          "output_type": "stream",
          "text": [
            "./Finalised/User_34/run_6/video.mp4\n",
            "[MoviePy] >>>> Building video video.mp4\n",
            "[MoviePy] Writing audio in videoTEMP_MPY_wvf_snd.mp4\n"
          ],
          "name": "stdout"
        },
        {
          "output_type": "stream",
          "text": [
            "100%|██████████| 23/23 [00:00<00:00, 408.69it/s]"
          ],
          "name": "stderr"
        },
        {
          "output_type": "stream",
          "text": [
            "[MoviePy] Done.\n",
            "[MoviePy] Writing video video.mp4\n"
          ],
          "name": "stdout"
        },
        {
          "output_type": "stream",
          "text": [
            "\n",
            "100%|██████████| 15/15 [00:00<00:00, 117.48it/s]\n"
          ],
          "name": "stderr"
        },
        {
          "output_type": "stream",
          "text": [
            "[MoviePy] Done.\n",
            "[MoviePy] >>>> Video ready: video.mp4 \n",
            "\n"
          ],
          "name": "stdout"
        },
        {
          "output_type": "stream",
          "text": [
            "18-01-2020:11:16:25,927 INFO     [classes.py:207] 14.33 fps, 15 frames, 1.05 seconds\n",
            "18-01-2020:11:16:25,934 INFO     [classes.py:323] Deleted pre-existing output/video_output.mp4\n",
            "18-01-2020:11:16:53,332 INFO     [classes.py:307] Completed analysis: saved to output/video_output.mp4\n"
          ],
          "name": "stderr"
        },
        {
          "output_type": "stream",
          "text": [
            "./Finalised/User_34/run_7/video.mp4\n",
            "[MoviePy] >>>> Building video video.mp4\n",
            "[MoviePy] Writing audio in videoTEMP_MPY_wvf_snd.mp4\n"
          ],
          "name": "stdout"
        },
        {
          "output_type": "stream",
          "text": [
            "100%|██████████| 23/23 [00:00<00:00, 374.98it/s]"
          ],
          "name": "stderr"
        },
        {
          "output_type": "stream",
          "text": [
            "[MoviePy] Done.\n",
            "[MoviePy] Writing video video.mp4\n"
          ],
          "name": "stdout"
        },
        {
          "output_type": "stream",
          "text": [
            "\n",
            "100%|██████████| 15/15 [00:00<00:00, 108.67it/s]\n"
          ],
          "name": "stderr"
        },
        {
          "output_type": "stream",
          "text": [
            "[MoviePy] Done.\n",
            "[MoviePy] >>>> Video ready: video.mp4 \n",
            "\n"
          ],
          "name": "stdout"
        },
        {
          "output_type": "stream",
          "text": [
            "18-01-2020:11:17:56,838 INFO     [classes.py:207] 14.33 fps, 15 frames, 1.05 seconds\n",
            "18-01-2020:11:17:56,841 INFO     [classes.py:323] Deleted pre-existing output/video_output.mp4\n",
            "18-01-2020:11:18:24,207 INFO     [classes.py:307] Completed analysis: saved to output/video_output.mp4\n"
          ],
          "name": "stderr"
        },
        {
          "output_type": "stream",
          "text": [
            "./Finalised/User_34/run_8/video.mp4\n",
            "[MoviePy] >>>> Building video video.mp4\n",
            "[MoviePy] Writing audio in videoTEMP_MPY_wvf_snd.mp4\n"
          ],
          "name": "stdout"
        },
        {
          "output_type": "stream",
          "text": [
            "100%|██████████| 23/23 [00:00<00:00, 371.85it/s]"
          ],
          "name": "stderr"
        },
        {
          "output_type": "stream",
          "text": [
            "[MoviePy] Done.\n",
            "[MoviePy] Writing video video.mp4\n"
          ],
          "name": "stdout"
        },
        {
          "output_type": "stream",
          "text": [
            "\n",
            "100%|██████████| 15/15 [00:00<00:00, 115.60it/s]\n"
          ],
          "name": "stderr"
        },
        {
          "output_type": "stream",
          "text": [
            "[MoviePy] Done.\n",
            "[MoviePy] >>>> Video ready: video.mp4 \n",
            "\n"
          ],
          "name": "stdout"
        },
        {
          "output_type": "stream",
          "text": [
            "18-01-2020:11:19:28,340 INFO     [classes.py:207] 14.33 fps, 15 frames, 1.05 seconds\n",
            "18-01-2020:11:19:28,355 INFO     [classes.py:323] Deleted pre-existing output/video_output.mp4\n",
            "18-01-2020:11:19:56,620 INFO     [classes.py:307] Completed analysis: saved to output/video_output.mp4\n"
          ],
          "name": "stderr"
        },
        {
          "output_type": "stream",
          "text": [
            "./Finalised/User_34/run_9/video.mp4\n",
            "[MoviePy] >>>> Building video video.mp4\n",
            "[MoviePy] Writing audio in videoTEMP_MPY_wvf_snd.mp4\n"
          ],
          "name": "stdout"
        },
        {
          "output_type": "stream",
          "text": [
            "100%|██████████| 23/23 [00:00<00:00, 372.68it/s]"
          ],
          "name": "stderr"
        },
        {
          "output_type": "stream",
          "text": [
            "[MoviePy] Done.\n",
            "[MoviePy] Writing video video.mp4\n"
          ],
          "name": "stdout"
        },
        {
          "output_type": "stream",
          "text": [
            "\n",
            "100%|██████████| 15/15 [00:00<00:00, 120.86it/s]\n"
          ],
          "name": "stderr"
        },
        {
          "output_type": "stream",
          "text": [
            "[MoviePy] Done.\n",
            "[MoviePy] >>>> Video ready: video.mp4 \n",
            "\n"
          ],
          "name": "stdout"
        },
        {
          "output_type": "stream",
          "text": [
            "18-01-2020:11:21:00,170 INFO     [classes.py:207] 14.33 fps, 15 frames, 1.05 seconds\n",
            "18-01-2020:11:21:00,178 INFO     [classes.py:323] Deleted pre-existing output/video_output.mp4\n",
            "18-01-2020:11:21:27,696 INFO     [classes.py:307] Completed analysis: saved to output/video_output.mp4\n"
          ],
          "name": "stderr"
        },
        {
          "output_type": "stream",
          "text": [
            "['./Finalised/User_12/run_9/video.mp4', './Finalised/User_17/run_4/video.mp4', './Finalised/User_21/run_0/video.mp4', './Finalised/User_22/run_0/video.mp4', './Finalised/User_22/run_1/video.mp4', './Finalised/User_22/run_2/video.mp4', './Finalised/User_22/run_4/video.mp4']\n"
          ],
          "name": "stdout"
        }
      ]
    },
    {
      "cell_type": "code",
      "metadata": {
        "id": "3mAtwTJzY311",
        "colab_type": "code",
        "colab": {
          "base_uri": "https://localhost:8080/",
          "height": 419
        },
        "outputId": "b8ef636e-e64b-4996-b551-9677f1662ee5"
      },
      "source": [
        "# let's look at the data\n",
        "emo_df"
      ],
      "execution_count": 67,
      "outputs": [
        {
          "output_type": "execute_result",
          "data": {
            "text/html": [
              "<div>\n",
              "<style scoped>\n",
              "    .dataframe tbody tr th:only-of-type {\n",
              "        vertical-align: middle;\n",
              "    }\n",
              "\n",
              "    .dataframe tbody tr th {\n",
              "        vertical-align: top;\n",
              "    }\n",
              "\n",
              "    .dataframe thead th {\n",
              "        text-align: right;\n",
              "    }\n",
              "</style>\n",
              "<table border=\"1\" class=\"dataframe\">\n",
              "  <thead>\n",
              "    <tr style=\"text-align: right;\">\n",
              "      <th></th>\n",
              "      <th>angry</th>\n",
              "      <th>disgust</th>\n",
              "      <th>fear</th>\n",
              "      <th>happy</th>\n",
              "      <th>sad</th>\n",
              "      <th>surprise</th>\n",
              "      <th>neutral</th>\n",
              "    </tr>\n",
              "  </thead>\n",
              "  <tbody>\n",
              "    <tr>\n",
              "      <th>0</th>\n",
              "      <td>0.014516</td>\n",
              "      <td>0.0</td>\n",
              "      <td>0.000000</td>\n",
              "      <td>0.020968</td>\n",
              "      <td>0.040323</td>\n",
              "      <td>0.000323</td>\n",
              "      <td>0.920000</td>\n",
              "    </tr>\n",
              "    <tr>\n",
              "      <th>1</th>\n",
              "      <td>0.015484</td>\n",
              "      <td>0.0</td>\n",
              "      <td>0.000000</td>\n",
              "      <td>0.068387</td>\n",
              "      <td>0.015161</td>\n",
              "      <td>0.002581</td>\n",
              "      <td>0.895484</td>\n",
              "    </tr>\n",
              "    <tr>\n",
              "      <th>2</th>\n",
              "      <td>0.026000</td>\n",
              "      <td>0.0</td>\n",
              "      <td>0.002000</td>\n",
              "      <td>0.039000</td>\n",
              "      <td>0.021333</td>\n",
              "      <td>0.003000</td>\n",
              "      <td>0.904333</td>\n",
              "    </tr>\n",
              "    <tr>\n",
              "      <th>3</th>\n",
              "      <td>0.038000</td>\n",
              "      <td>0.0</td>\n",
              "      <td>0.010667</td>\n",
              "      <td>0.083667</td>\n",
              "      <td>0.045667</td>\n",
              "      <td>0.024667</td>\n",
              "      <td>0.799333</td>\n",
              "    </tr>\n",
              "    <tr>\n",
              "      <th>4</th>\n",
              "      <td>0.013000</td>\n",
              "      <td>0.0</td>\n",
              "      <td>0.003333</td>\n",
              "      <td>0.030000</td>\n",
              "      <td>0.029000</td>\n",
              "      <td>0.004000</td>\n",
              "      <td>0.919000</td>\n",
              "    </tr>\n",
              "    <tr>\n",
              "      <th>...</th>\n",
              "      <td>...</td>\n",
              "      <td>...</td>\n",
              "      <td>...</td>\n",
              "      <td>...</td>\n",
              "      <td>...</td>\n",
              "      <td>...</td>\n",
              "      <td>...</td>\n",
              "    </tr>\n",
              "    <tr>\n",
              "      <th>313</th>\n",
              "      <td>0.056667</td>\n",
              "      <td>0.0</td>\n",
              "      <td>0.036667</td>\n",
              "      <td>0.222667</td>\n",
              "      <td>0.052000</td>\n",
              "      <td>0.099333</td>\n",
              "      <td>0.536000</td>\n",
              "    </tr>\n",
              "    <tr>\n",
              "      <th>314</th>\n",
              "      <td>0.022000</td>\n",
              "      <td>0.0</td>\n",
              "      <td>0.006000</td>\n",
              "      <td>0.718000</td>\n",
              "      <td>0.030000</td>\n",
              "      <td>0.018667</td>\n",
              "      <td>0.206000</td>\n",
              "    </tr>\n",
              "    <tr>\n",
              "      <th>315</th>\n",
              "      <td>0.057333</td>\n",
              "      <td>0.0</td>\n",
              "      <td>0.041333</td>\n",
              "      <td>0.177333</td>\n",
              "      <td>0.207333</td>\n",
              "      <td>0.020000</td>\n",
              "      <td>0.496000</td>\n",
              "    </tr>\n",
              "    <tr>\n",
              "      <th>316</th>\n",
              "      <td>0.053333</td>\n",
              "      <td>0.0</td>\n",
              "      <td>0.028000</td>\n",
              "      <td>0.221333</td>\n",
              "      <td>0.146000</td>\n",
              "      <td>0.026667</td>\n",
              "      <td>0.523333</td>\n",
              "    </tr>\n",
              "    <tr>\n",
              "      <th>317</th>\n",
              "      <td>0.040000</td>\n",
              "      <td>0.0</td>\n",
              "      <td>0.022667</td>\n",
              "      <td>0.376667</td>\n",
              "      <td>0.102000</td>\n",
              "      <td>0.024000</td>\n",
              "      <td>0.432667</td>\n",
              "    </tr>\n",
              "  </tbody>\n",
              "</table>\n",
              "<p>318 rows × 7 columns</p>\n",
              "</div>"
            ],
            "text/plain": [
              "        angry  disgust      fear     happy       sad  surprise   neutral\n",
              "0    0.014516      0.0  0.000000  0.020968  0.040323  0.000323  0.920000\n",
              "1    0.015484      0.0  0.000000  0.068387  0.015161  0.002581  0.895484\n",
              "2    0.026000      0.0  0.002000  0.039000  0.021333  0.003000  0.904333\n",
              "3    0.038000      0.0  0.010667  0.083667  0.045667  0.024667  0.799333\n",
              "4    0.013000      0.0  0.003333  0.030000  0.029000  0.004000  0.919000\n",
              "..        ...      ...       ...       ...       ...       ...       ...\n",
              "313  0.056667      0.0  0.036667  0.222667  0.052000  0.099333  0.536000\n",
              "314  0.022000      0.0  0.006000  0.718000  0.030000  0.018667  0.206000\n",
              "315  0.057333      0.0  0.041333  0.177333  0.207333  0.020000  0.496000\n",
              "316  0.053333      0.0  0.028000  0.221333  0.146000  0.026667  0.523333\n",
              "317  0.040000      0.0  0.022667  0.376667  0.102000  0.024000  0.432667\n",
              "\n",
              "[318 rows x 7 columns]"
            ]
          },
          "metadata": {
            "tags": []
          },
          "execution_count": 67
        }
      ]
    },
    {
      "cell_type": "code",
      "metadata": {
        "id": "otG81Rhnc9Wb",
        "colab_type": "code",
        "colab": {
          "base_uri": "https://localhost:8080/",
          "height": 487
        },
        "outputId": "f9cdb610-13e0-4aff-85eb-eddb626cf71e"
      },
      "source": [
        "# add most common values to list to fill in the video slots in df that could not be processed correctly with\n",
        "most_common_list = [df_v['angry'].value_counts().head(1).keys()[0], \n",
        "               df_v['disgust'].value_counts().head(1).keys()[0], \n",
        "               df_v['fear'].value_counts().head(1).keys()[0], \n",
        "               df_v['happy'].value_counts().head(1).keys()[0], \n",
        "               df_v['sad'].value_counts().head(1).keys()[0], \n",
        "               df_v['surprise'].value_counts().head(1).keys()[0], \n",
        "               df_v['neutral'].value_counts().head(1).keys()[0]\n",
        "               ]\n",
        "\n",
        "print(most_common_list)\n",
        "\n",
        "values = emo_df[['angry', 'disgust', 'fear', 'happy', 'sad', 'surprise', 'neutral']].to_numpy()\n",
        "\n",
        "print(len(values))\n",
        "\n",
        "for i in range(len(df['video'])):\n",
        "  if df['video'][i] in faulty_videos:\n",
        "    values = np.insert(values, i, most_common_list, axis=0)\n",
        "\n",
        "print(len(values))\n",
        "print(len(df['video']))\n",
        "\n",
        "df_final = pd.DataFrame(data=values, columns=['angry', 'disgust', 'fear', 'happy', 'sad', 'surprise', 'neutral'])\n",
        "df_final['truth'] = df['truth']\n",
        "\n",
        "df_final\n"
      ],
      "execution_count": 64,
      "outputs": [
        {
          "output_type": "stream",
          "text": [
            "[0.029999999329447746, 0.0, 0.009999999776482582, 0.09000000357627869, 0.09000000357627869, 0.009999999776482582, 0.7599999904632568]\n",
            "318\n",
            "325\n",
            "325\n"
          ],
          "name": "stdout"
        },
        {
          "output_type": "execute_result",
          "data": {
            "text/html": [
              "<div>\n",
              "<style scoped>\n",
              "    .dataframe tbody tr th:only-of-type {\n",
              "        vertical-align: middle;\n",
              "    }\n",
              "\n",
              "    .dataframe tbody tr th {\n",
              "        vertical-align: top;\n",
              "    }\n",
              "\n",
              "    .dataframe thead th {\n",
              "        text-align: right;\n",
              "    }\n",
              "</style>\n",
              "<table border=\"1\" class=\"dataframe\">\n",
              "  <thead>\n",
              "    <tr style=\"text-align: right;\">\n",
              "      <th></th>\n",
              "      <th>angry</th>\n",
              "      <th>disgust</th>\n",
              "      <th>fear</th>\n",
              "      <th>happy</th>\n",
              "      <th>sad</th>\n",
              "      <th>surprise</th>\n",
              "      <th>neutral</th>\n",
              "      <th>truth</th>\n",
              "    </tr>\n",
              "  </thead>\n",
              "  <tbody>\n",
              "    <tr>\n",
              "      <th>0</th>\n",
              "      <td>0.014516</td>\n",
              "      <td>0.0</td>\n",
              "      <td>0.000000</td>\n",
              "      <td>0.020968</td>\n",
              "      <td>0.040323</td>\n",
              "      <td>0.000323</td>\n",
              "      <td>0.920000</td>\n",
              "      <td>1</td>\n",
              "    </tr>\n",
              "    <tr>\n",
              "      <th>1</th>\n",
              "      <td>0.015484</td>\n",
              "      <td>0.0</td>\n",
              "      <td>0.000000</td>\n",
              "      <td>0.068387</td>\n",
              "      <td>0.015161</td>\n",
              "      <td>0.002581</td>\n",
              "      <td>0.895484</td>\n",
              "      <td>0</td>\n",
              "    </tr>\n",
              "    <tr>\n",
              "      <th>2</th>\n",
              "      <td>0.026000</td>\n",
              "      <td>0.0</td>\n",
              "      <td>0.002000</td>\n",
              "      <td>0.039000</td>\n",
              "      <td>0.021333</td>\n",
              "      <td>0.003000</td>\n",
              "      <td>0.904333</td>\n",
              "      <td>0</td>\n",
              "    </tr>\n",
              "    <tr>\n",
              "      <th>3</th>\n",
              "      <td>0.038000</td>\n",
              "      <td>0.0</td>\n",
              "      <td>0.010667</td>\n",
              "      <td>0.083667</td>\n",
              "      <td>0.045667</td>\n",
              "      <td>0.024667</td>\n",
              "      <td>0.799333</td>\n",
              "      <td>0</td>\n",
              "    </tr>\n",
              "    <tr>\n",
              "      <th>4</th>\n",
              "      <td>0.013000</td>\n",
              "      <td>0.0</td>\n",
              "      <td>0.003333</td>\n",
              "      <td>0.030000</td>\n",
              "      <td>0.029000</td>\n",
              "      <td>0.004000</td>\n",
              "      <td>0.919000</td>\n",
              "      <td>0</td>\n",
              "    </tr>\n",
              "    <tr>\n",
              "      <th>...</th>\n",
              "      <td>...</td>\n",
              "      <td>...</td>\n",
              "      <td>...</td>\n",
              "      <td>...</td>\n",
              "      <td>...</td>\n",
              "      <td>...</td>\n",
              "      <td>...</td>\n",
              "      <td>...</td>\n",
              "    </tr>\n",
              "    <tr>\n",
              "      <th>320</th>\n",
              "      <td>0.056667</td>\n",
              "      <td>0.0</td>\n",
              "      <td>0.036667</td>\n",
              "      <td>0.222667</td>\n",
              "      <td>0.052000</td>\n",
              "      <td>0.099333</td>\n",
              "      <td>0.536000</td>\n",
              "      <td>0</td>\n",
              "    </tr>\n",
              "    <tr>\n",
              "      <th>321</th>\n",
              "      <td>0.022000</td>\n",
              "      <td>0.0</td>\n",
              "      <td>0.006000</td>\n",
              "      <td>0.718000</td>\n",
              "      <td>0.030000</td>\n",
              "      <td>0.018667</td>\n",
              "      <td>0.206000</td>\n",
              "      <td>0</td>\n",
              "    </tr>\n",
              "    <tr>\n",
              "      <th>322</th>\n",
              "      <td>0.057333</td>\n",
              "      <td>0.0</td>\n",
              "      <td>0.041333</td>\n",
              "      <td>0.177333</td>\n",
              "      <td>0.207333</td>\n",
              "      <td>0.020000</td>\n",
              "      <td>0.496000</td>\n",
              "      <td>0</td>\n",
              "    </tr>\n",
              "    <tr>\n",
              "      <th>323</th>\n",
              "      <td>0.053333</td>\n",
              "      <td>0.0</td>\n",
              "      <td>0.028000</td>\n",
              "      <td>0.221333</td>\n",
              "      <td>0.146000</td>\n",
              "      <td>0.026667</td>\n",
              "      <td>0.523333</td>\n",
              "      <td>0</td>\n",
              "    </tr>\n",
              "    <tr>\n",
              "      <th>324</th>\n",
              "      <td>0.040000</td>\n",
              "      <td>0.0</td>\n",
              "      <td>0.022667</td>\n",
              "      <td>0.376667</td>\n",
              "      <td>0.102000</td>\n",
              "      <td>0.024000</td>\n",
              "      <td>0.432667</td>\n",
              "      <td>0</td>\n",
              "    </tr>\n",
              "  </tbody>\n",
              "</table>\n",
              "<p>325 rows × 8 columns</p>\n",
              "</div>"
            ],
            "text/plain": [
              "        angry  disgust      fear     happy       sad  surprise   neutral  truth\n",
              "0    0.014516      0.0  0.000000  0.020968  0.040323  0.000323  0.920000      1\n",
              "1    0.015484      0.0  0.000000  0.068387  0.015161  0.002581  0.895484      0\n",
              "2    0.026000      0.0  0.002000  0.039000  0.021333  0.003000  0.904333      0\n",
              "3    0.038000      0.0  0.010667  0.083667  0.045667  0.024667  0.799333      0\n",
              "4    0.013000      0.0  0.003333  0.030000  0.029000  0.004000  0.919000      0\n",
              "..        ...      ...       ...       ...       ...       ...       ...    ...\n",
              "320  0.056667      0.0  0.036667  0.222667  0.052000  0.099333  0.536000      0\n",
              "321  0.022000      0.0  0.006000  0.718000  0.030000  0.018667  0.206000      0\n",
              "322  0.057333      0.0  0.041333  0.177333  0.207333  0.020000  0.496000      0\n",
              "323  0.053333      0.0  0.028000  0.221333  0.146000  0.026667  0.523333      0\n",
              "324  0.040000      0.0  0.022667  0.376667  0.102000  0.024000  0.432667      0\n",
              "\n",
              "[325 rows x 8 columns]"
            ]
          },
          "metadata": {
            "tags": []
          },
          "execution_count": 64
        }
      ]
    },
    {
      "cell_type": "code",
      "metadata": {
        "id": "NQ6FPD5jrgJl",
        "colab_type": "code",
        "colab": {}
      },
      "source": [
        "# create csv file with the data so we could just use the file in the future with the data instead of extracting it again all over again\n",
        "df_final.to_csv('emotion_data.csv', index=False)"
      ],
      "execution_count": 0,
      "outputs": []
    },
    {
      "cell_type": "code",
      "metadata": {
        "id": "MArlCMvzrvEY",
        "colab_type": "code",
        "colab": {
          "base_uri": "https://localhost:8080/",
          "height": 419
        },
        "outputId": "faf9f307-f574-4401-e61c-ac85603f1415"
      },
      "source": [
        "# read the data in from the file\n",
        "data = pd.read_csv('emotion_data.csv')\n",
        "\n",
        "data"
      ],
      "execution_count": 66,
      "outputs": [
        {
          "output_type": "execute_result",
          "data": {
            "text/html": [
              "<div>\n",
              "<style scoped>\n",
              "    .dataframe tbody tr th:only-of-type {\n",
              "        vertical-align: middle;\n",
              "    }\n",
              "\n",
              "    .dataframe tbody tr th {\n",
              "        vertical-align: top;\n",
              "    }\n",
              "\n",
              "    .dataframe thead th {\n",
              "        text-align: right;\n",
              "    }\n",
              "</style>\n",
              "<table border=\"1\" class=\"dataframe\">\n",
              "  <thead>\n",
              "    <tr style=\"text-align: right;\">\n",
              "      <th></th>\n",
              "      <th>angry</th>\n",
              "      <th>disgust</th>\n",
              "      <th>fear</th>\n",
              "      <th>happy</th>\n",
              "      <th>sad</th>\n",
              "      <th>surprise</th>\n",
              "      <th>neutral</th>\n",
              "      <th>truth</th>\n",
              "    </tr>\n",
              "  </thead>\n",
              "  <tbody>\n",
              "    <tr>\n",
              "      <th>0</th>\n",
              "      <td>0.014516</td>\n",
              "      <td>0.0</td>\n",
              "      <td>0.000000</td>\n",
              "      <td>0.020968</td>\n",
              "      <td>0.040323</td>\n",
              "      <td>0.000323</td>\n",
              "      <td>0.920000</td>\n",
              "      <td>1</td>\n",
              "    </tr>\n",
              "    <tr>\n",
              "      <th>1</th>\n",
              "      <td>0.015484</td>\n",
              "      <td>0.0</td>\n",
              "      <td>0.000000</td>\n",
              "      <td>0.068387</td>\n",
              "      <td>0.015161</td>\n",
              "      <td>0.002581</td>\n",
              "      <td>0.895484</td>\n",
              "      <td>0</td>\n",
              "    </tr>\n",
              "    <tr>\n",
              "      <th>2</th>\n",
              "      <td>0.026000</td>\n",
              "      <td>0.0</td>\n",
              "      <td>0.002000</td>\n",
              "      <td>0.039000</td>\n",
              "      <td>0.021333</td>\n",
              "      <td>0.003000</td>\n",
              "      <td>0.904333</td>\n",
              "      <td>0</td>\n",
              "    </tr>\n",
              "    <tr>\n",
              "      <th>3</th>\n",
              "      <td>0.038000</td>\n",
              "      <td>0.0</td>\n",
              "      <td>0.010667</td>\n",
              "      <td>0.083667</td>\n",
              "      <td>0.045667</td>\n",
              "      <td>0.024667</td>\n",
              "      <td>0.799333</td>\n",
              "      <td>0</td>\n",
              "    </tr>\n",
              "    <tr>\n",
              "      <th>4</th>\n",
              "      <td>0.013000</td>\n",
              "      <td>0.0</td>\n",
              "      <td>0.003333</td>\n",
              "      <td>0.030000</td>\n",
              "      <td>0.029000</td>\n",
              "      <td>0.004000</td>\n",
              "      <td>0.919000</td>\n",
              "      <td>0</td>\n",
              "    </tr>\n",
              "    <tr>\n",
              "      <th>...</th>\n",
              "      <td>...</td>\n",
              "      <td>...</td>\n",
              "      <td>...</td>\n",
              "      <td>...</td>\n",
              "      <td>...</td>\n",
              "      <td>...</td>\n",
              "      <td>...</td>\n",
              "      <td>...</td>\n",
              "    </tr>\n",
              "    <tr>\n",
              "      <th>320</th>\n",
              "      <td>0.056667</td>\n",
              "      <td>0.0</td>\n",
              "      <td>0.036667</td>\n",
              "      <td>0.222667</td>\n",
              "      <td>0.052000</td>\n",
              "      <td>0.099333</td>\n",
              "      <td>0.536000</td>\n",
              "      <td>0</td>\n",
              "    </tr>\n",
              "    <tr>\n",
              "      <th>321</th>\n",
              "      <td>0.022000</td>\n",
              "      <td>0.0</td>\n",
              "      <td>0.006000</td>\n",
              "      <td>0.718000</td>\n",
              "      <td>0.030000</td>\n",
              "      <td>0.018667</td>\n",
              "      <td>0.206000</td>\n",
              "      <td>0</td>\n",
              "    </tr>\n",
              "    <tr>\n",
              "      <th>322</th>\n",
              "      <td>0.057333</td>\n",
              "      <td>0.0</td>\n",
              "      <td>0.041333</td>\n",
              "      <td>0.177333</td>\n",
              "      <td>0.207333</td>\n",
              "      <td>0.020000</td>\n",
              "      <td>0.496000</td>\n",
              "      <td>0</td>\n",
              "    </tr>\n",
              "    <tr>\n",
              "      <th>323</th>\n",
              "      <td>0.053333</td>\n",
              "      <td>0.0</td>\n",
              "      <td>0.028000</td>\n",
              "      <td>0.221333</td>\n",
              "      <td>0.146000</td>\n",
              "      <td>0.026667</td>\n",
              "      <td>0.523333</td>\n",
              "      <td>0</td>\n",
              "    </tr>\n",
              "    <tr>\n",
              "      <th>324</th>\n",
              "      <td>0.040000</td>\n",
              "      <td>0.0</td>\n",
              "      <td>0.022667</td>\n",
              "      <td>0.376667</td>\n",
              "      <td>0.102000</td>\n",
              "      <td>0.024000</td>\n",
              "      <td>0.432667</td>\n",
              "      <td>0</td>\n",
              "    </tr>\n",
              "  </tbody>\n",
              "</table>\n",
              "<p>325 rows × 8 columns</p>\n",
              "</div>"
            ],
            "text/plain": [
              "        angry  disgust      fear     happy       sad  surprise   neutral  truth\n",
              "0    0.014516      0.0  0.000000  0.020968  0.040323  0.000323  0.920000      1\n",
              "1    0.015484      0.0  0.000000  0.068387  0.015161  0.002581  0.895484      0\n",
              "2    0.026000      0.0  0.002000  0.039000  0.021333  0.003000  0.904333      0\n",
              "3    0.038000      0.0  0.010667  0.083667  0.045667  0.024667  0.799333      0\n",
              "4    0.013000      0.0  0.003333  0.030000  0.029000  0.004000  0.919000      0\n",
              "..        ...      ...       ...       ...       ...       ...       ...    ...\n",
              "320  0.056667      0.0  0.036667  0.222667  0.052000  0.099333  0.536000      0\n",
              "321  0.022000      0.0  0.006000  0.718000  0.030000  0.018667  0.206000      0\n",
              "322  0.057333      0.0  0.041333  0.177333  0.207333  0.020000  0.496000      0\n",
              "323  0.053333      0.0  0.028000  0.221333  0.146000  0.026667  0.523333      0\n",
              "324  0.040000      0.0  0.022667  0.376667  0.102000  0.024000  0.432667      0\n",
              "\n",
              "[325 rows x 8 columns]"
            ]
          },
          "metadata": {
            "tags": []
          },
          "execution_count": 66
        }
      ]
    },
    {
      "cell_type": "code",
      "metadata": {
        "id": "jsxaOPf8uyxz",
        "colab_type": "code",
        "colab": {
          "base_uri": "https://localhost:8080/",
          "height": 255
        },
        "outputId": "846df9c6-01d8-4723-f6b0-dde7bddfd161"
      },
      "source": [
        "X = data[['angry', 'disgust', 'fear', 'happy', 'sad', 'surprise', 'neutral']]\n",
        "y = data['truth']\n",
        "\n",
        "# split data into train and test sets\n",
        "X_train, X_test, y_train, y_test = train_test_split(X, y, test_size=0.2, random_state=0)\n",
        "\n",
        "print(X_train)"
      ],
      "execution_count": 72,
      "outputs": [
        {
          "output_type": "stream",
          "text": [
            "        angry   disgust      fear     happy       sad  surprise   neutral\n",
            "1    0.015484  0.000000  0.000000  0.068387  0.015161  0.002581  0.895484\n",
            "250  0.317500  0.000000  0.101667  0.054167  0.330000  0.075833  0.118333\n",
            "8    0.015000  0.000000  0.001000  0.041333  0.016333  0.000000  0.923000\n",
            "212  0.052667  0.000000  0.033667  0.000000  0.035000  0.017333  0.861667\n",
            "291  0.095581  0.000000  0.065116  0.045349  0.143721  0.001163  0.645581\n",
            "..        ...       ...       ...       ...       ...       ...       ...\n",
            "251  0.096333  0.000667  0.074000  0.003000  0.161667  0.033333  0.629667\n",
            "192  0.064667  0.008667  0.049333  0.255333  0.191333  0.010000  0.419667\n",
            "117  0.008387  0.000000  0.002258  0.478710  0.006774  0.026129  0.474839\n",
            "47   0.393667  0.000000  0.190333  0.107000  0.094333  0.104333  0.110000\n",
            "172  0.080333  0.001000  0.040333  0.009000  0.081000  0.011333  0.774000\n",
            "\n",
            "[260 rows x 7 columns]\n"
          ],
          "name": "stdout"
        }
      ]
    },
    {
      "cell_type": "code",
      "metadata": {
        "id": "I8jwHor9z4Ky",
        "colab_type": "code",
        "colab": {
          "base_uri": "https://localhost:8080/",
          "height": 1000
        },
        "outputId": "be0f2c99-272d-41a6-eaa4-0eebfec1a984"
      },
      "source": [
        "# create simple model\n",
        "model = keras.Sequential([\n",
        "    keras.layers.Flatten(input_shape=(7,)),\n",
        "    keras.layers.Dense(16, activation=tf.nn.relu),\n",
        "\tkeras.layers.Dense(16, activation=tf.nn.relu),\n",
        "    keras.layers.Dense(1, activation=tf.nn.sigmoid),\n",
        "])\n",
        "\n",
        "model.compile(optimizer='adam',\n",
        "              loss='binary_crossentropy',\n",
        "              metrics=['accuracy'])\n",
        "\n",
        "# train the model\n",
        "model.fit(X_train, y_train, epochs=50, batch_size=1)\n",
        "\n",
        "test_loss, test_acc = model.evaluate(X_test, y_test)\n",
        "print('Test accuracy:', test_acc)"
      ],
      "execution_count": 74,
      "outputs": [
        {
          "output_type": "stream",
          "text": [
            "Train on 260 samples\n",
            "Epoch 1/50\n",
            "260/260 [==============================] - 21s 82ms/sample - loss: 0.6944 - acc: 0.4923\n",
            "Epoch 2/50\n",
            "260/260 [==============================] - 12s 45ms/sample - loss: 0.6916 - acc: 0.5154\n",
            "Epoch 3/50\n",
            "260/260 [==============================] - 12s 45ms/sample - loss: 0.6880 - acc: 0.5538\n",
            "Epoch 4/50\n",
            "260/260 [==============================] - 12s 45ms/sample - loss: 0.6849 - acc: 0.5577\n",
            "Epoch 5/50\n",
            "260/260 [==============================] - 12s 45ms/sample - loss: 0.6825 - acc: 0.5385\n",
            "Epoch 6/50\n",
            "260/260 [==============================] - 12s 46ms/sample - loss: 0.6811 - acc: 0.4962\n",
            "Epoch 7/50\n",
            "260/260 [==============================] - 12s 46ms/sample - loss: 0.6788 - acc: 0.5269\n",
            "Epoch 8/50\n",
            "260/260 [==============================] - 12s 46ms/sample - loss: 0.6789 - acc: 0.5231\n",
            "Epoch 9/50\n",
            "260/260 [==============================] - 12s 45ms/sample - loss: 0.6775 - acc: 0.5538\n",
            "Epoch 10/50\n",
            "260/260 [==============================] - 12s 45ms/sample - loss: 0.6772 - acc: 0.5385\n",
            "Epoch 11/50\n",
            "260/260 [==============================] - 12s 46ms/sample - loss: 0.6753 - acc: 0.5500\n",
            "Epoch 12/50\n",
            "260/260 [==============================] - 12s 45ms/sample - loss: 0.6748 - acc: 0.5577\n",
            "Epoch 13/50\n",
            "260/260 [==============================] - 12s 45ms/sample - loss: 0.6751 - acc: 0.5769\n",
            "Epoch 14/50\n",
            "260/260 [==============================] - 12s 46ms/sample - loss: 0.6738 - acc: 0.5269\n",
            "Epoch 15/50\n",
            "260/260 [==============================] - 12s 45ms/sample - loss: 0.6736 - acc: 0.5538\n",
            "Epoch 16/50\n",
            "260/260 [==============================] - 12s 45ms/sample - loss: 0.6729 - acc: 0.5423\n",
            "Epoch 17/50\n",
            "260/260 [==============================] - 12s 45ms/sample - loss: 0.6709 - acc: 0.5808\n",
            "Epoch 18/50\n",
            "260/260 [==============================] - 12s 46ms/sample - loss: 0.6705 - acc: 0.5462\n",
            "Epoch 19/50\n",
            "260/260 [==============================] - 12s 46ms/sample - loss: 0.6691 - acc: 0.5885\n",
            "Epoch 20/50\n",
            "260/260 [==============================] - 12s 45ms/sample - loss: 0.6687 - acc: 0.5692\n",
            "Epoch 21/50\n",
            "260/260 [==============================] - 12s 46ms/sample - loss: 0.6684 - acc: 0.5846\n",
            "Epoch 22/50\n",
            "260/260 [==============================] - 12s 46ms/sample - loss: 0.6684 - acc: 0.5846\n",
            "Epoch 23/50\n",
            "260/260 [==============================] - 12s 46ms/sample - loss: 0.6673 - acc: 0.5885\n",
            "Epoch 24/50\n",
            "260/260 [==============================] - 12s 46ms/sample - loss: 0.6665 - acc: 0.5692\n",
            "Epoch 25/50\n",
            "260/260 [==============================] - 12s 45ms/sample - loss: 0.6660 - acc: 0.6115\n",
            "Epoch 26/50\n",
            "260/260 [==============================] - 12s 46ms/sample - loss: 0.6653 - acc: 0.6077\n",
            "Epoch 27/50\n",
            "260/260 [==============================] - 12s 46ms/sample - loss: 0.6641 - acc: 0.5808\n",
            "Epoch 28/50\n",
            "260/260 [==============================] - 12s 45ms/sample - loss: 0.6646 - acc: 0.5731\n",
            "Epoch 29/50\n",
            "260/260 [==============================] - 12s 46ms/sample - loss: 0.6619 - acc: 0.5923\n",
            "Epoch 30/50\n",
            "260/260 [==============================] - 12s 46ms/sample - loss: 0.6633 - acc: 0.6038\n",
            "Epoch 31/50\n",
            "260/260 [==============================] - 12s 46ms/sample - loss: 0.6613 - acc: 0.6038\n",
            "Epoch 32/50\n",
            "260/260 [==============================] - 12s 45ms/sample - loss: 0.6597 - acc: 0.6000\n",
            "Epoch 33/50\n",
            "260/260 [==============================] - 12s 46ms/sample - loss: 0.6610 - acc: 0.6115\n",
            "Epoch 34/50\n",
            "260/260 [==============================] - 12s 46ms/sample - loss: 0.6597 - acc: 0.6000\n",
            "Epoch 35/50\n",
            "260/260 [==============================] - 12s 46ms/sample - loss: 0.6594 - acc: 0.5808\n",
            "Epoch 36/50\n",
            "260/260 [==============================] - 12s 46ms/sample - loss: 0.6589 - acc: 0.5692\n",
            "Epoch 37/50\n",
            "260/260 [==============================] - 12s 46ms/sample - loss: 0.6579 - acc: 0.6000\n",
            "Epoch 38/50\n",
            "260/260 [==============================] - 12s 46ms/sample - loss: 0.6578 - acc: 0.6000\n",
            "Epoch 39/50\n",
            "260/260 [==============================] - 12s 46ms/sample - loss: 0.6563 - acc: 0.6269\n",
            "Epoch 40/50\n",
            "260/260 [==============================] - 12s 46ms/sample - loss: 0.6553 - acc: 0.5885\n",
            "Epoch 41/50\n",
            "260/260 [==============================] - 12s 47ms/sample - loss: 0.6553 - acc: 0.5923\n",
            "Epoch 42/50\n",
            "260/260 [==============================] - 12s 46ms/sample - loss: 0.6542 - acc: 0.5962\n",
            "Epoch 43/50\n",
            "260/260 [==============================] - 12s 46ms/sample - loss: 0.6532 - acc: 0.6000\n",
            "Epoch 44/50\n",
            "260/260 [==============================] - 12s 46ms/sample - loss: 0.6526 - acc: 0.6077\n",
            "Epoch 45/50\n",
            "260/260 [==============================] - 12s 46ms/sample - loss: 0.6520 - acc: 0.5846\n",
            "Epoch 46/50\n",
            "260/260 [==============================] - 12s 46ms/sample - loss: 0.6531 - acc: 0.5962\n",
            "Epoch 47/50\n",
            "260/260 [==============================] - 12s 47ms/sample - loss: 0.6516 - acc: 0.6000\n",
            "Epoch 48/50\n",
            "260/260 [==============================] - 12s 46ms/sample - loss: 0.6507 - acc: 0.6115\n",
            "Epoch 49/50\n",
            "260/260 [==============================] - 12s 46ms/sample - loss: 0.6495 - acc: 0.5962\n",
            "Epoch 50/50\n",
            "260/260 [==============================] - 12s 46ms/sample - loss: 0.6500 - acc: 0.6115\n",
            "65/65 [==============================] - 10s 151ms/sample - loss: 0.6652 - acc: 0.5385\n",
            "Test accuracy: 0.53846157\n"
          ],
          "name": "stdout"
        }
      ]
    }
  ]
}