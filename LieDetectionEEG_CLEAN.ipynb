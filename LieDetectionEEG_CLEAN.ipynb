{
  "nbformat": 4,
  "nbformat_minor": 0,
  "metadata": {
    "colab": {
      "name": "LieDetectionTest.ipynb",
      "provenance": [],
      "collapsed_sections": [],
      "machine_shape": "hm",
      "include_colab_link": true
    },
    "kernelspec": {
      "name": "python3",
      "display_name": "Python 3"
    },
    "accelerator": "GPU"
  },
  "cells": [
    {
      "cell_type": "markdown",
      "metadata": {
        "id": "view-in-github",
        "colab_type": "text"
      },
      "source": [
        "<a href=\"https://colab.research.google.com/github/Nusserle/LieDetection/blob/master/LieDetectionEEG_CLEAN.ipynb\" target=\"_parent\"><img src=\"https://colab.research.google.com/assets/colab-badge.svg\" alt=\"Open In Colab\"/></a>"
      ]
    },
    {
      "cell_type": "markdown",
      "metadata": {
        "id": "82sWqTGDEK4r",
        "colab_type": "text"
      },
      "source": [
        "## Imports"
      ]
    },
    {
      "cell_type": "code",
      "metadata": {
        "id": "VHfzwqcc2kkh",
        "colab_type": "code",
        "colab": {}
      },
      "source": [
        "import pandas as pd\n",
        "import numpy as np\n",
        "import matplotlib.pyplot as plt\n",
        "from sklearn import preprocessing\n",
        "from sklearn.metrics import accuracy_score\n",
        "from sklearn.model_selection import KFold\n",
        "from sklearn.naive_bayes import GaussianNB\n",
        "import scipy\n",
        "from scipy import signal\n",
        "\n",
        "plt.rcParams['figure.figsize'] = (18, 6)"
      ],
      "execution_count": 0,
      "outputs": []
    },
    {
      "cell_type": "code",
      "metadata": {
        "id": "UdawqQs8HCaH",
        "colab_type": "code",
        "outputId": "2b7cbf83-5d5e-4549-afae-34a0cc694698",
        "colab": {
          "base_uri": "https://localhost:8080/",
          "height": 34
        }
      },
      "source": [
        "from google.colab import drive\n",
        "drive.mount('/content/drive')"
      ],
      "execution_count": 2,
      "outputs": [
        {
          "output_type": "stream",
          "text": [
            "Drive already mounted at /content/drive; to attempt to forcibly remount, call drive.mount(\"/content/drive\", force_remount=True).\n"
          ],
          "name": "stdout"
        }
      ]
    },
    {
      "cell_type": "code",
      "metadata": {
        "id": "KfJ1YjR5HPxd",
        "colab_type": "code",
        "outputId": "88ef0a41-0cda-4db0-8f4f-4b861e1625a6",
        "colab": {
          "base_uri": "https://localhost:8080/",
          "height": 212
        }
      },
      "source": [
        "%cd drive/My Drive/Shared/BagOfLies/\n",
        "df = pd.read_csv(\"Annotations.csv\")\n",
        "df_eeg = df[['eeg', 'truth']].dropna().reset_index()\n",
        "df_eeg.head()"
      ],
      "execution_count": 3,
      "outputs": [
        {
          "output_type": "stream",
          "text": [
            "/content/drive/My Drive/Shared/BagOfLies\n"
          ],
          "name": "stdout"
        },
        {
          "output_type": "execute_result",
          "data": {
            "text/html": [
              "<div>\n",
              "<style scoped>\n",
              "    .dataframe tbody tr th:only-of-type {\n",
              "        vertical-align: middle;\n",
              "    }\n",
              "\n",
              "    .dataframe tbody tr th {\n",
              "        vertical-align: top;\n",
              "    }\n",
              "\n",
              "    .dataframe thead th {\n",
              "        text-align: right;\n",
              "    }\n",
              "</style>\n",
              "<table border=\"1\" class=\"dataframe\">\n",
              "  <thead>\n",
              "    <tr style=\"text-align: right;\">\n",
              "      <th></th>\n",
              "      <th>index</th>\n",
              "      <th>eeg</th>\n",
              "      <th>truth</th>\n",
              "    </tr>\n",
              "  </thead>\n",
              "  <tbody>\n",
              "    <tr>\n",
              "      <th>0</th>\n",
              "      <td>0</td>\n",
              "      <td>./Finalised/User_0/run_0/EEG.csv</td>\n",
              "      <td>1</td>\n",
              "    </tr>\n",
              "    <tr>\n",
              "      <th>1</th>\n",
              "      <td>1</td>\n",
              "      <td>./Finalised/User_0/run_1/EEG.csv</td>\n",
              "      <td>0</td>\n",
              "    </tr>\n",
              "    <tr>\n",
              "      <th>2</th>\n",
              "      <td>2</td>\n",
              "      <td>./Finalised/User_0/run_2/EEG.csv</td>\n",
              "      <td>0</td>\n",
              "    </tr>\n",
              "    <tr>\n",
              "      <th>3</th>\n",
              "      <td>3</td>\n",
              "      <td>./Finalised/User_0/run_3/EEG.csv</td>\n",
              "      <td>0</td>\n",
              "    </tr>\n",
              "    <tr>\n",
              "      <th>4</th>\n",
              "      <td>4</td>\n",
              "      <td>./Finalised/User_0/run_4/EEG.csv</td>\n",
              "      <td>0</td>\n",
              "    </tr>\n",
              "  </tbody>\n",
              "</table>\n",
              "</div>"
            ],
            "text/plain": [
              "   index                               eeg  truth\n",
              "0      0  ./Finalised/User_0/run_0/EEG.csv      1\n",
              "1      1  ./Finalised/User_0/run_1/EEG.csv      0\n",
              "2      2  ./Finalised/User_0/run_2/EEG.csv      0\n",
              "3      3  ./Finalised/User_0/run_3/EEG.csv      0\n",
              "4      4  ./Finalised/User_0/run_4/EEG.csv      0"
            ]
          },
          "metadata": {
            "tags": []
          },
          "execution_count": 3
        }
      ]
    },
    {
      "cell_type": "code",
      "metadata": {
        "id": "fhkUbrMeLZKU",
        "colab_type": "code",
        "colab": {}
      },
      "source": [
        "# Filter\n",
        "filter = signal.firwin(600, [0.01, 0.06], pass_zero=False)"
      ],
      "execution_count": 0,
      "outputs": []
    },
    {
      "cell_type": "code",
      "metadata": {
        "id": "qCjZXl2enaKK",
        "colab_type": "code",
        "colab": {
          "base_uri": "https://localhost:8080/",
          "height": 235
        },
        "outputId": "5b6109b5-2b90-4643-bf55-5de8e7992a14"
      },
      "source": [
        "length_of_trial = []\n",
        "data = []\n",
        "label = []\n",
        "for i, eeg in df_eeg.iterrows():\n",
        "  if i % 20 == 0:\n",
        "    print(\"Processed trials:\", i)\n",
        "  df_trial = pd.read_csv(eeg[1]).iloc[:,1:-1]\n",
        "  # Convert to numeric and drop N/A values\n",
        "  df_trial = df_trial.apply(lambda x: pd.to_numeric(x, errors = 'coerce')).dropna()\n",
        "  # Filter EEG table only for values (except for X and Y Value)\n",
        "  df_trial = df_trial.loc[:, df_trial.columns.str.contains('Value')]\n",
        "  if i >= 1:\n",
        "    length_of_trial.append((length_of_trial[i-1][1]+1, length_of_trial[i-1][1] + df_trial.shape[0]))\n",
        "  else:\n",
        "    length_of_trial.append((0, df_trial.shape[0]))\n",
        "  for col in df_trial:\n",
        "    # Normalize and filter\n",
        "    data_norm_to_0_1 = [number/scipy.linalg.norm(df_trial[col].squeeze()) for number in df_trial[col].squeeze()]\n",
        "    filtered_and_normalized = signal.convolve(data_norm_to_0_1, filter, mode=\"same\")\n",
        "    df_trial[col] = filtered_and_normalized\n",
        "    df_trial[\"label\"] = eeg[2]\n",
        "  for j, row in df_trial.iterrows():\n",
        "    data.append(row.values[:-1])\n",
        "    label.append(row.values[-1])\n",
        "\n",
        "  #for j, el in enumerate(combined_vec):\n",
        "  #  data[i][j] = combined_vec[j]\n",
        "  \n",
        "  #min_max_scaler = preprocessing.MinMaxScaler()\n",
        "  #x_scaled = min_max_scaler.fit_transform(x)\n",
        "  \n",
        "  #label.append(eeg[2])\n",
        "#label = np.asarray(label)\n",
        "print(data.__len__())\n",
        "print(label.__len__())\n",
        "data = np.asarray(data)\n",
        "label = np.asarray(label)"
      ],
      "execution_count": 5,
      "outputs": [
        {
          "output_type": "stream",
          "text": [
            "Processed trials: 0\n",
            "Processed trials: 20\n",
            "Processed trials: 40\n",
            "Processed trials: 60\n",
            "Processed trials: 80\n",
            "Processed trials: 100\n",
            "Processed trials: 120\n",
            "Processed trials: 140\n",
            "Processed trials: 160\n",
            "Processed trials: 180\n",
            "Processed trials: 200\n",
            "271427\n",
            "271427\n"
          ],
          "name": "stdout"
        }
      ]
    },
    {
      "cell_type": "code",
      "metadata": {
        "id": "BPPeAEopml-t",
        "colab_type": "code",
        "colab": {
          "base_uri": "https://localhost:8080/",
          "height": 118
        },
        "outputId": "f100d563-67c4-442f-96e7-ecb65bca85c9"
      },
      "source": [
        "accuracies = []\n",
        "kf = KFold(n_splits=5, shuffle=True)\n",
        "for train_index, test_index in kf.split(length_of_trial, length_of_trial):\n",
        "  X_train, y_train = [], []\n",
        "  for index in train_index:\n",
        "    start, end = length_of_trial[index]\n",
        "    for row in data[start:end]:\n",
        "      X_train.append(row)\n",
        "    for row in label[start:end]:\n",
        "      y_train.append(row)\n",
        "  learned_model = GaussianNB().fit(X_train, y_train)\n",
        "\n",
        "  score = 0\n",
        "  for index in test_index:\n",
        "    X_test, y_test = [], []\n",
        "    start, end = length_of_trial[index]\n",
        "    for row in data[start:end]:\n",
        "      X_test.append(row)\n",
        "    for row in label[start:end]:\n",
        "      y_test.append(row)\n",
        "    prediction = learned_model.predict_proba(np.asarray(X_test))\n",
        "    mysum = 0\n",
        "    for p in prediction:\n",
        "      mysum += p[1]\n",
        "    if mysum/X_test.__len__() >= 0.5:\n",
        "    #if sum(prediction == 1) >= X_test.__len__() / 2:\n",
        "      pred = 1\n",
        "    else:\n",
        "      pred = 0\n",
        "    if y_test[0] == pred:\n",
        "      score += 1\n",
        "  accuracies.append(score/test_index.__len__())\n",
        "  print(score/test_index.__len__())\n",
        "print(\"Model {} with avg test accuracy: {}\".format(GaussianNB(), sum(accuracies)/accuracies.__len__()))  "
      ],
      "execution_count": 6,
      "outputs": [
        {
          "output_type": "stream",
          "text": [
            "0.6829268292682927\n",
            "0.5\n",
            "0.625\n",
            "0.525\n",
            "0.55\n",
            "Model GaussianNB(priors=None, var_smoothing=1e-09) with avg test accuracy: 0.5765853658536585\n"
          ],
          "name": "stdout"
        }
      ]
    }
  ]
}