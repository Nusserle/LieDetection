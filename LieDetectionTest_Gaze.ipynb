{
  "nbformat": 4,
  "nbformat_minor": 0,
  "metadata": {
    "colab": {
      "name": "LieDetectionTest_Gaze.ipynb",
      "provenance": [],
      "collapsed_sections": [],
      "include_colab_link": true
    },
    "kernelspec": {
      "name": "python3",
      "display_name": "Python 3"
    },
    "accelerator": "GPU"
  },
  "cells": [
    {
      "cell_type": "markdown",
      "metadata": {
        "id": "view-in-github",
        "colab_type": "text"
      },
      "source": [
        "<a href=\"https://colab.research.google.com/github/Nusserle/LieDetection/blob/master/LieDetectionTest_Gaze.ipynb\" target=\"_parent\"><img src=\"https://colab.research.google.com/assets/colab-badge.svg\" alt=\"Open In Colab\"/></a>"
      ]
    },
    {
      "cell_type": "code",
      "metadata": {
        "id": "VHfzwqcc2kkh",
        "colab_type": "code",
        "colab": {}
      },
      "source": [
        "# Imports\n",
        "import pandas as pd\n",
        "import numpy as np"
      ],
      "execution_count": 0,
      "outputs": []
    },
    {
      "cell_type": "code",
      "metadata": {
        "id": "UdawqQs8HCaH",
        "colab_type": "code",
        "outputId": "05b999c8-50a0-4992-c321-39793a14a110",
        "colab": {
          "base_uri": "https://localhost:8080/",
          "height": 128
        }
      },
      "source": [
        "from google.colab import drive\n",
        "drive.mount('/content/drive')"
      ],
      "execution_count": 0,
      "outputs": [
        {
          "output_type": "stream",
          "text": [
            "Go to this URL in a browser: https://accounts.google.com/o/oauth2/auth?client_id=947318989803-6bn6qk8qdgf4n4g3pfee6491hc0brc4i.apps.googleusercontent.com&redirect_uri=urn%3aietf%3awg%3aoauth%3a2.0%3aoob&response_type=code&scope=email%20https%3a%2f%2fwww.googleapis.com%2fauth%2fdocs.test%20https%3a%2f%2fwww.googleapis.com%2fauth%2fdrive%20https%3a%2f%2fwww.googleapis.com%2fauth%2fdrive.photos.readonly%20https%3a%2f%2fwww.googleapis.com%2fauth%2fpeopleapi.readonly\n",
            "\n",
            "Enter your authorization code:\n",
            "··········\n",
            "Mounted at /content/drive\n"
          ],
          "name": "stdout"
        }
      ]
    },
    {
      "cell_type": "code",
      "metadata": {
        "id": "KfJ1YjR5HPxd",
        "colab_type": "code",
        "outputId": "b43df2d9-cbfb-49a3-b902-415b765faf07",
        "colab": {
          "base_uri": "https://localhost:8080/",
          "height": 72
        }
      },
      "source": [
        "%cd drive/My Drive/BagOfLies/\n"
      ],
      "execution_count": 0,
      "outputs": [
        {
          "output_type": "stream",
          "text": [
            " \u001b[0m\u001b[01;34mBagOfLies\u001b[0m/\n",
            "\u001b[01;34m'Colab Notebooks'\u001b[0m/\n",
            "'Kopie von Avaldus_perearsti_nimistusse_registreerimiseks-ENG.docx'\n"
          ],
          "name": "stdout"
        }
      ]
    },
    {
      "cell_type": "code",
      "metadata": {
        "id": "fhZDFH0qHdde",
        "colab_type": "code",
        "colab": {}
      },
      "source": [
        "df = pd.read_csv(\"Annotations.csv\")"
      ],
      "execution_count": 0,
      "outputs": []
    },
    {
      "cell_type": "code",
      "metadata": {
        "id": "pVhAqWM6H-oa",
        "colab_type": "code",
        "outputId": "22771443-52b4-4265-be72-99c7c6d7e214",
        "colab": {
          "base_uri": "https://localhost:8080/",
          "height": 198
        }
      },
      "source": [
        "df.head()"
      ],
      "execution_count": 0,
      "outputs": [
        {
          "output_type": "execute_result",
          "data": {
            "text/html": [
              "<div>\n",
              "<style scoped>\n",
              "    .dataframe tbody tr th:only-of-type {\n",
              "        vertical-align: middle;\n",
              "    }\n",
              "\n",
              "    .dataframe tbody tr th {\n",
              "        vertical-align: top;\n",
              "    }\n",
              "\n",
              "    .dataframe thead th {\n",
              "        text-align: right;\n",
              "    }\n",
              "</style>\n",
              "<table border=\"1\" class=\"dataframe\">\n",
              "  <thead>\n",
              "    <tr style=\"text-align: right;\">\n",
              "      <th></th>\n",
              "      <th>eeg</th>\n",
              "      <th>gaze</th>\n",
              "      <th>image</th>\n",
              "      <th>run</th>\n",
              "      <th>truth</th>\n",
              "      <th>usernum</th>\n",
              "      <th>video</th>\n",
              "    </tr>\n",
              "  </thead>\n",
              "  <tbody>\n",
              "    <tr>\n",
              "      <th>0</th>\n",
              "      <td>./Finalised/User_0/run_0/EEG.csv</td>\n",
              "      <td>./Finalised/User_0/run_0/Gaze.csv</td>\n",
              "      <td>./Finalised/User_0/run_0/image.csv</td>\n",
              "      <td>0</td>\n",
              "      <td>1</td>\n",
              "      <td>0</td>\n",
              "      <td>./Finalised/User_0/run_0/video.mp4</td>\n",
              "    </tr>\n",
              "    <tr>\n",
              "      <th>1</th>\n",
              "      <td>./Finalised/User_0/run_1/EEG.csv</td>\n",
              "      <td>./Finalised/User_0/run_1/Gaze.csv</td>\n",
              "      <td>./Finalised/User_0/run_1/image.csv</td>\n",
              "      <td>1</td>\n",
              "      <td>0</td>\n",
              "      <td>0</td>\n",
              "      <td>./Finalised/User_0/run_1/video.mp4</td>\n",
              "    </tr>\n",
              "    <tr>\n",
              "      <th>2</th>\n",
              "      <td>./Finalised/User_0/run_2/EEG.csv</td>\n",
              "      <td>./Finalised/User_0/run_2/Gaze.csv</td>\n",
              "      <td>./Finalised/User_0/run_2/image.csv</td>\n",
              "      <td>2</td>\n",
              "      <td>0</td>\n",
              "      <td>0</td>\n",
              "      <td>./Finalised/User_0/run_2/video.mp4</td>\n",
              "    </tr>\n",
              "    <tr>\n",
              "      <th>3</th>\n",
              "      <td>./Finalised/User_0/run_3/EEG.csv</td>\n",
              "      <td>./Finalised/User_0/run_3/Gaze.csv</td>\n",
              "      <td>./Finalised/User_0/run_3/image.csv</td>\n",
              "      <td>3</td>\n",
              "      <td>0</td>\n",
              "      <td>0</td>\n",
              "      <td>./Finalised/User_0/run_3/video.mp4</td>\n",
              "    </tr>\n",
              "    <tr>\n",
              "      <th>4</th>\n",
              "      <td>./Finalised/User_0/run_4/EEG.csv</td>\n",
              "      <td>./Finalised/User_0/run_4/Gaze.csv</td>\n",
              "      <td>./Finalised/User_0/run_4/image.csv</td>\n",
              "      <td>4</td>\n",
              "      <td>0</td>\n",
              "      <td>0</td>\n",
              "      <td>./Finalised/User_0/run_4/video.mp4</td>\n",
              "    </tr>\n",
              "  </tbody>\n",
              "</table>\n",
              "</div>"
            ],
            "text/plain": [
              "                                eeg  ...                               video\n",
              "0  ./Finalised/User_0/run_0/EEG.csv  ...  ./Finalised/User_0/run_0/video.mp4\n",
              "1  ./Finalised/User_0/run_1/EEG.csv  ...  ./Finalised/User_0/run_1/video.mp4\n",
              "2  ./Finalised/User_0/run_2/EEG.csv  ...  ./Finalised/User_0/run_2/video.mp4\n",
              "3  ./Finalised/User_0/run_3/EEG.csv  ...  ./Finalised/User_0/run_3/video.mp4\n",
              "4  ./Finalised/User_0/run_4/EEG.csv  ...  ./Finalised/User_0/run_4/video.mp4\n",
              "\n",
              "[5 rows x 7 columns]"
            ]
          },
          "metadata": {
            "tags": []
          },
          "execution_count": 15
        }
      ]
    },
    {
      "cell_type": "code",
      "metadata": {
        "id": "yI8NFP9oPWVD",
        "colab_type": "code",
        "colab": {}
      },
      "source": [
        "df[[\"gaze\", truth]]"
      ],
      "execution_count": 0,
      "outputs": []
    }
  ]
}